{
 "cells": [
  {
   "cell_type": "markdown",
   "id": "939acef2",
   "metadata": {},
   "source": [
    "## 이코테 2021"
   ]
  },
  {
   "cell_type": "markdown",
   "id": "e4d9eb1a",
   "metadata": {},
   "source": [
    "### 1. 파이썬 문법 부수기"
   ]
  },
  {
   "cell_type": "code",
   "execution_count": 6,
   "id": "fe948429",
   "metadata": {},
   "outputs": [
    {
     "data": {
      "text/plain": [
       "[0, 1, 2, 3, 4, 5, 6, 7, 8, 9]"
      ]
     },
     "execution_count": 6,
     "metadata": {},
     "output_type": "execute_result"
    }
   ],
   "source": [
    "array = [i for i in range(10)]\n",
    "array"
   ]
  },
  {
   "cell_type": "markdown",
   "id": "1b7f5c2d",
   "metadata": {},
   "source": [
    "**리스트 컴프리헨션**"
   ]
  },
  {
   "cell_type": "code",
   "execution_count": 8,
   "id": "bcb2db70",
   "metadata": {},
   "outputs": [
    {
     "name": "stdout",
     "output_type": "stream",
     "text": [
      "[1, 3, 5, 7, 9, 11, 13, 15, 17, 19]\n"
     ]
    }
   ],
   "source": [
    "# 0부터 10까지의 수 중에서 홀수만 포함하는 리스트 \n",
    "array = [i for i in range(20) if i % 2 == 1]\n",
    "print(array)"
   ]
  },
  {
   "cell_type": "markdown",
   "id": "4d3fcd9f",
   "metadata": {},
   "source": [
    "* 리스트 컴프리헨션은 2차원 리스트를 초기화할 때 효과적으로 사용될 수 있다. "
   ]
  },
  {
   "cell_type": "markdown",
   "id": "0c28acbe",
   "metadata": {},
   "source": [
    "**언더바(_)**"
   ]
  },
  {
   "cell_type": "markdown",
   "id": "a34d13d2",
   "metadata": {},
   "source": [
    "* 코드 1 : 1부터 9까지의 자연수 더하기"
   ]
  },
  {
   "cell_type": "code",
   "execution_count": 9,
   "id": "dd6ea322",
   "metadata": {},
   "outputs": [
    {
     "name": "stdout",
     "output_type": "stream",
     "text": [
      "45\n"
     ]
    }
   ],
   "source": [
    "summary = 0 \n",
    "for i in range(1, 10) :\n",
    "    summary += i\n",
    "print(summary)"
   ]
  },
  {
   "cell_type": "markdown",
   "id": "ba686b78",
   "metadata": {},
   "source": [
    "* 코드 2 : \"Hello World\" 5번 출력하기 "
   ]
  },
  {
   "cell_type": "code",
   "execution_count": 10,
   "id": "b79fd49f",
   "metadata": {},
   "outputs": [
    {
     "name": "stdout",
     "output_type": "stream",
     "text": [
      "Hellow World\n",
      "Hellow World\n",
      "Hellow World\n",
      "Hellow World\n",
      "Hellow World\n"
     ]
    }
   ],
   "source": [
    "for _ in range(5):\n",
    "    print(\"Hellow World\")"
   ]
  },
  {
   "cell_type": "markdown",
   "id": "ea6456db",
   "metadata": {},
   "source": [
    "**리스트 관련 기타 메서드**"
   ]
  },
  {
   "cell_type": "markdown",
   "id": "15c5898b",
   "metadata": {},
   "source": [
    "- 변수명.append() : 리스트에 원소를 하나 삽입할 때 사용 \n",
    "- 변수명.sort() : 오름차순 정렬\n",
    "- 변수명.sort(reverse = True) : 내림차순 정렬\n",
    "- 변수명.reverse() : 리스트의 원소 순서 뒤집기 \n",
    "- insert(삽입할 위치 인덱스, 삽입할 값) : 특정한 인덱스 위치에 원소 삽입할 때 사용 \n",
    "- 변수명.count(특정 값) : 리스트에서 특정한 값을 가지는 데이터의 개수 셀 때 사용 \n",
    "- 변수명.remove(특정 값) 특정한 값을 갖는 원소를 제거하는데, 값을 가진 원소가 여러 개면 하나만 제거 "
   ]
  },
  {
   "cell_type": "code",
   "execution_count": 14,
   "id": "6854a8d5",
   "metadata": {},
   "outputs": [
    {
     "name": "stdout",
     "output_type": "stream",
     "text": [
      "기본 리스트 :  [1, 4, 3]\n",
      "삽입:  [1, 4, 3, 2]\n",
      "오름차순 정렬 : [1, 2, 3, 4]\n",
      "내림차순 정렬 : [4, 3, 2, 1]\n"
     ]
    }
   ],
   "source": [
    "a = [1, 4, 3]\n",
    "print(\"기본 리스트 : \", a)\n",
    "\n",
    "# 리스트에 원소 삽입 \n",
    "a.append(2)\n",
    "print(\"삽입: \", a)\n",
    "\n",
    "# 오름차순 정렬 \n",
    "a.sort()\n",
    "print(\"오름차순 정렬 :\", a)\n",
    "\n",
    "# 내림차순 정렬 \n",
    "a.sort(reverse = True)\n",
    "print(\"내림차순 정렬 :\", a)"
   ]
  },
  {
   "cell_type": "code",
   "execution_count": 16,
   "id": "0183813d",
   "metadata": {},
   "outputs": [
    {
     "name": "stdout",
     "output_type": "stream",
     "text": [
      "원소 뒤집기 : [1, 2, 3, 4]\n",
      "인덱스 2에 3 추가 : [1, 2, 3, 3, 4]\n",
      "값이 3인 데이터 개수 : 2\n",
      "값이 1인 데이터 삭제 : [2, 3, 3, 4]\n"
     ]
    }
   ],
   "source": [
    "a = [4, 3, 2, 1]\n",
    "\n",
    "# 리스트 원소 뒤집기 \n",
    "a.reverse()\n",
    "print(\"원소 뒤집기 :\", a)\n",
    "\n",
    "# 특정 인덱스에 데이터 추가 \n",
    "a.insert(2, 3)\n",
    "print(\"인덱스 2에 3 추가 :\", a)\n",
    "\n",
    "# 특정 값인 데이터 개수 세기\n",
    "print(\"값이 3인 데이터 개수 :\", a.count(3))\n",
    "\n",
    "# 특정 값 데이터 삭제 \n",
    "a.remove(1)\n",
    "print(\"값이 1인 데이터 삭제 :\", a)"
   ]
  },
  {
   "cell_type": "markdown",
   "id": "c685864a",
   "metadata": {},
   "source": [
    "* **리스트에서 특정 값을 가지는 원소를 모두 제거**"
   ]
  },
  {
   "cell_type": "code",
   "execution_count": 18,
   "id": "578f38a4",
   "metadata": {},
   "outputs": [
    {
     "name": "stdout",
     "output_type": "stream",
     "text": [
      "[1, 2, 4]\n"
     ]
    }
   ],
   "source": [
    "a = [1, 2, 3, 4, 5, 5, 5]\n",
    "remove_set = {3, 5}\n",
    "\n",
    "# remove_list에 포함되지 않은 값만을 저장\n",
    "result = [i for i in a if i not in remove_set]\n",
    "print(result)"
   ]
  },
  {
   "cell_type": "markdown",
   "id": "56677562",
   "metadata": {},
   "source": [
    "### 문자열 자료형"
   ]
  },
  {
   "cell_type": "code",
   "execution_count": 19,
   "id": "280ae6f9",
   "metadata": {},
   "outputs": [
    {
     "name": "stdout",
     "output_type": "stream",
     "text": [
      "Hello World\n"
     ]
    }
   ],
   "source": [
    "data = 'Hello World'\n",
    "print(data)"
   ]
  },
  {
   "cell_type": "code",
   "execution_count": 20,
   "id": "c6a2fa4e",
   "metadata": {},
   "outputs": [
    {
     "name": "stdout",
     "output_type": "stream",
     "text": [
      "Don't you know \"Python\"?\n"
     ]
    }
   ],
   "source": [
    "data = \"Don't you know \\\"Python\\\"?\"\n",
    "print(data)"
   ]
  },
  {
   "cell_type": "markdown",
   "id": "edabe529",
   "metadata": {},
   "source": [
    "### 문자열 연산"
   ]
  },
  {
   "cell_type": "code",
   "execution_count": 22,
   "id": "ba36a553",
   "metadata": {},
   "outputs": [
    {
     "name": "stdout",
     "output_type": "stream",
     "text": [
      "Hello World\n"
     ]
    }
   ],
   "source": [
    "a = \"Hello\"\n",
    "b = \"World\"\n",
    "print(a + \" \" + b)"
   ]
  },
  {
   "cell_type": "code",
   "execution_count": 23,
   "id": "7671a7ee",
   "metadata": {},
   "outputs": [
    {
     "name": "stdout",
     "output_type": "stream",
     "text": [
      "StringStringString\n"
     ]
    }
   ],
   "source": [
    "a = \"String\"\n",
    "print(a * 3)"
   ]
  },
  {
   "cell_type": "code",
   "execution_count": 25,
   "id": "2aaf49a7",
   "metadata": {},
   "outputs": [
    {
     "name": "stdout",
     "output_type": "stream",
     "text": [
      "CD\n"
     ]
    }
   ],
   "source": [
    "a = \"ABCDEF\"\n",
    "print(a[2:4]) # 인덱스 2 ~ 3"
   ]
  },
  {
   "cell_type": "markdown",
   "id": "fb448a5a",
   "metadata": {},
   "source": [
    "### 튜플 자료형 "
   ]
  },
  {
   "cell_type": "markdown",
   "id": "f391c900",
   "metadata": {},
   "source": [
    "* 튜플 자료형은 리스트와 유사하지만 문법적 차이가 있음 \n",
    "    - **튜플은 한 번 선언된 값을 변경할 수 없음**\n",
    "    - 리스트는 대괄호([])를 이용하지만, 튜플은 소괄호(())를 이용한다. \n",
    "    \n",
    "* 튜플은 리스트에 비해 상대적으로 공간 효율적이다."
   ]
  },
  {
   "cell_type": "code",
   "execution_count": 27,
   "id": "206fe36d",
   "metadata": {},
   "outputs": [
    {
     "name": "stdout",
     "output_type": "stream",
     "text": [
      "4\n",
      "(2, 3, 4)\n"
     ]
    }
   ],
   "source": [
    "a = (1, 2, 3, 4, 5, 6, 7, 8, 9)\n",
    "\n",
    "# 네 번째 원소만 출력 \n",
    "print(a[3])\n",
    "\n",
    "# 두 번째 원소부터 네 번째 원소까지 \n",
    "print(a[1:4])"
   ]
  },
  {
   "cell_type": "markdown",
   "id": "735dc92b",
   "metadata": {},
   "source": [
    "**튜플을 사용하면 좋은 경우**\n",
    "\n",
    "* 서로 다른 성질의 데이터를 묶어서 관리해야 할 때 \n",
    "    - 최단 경로 알고리즘에서는 (비용, 노드 번호)의 형태로 튜플 자료형을 자주 사용함 \n",
    " \n",
    "* 데이터의 나열을 해싱(Hashing)의 키 값으로 사용해야 할 때 \n",
    "    - 튜플은 변경이 불가능하므로 리스트와 다르게 키 값으로 사용될 수 있다. \n",
    "    \n",
    "* 리스트보다 메모리를 효율적으로 사용해야 할 때 "
   ]
  },
  {
   "cell_type": "markdown",
   "id": "5b086eb3",
   "metadata": {},
   "source": [
    "### 사전 자료형 "
   ]
  },
  {
   "cell_type": "markdown",
   "id": "ae5460c4",
   "metadata": {},
   "source": [
    "* 사전 자료형은 키(key)와 값(value)의 쌍을 데이터로 가지는 자료형 \n",
    "* 사전 자료형은 키와 값의 쌍을 데이터로 가지며, '변경 불가능한(immutable)자료형' 을 키로 사용 \n",
    "* 파이썬의 사전 자료형은 해시 테이블(Hash Table)을 이용"
   ]
  },
  {
   "cell_type": "code",
   "execution_count": 29,
   "id": "2012810a",
   "metadata": {},
   "outputs": [
    {
     "name": "stdout",
     "output_type": "stream",
     "text": [
      "{'사과': 'Apple', '바나나': 'Banana', '코코넛': 'Coconut'}\n"
     ]
    }
   ],
   "source": [
    "data = dict()\n",
    "data['사과'] = 'Apple'\n",
    "data['바나나'] = 'Banana'\n",
    "data['코코넛'] = 'Coconut'\n",
    "\n",
    "print(data)"
   ]
  },
  {
   "cell_type": "code",
   "execution_count": 30,
   "id": "4f2d5fe9",
   "metadata": {},
   "outputs": [
    {
     "name": "stdout",
     "output_type": "stream",
     "text": [
      "'사과'를 키로 가지는 데이터가 존재합니다.\n"
     ]
    }
   ],
   "source": [
    "if '사과' in data:\n",
    "    print(\"'사과'를 키로 가지는 데이터가 존재합니다.\")"
   ]
  },
  {
   "cell_type": "markdown",
   "id": "b5aeb523",
   "metadata": {},
   "source": [
    "**사전 자료형 관련 메서드**\n",
    "\n",
    "* 사전 자료형에서는 키와 값을 별도로 뽑아내기 위한 메서드를 지원\n",
    "    - 키 데이터만 뽑아서 리스트로 이용할 때는 keys() 함수를 이용\n",
    "    - 값 데이터만 뽑아서 리스트로 이용할 때는 values() 함수를 이용"
   ]
  },
  {
   "cell_type": "code",
   "execution_count": 31,
   "id": "947a878e",
   "metadata": {},
   "outputs": [
    {
     "name": "stdout",
     "output_type": "stream",
     "text": [
      "dict_keys(['사과', '바나나', '코코넛'])\n",
      "dict_values(['Apple', 'Banana', 'Coconut'])\n",
      "Apple\n",
      "Banana\n",
      "Coconut\n"
     ]
    }
   ],
   "source": [
    "# 키 데이터만 담은 리스트\n",
    "key_list = data.keys()\n",
    "\n",
    "# 값 데이터만 담은 리스트\n",
    "value_list = data.values()\n",
    "\n",
    "print(key_list)\n",
    "print(value_list)\n",
    "\n",
    "# 각 키에 따른 값을 하나씩 출력\n",
    "for key in key_list :\n",
    "    print(data[key])"
   ]
  },
  {
   "cell_type": "markdown",
   "id": "17cc59c5",
   "metadata": {},
   "source": [
    "### 집합 자료형 "
   ]
  },
  {
   "cell_type": "markdown",
   "id": "9c181fd3",
   "metadata": {},
   "source": [
    "* 집합의 특징 \n",
    "    - 중복 허용하지 않음\n",
    "    - 순서 없음\n",
    "    \n",
    "* 집합은 리스트 혹은 문자열을 이용해서 초기화 할 수 있음\n",
    "    - 이때 set() 함수를 이용 \n",
    "    \n",
    "* 혹은 중괄호({}) 안에 각 원소를 콤마(,)를 기준으로 구분하여 삽입함으로써 초기화 할 수 있음 "
   ]
  },
  {
   "cell_type": "code",
   "execution_count": 32,
   "id": "c1f99d89",
   "metadata": {},
   "outputs": [
    {
     "name": "stdout",
     "output_type": "stream",
     "text": [
      "{1, 2, 3, 4, 5}\n",
      "{1, 2, 3, 4, 5}\n"
     ]
    }
   ],
   "source": [
    "# 집합 자료형 초기화 방법 1\n",
    "data = set([1, 1, 2, 3, 4, 4, 5])\n",
    "print(data)\n",
    "\n",
    "# 집합 자료형 초기화 방법 2\n",
    "data = {1, 1, 2, 3, 4, 4, 5}\n",
    "print(data)"
   ]
  },
  {
   "cell_type": "markdown",
   "id": "e58794c5",
   "metadata": {},
   "source": [
    "* 집합 자료형의 연산"
   ]
  },
  {
   "cell_type": "code",
   "execution_count": 33,
   "id": "48929721",
   "metadata": {},
   "outputs": [
    {
     "name": "stdout",
     "output_type": "stream",
     "text": [
      "{1, 2, 3, 4, 5, 6, 7}\n",
      "{3, 4, 5}\n",
      "{1, 2}\n"
     ]
    }
   ],
   "source": [
    "a = set([1, 2, 3, 4, 5])\n",
    "b = set([3, 4, 5, 6, 7])\n",
    "\n",
    "# 합집합\n",
    "print(a | b)\n",
    "\n",
    "# 교집합\n",
    "print(a & b)\n",
    "\n",
    "# 차집합 \n",
    "print(a - b)"
   ]
  },
  {
   "cell_type": "code",
   "execution_count": 34,
   "id": "5c8ee3c8",
   "metadata": {},
   "outputs": [
    {
     "name": "stdout",
     "output_type": "stream",
     "text": [
      "{1, 2, 3}\n",
      "{1, 2, 3, 4}\n",
      "{1, 2, 3, 4, 5, 6}\n",
      "{1, 2, 4, 5, 6}\n"
     ]
    }
   ],
   "source": [
    "data = set([1, 2, 3])\n",
    "print(data)\n",
    "\n",
    "# 새로운 원소 추가 \n",
    "data.add(4)\n",
    "print(data)\n",
    "\n",
    "# 새로운 원소 여러 개 추가 \n",
    "data.update([5, 6])\n",
    "print(data)\n",
    "\n",
    "# 특정한 값을 갖는 원소 삭제\n",
    "data.remove(3)\n",
    "print(data)"
   ]
  },
  {
   "cell_type": "markdown",
   "id": "3a1e6f6c",
   "metadata": {},
   "source": [
    "**자주 사용되는 표준 입력 방법**\n",
    "* input() 함수는 한 줄의 문자열을 입력 받는 함수\n",
    "* map() 함수는 리스트의 모든 원소에 각각 특정한 함수를 적용할 때 사용 \n",
    "* ex) 공백을 기준으로 구분된 데이터를 입력 받을 때\n",
    "    - list(int, input().split())\n",
    "* ex) 공백을 기준으로 구분된 데이터의 개수가 많지 많을 때\n",
    "    - a, b, c = map(int, input().split())"
   ]
  },
  {
   "cell_type": "markdown",
   "id": "da0703c1",
   "metadata": {},
   "source": [
    "* 입력을 위한 소스코드 "
   ]
  },
  {
   "cell_type": "code",
   "execution_count": 37,
   "id": "dbf1ebe7",
   "metadata": {},
   "outputs": [
    {
     "name": "stdout",
     "output_type": "stream",
     "text": [
      "5\n",
      "65 90 75 34 99\n",
      "[99, 90, 75, 65, 34]\n"
     ]
    }
   ],
   "source": [
    "# 데이터의 개수 입력 \n",
    "n = int(input())\n",
    "# 각 데이터를 공백을 기준으로 구분하여 입력 \n",
    "data = list(map(int, input().split()))\n",
    "\n",
    "# 내림차순 정렬\n",
    "data.sort(reverse = True)\n",
    "print(data)\n"
   ]
  },
  {
   "cell_type": "markdown",
   "id": "a3f972e5",
   "metadata": {},
   "source": [
    "**빠르게 입력 받기**\n",
    "* 사용자로부터 입력을 최대한 빠르게 받아야 하는 경우 \n",
    "* 파이썬의 경우 sys 라이브러리에 정의되어 있는 sys.stdin.readline() 메서드를 이용 \n",
    "    - 단, 입력 후 엔터(Enter)가 줄 바꿈 기호로 입력되므로 rstrip() 메서드 합께 사용 "
   ]
  },
  {
   "cell_type": "markdown",
   "id": "9007c169",
   "metadata": {},
   "source": [
    "* 출력을 위한 전형적인 소스코드"
   ]
  },
  {
   "cell_type": "code",
   "execution_count": 40,
   "id": "47ff209e",
   "metadata": {},
   "outputs": [
    {
     "name": "stdout",
     "output_type": "stream",
     "text": [
      "1 2\n",
      "7 8 정답은 7입니다.\n"
     ]
    }
   ],
   "source": [
    "# 출력할 변수들\n",
    "a = 1\n",
    "b = 2\n",
    "print(a, b)\n",
    "print(7, end = \" \")\n",
    "print(8, end = \" \")\n",
    "\n",
    "# 출력할 변수 \n",
    "answer =7\n",
    "print(\"정답은 \" + str(answer) + \"입니다.\")"
   ]
  },
  {
   "cell_type": "markdown",
   "id": "58f07495",
   "metadata": {},
   "source": [
    "**f-string 예제**\n",
    "* 파이썬 3.6부터 사용 가능, 문자열 앞에 접두사 'f'를 붙여 사용\n",
    "* 중괄호 안에 변수명을 기입하여 간단히 문자열과 정수를 함께 넣을 수 있음 "
   ]
  },
  {
   "cell_type": "code",
   "execution_count": 42,
   "id": "16bfb418",
   "metadata": {},
   "outputs": [
    {
     "name": "stdout",
     "output_type": "stream",
     "text": [
      "정답은 7입니다.\n"
     ]
    }
   ],
   "source": [
    "answer = 7\n",
    "print(f\"정답은 {answer}입니다.\")"
   ]
  },
  {
   "cell_type": "markdown",
   "id": "34bd1b16",
   "metadata": {},
   "source": [
    "**조건문**\n",
    "* 조건문은 프로그램의 흐름을 제어하는 문법\n",
    "* 조건문을 이용해 조건에 따라서 프로그램의 로직을 생성할 수 있음"
   ]
  },
  {
   "cell_type": "markdown",
   "id": "74c083c2",
   "metadata": {},
   "source": [
    "* 조건문 예제"
   ]
  },
  {
   "cell_type": "code",
   "execution_count": 43,
   "id": "cbb4947d",
   "metadata": {},
   "outputs": [
    {
     "name": "stdout",
     "output_type": "stream",
     "text": [
      "x >= 10\n",
      "x >= 0\n"
     ]
    }
   ],
   "source": [
    "x = 15\n",
    "\n",
    "if x >= 10 :\n",
    "    print(\"x >= 10\")\n",
    "    \n",
    "if x >= 0 :\n",
    "    print(\"x >= 0\")\n",
    "    \n",
    "if x >= 30 :\n",
    "    print(\"x >= 30\")"
   ]
  },
  {
   "cell_type": "markdown",
   "id": "7b071213",
   "metadata": {},
   "source": [
    "**조건문의 간소화**"
   ]
  },
  {
   "cell_type": "markdown",
   "id": "95607962",
   "metadata": {},
   "source": [
    "* 조건문에서 실행될 소스코드가 한 줄인 경우, 굳이 줄 바꿈 하지 않고도 간략하게 표현할 수 있음 "
   ]
  },
  {
   "cell_type": "code",
   "execution_count": 47,
   "id": "3ed14f89",
   "metadata": {},
   "outputs": [
    {
     "name": "stdout",
     "output_type": "stream",
     "text": [
      "Success\n"
     ]
    }
   ],
   "source": [
    "score = 85\n",
    "\n",
    "if score >= 80: result = \"Success\"\n",
    "else : result = \"Fail\"\n",
    "    \n",
    "print(result)"
   ]
  },
  {
   "cell_type": "markdown",
   "id": "112553e4",
   "metadata": {},
   "source": [
    "* 조건부 표현식(Conditional Expression)은 if ~ else 문을 한 줄에 작성할 수 있다. "
   ]
  },
  {
   "cell_type": "code",
   "execution_count": 46,
   "id": "6b6f30fa",
   "metadata": {},
   "outputs": [
    {
     "name": "stdout",
     "output_type": "stream",
     "text": [
      "Success\n"
     ]
    }
   ],
   "source": [
    "score = 85\n",
    "result = \"Success\" if score >= 80 else \"Fail\"\n",
    "\n",
    "print(result)"
   ]
  },
  {
   "cell_type": "markdown",
   "id": "5dd35679",
   "metadata": {},
   "source": [
    "* 1부터 9까지 모든 정수의 합 구하기 예제(while문)"
   ]
  },
  {
   "cell_type": "code",
   "execution_count": 49,
   "id": "a9b4fc7d",
   "metadata": {},
   "outputs": [
    {
     "name": "stdout",
     "output_type": "stream",
     "text": [
      "45\n"
     ]
    }
   ],
   "source": [
    "i = 1\n",
    "result = 0 \n",
    "\n",
    "# i 가 9보다 작거나 같을 때 코드를 반복적으로 실행\n",
    "while i <= 9 :\n",
    "    result += i\n",
    "    i += 1\n",
    "    \n",
    "print(result )"
   ]
  },
  {
   "cell_type": "markdown",
   "id": "64b43ef9",
   "metadata": {},
   "source": [
    "* 1부터 9까지 홀수의 합 구하기 예제(while문)"
   ]
  },
  {
   "cell_type": "code",
   "execution_count": 51,
   "id": "36c21bfc",
   "metadata": {},
   "outputs": [
    {
     "name": "stdout",
     "output_type": "stream",
     "text": [
      "25\n"
     ]
    }
   ],
   "source": [
    "i = 1 \n",
    "result = 0 \n",
    "\n",
    "while i <= 9 :\n",
    "    if i % 2 == 1:\n",
    "        result += i \n",
    "    i += 1 \n",
    "print(result)"
   ]
  },
  {
   "cell_type": "markdown",
   "id": "56d78f24",
   "metadata": {},
   "source": [
    "**파이썬에서 continue 키워드**\n",
    "* 반복문에서 남은 코드의 실행을 건너뛰고, 다음 반복을 진행하고자 할 때 continue를 사용\n",
    "* 1부터 9까지의 홀수 합을 구할 때 "
   ]
  },
  {
   "cell_type": "code",
   "execution_count": 52,
   "id": "3d410e71",
   "metadata": {},
   "outputs": [
    {
     "name": "stdout",
     "output_type": "stream",
     "text": [
      "25\n"
     ]
    }
   ],
   "source": [
    "result = 0 \n",
    "\n",
    "for i in range(1, 10) :\n",
    "    if i % 2 == 0:\n",
    "        continue\n",
    "    result += i # 홀수인 값만 result에 차례대로 더해서 넣기\n",
    "    \n",
    "print(result)"
   ]
  },
  {
   "cell_type": "markdown",
   "id": "463d3943",
   "metadata": {},
   "source": [
    "**파이썬의 break 키워드**\n",
    "* 반복문을 즉시 탈출하고자 할 때 break 사용 \n",
    "* 1부터 5까지의 정수를 차례대로 출력하고자 할 때 "
   ]
  },
  {
   "cell_type": "code",
   "execution_count": 53,
   "id": "59714c7d",
   "metadata": {},
   "outputs": [
    {
     "name": "stdout",
     "output_type": "stream",
     "text": [
      "현재 i의 값 : 1\n",
      "현재 i의 값 : 2\n",
      "현재 i의 값 : 3\n",
      "현재 i의 값 : 4\n",
      "현재 i의 값 : 5\n"
     ]
    }
   ],
   "source": [
    "i = 1 \n",
    "\n",
    "while True :\n",
    "    print(\"현재 i의 값 :\", i)\n",
    "    if i == 5:\n",
    "        break\n",
    "    i += 1\n",
    "    "
   ]
  },
  {
   "cell_type": "markdown",
   "id": "032d8bb3",
   "metadata": {},
   "source": [
    "* 학생들의 합격 여부 판단 예제 1) 점수가 80점만 넘으면 합격 "
   ]
  },
  {
   "cell_type": "code",
   "execution_count": 54,
   "id": "433d0624",
   "metadata": {},
   "outputs": [
    {
     "name": "stdout",
     "output_type": "stream",
     "text": [
      "1 번 학생은 합격입니다.\n",
      "2 번 학생은 합격입니다.\n",
      "5 번 학생은 합격입니다.\n"
     ]
    }
   ],
   "source": [
    "score = [90, 85, 77, 65, 97]\n",
    "\n",
    "for i in range(5) :\n",
    "    if score[i] >= 80:\n",
    "        print(i + 1, \"번 학생은 합격입니다.\")"
   ]
  },
  {
   "cell_type": "markdown",
   "id": "f541201a",
   "metadata": {},
   "source": [
    "* 학생들의 합격 여부 판단 예제 2)특정 번호의 학생은 제외하기"
   ]
  },
  {
   "cell_type": "code",
   "execution_count": 56,
   "id": "b93a01eb",
   "metadata": {},
   "outputs": [
    {
     "name": "stdout",
     "output_type": "stream",
     "text": [
      "1 번 학생은 합격입니다.\n",
      "5 번 학생은 합격입니다.\n"
     ]
    }
   ],
   "source": [
    "scores = [90, 85, 77, 65, 97]\n",
    "cheating_student_list = {2, 4}\n",
    "\n",
    "for i in range(5) :\n",
    "    if i + 1 in cheating_student_list :\n",
    "        continue\n",
    "    if scores[i] >= 80 :\n",
    "        print(i + 1, \"번 학생은 합격입니다.\")"
   ]
  },
  {
   "cell_type": "markdown",
   "id": "49cf259f",
   "metadata": {},
   "source": [
    "### 함수\n",
    "\n",
    "* 함수랑 특정한 작업을 하나의 단위로 묶어 놓은 것\n",
    "* 함수를 사용하면 불필요한 소스코드의 반복을 줄일 수 있다. "
   ]
  },
  {
   "cell_type": "markdown",
   "id": "45c8167e",
   "metadata": {},
   "source": [
    "**함수의 종류**\n",
    "* 내장 함수 : 파이썬이 기본적으로 제공하는 함수\n",
    "* 사용자 정의 함수 : 개발자가 직접 정의하여 사용할 수 있는 함수"
   ]
  },
  {
   "cell_type": "markdown",
   "id": "35d1c9ab",
   "metadata": {},
   "source": [
    "**함수 정의하기**\n",
    "* 프로그램에는 똑같은 코드가 반복적으로 사용되어야 할 때가 많다. \n",
    "* 함수를 사용하면 소스코드의 길이를 줄일 수 있다. \n",
    "    * 매개변수 : 함수 내부에서 사용할 변수\n",
    "    * 반환 값 : 함수에서 처리 된 결과를 반환 \n",
    "    "
   ]
  },
  {
   "cell_type": "markdown",
   "id": "87d2cce4",
   "metadata": {},
   "source": [
    "**global 키워드**\n",
    "* global 키워드로 변수를 지정하면 해당 함수에서느느 지역 변수를 만들지 않고, 함수 바깥쪽에 선언된 변수를 바로 참조하게 됨"
   ]
  },
  {
   "cell_type": "code",
   "execution_count": 1,
   "id": "b31a1dda",
   "metadata": {},
   "outputs": [
    {
     "name": "stdout",
     "output_type": "stream",
     "text": [
      "10\n"
     ]
    }
   ],
   "source": [
    "a = 0 \n",
    "\n",
    "def func():\n",
    "    global a \n",
    "    a += 1 \n",
    "    \n",
    "for i in range(10):\n",
    "    func()\n",
    "    \n",
    "print(a)"
   ]
  },
  {
   "cell_type": "markdown",
   "id": "0b54425b",
   "metadata": {},
   "source": [
    "**여러 개의 반환 값**\n",
    "* 파이썬에서 함수는 여러 개의 반환 값을 가질 수 있다. "
   ]
  },
  {
   "cell_type": "code",
   "execution_count": 2,
   "id": "1ca7d6a8",
   "metadata": {},
   "outputs": [
    {
     "name": "stdout",
     "output_type": "stream",
     "text": [
      "10 4 21 2.3333333333333335\n"
     ]
    }
   ],
   "source": [
    "def opperator(a, b):\n",
    "    add_var = a + b\n",
    "    subtract_var = a - b\n",
    "    multiply_var = a * b\n",
    "    divide_var = a / b\n",
    "    return add_var, subtract_var, multiply_var, divide_var\n",
    "\n",
    "a, b, c, d = opperator(7, 3)\n",
    "print(a, b, c, d)"
   ]
  },
  {
   "cell_type": "markdown",
   "id": "f536e0e6",
   "metadata": {},
   "source": [
    "**람다 표현식**\n",
    "* 람다 표현식을 이용하면 함수를 간단하게 작성할 수 있다. \n",
    "    * 특정한 기능을 수행하는 함수를 한 줄에 작성할 수 있다는 점 "
   ]
  },
  {
   "cell_type": "code",
   "execution_count": 3,
   "id": "4a28f86d",
   "metadata": {},
   "outputs": [
    {
     "name": "stdout",
     "output_type": "stream",
     "text": [
      "10\n",
      "10\n"
     ]
    }
   ],
   "source": [
    "def add(a, b):\n",
    "    return a + b\n",
    "\n",
    "# 일반적인 add() 메서드 사용 \n",
    "print(add(3, 7))\n",
    "\n",
    "# 람다 표현식으로 구현한 add() 메서드 \n",
    "print((lambda a, b : a + b)(3, 7))"
   ]
  },
  {
   "cell_type": "markdown",
   "id": "3d4d9c0d",
   "metadata": {},
   "source": [
    "**람다 표현식 예시 : 내장 함수에서 자주 사용되는 람다 함수**"
   ]
  },
  {
   "cell_type": "code",
   "execution_count": 9,
   "id": "0e2cb6c3",
   "metadata": {},
   "outputs": [
    {
     "name": "stdout",
     "output_type": "stream",
     "text": [
      "[('이순신', 32), ('홍길동', 50), ('아무개', 74)]\n",
      "[('이순신', 32), ('홍길동', 50), ('아무개', 74)]\n"
     ]
    }
   ],
   "source": [
    "array = [('홍길동', 50), ('이순신', 32), ('아무개', 74)]\n",
    "\n",
    "def my_key(x): \n",
    "    return x[1]\n",
    "\n",
    "\n",
    "print(sorted(array, key = my_key))\n",
    "print(sorted(array, key = lambda x: x[1]))"
   ]
  },
  {
   "cell_type": "markdown",
   "id": "26548e04",
   "metadata": {},
   "source": [
    "**람다 표현식 예시 : 여러 개의 리스트에 적용**"
   ]
  },
  {
   "cell_type": "code",
   "execution_count": 10,
   "id": "b888335d",
   "metadata": {},
   "outputs": [
    {
     "name": "stdout",
     "output_type": "stream",
     "text": [
      "[7, 9, 11, 13, 15]\n"
     ]
    }
   ],
   "source": [
    "list1 = [1, 2, 3, 4, 5]\n",
    "list2 = [6, 7, 8, 9, 10]\n",
    "\n",
    "result = map(lambda a, b : a + b, list1, list2)\n",
    "print(list(result))"
   ]
  },
  {
   "cell_type": "markdown",
   "id": "eef409fe",
   "metadata": {},
   "source": [
    "**실전에서 유용한 표준 라이브러리**\n",
    "\n",
    "* **내장 함수** : 기본 입출력 함수부터 정렬 함수까지 기본적인 함수들을 제공\n",
    "    * 파이썬 프로그램을 작성할 때 없어서는 안 되는 필수적인 기능을 포함\n",
    "   \n",
    "* **itertools** : 파이썬에서 반복되는 형태으 데이터를 처리하기 위한 유용한 기능 제공\n",
    "    * 특히 순열과 조합 라이브러리는 코딩 테스트에서 자주 등장\n",
    "    \n",
    "* **heqpq** : 힙(Heap) 자료구조 제공\n",
    "    * 일반적으로 우선순위 큐 기능을 구현하기 위해 사용\n",
    "    \n",
    "* **bisect** : 이진 탐색(Binary Search) 기능 제공\n",
    "\n",
    "* **collections** : 덱(deque), 카운터(Counter) 등의 유용한 자료구조 포함 \n",
    "* **math** : 필수적인 수학적 기능 제공\n",
    "    * 팩토리얼, 제곱근, 최대공약수(GCD), 삼각함수 관련 함수부터 파이(pi)와 같은 상수를 포함"
   ]
  },
  {
   "cell_type": "markdown",
   "id": "8642242c",
   "metadata": {},
   "source": [
    "**자주 사용되는 내장 함수**"
   ]
  },
  {
   "cell_type": "code",
   "execution_count": 11,
   "id": "2b46e0af",
   "metadata": {},
   "outputs": [
    {
     "name": "stdout",
     "output_type": "stream",
     "text": [
      "15\n",
      "2 7\n",
      "56\n"
     ]
    }
   ],
   "source": [
    "# sum()\n",
    "result = sum([1, 2, 3, 4, 5])\n",
    "print(result)\n",
    "\n",
    "# min(), max()\n",
    "min_result = min(7, 3, 5, 2)\n",
    "max_result = max(7, 3, 5, 2)\n",
    "print(min_result, max_result)\n",
    "\n",
    "# eval()\n",
    "result = eval(\"(3+5)*7\")\n",
    "print(result)\n",
    "\n"
   ]
  },
  {
   "cell_type": "code",
   "execution_count": 13,
   "id": "1b0eb356",
   "metadata": {},
   "outputs": [
    {
     "name": "stdout",
     "output_type": "stream",
     "text": [
      "[1, 4, 5, 8, 9]\n",
      "[9, 8, 5, 4, 1]\n",
      "[('이순신', 75), ('아무개', 50), ('홍길동', 35)]\n"
     ]
    }
   ],
   "source": [
    "# sorted()\n",
    "result = sorted([9, 1, 8, 5, 4])\n",
    "reverse_result = sorted([9, 1, 8, 5, 4], reverse = True)\n",
    "print(result)\n",
    "print(reverse_result)\n",
    "\n",
    "# sorted() with key\n",
    "array = [('홍길동', 35), ('이순신', 75), ('아무개', 50)]\n",
    "result = sorted(array, key = lambda x:x[1], reverse = True)\n",
    "print(result)"
   ]
  },
  {
   "cell_type": "markdown",
   "id": "91cab570",
   "metadata": {},
   "source": [
    "**순열과 조합**\n",
    "* 모든 경우의 수를 고려해야 할 때 어떤 라이브러리를 효과적으로 사용할 수 있을까요?\n",
    "* **순열** : 서로 다른 n개에서 서로 다른 r개를 선택하여 일렬로 나타내는 것\n",
    "     * {'A', 'B', 'C'}에서 세 개를 선택하여 나열하는 경우 : 'ABC', 'ACB', 'BAC', 'BCA', 'CAB', 'CBA'\n",
    "     \n",
    "* **조합** : 서로 다른 n개에서 순서에 상관 없이 서로 다른 r개를 선택하는 것 \n",
    "    * {'A', 'B', 'C'}에서 순서를 고려하지 않고 두 개를 뽑는 경우 : 'AB', 'AC', 'BC'"
   ]
  },
  {
   "cell_type": "code",
   "execution_count": 15,
   "id": "46e35dc9",
   "metadata": {},
   "outputs": [
    {
     "name": "stdout",
     "output_type": "stream",
     "text": [
      "[('A', 'B', 'C'), ('A', 'C', 'B'), ('B', 'A', 'C'), ('B', 'C', 'A'), ('C', 'A', 'B'), ('C', 'B', 'A')]\n"
     ]
    }
   ],
   "source": [
    "# 순열\n",
    "from itertools import permutations \n",
    "\n",
    "data = ['A', 'B', 'C'] # 데이터 준비\n",
    "\n",
    "result = list(permutations(data, 3)) # A, B, C 중 3개를 골라 일렬로 나타냄 /모든 순열 구하기\n",
    "print(result)\n"
   ]
  },
  {
   "cell_type": "code",
   "execution_count": 19,
   "id": "f03ea209",
   "metadata": {},
   "outputs": [
    {
     "name": "stdout",
     "output_type": "stream",
     "text": [
      "[('A', 'B'), ('A', 'C'), ('B', 'C')]\n"
     ]
    }
   ],
   "source": [
    "# 조합 \n",
    "from itertools import combinations\n",
    "\n",
    "data = ['A', 'B', 'C'] # 데이터 준비\n",
    "\n",
    "result = list(combinations(data, 2)) # 2개를 뽑는 모든 조합 구하기 \n",
    "print(result)\n"
   ]
  },
  {
   "cell_type": "markdown",
   "id": "877401ba",
   "metadata": {},
   "source": [
    "**중복 순열과 중복 조합**"
   ]
  },
  {
   "cell_type": "code",
   "execution_count": 21,
   "id": "e21b0425",
   "metadata": {},
   "outputs": [
    {
     "name": "stdout",
     "output_type": "stream",
     "text": [
      "[('A', 'A'), ('A', 'B'), ('A', 'C'), ('B', 'A'), ('B', 'B'), ('B', 'C'), ('C', 'A'), ('C', 'B'), ('C', 'C')]\n",
      "[('A', 'A'), ('A', 'B'), ('A', 'C'), ('B', 'B'), ('B', 'C'), ('C', 'C')]\n"
     ]
    }
   ],
   "source": [
    "from itertools import product\n",
    "\n",
    "data = ['A', 'B', 'C'] # 데이터 준비\n",
    "\n",
    "result = list(product(data, repeat = 2)) # 2개를 뽑는 모든 순열 구하기 (중복 허용)\n",
    "print(result)\n",
    "\n",
    "from itertools import combinations_with_replacement\n",
    "\n",
    "data = ['A', 'B', 'C']\n",
    "\n",
    "result = list(combinations_with_replacement(data, 2)) # 2개를 뽑는 모든 조합 구하기 (중복 허용)\n",
    "print(result)"
   ]
  },
  {
   "cell_type": "markdown",
   "id": "e1834a91",
   "metadata": {},
   "source": [
    "**Counter**\n",
    "* 파이썬 collections 라이브러리의 Counter는 등장 횟수를 세는 기능 제공\n",
    "* 리스트와 같은 반복 가능한 (iterable) 객체가 주어졌을 때 내부의 원소가 몇 번씩 등장했는지 알려줌 "
   ]
  },
  {
   "cell_type": "code",
   "execution_count": 22,
   "id": "5648964e",
   "metadata": {},
   "outputs": [
    {
     "name": "stdout",
     "output_type": "stream",
     "text": [
      "3\n",
      "1\n",
      "{'red': 2, 'blue': 3, 'green': 1}\n"
     ]
    }
   ],
   "source": [
    "from collections import Counter\n",
    "\n",
    "counter = Counter(['red', 'blue', 'red', 'green', 'blue', 'blue'])\n",
    "\n",
    "print(counter['blue']) # 'blue'가 등장한 횟수 출력\n",
    "print(counter['green']) # 'grean'이 등장한 횟수 출력 \n",
    "print(dict(counter)) # 사전 자료형으로 반환 "
   ]
  },
  {
   "cell_type": "markdown",
   "id": "09ca328d",
   "metadata": {},
   "source": [
    "**최대 공약수와 최소 공배수**"
   ]
  },
  {
   "cell_type": "markdown",
   "id": "240dbaab",
   "metadata": {},
   "source": [
    "* 최대 공약수를 구해야 할 때는 math 라이브러리의 gcd() 함수를 이용할 수 있다. "
   ]
  },
  {
   "cell_type": "code",
   "execution_count": 23,
   "id": "8cc45014",
   "metadata": {},
   "outputs": [
    {
     "name": "stdout",
     "output_type": "stream",
     "text": [
      "7\n",
      "42\n"
     ]
    }
   ],
   "source": [
    "import math \n",
    "\n",
    "# 최소 공배수(LCM)를 구하는 함수 \n",
    "def lcm(a, b) :\n",
    "    return a * b // math.gcd(a, b)\n",
    "\n",
    "a = 21\n",
    "b = 14\n",
    "\n",
    "print(math.gcd(21, 14)) # 최대 공약수 (GCD) 계산\n",
    "print(lcm(21, 14))"
   ]
  }
 ],
 "metadata": {
  "kernelspec": {
   "display_name": "study",
   "language": "python",
   "name": "study"
  },
  "language_info": {
   "codemirror_mode": {
    "name": "ipython",
    "version": 3
   },
   "file_extension": ".py",
   "mimetype": "text/x-python",
   "name": "python",
   "nbconvert_exporter": "python",
   "pygments_lexer": "ipython3",
   "version": "3.10.13"
  }
 },
 "nbformat": 4,
 "nbformat_minor": 5
}
