{
 "cells": [
  {
   "cell_type": "markdown",
   "id": "bc37c6d9",
   "metadata": {},
   "source": [
    "### (2) 큰 수의 법칙"
   ]
  },
  {
   "cell_type": "markdown",
   "id": "8db090bf",
   "metadata": {},
   "source": [
    "다양한 수로 이루어진 배열이 있을 때 주어진 수들을 M번 더하여 가장 큰 수를 만드는 법칙 \n",
    "\n",
    "* **법칙의 특징**\n",
    "\n",
    "    - 배열의 특정한 인덱스(번호)에 해당하는 수가 연속해서 K번을 초과하여 더해질 수 없음\n",
    "    \n"
   ]
  },
  {
   "cell_type": "markdown",
   "id": "f3ec7dbd",
   "metadata": {},
   "source": [
    "* **입력조건**\n",
    "\n",
    "    - 첫째 줄에 N(2 ≤ N ≤ 1,000), M(1 ≤ M ≤ 10,000), K(1 ≤ K ≤ 10,000) 의 자연수가 주어지며, 각 자연수는 공백으로 구분한다.\n",
    "    - 둘째 줄에 N개의 자연수가 주어진다. 각 자연수는 공백으로 구분한다. 단, 각각의 자연수는 1 이상 10,000 이하의 수로 주어진다. \n",
    "    - 입력으로 주어지는 K는 항상 M보다 작거나 같다. "
   ]
  },
  {
   "cell_type": "markdown",
   "id": "ba3b078d",
   "metadata": {},
   "source": [
    "* **출력 조건**\n",
    "\n",
    "    - 첫째 줄에 큰 수의 법칙에 따라 더해진 답을 출력한다. "
   ]
  },
  {
   "cell_type": "code",
   "execution_count": 7,
   "id": "a3fab962",
   "metadata": {},
   "outputs": [
    {
     "name": "stdout",
     "output_type": "stream",
     "text": [
      "5 8 3 \n",
      "2 4 5 4 6\n",
      "46\n"
     ]
    }
   ],
   "source": [
    "# 공백으로 구분해서 입력 \n",
    "N, M, K = map(int, input().split())\n",
    "\n",
    "# N 개의 자연수f를 공백 구분해서 입력 \n",
    "data = list(map(int, input().split()))\n",
    "\n",
    "data.sort() # 정렬 \n",
    "first = data[N-1] # 첫 번째 큰 수 \n",
    "second = data[N-2] # 두 번째 큰 수 \n",
    "\n",
    "result = 0\n",
    "\n",
    "while True : \n",
    "    for i in range(K) : # 가장 큰 수를 K번 더하기\n",
    "        if M == 0: # M이 0이면 반복문 탈출\n",
    "            break\n",
    "        result += first \n",
    "        M -= 1 # 더할 때마다 1빼기\n",
    "    if M == 0 : # 두 번째로 큰 수 한 번 더하기\n",
    "        break   \n",
    "    result += second \n",
    "    M -= 1 # 더할 때마다 1씩 빼기\n",
    "    \n",
    "print(result)\n"
   ]
  },
  {
   "cell_type": "markdown",
   "id": "bc6c9761",
   "metadata": {},
   "source": [
    "**출력 결과**\n",
    "\n",
    "= 6 + 6 + 6 + 5 + 6 + 6 + 6 + 5 = 46"
   ]
  }
 ],
 "metadata": {
  "kernelspec": {
   "display_name": "study",
   "language": "python",
   "name": "study"
  },
  "language_info": {
   "codemirror_mode": {
    "name": "ipython",
    "version": 3
   },
   "file_extension": ".py",
   "mimetype": "text/x-python",
   "name": "python",
   "nbconvert_exporter": "python",
   "pygments_lexer": "ipython3",
   "version": "3.10.13"
  }
 },
 "nbformat": 4,
 "nbformat_minor": 5
}
