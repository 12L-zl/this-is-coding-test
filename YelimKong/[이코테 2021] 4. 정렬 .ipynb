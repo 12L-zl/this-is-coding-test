{
 "cells": [
  {
   "cell_type": "markdown",
   "id": "f1aa79f1",
   "metadata": {},
   "source": [
    "### 정렬 알고리즘"
   ]
  },
  {
   "cell_type": "markdown",
   "id": "b68c2091",
   "metadata": {},
   "source": [
    "* **정렬(Sorting)** 이란 데이터를 특정한 기준에 따라 순서대로 나열한 것\n",
    "* 일반적으로 문제 상황에 따라서 적절한 정렬 알고리즘이 공식처럼 사용됨 "
   ]
  },
  {
   "cell_type": "markdown",
   "id": "441e8a59",
   "metadata": {},
   "source": [
    "**선택 정렬**\n",
    "* 처리되지 않은 데이터 중에서 가장 작은 데이터를 선택해 맨 앞에 있는 데이터와 바꾸는 것 반복 "
   ]
  },
  {
   "cell_type": "markdown",
   "id": "e6bea150",
   "metadata": {},
   "source": [
    "**선택 정렬 소스코드**"
   ]
  },
  {
   "cell_type": "code",
   "execution_count": 1,
   "id": "58a35852",
   "metadata": {},
   "outputs": [
    {
     "name": "stdout",
     "output_type": "stream",
     "text": [
      "[0, 1, 2, 3, 4, 5, 6, 7, 8, 9]\n"
     ]
    }
   ],
   "source": [
    "array = [7, 5, 9, 0, 3, 1, 6, 2, 4, 8]\n",
    "\n",
    "for i in range(len(array)) :\n",
    "    min_index = i # 가장 작은 원소의 인덱스 \n",
    "    for j in range(i + 1, len(array)) :\n",
    "        if array[min_index] > array[j] :\n",
    "            min_index = j \n",
    "            \n",
    "    array[i], array[min_index] = array[min_index], array[i] # 스와프 \n",
    "    \n",
    "print(array)"
   ]
  },
  {
   "cell_type": "markdown",
   "id": "0e4b79ed",
   "metadata": {},
   "source": [
    "**선택 정렬의 시간 복잡도**\n",
    "* 선택 정렬은 N번 만큼 가장 작은 수를 찾아서 맨 앞으로 보내야 한다. \n",
    "* 구현 방식에 따라서 사소한 오차는 있을 수 있지만, 전체 연산 횟수는 다음과 같다. \n",
    "\n",
    "N + (N-1) + (N-2) + ... + 2\n",
    "\n",
    "* 이는 (N²+ N - 2)/2로 표현할 수 있는데, 빅오 표기법에 따라서 O(N²)이라고 작성"
   ]
  },
  {
   "cell_type": "markdown",
   "id": "84f309de",
   "metadata": {},
   "source": [
    "**삽입 정렬**\n",
    "* 처리되지 않은 데이터를 하나씩 적절한 위치에 삽입\n",
    "* 선택 정렬에 비해 구현 난이도가 높은 편이지만, 일반적으로 더 효율적으로 동작"
   ]
  },
  {
   "cell_type": "markdown",
   "id": "6393ae08",
   "metadata": {},
   "source": [
    "**삽입 정렬 소스코드**"
   ]
  },
  {
   "cell_type": "code",
   "execution_count": 3,
   "id": "5e3d937d",
   "metadata": {},
   "outputs": [
    {
     "name": "stdout",
     "output_type": "stream",
     "text": [
      "[0, 1, 2, 3, 4, 5, 6, 7, 8, 9]\n"
     ]
    }
   ],
   "source": [
    "array = [7, 5, 9, 0, 3, 1, 6, 2, 4, 8]\n",
    "\n",
    "for i in range(1, len(array)) :\n",
    "    for j in range(i, 0, -1) :# 인덱스 1부터 1까지 1씩 감소하며 반복하는 문법\n",
    "        if array[j] < array[j-1] : # 한 칸씩 왼쪽으로 이동\n",
    "            array[j], array[j-1] = array[j-1], array[j]\n",
    "        else :  # 자기보다 작은 데이터를 만나면 그 위치에서 멈춤 \n",
    "            break\n",
    "print(array)"
   ]
  },
  {
   "cell_type": "markdown",
   "id": "2ab49e64",
   "metadata": {},
   "source": [
    "**퀵 정렬**\n",
    "* 기준 데이터를 설정하고 그 **기준보다 큰 데이터와 작은 데이터의 위치를 바꾸는 방법**\n",
    "* 일반적인 상황에서 가장 많이 사용되는 정렬 알고리즘 중 하나 \n",
    "* 병합 정렬과 더불어 대부분의 프로그래밍 언어의 정렬 라이브러리의 근간이 되는 알고리즘 \n",
    "* 가장 기본적인 퀵 정렬은 **첫 번째 데이터를 기준 데이터(Pivot)로 설정**"
   ]
  },
  {
   "cell_type": "markdown",
   "id": "b12a9a63",
   "metadata": {},
   "source": [
    "**퀵 정렬이 빠른 이유 : 직관적인 이해**\n",
    "* 이상적인 경우 분할이 절반씩 일어난다면 전체 연산 횟수로 O(NlogN)를 기대할 수 있다.\n",
    "    * 너비 X 높이 = N X logN = NlogN"
   ]
  },
  {
   "cell_type": "markdown",
   "id": "c4549613",
   "metadata": {},
   "source": [
    "**퀵 정렬 소스코드**"
   ]
  },
  {
   "cell_type": "code",
   "execution_count": 5,
   "id": "6a75ed0b",
   "metadata": {},
   "outputs": [
    {
     "name": "stdout",
     "output_type": "stream",
     "text": [
      "[0, 1, 2, 3, 4, 5, 6, 7, 8, 9]\n"
     ]
    }
   ],
   "source": [
    "array = [5, 7, 9, 0, 3, 1, 6, 2, 4, 8]\n",
    "\n",
    "def quick_sort(array, start, end) :\n",
    "    if start >= end :# 원소가 1개인 경우 종료 \n",
    "        return \n",
    "    pivot = start # 피벗은 첫 번째 원소\n",
    "    left = start + 1 \n",
    "    right = end\n",
    "    while left <= right :\n",
    "        # 피벗보다 큰 데이터를 찾을 때까지 반복 \n",
    "        while left <= end and array[left] <= array[pivot] :\n",
    "            left += 1\n",
    "        # 피벗보다 작은 데이터를 찾을 때까지 반복\n",
    "        while right > start and array[right] >= array[pivot] :\n",
    "            right -= 1\n",
    "        if left > right : # 엇갈렸다면 작은 데이터와 피벗을 교체\n",
    "            array[pivot], array[right] = array[right], array[pivot]\n",
    "        else : # 엇갈리지 않았다면 작은 데이터와 큰 데이터를 교체\n",
    "            array[left], array[right] = array[right], array[left]\n",
    "    # 분할 이후 왼쪽 부분과 오른쪽 부분에서 각각 정렬 수행 \n",
    "    quick_sort(array, start, right - 1)\n",
    "    quick_sort(array, right + 1, end)\n",
    "    \n",
    "quick_sort(array, 0, len(array) - 1)\n",
    "print(array)"
   ]
  },
  {
   "cell_type": "markdown",
   "id": "c15357f7",
   "metadata": {},
   "source": [
    "**퀵 정렬 소스코드 : 파이썬의 장점을 살린 방식**"
   ]
  },
  {
   "cell_type": "code",
   "execution_count": 7,
   "id": "9b35daeb",
   "metadata": {},
   "outputs": [
    {
     "name": "stdout",
     "output_type": "stream",
     "text": [
      "[0, 1, 2, 3, 4, 5, 6, 7, 8, 9]\n"
     ]
    }
   ],
   "source": [
    "array = [5, 7, 9, 0, 3, 1, 6, 2, 4, 8]\n",
    "\n",
    "def quick_sort(array) :\n",
    "    # 리스트가 하나 이하의 원소만을 담고 있다면 종료 \n",
    "    if len(array) <= 1 :\n",
    "        return array\n",
    "    \n",
    "    pivot = array[0] # 피벗은 첫 번째 원소 \n",
    "    tail = array[1:] # 피벗을 제외한 리스트\n",
    "    \n",
    "    left_side = [x for x in tail if x <= pivot] # 분할된 왼쪽 부분\n",
    "    right_side = [x for x in tail if x > pivot] # 분할된 오른쪽 부분\n",
    "    \n",
    "    # 분할 이후 왼쪽 부분과 오른쪽 부분에서 각각 정렬 수행하고, 전체 리스트 반환 \n",
    "    return quick_sort(left_side) + [pivot] + quick_sort(right_side)\n",
    "    \n",
    "print(quick_sort(array))"
   ]
  },
  {
   "cell_type": "markdown",
   "id": "7ee4e76a",
   "metadata": {},
   "source": [
    "**계수 정렬**\n",
    "* 특정한 조건이 부합할 때만 사용할 수 있지만 매우 빠르게 동작하는 정렬 알고리즘\n",
    "    * 계수 정렬은 데이터의 크기 범위가 제한되어 정수 형태로 표현할 수 있을 때 사용 가능합니다.\n",
    "* 데이터의 개수가 N, 데이터(양수) 중 최댓값이 K일 때 최악의 경우에도 수행시간 O(N + K)를 보장함"
   ]
  },
  {
   "cell_type": "markdown",
   "id": "a7080e8a",
   "metadata": {},
   "source": [
    "**계수 정렬 소스코드**"
   ]
  },
  {
   "cell_type": "code",
   "execution_count": 10,
   "id": "a53ae67f",
   "metadata": {},
   "outputs": [
    {
     "name": "stdout",
     "output_type": "stream",
     "text": [
      "0 0 1 1 2 2 3 4 5 5 6 7 8 9 9 "
     ]
    }
   ],
   "source": [
    "# 모든 원소의 값이 0보다 크거나 같다고 가정\n",
    "array = [7, 5, 9, 0, 3, 1, 6, 2, 9, 1, 4, 8, 0, 5, 2]\n",
    "# 모든 범위를 포함하는 리스트 선언(모든 값을 0으로 초기화)\n",
    "count = [0] * (max(array) + 1)\n",
    "\n",
    "for i in range(len(array)):\n",
    "    count[array[i]] += 1 # 각 데이터에 해당하는 인덱스의 값 증가\n",
    "    \n",
    "for i in range(len(count)) : # 리스트에 기록된 정렬 정보 확인\n",
    "    for j in range(count[i]): \n",
    "        print(i, end =\" \") # 띄어쓰기를 구분으로 등장한 횟수만큼 인덱스 출력"
   ]
  },
  {
   "cell_type": "markdown",
   "id": "c6c58c4b",
   "metadata": {},
   "source": [
    "**계수 정렬의 복잡도 분석**\n",
    "* 계수 정렬의 시간 복잡도와 공간 복잡도는 모두 O(N + K)입니다. \n",
    "* 계수 정령은 때에 따라서 심각한 비효율성을 초래할 수 있다. \n",
    "    * 데이터가 0과 999,999로 단 2개만 존재하는 경우를 생각해 본다.\n",
    "    \n",
    "* 계수 정렬은 동일한 값을 가지는 데이터가 여러 개 등장할 때 효과적으로 사용할 수 있다.\n",
    "    * 성적의 경우 100점을 맞은 학생이 여러 명일 수 있기 때문에 계수 정렬이 효과적임"
   ]
  },
  {
   "cell_type": "markdown",
   "id": "20b0beb2",
   "metadata": {},
   "source": [
    "**정렬 알고리즘 비교하기**\n",
    "* 네 가지 정렬 알고리즘을 비교"
   ]
  },
  {
   "cell_type": "markdown",
   "id": "6c8437b1",
   "metadata": {},
   "source": [
    "| 정렬 알고리즘  | 평균 시간 복잡도  | 공간 복잡도  | 특징    |\n",
    "|:----------:|:---------:|:----------------:|:--------|\n",
    "|  선택 정렬  | O(N²)    |  O(N)  |  아이디어가 매우 간단  |\n",
    "| 삽입 정렬   |  O(N²)   |  O(N)  | 데이터가 거의 정렬되어 있을 때는 가장 빠르다.  |\n",
    "|  퀵 정렬  |  O(NlogN)   |  O(N)  | 대부분의 경우에 가장 적합하며, 충분히 빠르다.  |\n",
    "|  계수 정렬  |  O(N+K)  |  O(N + K)  |데이터의 크기가 한정되어 있는 경우에만 <br>사용이 가능하지만 매우 빠르게 동작함</br>   |"
   ]
  },
  {
   "cell_type": "markdown",
   "id": "931541f4",
   "metadata": {},
   "source": [
    "**선택 정렬과 기본 정렬 라이브러리 수행 시간 비교**"
   ]
  },
  {
   "cell_type": "code",
   "execution_count": 15,
   "id": "85bbc183",
   "metadata": {},
   "outputs": [
    {
     "name": "stdout",
     "output_type": "stream",
     "text": [
      "선택 정렬 성능 측정 : 9.592582702636719\n",
      "기본 정렬 라이브러리 성능 측정 : 0.0009987354278564453\n"
     ]
    }
   ],
   "source": [
    "from random import randint\n",
    "import time\n",
    "\n",
    "# 배열에 10,000개의 정수 삽입\n",
    "array = []\n",
    "for _ in range(10000) :\n",
    "    # 1부터 100 사이의 랜덤한 정수 \n",
    "    array.append(randint(1, 100))\n",
    "    \n",
    "# 선택 정렬 프로그램 성능 측정\n",
    "start_time = time.time()\n",
    "\n",
    "# 선택 정렬 프로그램 소스코드 \n",
    "for i in range(len(array)) :\n",
    "    min_index = i\n",
    "    for j in range(i + 1, len(array)) :\n",
    "        if array[min_index] > array[j] :\n",
    "            min_index = j\n",
    "            \n",
    "    array[i], array[min_index] = array[min_index], array[i]\n",
    "    \n",
    "# 측정 종료 \n",
    "end_time = time.time()\n",
    "\n",
    "# 수행 시간 출력 \n",
    "print(\"선택 정렬 성능 측정 :\", end_time - start_time)\n",
    "\n",
    "\n",
    "\n",
    "\n",
    "# 배열을 다시 무작위 데이터로 초기화 \n",
    "array = []\n",
    "for _ in range(10000) :\n",
    "    #  1부터 100 사이의 핸덤한 정수 \n",
    "    array.append(randint(1, 100))\n",
    "    \n",
    "    \n",
    "# 기본 정렬 라이브러리 성능 측정 \n",
    "start_time = time.time()\n",
    "\n",
    "# 기본 정렬 라이브러리 사용\n",
    "array.sort()\n",
    "\n",
    "# 측정 종료 \n",
    "end_time = time.time()\n",
    "\n",
    "# 수행 시간 출력 \n",
    "print(\"기본 정렬 라이브러리 성능 측정 :\", end_time - start_time)\n",
    "    "
   ]
  }
 ],
 "metadata": {
  "kernelspec": {
   "display_name": "study",
   "language": "python",
   "name": "study"
  },
  "language_info": {
   "codemirror_mode": {
    "name": "ipython",
    "version": 3
   },
   "file_extension": ".py",
   "mimetype": "text/x-python",
   "name": "python",
   "nbconvert_exporter": "python",
   "pygments_lexer": "ipython3",
   "version": "3.10.13"
  }
 },
 "nbformat": 4,
 "nbformat_minor": 5
}
