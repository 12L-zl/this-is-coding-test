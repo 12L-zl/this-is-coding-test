{
 "cells": [
  {
   "cell_type": "markdown",
   "id": "163c10ac",
   "metadata": {},
   "source": [
    "### **(4) 만들 수 없는 금액**"
   ]
  },
  {
   "cell_type": "markdown",
   "id": "cac92690",
   "metadata": {},
   "source": [
    "### **문제**"
   ]
  },
  {
   "cell_type": "markdown",
   "id": "1bbeea1d",
   "metadata": {},
   "source": [
    "N 개의 동전이 있다. N개의 동전을 이용하여 만들 수 없는 양의 정수 금액 중 최솟값을 구하는 프로그램 작성"
   ]
  },
  {
   "cell_type": "markdown",
   "id": "b9f6dd9b",
   "metadata": {},
   "source": [
    "**예시 1)**"
   ]
  },
  {
   "cell_type": "markdown",
   "id": "1476a9f7",
   "metadata": {},
   "source": [
    "**N = 5, 각 동전이 3원, 2원, 1원, 1원, 9원**짜리 (화폐 단위) 동전이라고 가정\n",
    "<br>**만들 수 없는 양의 정수 금액 중 최솟값은 8원**</br>"
   ]
  },
  {
   "cell_type": "markdown",
   "id": "6b2f6a1b",
   "metadata": {},
   "source": [
    "**예시 2)**"
   ]
  },
  {
   "cell_type": "markdown",
   "id": "32fc6ae1",
   "metadata": {},
   "source": [
    "**N = 3, 각 동전이 3원, 5원, 7원**짜리 (화폐 단위) 동전이라고 가정\n",
    "<br>**만들 수 없는 양의 정수 금액 중 최솟값은 1원**</br>"
   ]
  },
  {
   "cell_type": "markdown",
   "id": "2cbfeccc",
   "metadata": {},
   "source": [
    "**입력 조건**"
   ]
  },
  {
   "cell_type": "markdown",
   "id": "95c073f0",
   "metadata": {},
   "source": [
    "* **첫째 줄에는 동전의 개수**를 나타내는 양의 정수 N (1 ≤ N ≤ 1,000)\n",
    "* **둘째 줄에는 각 동전의 화폐 단위를 나타내는 N개의 자연수 존재**, 각 자연수는 공백으로 구분, 각 화폐 단위는 1,000,000 이하의 자연수 "
   ]
  },
  {
   "cell_type": "markdown",
   "id": "0559d7f6",
   "metadata": {},
   "source": [
    "**출력 조건**"
   ]
  },
  {
   "cell_type": "markdown",
   "id": "54decff5",
   "metadata": {},
   "source": [
    "* 첫째 줄에 주어진 동전들로 **만들 수 없는 양의 정수 금액 중 최솟값** 출력"
   ]
  },
  {
   "cell_type": "markdown",
   "id": "519e5d1c",
   "metadata": {},
   "source": [
    "**코드 설명**\n",
    "\n",
    "    1. M의 개수 입력\n",
    "    2. 각 화폐 단위 입력\n",
    "    3. 화폐 단위 오름차순 정렬\n",
    "    4. min_value() 함수 정의 \n",
    "    5. 현재까지 만들 수 있는 최솟값 초기화\n",
    "    6. 현재까지 만들 수 있는 최솟값보다 크거나 같은 경우, 현재 숫자를 더할 필요 없음\n",
    "    7. 그 외, 현재까지 만들 수 있는 최솟값이 됨\n",
    "    "
   ]
  },
  {
   "cell_type": "code",
   "execution_count": 10,
   "id": "49801b6e",
   "metadata": {},
   "outputs": [
    {
     "name": "stdout",
     "output_type": "stream",
     "text": [
      "5\n",
      "3 2 1 1 9\n",
      "실행 시간 : 0.0 초\n",
      "8\n"
     ]
    }
   ],
   "source": [
    "import time\n",
    "\n",
    "# 1. M의 개수 입력\n",
    "N = int(input())\n",
    "\n",
    "# 2. 각 화폐 단위 입력\n",
    "M = list(map(int, input().split()))\n",
    "\n",
    "start_time = time.time()  # 시작 시간 \n",
    "\n",
    "# 3. 화폐 단위 오름차순 정렬\n",
    "new_m = sorted(M)\n",
    "\n",
    "# 4. min_value() 함수 정의\n",
    "def min_value(new_m):\n",
    "\n",
    "    # 5. 현재까지 만들 수 있는 최솟값 초기화\n",
    "    result = 1\n",
    "\n",
    "    for num in new_m:\n",
    "        # 6. 현재까지 만들 수 있는 최솟값보다 크거나 같은 경우, 현재 숫자를 더할 필요 없음\n",
    "        if result >= num:\n",
    "            result += num\n",
    "        else:\n",
    "            # 7.그 외, 현재까지 만들 수 있는 최솟값이 됨\n",
    "            break\n",
    "\n",
    "    return result\n",
    "\n",
    "end_time = time.time()\n",
    "\n",
    "# 실행시간 출력 \n",
    "running_time = end_time - start_time\n",
    "print(f\"실행 시간 : {running_time} 초\")\n",
    "\n",
    "# 결과 출력\n",
    "print(min_value(new_m))"
   ]
  },
  {
   "cell_type": "code",
   "execution_count": 12,
   "id": "f85fc95b",
   "metadata": {},
   "outputs": [
    {
     "name": "stdout",
     "output_type": "stream",
     "text": [
      "3\n",
      "3 5 7\n",
      "실행 시간 : 0.0 초\n",
      "1\n"
     ]
    }
   ],
   "source": [
    "import time\n",
    "\n",
    "# 1. M의 개수 입력\n",
    "N = int(input())\n",
    "\n",
    "# 2. 각 화폐 단위 입력\n",
    "M = list(map(int, input().split()))\n",
    "\n",
    "start_time = time.time()  # 시작 시간 \n",
    "\n",
    "# 3. 화폐 단위 오름차순 정렬\n",
    "new_m = sorted(M)\n",
    "\n",
    "# 4. min_value() 함수 정의\n",
    "def min_value(new_m):\n",
    "\n",
    "    # 5. 현재까지 만들 수 있는 최솟값 초기화\n",
    "    result = 1\n",
    "\n",
    "    for num in new_m:\n",
    "        # 6. 현재까지 만들 수 있는 최솟값보다 크거나 같은 경우, 현재 숫자를 더할 필요 없음\n",
    "        if result >= num:\n",
    "            result += num\n",
    "        else:\n",
    "            # 7.그 외, 현재까지 만들 수 있는 최솟값이 됨\n",
    "            break\n",
    "\n",
    "    return result\n",
    "\n",
    "end_time = time.time()\n",
    "\n",
    "# 실행시간 출력 \n",
    "running_time = end_time - start_time\n",
    "print(f\"실행 시간 : {running_time} 초\")\n",
    "\n",
    "# 결과 출력\n",
    "print(min_value(new_m))"
   ]
  }
 ],
 "metadata": {
  "kernelspec": {
   "display_name": "study",
   "language": "python",
   "name": "study"
  },
  "language_info": {
   "codemirror_mode": {
    "name": "ipython",
    "version": 3
   },
   "file_extension": ".py",
   "mimetype": "text/x-python",
   "name": "python",
   "nbconvert_exporter": "python",
   "pygments_lexer": "ipython3",
   "version": "3.10.13"
  }
 },
 "nbformat": 4,
 "nbformat_minor": 5
}
