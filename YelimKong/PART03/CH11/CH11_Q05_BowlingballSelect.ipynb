{
 "cells": [
  {
   "cell_type": "markdown",
   "id": "8d4da185",
   "metadata": {},
   "source": [
    "### (5) 볼링볼 고르기"
   ]
  },
  {
   "cell_type": "markdown",
   "id": "75800b62",
   "metadata": {},
   "source": [
    "서로 무게가 다른 볼링볼을 고르려고 한다. **볼링볼은 총 N개**가 있으며, 공의 번호는 1번부터 순서대로 부여된다. 또한 같은 무게의 공이 여러 개 있을 수 있지만, 서로 다른 공으로 간주한다. **볼링공의 무게는 1부터 M까지의 자연수 형태**로 존재한다."
   ]
  },
  {
   "cell_type": "markdown",
   "id": "62c3370c",
   "metadata": {},
   "source": [
    "예를 들어 N이 5이고, M이 3이며 각각의 무게가 차례대로 1, 3, 2, 3, 2 일 때 각 공의 번호가 차례대로 1번부터 5번까지 부여된다. 이때 두 사람이 고를 수 있는 볼링공 번호의 조합을 구하면 다음과 같다."
   ]
  },
  {
   "cell_type": "markdown",
   "id": "6371590e",
   "metadata": {},
   "source": [
    "**볼링공 번호 조합 예시**\n",
    "\n",
    "\n",
    "\n",
    "<br>**(1번, 2번), (1번, 3번), (1번, 4번), (1번, 5번), (2번, 3번), (2번, 5번), (3번, 4번), (4번, 5번)**</br>"
   ]
  },
  {
   "cell_type": "markdown",
   "id": "9343c7aa",
   "metadata": {},
   "source": [
    "결과적으로 두 사람이 공을 고르는 경우의 수는 8가지"
   ]
  },
  {
   "cell_type": "markdown",
   "id": "54fc6af9",
   "metadata": {},
   "source": [
    "**입력 조건**\n",
    "* 첫째 줄에 볼링골의 개수 N, 공의 최대 무게 M이 공백으로 구분되어 각각 자연수 형태로 주어진다.(1 ≤ N ≤ 1,000, 1 ≤ M ≤ 10)\n",
    "* 둘째 줄에 각 볼링공의 무게 K가 공백으로 구분되어 순서대로 자연수 형태로 주어진다. (1 ≤ K ≤ M)"
   ]
  },
  {
   "cell_type": "markdown",
   "id": "4905b35b",
   "metadata": {},
   "source": [
    "**출력 조건**\n",
    "* 첫째 줄에 두 사람이 볼링공을 고르는 경우릐 수를 출력"
   ]
  },
  {
   "cell_type": "markdown",
   "id": "033af941",
   "metadata": {},
   "source": [
    "**코드 요약**\n",
    "\n",
    "    1. 첫째 줄에 볼링공의 개수, 공의 최대 무게를 입력 한다.\n",
    "    2. 둘째 줄에 각 볼링공의 무게를 입력한다. \n",
    "    3. K값 범위 지정\n",
    "    4. K 오름차순 정렬\n",
    "    5. 원소쌍 저장할 빈 리스트 생성\n",
    "    6. 원소쌍 개수 저장할 변수 초기화\n",
    "    7. 첫번째 원소 : 첫번째 볼링공부터 뒤에서 두번째 볼링공까지 i로 순회\n",
    "    8. 두번째 원소 : i + 1번째부터 N까지 볼링공 j로 순회\n",
    "    9. 같은 수끼리는 리스트에 추가하지 않음\n",
    "    10. 결과값에 비교하는 원소쌍의 (첫번째 원소, 두번째 원소) 를 저장 \n",
    "    11. 조합 수 1씩 증가 "
   ]
  },
  {
   "cell_type": "code",
   "execution_count": 3,
   "id": "fe1e1fa7",
   "metadata": {},
   "outputs": [
    {
     "name": "stdout",
     "output_type": "stream",
     "text": [
      "5 3 \n",
      "1 3 2 3 2\n",
      "가능한 조합: [(1, 2), (1, 2), (1, 3), (1, 3), (2, 3), (2, 3), (2, 3), (2, 3)]\n",
      "볼링공 조합 수: 8\n",
      "실행 시간: 0.0 초\n"
     ]
    }
   ],
   "source": [
    "import time\n",
    "\n",
    "N, M = map(int, input().split())       # N: 볼링공의 개수, M: 공의 최대 무게 입력\n",
    "K = list(map(int, input().split()))    # K: 각 볼링공의 무게\n",
    "\n",
    "# K값의 범위가 1보다 크거나 M보다 작지 않으면 오류 메시지 출력\n",
    "if not all(1 <= k <= N for k in K):\n",
    "    print(\"K값의 범위는 1보다 크거나 N보다 작아야 합니다.\")\n",
    "    exit()\n",
    "\n",
    "start = time.time() # 시작 시간 \n",
    "\n",
    "k = sorted(K)   # K를 오름차순 정렬\n",
    "result = []     # 중복을 제외한 K의 각 원소 쌍을 저장할 리스트\n",
    "count = 0       # 쌍의 개수를 저장할 변수 초기화\n",
    "\n",
    "for i in range(N - 1):                   # 첫번째 원소 : 첫번째 볼링공부터 뒤에서 두번째 볼링공까지 i로 순회  \n",
    "    for j in range(i + 1, N):            # 두번째 원소 : i + 1번째부터 N까지 볼링공 j로 순회\n",
    "        if k[i] != k[j]:                 # 같은 수끼리는 리스트에 추가하지 않음\n",
    "            result.append((k[i], k[j]))  # 결과값에 비교하는 원소쌍의 (첫번째 원소, 두번째 원소) 를 저장 \n",
    "            count += 1                   # 조합 수 1씩 증가 \n",
    "\n",
    "end = time.time() # 종료 시간\n",
    "\n",
    "print(\"가능한 조합:\", result)\n",
    "print(\"볼링공 조합 수:\", count)\n",
    "print(\"실행 시간:\", end - start, \"초\")\n"
   ]
  },
  {
   "cell_type": "code",
   "execution_count": 4,
   "id": "496accf7",
   "metadata": {},
   "outputs": [
    {
     "name": "stdout",
     "output_type": "stream",
     "text": [
      "8 5\n",
      "1 5 4 3 2 4 5 2\n",
      "가능한 조합: [(1, 2), (1, 2), (1, 3), (1, 4), (1, 4), (1, 5), (1, 5), (2, 3), (2, 4), (2, 4), (2, 5), (2, 5), (2, 3), (2, 4), (2, 4), (2, 5), (2, 5), (3, 4), (3, 4), (3, 5), (3, 5), (4, 5), (4, 5), (4, 5), (4, 5)]\n",
      "볼링공 조합 수: 25\n",
      "실행 시간: 0.0010004043579101562 초\n"
     ]
    }
   ],
   "source": [
    "import time\n",
    "\n",
    "N, M = map(int, input().split())       # N: 볼링공의 개수, M: 공의 최대 무게 입력\n",
    "K = list(map(int, input().split()))    # K: 각 볼링공의 무게\n",
    "\n",
    "# K값의 범위가 1보다 크거나 M보다 작지 않으면 오류 메시지 출력\n",
    "if not all(1 <= k <= N for k in K):\n",
    "    print(\"K값의 범위는 1보다 크거나 N보다 작아야 합니다.\")\n",
    "    exit()\n",
    "\n",
    "start = time.time() # 시작 시간 \n",
    "\n",
    "k = sorted(K)   # K를 오름차순 정렬\n",
    "result = []     # 중복을 제외한 K의 각 원소 쌍을 저장할 리스트\n",
    "count = 0       # 쌍의 개수를 저장할 변수 초기화\n",
    "\n",
    "for i in range(N - 1):                   # 첫번째 원소 : 첫번째 볼링공부터 뒤에서 두번째 볼링공까지 i로 순회  \n",
    "    for j in range(i + 1, N):            # 두번째 원소 : i + 1번째부터 N까지 볼링공 순회\n",
    "        if k[i] != k[j]:                 # 같은 수끼리는 리스트에 추가하지 않음\n",
    "            result.append((k[i], k[j]))  # 결과값에 비교하는 원소쌍의 (첫번째 원소, 두번째 원소) 를 저장 \n",
    "            count += 1                   # 조합 수 1씩 증가 \n",
    "\n",
    "end = time.time() # 종료 시간\n",
    "\n",
    "print(\"가능한 조합:\", result)\n",
    "print(\"볼링공 조합 수:\", count)\n",
    "print(\"실행 시간:\", end - start, \"초\")\n"
   ]
  }
 ],
 "metadata": {
  "kernelspec": {
   "display_name": "study",
   "language": "python",
   "name": "study"
  },
  "language_info": {
   "codemirror_mode": {
    "name": "ipython",
    "version": 3
   },
   "file_extension": ".py",
   "mimetype": "text/x-python",
   "name": "python",
   "nbconvert_exporter": "python",
   "pygments_lexer": "ipython3",
   "version": "3.10.13"
  }
 },
 "nbformat": 4,
 "nbformat_minor": 5
}
