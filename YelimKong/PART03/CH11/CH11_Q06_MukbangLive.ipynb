{
 "cells": [
  {
   "cell_type": "markdown",
   "id": "d38f62e9",
   "metadata": {},
   "source": [
    "### **(6) 무지의 먹방 라이브**"
   ]
  },
  {
   "cell_type": "markdown",
   "id": "a214b38a",
   "metadata": {},
   "source": [
    "**제공 링크**\n",
    "https://school.programmers.co.kr/learn/courses/30/lessons/42891"
   ]
  },
  {
   "cell_type": "markdown",
   "id": "3e5bff59",
   "metadata": {},
   "source": [
    "**문제요약**\n",
    "\n",
    "회전판에 먹어야할 N개의 음식이 있다. **각 음식에는 1부터 N까지 번호**가 붙어있으며, 무지는 다음과 같은 방법으로 음식을 섭취한다.\n",
    "\n",
    "    1. 무지는 1번 음식부터 먹기 시작하며, 회전판은 번호가 증가하는 순서대로 음식을 무지 앞으로 가져다 놓습니다.\n",
    "    2. 마지막 번호의 음식을 섭취한 후에는 회전판에 의해 다시 1번 음식이 무지 앞으로 옵니다.\n",
    "    3. 무지는 음식 하나를 1초 동안 섭취한 후 남으 음식은 그대로 두고, 다음 음식을 섭취한다.\n",
    "       다음 음식이란, 아직 남은 음식 중 다음으로 섭취해야 할 가장 가까운 번호의 음식을 말한다.\n",
    "    4. 회전판이 다음 음식을 무지 앞으로 가져오는 데 걸리는 시간은 없다고 가정한다."
   ]
  },
  {
   "cell_type": "markdown",
   "id": "42d37a9f",
   "metadata": {},
   "source": [
    "먹방을 시작한 지 K초 후에 방송이 잠시 중단 됐다. 다음 방송을 이어갈 때, **몇 번 음식부터 섭취해야 하는지를 알고자 한다.**\n",
    "**각 음식을 모두 먹는 데 필요한 시간이 담겨 있는 배열 food_times**, **네트워크 장애가 발생한 시간 K초가 매개변수**로 주어질 때 몇 번 음식부터 다시 섭취하면 되는지 return 하도록 solution 함수 완성하시오."
   ]
  },
  {
   "cell_type": "markdown",
   "id": "a7a28984",
   "metadata": {},
   "source": [
    "**제한 사항**\n",
    "* food_times는 각 음식을 모두 먹는 데 필요한 시간이 음식의 번호 순서대로 들어 있는 배열이다.\n",
    "* k는 방송이 중단된 시간을 나타낸다.\n",
    "* 만약 더 섭취해야 할 음식이 없다면 -1을 반환한다."
   ]
  },
  {
   "cell_type": "markdown",
   "id": "e553ad51",
   "metadata": {},
   "source": [
    "**정확성 테스트 제한 사항**\n",
    "* 1 ≤ food_times의 길이 ≤ 2,000\n",
    "* 1 ≤ food_times의 원소(자연수) ≤ 1,000  \n",
    "* 1 ≤ k ≤ 2,000,000"
   ]
  },
  {
   "cell_type": "markdown",
   "id": "495cf345",
   "metadata": {},
   "source": [
    "**효율성 테스트 제한 사항(점수 가산점 있음)**\n",
    "* 1 ≤ food_times의 길이 ≤ 200,000 \n",
    "* 1 ≤ food_times의 원소(자연수) ≤ 100,000,000 \n",
    "* 1 ≤ k(자연수) ≤ 2 x 10^13 "
   ]
  },
  {
   "cell_type": "markdown",
   "id": "9e01e9f4",
   "metadata": {},
   "source": [
    "**입출력 예시**\n",
    "| food_times  |  k  |  result |\n",
    "|---|---|---|\n",
    "|  `[3, 1, 2]`  |  5  |    1    |\n"
   ]
  },
  {
   "cell_type": "markdown",
   "id": "94105fa2",
   "metadata": {},
   "source": [
    "**입출력 예시에 대한 설명**\n",
    "* 0 ~ 1 초 동안에 1번 음식을 섭취한다. 남은 시간은 `[2, 1, 2]` 이다.\n",
    "* 1 ~ 2 초 동안에 2번 음식을 섭취한다. 남은 시간은 `[2, 0, 2]` 이다.\n",
    "* 2 ~ 3 초 동안에 3번 음식을 섭취한다. 남은 시간은 `[2, 0, 1]` 이다.\n",
    "* 3 ~ 4 초 동안에 1번 음식을 섭취한다. 남은 시간은 `[1, 0, 1]` 이다.\n",
    "* 4 ~ 5 초 동안 (2번 음식은 다 먹었으므로) 3번 음식을 먹는다. 남은 시간은 `[1, 0, 0]`이다.\n",
    "* **5초(k)에서 네트워크 장애가 발생**했다. 1번 음식을 먹어야 할 때 중단되었으므로, **1번(result) 음식부터** 다시 먹기 시작하면 된다. \n"
   ]
  },
  {
   "cell_type": "markdown",
   "id": "ae09a3e6",
   "metadata": {},
   "source": [
    "### **작성 코드 요약**\n",
    "\n",
    "    1. food_times, k 입력\n",
    "    2. 효율성 적용 못하면 함수 종료\n",
    "    3. 음식의 개수, 현재 음식의 인덱스 번호 정의\n",
    "    4. k초가 1초 이상 남았을 경우 반복문 \n",
    "    5. k초가 1초 이상 남았는데 음식 다 먹은 경우는 -1 반환\n",
    "    6. 음식이 남았을 경우는 인덱스에 해당하는 값 -1씩 누적\n",
    "    7. 다음으로 이동하는 인덱스 정의\n",
    "    8. 인덱스에 해당하는 음식 번호 정의 "
   ]
  },
  {
   "cell_type": "code",
   "execution_count": null,
   "id": "5cede986",
   "metadata": {},
   "outputs": [],
   "source": [
    "# 기본 제공 코드\n",
    "#def solution(food_times, k):\n",
    "#    answer = 0\n",
    "#    return answer"
   ]
  },
  {
   "cell_type": "markdown",
   "id": "d5c9042b",
   "metadata": {},
   "source": [
    "### **제출 코드**"
   ]
  },
  {
   "cell_type": "code",
   "execution_count": 3,
   "id": "c62f03a7",
   "metadata": {},
   "outputs": [
    {
     "name": "stdout",
     "output_type": "stream",
     "text": [
      "3 1 2\n",
      "5\n",
      "다음에 먹어야 할 음식의 번호: 1\n"
     ]
    }
   ],
   "source": [
    "food_times = list(map(int, input().split()))    #  각 음식을 모두 먹는 데 필요한 시간이 담겨 있는 배열\n",
    "k = int(input())                                #  네트워크 장애가 발생한 시간 K초\n",
    "\n",
    "def solution(food_times, k):\n",
    "    if not (1 <= len(food_times) <= 200000 or 1 <= k <= 2 * 10**13):\n",
    "        print(\"입력 조건을 만족하지 않습니다.\")\n",
    "        return\n",
    "\n",
    "    N = len(food_times)  # 음식의 개수\n",
    "    idx = 0              # 현재 음식의 인덱스\n",
    "\n",
    "    while k > 0:        \n",
    "        if sum(food_times) == 0:             # 모든 음식을 먹었을 경우   \n",
    "            return -1                       # -1 반환\n",
    "        \n",
    "        if food_times[idx] != 0:           # 현재 음식이 남아있을 때\n",
    "            food_times[idx] -= 1           # 음식을 하나 먹음\n",
    "            k -= 1                         # 남은 시간을 1초 감소\n",
    "            \n",
    "        idx = (idx + 1) % N                # 다음 음식으로 인덱스를 순환\n",
    "\n",
    "    answer = (idx + 1) % N  # 모든 음식을 먹지 않은 경우, 다음에 먹어야 할 음식의 번호\n",
    "\n",
    "    \n",
    "    return  answer\n",
    "\n",
    "answer = solution(food_times, k)\n",
    "print(\"다음에 먹어야 할 음식의 번호:\", answer)"
   ]
  },
  {
   "cell_type": "markdown",
   "id": "a4c44b42",
   "metadata": {},
   "source": [
    "### **코드가 어떻게 돌아가는지 음식 리스트 정리한 결과**"
   ]
  },
  {
   "cell_type": "code",
   "execution_count": 4,
   "id": "fd9f66b3",
   "metadata": {},
   "outputs": [
    {
     "name": "stdout",
     "output_type": "stream",
     "text": [
      "3 1 2\n",
      "5\n",
      "시간이 지남에 따라 음식의 시간이 담긴 결과: [[2, 1, 2], [2, 0, 2], [2, 0, 1], [1, 0, 1], [1, 0, 0]]\n",
      "다음에 먹어야 할 음식의 번호: 1\n"
     ]
    }
   ],
   "source": [
    "food_times = list(map(int, input().split()))        #  각 음식을 모두 먹는 데 필요한 시간이 담겨 있는 배열\n",
    "k = int(input())                                    #  네트워크 장애가 발생한 시간 K초\n",
    "\n",
    "def solution(food_times, k):\n",
    "    if not (1 <= len(food_times) <= 200000 or 1 <= k <= 2 * 10**13):\n",
    "        print(\"입력 조건을 만족하지 않습니다.\")\n",
    "        return\n",
    "\n",
    "    N = len(food_times)  # 음식의 개수\n",
    "    idx = 0              # 현재 음식의 인덱스\n",
    "    result = []          # 결과를 저장할 리스트\n",
    "\n",
    "    while k > 0:        \n",
    "        if sum(food_times) == 0:             # 모든 음식을 먹었을 경우   \n",
    "            return -1                       # -1 반환\n",
    "        \n",
    "        if food_times[idx] != 0:           # 현재 음식이 남아있을 때\n",
    "            food_times[idx] -= 1           # 음식을 하나 먹음\n",
    "            k -= 1                         # 남은 시간을 1초 감소\n",
    "            result.append(list(food_times))  # 현재 음식 상태를 결과 리스트에 추가\n",
    "\n",
    "        idx = (idx + 1) % N                # 다음 음식으로 인덱스를 순환\n",
    "\n",
    "    answer = (idx + 1) % N  # 모든 음식을 먹지 않은 경우, 다음에 먹어야 할 음식의 번호\n",
    "\n",
    "    \n",
    "    return result, answer\n",
    "\n",
    "result, answer = solution(food_times, k)\n",
    "print(\"시간이 지남에 따라 음식의 시간이 담긴 결과:\", result)\n",
    "print(\"다음에 먹어야 할 음식의 번호:\", answer)\n"
   ]
  },
  {
   "cell_type": "markdown",
   "id": "467ff180",
   "metadata": {},
   "source": [
    "### **결과 : 실행결과는 통과 됐으나 효율성 테스트 무참히 실패**\n",
    "\n",
    "ㅠ_ㅠ"
   ]
  },
  {
   "attachments": {
    "%ED%9A%A8%EC%9C%A8%EC%84%B1x.png": {
     "image/png": "[encoded data removed]"
    }
   },
   "cell_type": "markdown",
   "id": "d6fe962d",
   "metadata": {},
   "source": [
    "![%ED%9A%A8%EC%9C%A8%EC%84%B1x.png](attachment:%ED%9A%A8%EC%9C%A8%EC%84%B1x.png)"
   ]
  }
 ],
 "metadata": {
  "kernelspec": {
   "display_name": "study",
   "language": "python",
   "name": "study"
  },
  "language_info": {
   "codemirror_mode": {
    "name": "ipython",
    "version": 3
   },
   "file_extension": ".py",
   "mimetype": "text/x-python",
   "name": "python",
   "nbconvert_exporter": "python",
   "pygments_lexer": "ipython3",
   "version": "3.10.13"
  }
 },
 "nbformat": 4,
 "nbformat_minor": 5
}
