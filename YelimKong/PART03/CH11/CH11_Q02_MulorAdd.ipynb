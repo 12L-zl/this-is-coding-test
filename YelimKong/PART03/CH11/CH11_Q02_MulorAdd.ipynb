{
 "cells": [
  {
   "cell_type": "markdown",
   "id": "64861dca",
   "metadata": {},
   "source": [
    "### Q2. 곱하기 혹은 더하기"
   ]
  },
  {
   "cell_type": "markdown",
   "id": "3abb175a",
   "metadata": {},
   "source": [
    "각 자리가 숫자(0부터 9)로만 이루어진 문자열 S가 주어졌을 때, **왼쪽부터 오른쪽으로 하나씩 모든 숫자를 확인하며 숫자 사이에 'x' 혹은 '+' 연산자를 넣어 결과적으로 만들어질 수 있는 가장 큰 수를 구하는** 프로그램 작성하시오.\n",
    "<br>모든 연산은 왼쪽에서부터 순서대로 이루어진다</br>\n",
    "예를 들어 02984라는 문자열이 주어지면, 만들어질 수 있는 가장 큰 수는 ((((0+2) X 9 ) X 8) X 4) = 576이다. "
   ]
  },
  {
   "cell_type": "markdown",
   "id": "c23cd7f6",
   "metadata": {},
   "source": [
    "**입력 조건**\n",
    "* 첫째 줄에 여러 개의 숫자로 구성된 하나의 문자열 S가 주어진다. (1 ≤ S의 길이 ≤ 20)"
   ]
  },
  {
   "cell_type": "markdown",
   "id": "e19ee1f9",
   "metadata": {},
   "source": [
    "**출력 조건**\n",
    "* 첫째 줄에 만들어질 수 있는 가장 큰 수를 출력 "
   ]
  },
  {
   "cell_type": "markdown",
   "id": "57cfb19d",
   "metadata": {},
   "source": [
    "### print(result[-1]) 했을 경우"
   ]
  },
  {
   "cell_type": "code",
   "execution_count": 7,
   "id": "4b8ef600",
   "metadata": {
    "scrolled": true
   },
   "outputs": [
    {
     "name": "stdout",
     "output_type": "stream",
     "text": [
      "02984\n",
      "576\n"
     ]
    }
   ],
   "source": [
    "# 숫자 입력\n",
    "S = input()\n",
    "\n",
    "# 결과 저장용 빈 리스트\n",
    "result = []\n",
    "\n",
    "def mul_sum(S):\n",
    "    # S의 각 자리 숫자를 정수로 변환하여 result에 추가\n",
    "    for i in range(len(S)):\n",
    "        result.append(int(S[i]))\n",
    "    \n",
    "    # 마지막 원소의 i + 1은 없기 때문에 -1 해줌 \n",
    "    for i in range(len(result) - 1):\n",
    "        \n",
    "        # result[i] or result[i+1]이 1과 같거나 작으면 두 수를 더한 값을 누적\n",
    "        if result[i] <= 1 or result[i + 1] <= 1:\n",
    "            result[i + 1] += result[i]\n",
    "        # 그 외에는 곱하기 누적 연산 \n",
    "        else:\n",
    "            result[i + 1] *= result[i]\n",
    "    \n",
    "    # result[-1] 을 출력하는 이유는 아래 셀 결과값 확인\n",
    "    print(result[-1])\n",
    "\n",
    "\n",
    "mul_sum(S)"
   ]
  },
  {
   "cell_type": "markdown",
   "id": "f8227e63",
   "metadata": {},
   "source": [
    "### **print(result) 했을 경우**"
   ]
  },
  {
   "cell_type": "code",
   "execution_count": 5,
   "id": "8fa31b6a",
   "metadata": {},
   "outputs": [
    {
     "name": "stdout",
     "output_type": "stream",
     "text": [
      "02984\n",
      "[0, 2, 18, 144, 576]\n"
     ]
    }
   ],
   "source": [
    "# 숫자 입력\n",
    "S = input()\n",
    "\n",
    "# 결과 저장용 빈 리스트\n",
    "result = []\n",
    "\n",
    "def mul_sum(S):\n",
    "    # S의 각 자리 숫자를 정수로 변환하여 result에 추가\n",
    "    for i in range(len(S)):\n",
    "        result.append(int(S[i]))\n",
    "    \n",
    "    # 마지막 원소의 i + 1은 없기 때문에 -1 해줌 \n",
    "    for i in range(len(result) - 1):\n",
    "        \n",
    "        # result[i] or result[i+1]이 1과 같거나 작으면 두 수를 더한 값을 누적\n",
    "        if result[i] <= 1 or result[i + 1] <= 1:\n",
    "            result[i + 1] += result[i]\n",
    "        # 그 외에는 곱하기 누적 연산 \n",
    "        else:\n",
    "            result[i + 1] *= result[i]\n",
    "    \n",
    "    print(result)\n",
    "\n",
    "mul_sum(S)\n"
   ]
  },
  {
   "cell_type": "code",
   "execution_count": 9,
   "id": "65517b53",
   "metadata": {},
   "outputs": [
    {
     "name": "stdout",
     "output_type": "stream",
     "text": [
      "567\n",
      "210\n"
     ]
    }
   ],
   "source": [
    "# 숫자 입력\n",
    "S = input()\n",
    "\n",
    "# 결과 저장용 빈 리스트\n",
    "result = []\n",
    "\n",
    "def mul_sum(S):\n",
    "    # S의 각 자리 숫자를 정수로 변환하여 result에 추가\n",
    "    for i in range(len(S)):\n",
    "        result.append(int(S[i]))\n",
    "    \n",
    "    # 마지막 원소의 i + 1은 없기 때문에 -1 해줌 \n",
    "    for i in range(len(result) - 1):\n",
    "        \n",
    "        # result[i] or result[i+1]이 1과 같거나 작으면 두 수를 더한 값을 누적\n",
    "        if result[i] <= 1 or result[i + 1] <= 1:\n",
    "            result[i + 1] += result[i]\n",
    "        # 그 외에는 곱하기 누적 연산 \n",
    "        else:\n",
    "            result[i + 1] *= result[i]\n",
    "\n",
    "    print(result[-1])\n",
    "\n",
    "\n",
    "mul_sum(S)"
   ]
  }
 ],
 "metadata": {
  "kernelspec": {
   "display_name": "study",
   "language": "python",
   "name": "study"
  },
  "language_info": {
   "codemirror_mode": {
    "name": "ipython",
    "version": 3
   },
   "file_extension": ".py",
   "mimetype": "text/x-python",
   "name": "python",
   "nbconvert_exporter": "python",
   "pygments_lexer": "ipython3",
   "version": "3.10.13"
  }
 },
 "nbformat": 4,
 "nbformat_minor": 5
}
