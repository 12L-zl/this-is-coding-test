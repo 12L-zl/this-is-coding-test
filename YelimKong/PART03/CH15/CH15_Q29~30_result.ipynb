{
 "cells": [
  {
   "cell_type": "markdown",
   "id": "fdb59645",
   "metadata": {},
   "source": [
    "### **(29) 공유기 설치**"
   ]
  },
  {
   "cell_type": "code",
   "execution_count": 1,
   "id": "0036e0ec",
   "metadata": {},
   "outputs": [
    {
     "name": "stdout",
     "output_type": "stream",
     "text": [
      "5 3\n",
      "1\n",
      "2\n",
      "8\n",
      "4\n",
      "9\n",
      "3\n"
     ]
    }
   ],
   "source": [
    "# 집의 개수(n)와 공유기의 개수(c)를 입력받기\n",
    "n, c = list(map(int, input().split(' ')))\n",
    "\n",
    "# 전체 집의 좌표 정보를 입력받기\n",
    "array = []\n",
    "for _ in range(n) :\n",
    "    array.append(int(input()))\n",
    "array.sort() # 이진 탐색 수행을 위해 정렬 수행\n",
    "\n",
    "start = 1 # 가능한 최소 거리(min gap)\n",
    "end = array[-1] - array[0] # 가능한 최대 거리 (max gap)\n",
    "result = 0 \n",
    "\n",
    "while (start <= end) :\n",
    "    mid = (start + end) // 2 # mid는 가장 인접한 두 공유기 사이의 거리(gap)를 의미\n",
    "    value = array[0]\n",
    "    count = 1\n",
    "    # 현재의 mid 값을 이용해 공유기를 설치 \n",
    "    for i in range(1, n) :# 앞에서부터 차근차근 설치 \n",
    "        if array[i] >= value + mid :\n",
    "            value = array[i]\n",
    "            count += 1\n",
    "            \n",
    "    if count >= c : # c개 이상의 공유기를 설치할 수 있는 경우, 거리를 증가\n",
    "        start = mid + 1\n",
    "        result = mid # 최적의 결과를 저장\n",
    "        \n",
    "    else : # c개 이상의 공유기를 설치할 수 없는 경우, 거리를 감소\n",
    "        end = mid - 1\n",
    "        \n",
    "print(result)"
   ]
  },
  {
   "cell_type": "markdown",
   "id": "c15f9a05",
   "metadata": {},
   "source": [
    "### **(30) 가사 검색**"
   ]
  },
  {
   "cell_type": "markdown",
   "id": "4d882c40",
   "metadata": {},
   "source": [
    "https://school.programmers.co.kr/learn/courses/30/lessons/60060"
   ]
  },
  {
   "cell_type": "code",
   "execution_count": 3,
   "id": "1939720f",
   "metadata": {},
   "outputs": [
    {
     "name": "stdout",
     "output_type": "stream",
     "text": [
      "[3, 2, 4, 1, 0]\n"
     ]
    }
   ],
   "source": [
    "# 이 코드는 프로그래머스 사이트에서 테스트해야 정상 동작한다. \n",
    "\n",
    "from bisect import bisect_left, bisect_right\n",
    "\n",
    "# 값이 [left_value, right_value]인 데이터의 개수를 반환하는 함수 \n",
    "def count_by_range(a, left_value, right_value):\n",
    "    right_index = bisect_right(a, right_value) \n",
    "    left_index = bisect_left(a, left_value)\n",
    "    \n",
    "    return right_index - left_index\n",
    "\n",
    "# 모든 단어를 길이마다 나누어서 저장하기 위한 리스트 \n",
    "array = [[] for _ in range(10001)]\n",
    "\n",
    "# 모든 단어를 길이마다 나누어서 뒤집어 저장하기 위한 리스트 \n",
    "reversed_array = [[] for _ in range(10001)]\n",
    "\n",
    "def solution(words, queries) :\n",
    "    answer = []\n",
    "    for word in words : # 모든 단어를 접미사 와일드카드 배열, 접두사 와일드카드 배열에 각각 삽입\n",
    "        array[len(word)].append(word) # 단어를 삽입\n",
    "        reversed_array[len(word)].append(word[::-1]) # 단어를 뒤집어서 삽입\n",
    "        \n",
    "    for i in range(10001) : # 이진 탐색을 수행하기 위해 각 단어 리스트 정렬 수행 \n",
    "        array[i].sort()\n",
    "        reversed_array[i].sort()\n",
    "        \n",
    "    for q in queries : # 쿼리를 하나씩 확인하여 처리 \n",
    "        if q[0] != '?' : # 접미사에 와일드카드가 붙은 경우\n",
    "            res = count_by_range(array[len(q)], q.replace('?', 'a'),q.replace('?', 'z'))\n",
    "        else : \n",
    "            res = count_by_range(reversed_array[len(q)], q[::-1].replace('?', 'a'), q[::-1].replace('?', 'z'))\n",
    "        \n",
    "        #검색된 단어의 개수를 저장\n",
    "        answer.append(res)\n",
    "        \n",
    "    return answer\n",
    "            \n",
    "words = [\"frodo\", \"front\", \"frost\", \"frozen\", \"frame\", \"kakao\"]\n",
    "queries = [\"fro??\", \"????o\", \"fr???\", \"fro???\", \"pro?\"]\n",
    "\n",
    "print(solution(words, queries))"
   ]
  }
 ],
 "metadata": {
  "kernelspec": {
   "display_name": "study",
   "language": "python",
   "name": "study"
  },
  "language_info": {
   "codemirror_mode": {
    "name": "ipython",
    "version": 3
   },
   "file_extension": ".py",
   "mimetype": "text/x-python",
   "name": "python",
   "nbconvert_exporter": "python",
   "pygments_lexer": "ipython3",
   "version": "3.10.13"
  }
 },
 "nbformat": 4,
 "nbformat_minor": 5
}
