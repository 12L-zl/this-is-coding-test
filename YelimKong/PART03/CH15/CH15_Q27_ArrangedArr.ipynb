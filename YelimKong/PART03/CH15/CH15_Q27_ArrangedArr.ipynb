{
 "cells": [
  {
   "cell_type": "markdown",
   "id": "0a11ee6e",
   "metadata": {},
   "source": [
    "### **(27)정렬된 배열에서 특정 수의 개수 구하기** "
   ]
  },
  {
   "cell_type": "markdown",
   "id": "8149627a",
   "metadata": {},
   "source": [
    "N개의 원소를 포함하고 있는 수열이 오름차순으로 정렬되어 있다. 이때 이 수열에서 x가 등장하는 횟수 계산하기. 예를 들어 수열 {1, 1, 2, 2, 2, 2, 3}이 있을 때 x = 2라면, 현재 수열에서 값이 2인 원소가 4개이므로 4 출력<br>\n",
    "단, 이 문제는 시간 복잡도 O(logN)으로 알고리즘 설계하지 않으면 '시간 초과' 판정 "
   ]
  },
  {
   "cell_type": "markdown",
   "id": "9c094618",
   "metadata": {},
   "source": [
    "**입력 조건**"
   ]
  },
  {
   "cell_type": "markdown",
   "id": "c100f5b4",
   "metadata": {},
   "source": [
    "* 첫째 줄에 N과 x가 정수형태로 공백으로 구분되어 입력\n",
    "* 둘째 줄에 N개의 원소가 정수 형태로 공백 구분되어 입력"
   ]
  },
  {
   "cell_type": "markdown",
   "id": "73f88d52",
   "metadata": {},
   "source": [
    "**출력 조건**"
   ]
  },
  {
   "cell_type": "markdown",
   "id": "e453d877",
   "metadata": {},
   "source": [
    "* 수열의 원소 중에서 값이 x인 원소의 개수 출력\n",
    "* 단, 값이 x인 원소가 하나도 없다면 -1 출력"
   ]
  },
  {
   "cell_type": "markdown",
   "id": "1caeb529",
   "metadata": {},
   "source": [
    "**입력 예시 1**"
   ]
  },
  {
   "cell_type": "markdown",
   "id": "2867c486",
   "metadata": {},
   "source": [
    "7 2 <br>\n",
    "1 1 2 2 2 2 3"
   ]
  },
  {
   "cell_type": "markdown",
   "id": "8480e537",
   "metadata": {},
   "source": [
    "**출력 예시 1**"
   ]
  },
  {
   "cell_type": "markdown",
   "id": "dc6a8099",
   "metadata": {},
   "source": [
    "4"
   ]
  },
  {
   "cell_type": "markdown",
   "id": "79053372",
   "metadata": {},
   "source": [
    "**입력 예시 2**"
   ]
  },
  {
   "cell_type": "markdown",
   "id": "b903267f",
   "metadata": {},
   "source": [
    "7 4 <br>\n",
    "1 1 2 2 2 2 3"
   ]
  },
  {
   "cell_type": "markdown",
   "id": "db7ff216",
   "metadata": {},
   "source": [
    "**출력 예시 2**"
   ]
  },
  {
   "cell_type": "markdown",
   "id": "71b10c34",
   "metadata": {},
   "source": [
    "-1"
   ]
  },
  {
   "cell_type": "markdown",
   "id": "021f2a8c",
   "metadata": {},
   "source": [
    "**코드**"
   ]
  },
  {
   "cell_type": "code",
   "execution_count": 21,
   "id": "3ae0a3b6",
   "metadata": {
    "scrolled": true
   },
   "outputs": [
    {
     "name": "stdout",
     "output_type": "stream",
     "text": [
      "7 2 \n",
      "1 1 2 2 2 2 3\n"
     ]
    },
    {
     "data": {
      "text/plain": [
       "4"
      ]
     },
     "execution_count": 21,
     "metadata": {},
     "output_type": "execute_result"
    }
   ],
   "source": [
    "N, x = map(int, input().split())    # N : 원소 개수, x = 찾을 값\n",
    "S = list(map(int, input().split())) # S : 원소 나열\n",
    "\n",
    "S.sort() # 혹시 모르니 오름차순 정렬\n",
    "\n",
    "def target_search(array, target):\n",
    "    cnt = 0          \n",
    "    for num in array:      # array에 있는 원소들을 for 문으로 하나씩 확인\n",
    "        if num == target:  # array의 원소와 target이 일치하다면\n",
    "            cnt += 1       # cnt 1 추가\n",
    "    return cnt if cnt > 0 else -1 # cnt에 하나도 없다면 -1 출력\n",
    "\n",
    "target_search(S, x)"
   ]
  },
  {
   "cell_type": "code",
   "execution_count": 20,
   "id": "48912aca",
   "metadata": {
    "scrolled": false
   },
   "outputs": [
    {
     "name": "stdout",
     "output_type": "stream",
     "text": [
      "7 4\n",
      "1 1 2 2 2 2 3\n"
     ]
    },
    {
     "data": {
      "text/plain": [
       "-1"
      ]
     },
     "execution_count": 20,
     "metadata": {},
     "output_type": "execute_result"
    }
   ],
   "source": [
    "N, x = map(int, input().split())\n",
    "S = list(map(int, input().split()))\n",
    "\n",
    "S.sort() # 혹시 모르니 오름차순 정렬\n",
    "\n",
    "target_search(S, x)"
   ]
  }
 ],
 "metadata": {
  "kernelspec": {
   "display_name": "study",
   "language": "python",
   "name": "study"
  },
  "language_info": {
   "codemirror_mode": {
    "name": "ipython",
    "version": 3
   },
   "file_extension": ".py",
   "mimetype": "text/x-python",
   "name": "python",
   "nbconvert_exporter": "python",
   "pygments_lexer": "ipython3",
   "version": "3.10.13"
  }
 },
 "nbformat": 4,
 "nbformat_minor": 5
}
