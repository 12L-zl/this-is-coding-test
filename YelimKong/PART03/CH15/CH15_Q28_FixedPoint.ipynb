{
 "cells": [
  {
   "cell_type": "markdown",
   "id": "9837d179",
   "metadata": {},
   "source": [
    "### **(28) 고정점 찾기**"
   ]
  },
  {
   "cell_type": "markdown",
   "id": "1d60bdd8",
   "metadata": {},
   "source": [
    "**문제**"
   ]
  },
  {
   "cell_type": "markdown",
   "id": "4b06bf96",
   "metadata": {},
   "source": [
    "고정점이란 수열의 원소 중에서 그 값이 인덱스와 동일한 원소 의미<br>\n",
    "예를 들어 수열 a= [-15, -4, 2, 8, 13} 이 있을 때 a[2] = 2이므로 고정점은 2가 된다<br>\n",
    "하나의 수열이 N개의 서로 다른 원소를 포함하고 있으며, 모든 원소가 오름차순으로 정렬되어 있다. 이때 이 수열에서 고정점이 있다면, 고정점을 출력하는 프로그램 작성하시오. 고정점은 최대 1개만 존재, 없다면 -1 출력 <br>\n",
    "이 문제는 시간 복잡도 O(logN)으로 알고리즘 설계 하지 않으면 '시간초과' 판정 받음"
   ]
  },
  {
   "cell_type": "markdown",
   "id": "3b36e09d",
   "metadata": {},
   "source": [
    "**입력 조건**"
   ]
  },
  {
   "cell_type": "markdown",
   "id": "d5480806",
   "metadata": {},
   "source": [
    "* 첫째 줄에 N이 입력\n",
    "* 둘째 줄에 N개의 원소가 정수 형태로 공백으로 구분되어 입력"
   ]
  },
  {
   "cell_type": "markdown",
   "id": "26048944",
   "metadata": {},
   "source": [
    "**출력 조건**"
   ]
  },
  {
   "cell_type": "markdown",
   "id": "cfff9f9b",
   "metadata": {},
   "source": [
    "* 고정점 출력, 없다면 -1 출력"
   ]
  },
  {
   "cell_type": "markdown",
   "id": "2a3554e5",
   "metadata": {},
   "source": [
    "**입력 예시**"
   ]
  },
  {
   "cell_type": "markdown",
   "id": "3e9b203a",
   "metadata": {},
   "source": [
    "5 <br>\n",
    "-15 -6 1 3 7 "
   ]
  },
  {
   "cell_type": "markdown",
   "id": "6c6810f1",
   "metadata": {},
   "source": [
    "**출력 예시**"
   ]
  },
  {
   "cell_type": "markdown",
   "id": "803ec4f9",
   "metadata": {},
   "source": [
    "3"
   ]
  },
  {
   "cell_type": "markdown",
   "id": "b2573ed0",
   "metadata": {},
   "source": [
    "**코드**"
   ]
  },
  {
   "cell_type": "code",
   "execution_count": 5,
   "id": "a15d46ef",
   "metadata": {},
   "outputs": [
    {
     "name": "stdout",
     "output_type": "stream",
     "text": [
      "-15 6 1 3 7\n",
      "[(0, -15), (1, 6), (2, 1), (3, 3), (4, 7)]\n"
     ]
    }
   ],
   "source": [
    "F = list(map(int, input().split()))  # 원소 나열 \n",
    "\n",
    "print(list(enumerate(F))) # 튜플 형태로 인덱스와 값을 동시에 접근하게 해주는 내장함수"
   ]
  },
  {
   "cell_type": "code",
   "execution_count": 2,
   "id": "29b9d0d3",
   "metadata": {},
   "outputs": [
    {
     "name": "stdout",
     "output_type": "stream",
     "text": [
      "5\n",
      "-15 -6 1 3 7\n",
      "3\n"
     ]
    }
   ],
   "source": [
    "N = int(input())                     # 원소의 개수\n",
    "F = list(map(int, input().split()))  # 원소 나열 \n",
    "\n",
    "F.sort()\n",
    "\n",
    "def FixedPoint(array):\n",
    "    for idx, num in enumerate(array):  # 인덱스와 값을 for문으로 돌림\n",
    "        if idx == num:                 # 인덱스와 값이 같다면\n",
    "            return num                 # 값 반환\n",
    "    return -1                          # 아니라면 -1 반환\n",
    "\n",
    "result = FixedPoint(F)\n",
    "print(result)\n"
   ]
  },
  {
   "cell_type": "code",
   "execution_count": 3,
   "id": "86e0fbdb",
   "metadata": {},
   "outputs": [
    {
     "name": "stdout",
     "output_type": "stream",
     "text": [
      "7\n",
      "-15 -4 2 8 9 13 15\n",
      "2\n"
     ]
    }
   ],
   "source": [
    "N = int(input())                     # 원소의 개수\n",
    "F = list(map(int, input().split()))  # 원소 나열 \n",
    "\n",
    "F.sort()\n",
    "\n",
    "result = FixedPoint(F)\n",
    "print(result)"
   ]
  },
  {
   "cell_type": "code",
   "execution_count": 6,
   "id": "ced47a35",
   "metadata": {},
   "outputs": [
    {
     "name": "stdout",
     "output_type": "stream",
     "text": [
      "7\n",
      "-15 -4 3 8 9 13 15\n",
      "-1\n"
     ]
    }
   ],
   "source": [
    "N = int(input())                     # 원소의 개수\n",
    "F = list(map(int, input().split()))  # 원소 나열 \n",
    "\n",
    "F.sort()\n",
    "\n",
    "result = FixedPoint(F)\n",
    "print(result)"
   ]
  }
 ],
 "metadata": {
  "kernelspec": {
   "display_name": "study",
   "language": "python",
   "name": "study"
  },
  "language_info": {
   "codemirror_mode": {
    "name": "ipython",
    "version": 3
   },
   "file_extension": ".py",
   "mimetype": "text/x-python",
   "name": "python",
   "nbconvert_exporter": "python",
   "pygments_lexer": "ipython3",
   "version": "3.10.13"
  }
 },
 "nbformat": 4,
 "nbformat_minor": 5
}
