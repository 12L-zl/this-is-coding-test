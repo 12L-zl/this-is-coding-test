{
 "cells": [
  {
   "cell_type": "markdown",
   "id": "8cdbdcbc",
   "metadata": {},
   "source": [
    "### **(29) 공유기 설치**"
   ]
  },
  {
   "cell_type": "markdown",
   "id": "0614c0da",
   "metadata": {},
   "source": [
    "**문제 링크**"
   ]
  },
  {
   "cell_type": "markdown",
   "id": "b7a5b677",
   "metadata": {},
   "source": [
    "https://www.acmicpc.net/problem/2110"
   ]
  },
  {
   "cell_type": "markdown",
   "id": "b19ff95e",
   "metadata": {},
   "source": [
    "**문제**"
   ]
  },
  {
   "cell_type": "markdown",
   "id": "b9d6c2fb",
   "metadata": {},
   "source": [
    "도현이의 집 N개가 수직선 위에 있다. 각각의 집의 좌표는 x1, ..., xN이고, 집 여러개가 같은 좌표를 가지는 일은 없다.<br>\n",
    "\n",
    "도현이는 언제 어디서나 와이파이를 즐기기 위해서 집에 공유기 C개를 설치하려고 한다. 최대한 많은 곳에서 와이파이를 사용하려고 하기 때문에, 한 집에는 공유기를 하나만 설치할 수 있고, 가장 인접한 두 공유기 사이의 거리를 가능한 크게 하여 설치하려고 한다. <br>\n",
    "\n",
    "C개의 공유기를 N개의 집에 적당히 설치해서, 가장 인접한 두 공유기 사이의 거리를 최대로 하는 프로그램을 작성하시오."
   ]
  },
  {
   "cell_type": "markdown",
   "id": "dc2175a7",
   "metadata": {},
   "source": [
    "**입력 조건**"
   ]
  },
  {
   "cell_type": "markdown",
   "id": "157a113a",
   "metadata": {},
   "source": [
    "* 첫째 줄에 집의 개수 N (2 ≤ N ≤ 200,000)과 공유기의 개수 C (2 ≤ C ≤ N)이 하나 이상의 빈 칸을 사이에 두고 주어진다.\n",
    "* 둘째 줄부터 N개의 줄에는 집의 좌표를 나타내는 xi (0 ≤ xi ≤ 1,000,000,000)가 한 줄에 하나씩 주어진다."
   ]
  },
  {
   "cell_type": "markdown",
   "id": "82e2c520",
   "metadata": {},
   "source": [
    "**출력 조건**"
   ]
  },
  {
   "cell_type": "markdown",
   "id": "5de5c5eb",
   "metadata": {},
   "source": [
    "* 첫째 줄에 가장 인접한 두 공유기 사이의 최대 거리를 출력한다."
   ]
  },
  {
   "cell_type": "markdown",
   "id": "2999d45a",
   "metadata": {},
   "source": [
    "**입력 예제**"
   ]
  },
  {
   "cell_type": "markdown",
   "id": "fd33044d",
   "metadata": {},
   "source": [
    "5 3  <br> \n",
    "1 <br>\n",
    "2 <br>\n",
    "8 <br>\n",
    "4 <br>\n",
    "9"
   ]
  },
  {
   "cell_type": "markdown",
   "id": "bf4065bb",
   "metadata": {},
   "source": [
    "**출력 예시**"
   ]
  },
  {
   "cell_type": "markdown",
   "id": "70e8c959",
   "metadata": {},
   "source": [
    "3"
   ]
  },
  {
   "cell_type": "markdown",
   "id": "0b41ecea",
   "metadata": {},
   "source": [
    "**힌트**"
   ]
  },
  {
   "cell_type": "markdown",
   "id": "757cf8f8",
   "metadata": {},
   "source": [
    "* 공유기를 1, 4, 8 또는 1, 4, 9에 설치하면 가장 인접한 두 공유기 사이의 거리는 3이고, 이 거리보다 크게 공유기를 3개 설치할 수 없다."
   ]
  },
  {
   "cell_type": "markdown",
   "id": "1147088a",
   "metadata": {},
   "source": [
    "### **내 코드**"
   ]
  },
  {
   "cell_type": "code",
   "execution_count": 9,
   "id": "433f8741",
   "metadata": {},
   "outputs": [
    {
     "name": "stdout",
     "output_type": "stream",
     "text": [
      "5 3\n",
      "1\n",
      "2\n",
      "8\n",
      "4\n",
      "9\n",
      "3\n"
     ]
    }
   ],
   "source": [
    "N, C = map(int, input().split())  # N : 집 개수, C : 공유기 개수\n",
    " \n",
    "def router(N, C):\n",
    "    home = []\n",
    "    for _ in range(N): \n",
    "        r = int(input())  # 집 좌표 \n",
    "        home.append(r)\n",
    "    \n",
    "    home.sort()\n",
    "    start = 1                 # 최소 거리\n",
    "    end = home[-1] - home[0]  # 최대 거리\n",
    "\n",
    "    result = 0                        # 최대 거리 초기화\n",
    "    while start <= end:\n",
    "        mid = (start + end) // 2      # 중간 거리\n",
    "        cnt = 1                       # 설치된 공유기 개수 (첫 번째 집은 무조건 설치)\n",
    "        pre_home = home[0]            # 이전 집의 좌표\n",
    "        for i in range(1, N):    \n",
    "            # 현재 집과 이전 집 사이의 거리가 mid보다 크거나 같으면 공유기 설치\n",
    "            if home[i] - pre_home >= mid:\n",
    "                cnt += 1               # 공유기 설치\n",
    "                pre_home = home[i]     # 이전 집을 현재 집\n",
    "        \n",
    "        if cnt >= C:                   # 설치된 공유기 개수 ≥ 목표치 : 간격 늘리기\n",
    "            start = mid + 1\n",
    "            result = mid               # 최대 거리 갱신\n",
    "        else:                          # 설치된 공유기 개수 ＜ 목표치  : 간격 줄이기\n",
    "            end = mid - 1\n",
    "\n",
    "    return result\n",
    "\n",
    "\n",
    "print(router(N, C))\n"
   ]
  },
  {
   "cell_type": "markdown",
   "id": "5e42f68f",
   "metadata": {},
   "source": [
    "### **💣시간초과**"
   ]
  },
  {
   "attachments": {
    "q29.png": {
     "image/png": "[encoded data removed]"
    }
   },
   "cell_type": "markdown",
   "id": "7fd6c630",
   "metadata": {},
   "source": [
    "![q29.png](attachment:q29.png)"
   ]
  },
  {
   "cell_type": "markdown",
   "id": "ed8c0bc3",
   "metadata": {},
   "source": [
    "### **정답**"
   ]
  },
  {
   "cell_type": "code",
   "execution_count": 13,
   "id": "3cf981ce",
   "metadata": {},
   "outputs": [
    {
     "name": "stdout",
     "output_type": "stream",
     "text": [
      "5 3\n",
      "1\n",
      "2\n",
      "8\n",
      "4\n",
      "9\n",
      "3\n"
     ]
    }
   ],
   "source": [
    "# 집의 개수 (N)와 공유기의 개수(C) 입력\n",
    "N, C = list(map(int, input().split(' ')))\n",
    "\n",
    "# 전체 집의 좌표 정보 \n",
    "array = []\n",
    "for _ in range(N) :\n",
    "    array.append(int(input()))\n",
    "\n",
    "array.sort()  # 이진 탐색 수행 위해 정렬 \n",
    "\n",
    "start = 1 # 가능한 최소 거리 (min gap)\n",
    "end = array[-1] - array[0] # 가능한 최대 거리 (max gap)\n",
    "result = 0\n",
    "\n",
    "while (start <= end) :\n",
    "    mid = (start + end) //2 # mid는 가장 인접한 두 공유기 사이 거리(gap) 의미\n",
    "    value = array[0]\n",
    "    count = 1\n",
    "    # 현재 mid 값 이용해 공유기 설치\n",
    "    for i in range(1, N) :\n",
    "        if array[i]  >= value + mid :\n",
    "            value = array[i]\n",
    "            count += 1\n",
    "    if count >= C : # C개 이상의 공유기를 설치할 수 있는 경우, 거리 증가\n",
    "        start = mid + 1\n",
    "        result = mid # 최적 결과 저장\n",
    "    else : # C개 이상의 공유기를 설치할 수 없는 경우, 거리를 감소\n",
    "        end = mid -1\n",
    "            \n",
    "print(result)        "
   ]
  }
 ],
 "metadata": {
  "kernelspec": {
   "display_name": "study",
   "language": "python",
   "name": "study"
  },
  "language_info": {
   "codemirror_mode": {
    "name": "ipython",
    "version": 3
   },
   "file_extension": ".py",
   "mimetype": "text/x-python",
   "name": "python",
   "nbconvert_exporter": "python",
   "pygments_lexer": "ipython3",
   "version": "3.10.13"
  }
 },
 "nbformat": 4,
 "nbformat_minor": 5
}
