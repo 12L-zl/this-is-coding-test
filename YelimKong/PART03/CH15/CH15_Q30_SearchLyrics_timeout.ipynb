{
 "cells": [
  {
   "cell_type": "markdown",
   "id": "e7338230",
   "metadata": {},
   "source": [
    "### **(30) 가사 검색**"
   ]
  },
  {
   "cell_type": "markdown",
   "id": "e1d2a66b",
   "metadata": {},
   "source": [
    "**문제 링크**"
   ]
  },
  {
   "cell_type": "markdown",
   "id": "b617e705",
   "metadata": {},
   "source": [
    "https://school.programmers.co.kr/learn/courses/30/lessons/60060"
   ]
  },
  {
   "cell_type": "markdown",
   "id": "0934b3cf",
   "metadata": {},
   "source": [
    "**문제**"
   ]
  },
  {
   "cell_type": "markdown",
   "id": "09b6ae0d",
   "metadata": {},
   "source": [
    "친구들로부터 천재 프로그래머로 불리는 \"프로도\"는 음악을 하는 친구로부터 자신이 좋아하는 노래 가사에 사용된 단어들 중에 특정 키워드가 몇 개 포함되어 있는지 궁금하니 프로그램으로 개발해 달라는 제안을 받았습니다.\n",
    "그 제안 사항 중, 키워드는 와일드카드 문자중 하나인 '?'가 포함된 패턴 형태의 문자열을 뜻합니다. 와일드카드 문자인 '?'는 글자 하나를 의미하며, 어떤 문자에도 매치된다고 가정합니다. 예를 들어 \"fro??\"는 \"frodo\", \"front\", \"frost\" 등에 매치되지만 \"frame\", \"frozen\"에는 매치되지 않습니다.\n",
    "\n",
    "가사에 사용된 모든 단어들이 담긴 배열 words와 찾고자 하는 키워드가 담긴 배열 queries가 주어질 때, 각 키워드 별로 매치된 단어가 몇 개인지 순서대로 배열에 담아 반환하도록 solution 함수를 완성해 주세요"
   ]
  },
  {
   "cell_type": "markdown",
   "id": "72118c19",
   "metadata": {},
   "source": [
    "**가사 단어 제한사항**"
   ]
  },
  {
   "cell_type": "markdown",
   "id": "b937a3cd",
   "metadata": {},
   "source": [
    "* queries의 길이(검색 키워드 개수)는 2 이상 100,000 이하입니다.\n",
    "* 각 검색 키워드의 길이는 1 이상 10,000 이하로 빈 문자열인 경우는 없습니다.\n",
    "* 전체 검색 키워드 길이의 합은 2 이상 1,000,000 이하입니다.\n",
    "* 검색 키워드는 중복될 수도 있습니다.\n",
    "* 각 검색 키워드는 오직 알파벳 소문자와 와일드카드 문자인 '?' 로만 구성되어 있으며, 특수문자나 숫자는 포함하지 않는 것으로 가정합니다.\n",
    "* 검색 키워드는 와일드카드 문자인 '?'가 하나 이상 포함돼 있으며, '?'는 각 검색 키워드의 접두사 아니면 접미사 중 하나로만 주어집니다.\n",
    "    * 예를 들어 \"??odo\", \"fro??\", \"?????\"는 가능한 키워드입니다.\n",
    "    * 반면에 \"frodo\"('?'가 없음), \"fr?do\"('?'가 중간에 있음), \"?ro??\"('?'가 양쪽에 있음)는 불가능한 키워드입니다."
   ]
  },
  {
   "cell_type": "markdown",
   "id": "72e93c3a",
   "metadata": {},
   "source": [
    "**입출력 예**"
   ]
  },
  {
   "cell_type": "markdown",
   "id": "63bf8fc5",
   "metadata": {},
   "source": [
    "| words                                                   | queries                                       | result          |\n",
    "|---------------------------------------------------------|-----------------------------------------------|-----------------|\n",
    "| [\"frodo\", \"front\", \"frost\", \"frozen\", \"frame\", \"kakao\"] | [\"fro??\", \"????o\", \"fr???\", \"fro???\", \"pro?\"] | [3, 2, 4, 1, 0] |"
   ]
  },
  {
   "cell_type": "markdown",
   "id": "135211ec",
   "metadata": {},
   "source": [
    "**입출력 예에 대한 설명**"
   ]
  },
  {
   "cell_type": "markdown",
   "id": "657e398e",
   "metadata": {},
   "source": [
    "* \"fro??\"는 \"frodo\", \"front\", \"frost\"에 매치되므로 3입니다.\n",
    "* \"????o\"는 \"frodo\", \"kakao\"에 매치되므로 2입니다.\n",
    "* \"fr???\"는 \"frodo\", \"front\", \"frost\", \"frame\"에 매치되므로 4입니다.\n",
    "* \"fro???\"는 \"frozen\"에 매치되므로 1입니다.\n",
    "* \"pro?\"는 매치되는 가사 단어가 없으므로 0 입니다."
   ]
  },
  {
   "cell_type": "markdown",
   "id": "56f267c0",
   "metadata": {},
   "source": [
    "**코드**"
   ]
  },
  {
   "cell_type": "code",
   "execution_count": 15,
   "id": "cffbf769",
   "metadata": {},
   "outputs": [
    {
     "name": "stdout",
     "output_type": "stream",
     "text": [
      "frodo fro??\n",
      "front ????o\n",
      "frost fr???\n",
      "frozen fro???\n",
      "frame pro?\n"
     ]
    }
   ],
   "source": [
    "words = [\"frodo\", \"front\", \"frost\", \"frozen\", \"frame\", \"kakao\"]\n",
    "queries = [\"fro??\", \"????o\", \"fr???\", \"fro???\", \"pro?\"]\n",
    "\n",
    "for w, q in zip(words, queries) :\n",
    "    print(w, q)"
   ]
  },
  {
   "cell_type": "code",
   "execution_count": 17,
   "id": "7493282f",
   "metadata": {},
   "outputs": [
    {
     "name": "stdout",
     "output_type": "stream",
     "text": [
      "fro?? frodo\n",
      "fro?? front\n",
      "fro?? frost\n",
      "fro?? frozen\n",
      "fro?? frame\n",
      "fro?? kakao\n",
      "????o frodo\n",
      "????o front\n",
      "????o frost\n",
      "????o frozen\n",
      "????o frame\n",
      "????o kakao\n",
      "fr??? frodo\n",
      "fr??? front\n",
      "fr??? frost\n",
      "fr??? frozen\n",
      "fr??? frame\n",
      "fr??? kakao\n",
      "fro??? frodo\n",
      "fro??? front\n",
      "fro??? frost\n",
      "fro??? frozen\n",
      "fro??? frame\n",
      "fro??? kakao\n",
      "pro? frodo\n",
      "pro? front\n",
      "pro? frost\n",
      "pro? frozen\n",
      "pro? frame\n",
      "pro? kakao\n",
      "[3, 2, 4, 1, 0]\n"
     ]
    }
   ],
   "source": [
    "words = [\"frodo\", \"front\", \"frost\", \"frozen\", \"frame\", \"kakao\"]\n",
    "queries = [\"fro??\", \"????o\", \"fr???\", \"fro???\", \"pro?\"]\n",
    "\n",
    "\n",
    "def match(word, query):\n",
    "    if len(word) != len(query):   # words의 길이와 queries의 길이가 일치해야 함\n",
    "        return False\n",
    "\n",
    "    for w, q in zip(word, query):\n",
    "        if q != '?' and w != q:  # query의 문자가 ?이 아니고 단어의 문자와 다르다면\n",
    "            return False         # False 반환 \n",
    "        \n",
    "    return True\n",
    "\n",
    "def solution(words, queries):\n",
    "    answer = []              # 일치하는 단어의 개수를 담기위한 빈 리스트\n",
    "    \n",
    "    for q in queries: \n",
    "        cnt = 0              # 쿼리마다 일치하는 단어의 개수 초기화 \n",
    "        for w in words:\n",
    "            print(q, w)\n",
    "            if match(w, q):  # match 함수 적용\n",
    "                cnt += 1     # 일치하면 cnt에 1씩 증가\n",
    "                #print(cnt)\n",
    "        answer.append(cnt)   # 일치하는 단어 개수 answer 리스트에 추가\n",
    "    \n",
    "    return answer\n",
    "\n",
    "\n",
    "print(solution(words, queries))\n"
   ]
  },
  {
   "cell_type": "code",
   "execution_count": 18,
   "id": "fd439da4",
   "metadata": {},
   "outputs": [
    {
     "name": "stdout",
     "output_type": "stream",
     "text": [
      "1\n",
      "2\n",
      "3\n",
      "1\n",
      "2\n",
      "1\n",
      "2\n",
      "3\n",
      "4\n",
      "1\n",
      "[3, 2, 4, 1, 0]\n"
     ]
    }
   ],
   "source": [
    "words = [\"frodo\", \"front\", \"frost\", \"frozen\", \"frame\", \"kakao\"]\n",
    "queries = [\"fro??\", \"????o\", \"fr???\", \"fro???\", \"pro?\"]\n",
    "\n",
    "\n",
    "def match(word, query):\n",
    "    if len(word) != len(query):   # words의 길이와 queries의 길이가 일치해야 함\n",
    "        return False\n",
    "\n",
    "    for w, q in zip(word, query):\n",
    "        if q != '?' and w != q:  # query의 문자가 ?이 아니고 단어의 문자와 다르다면\n",
    "            return False\n",
    "        \n",
    "    return True\n",
    "\n",
    "def solution(words, queries):\n",
    "    answer = []              # 일치하는 단어의 개수를 담기위한 빈 리스트\n",
    "    \n",
    "    for q in queries: \n",
    "        cnt = 0              # 쿼리마다 일치하는 단어의 개수 초기화 \n",
    "        for w in words:\n",
    "            # print(q, w)\n",
    "            if match(w, q):  # match 함수 적용\n",
    "                cnt += 1     # 일치하면 cnt에 1씩 증가\n",
    "                print(cnt)\n",
    "        answer.append(cnt)   # 일치하는 단어 개수 answer 리스트에 추가\n",
    "    \n",
    "    return answer\n",
    "\n",
    "\n",
    "print(solution(words, queries))\n"
   ]
  },
  {
   "cell_type": "code",
   "execution_count": null,
   "id": "3d490329",
   "metadata": {},
   "outputs": [],
   "source": [
    "words = [\"frodo\", \"front\", \"frost\", \"frozen\", \"frame\", \"kakao\"]\n",
    "queries = [\"fro??\", \"????o\", \"fr???\", \"fro???\", \"pro?\"]\n",
    "\n",
    "\n",
    "def match(word, query):\n",
    "    if len(word) != len(query):   # words의 길이와 queries의 길이가 일치해야 함\n",
    "        return False\n",
    "\n",
    "    for w, q in zip(word, query):\n",
    "        if q != '?' and w != q:  # query의 문자가 ?이 아니고 단어의 문자와 다르다면\n",
    "            return False\n",
    "        \n",
    "    return True\n",
    "\n",
    "def solution(words, queries):\n",
    "    answer = []              # 일치하는 단어의 개수를 담기위한 빈 리스트\n",
    "    \n",
    "    for q in queries: \n",
    "        cnt = 0              # 쿼리마다 일치하는 단어의 개수 초기화 \n",
    "        for w in words:\n",
    "            # print(q, w)\n",
    "            if match(w, q):  # match 함수 적용\n",
    "                cnt += 1     # 일치하면 cnt에 1씩 증가\n",
    "        answer.append(cnt)   # 일치하는 단어 개수 answer 리스트에 추가\n",
    "    \n",
    "    return answer\n",
    "\n",
    "\n",
    "print(solution(words, queries))"
   ]
  },
  {
   "cell_type": "markdown",
   "id": "59495300",
   "metadata": {},
   "source": [
    "### **💣 시간초과**"
   ]
  },
  {
   "attachments": {
    "q30.png": {
     "image/png": "[encoded data removed]"
    }
   },
   "cell_type": "markdown",
   "id": "f6f3490d",
   "metadata": {},
   "source": [
    "![q30.png](attachment:q30.png)"
   ]
  }
 ],
 "metadata": {
  "kernelspec": {
   "display_name": "study",
   "language": "python",
   "name": "study"
  },
  "language_info": {
   "codemirror_mode": {
    "name": "ipython",
    "version": 3
   },
   "file_extension": ".py",
   "mimetype": "text/x-python",
   "name": "python",
   "nbconvert_exporter": "python",
   "pygments_lexer": "ipython3",
   "version": "3.10.13"
  }
 },
 "nbformat": 4,
 "nbformat_minor": 5
}
