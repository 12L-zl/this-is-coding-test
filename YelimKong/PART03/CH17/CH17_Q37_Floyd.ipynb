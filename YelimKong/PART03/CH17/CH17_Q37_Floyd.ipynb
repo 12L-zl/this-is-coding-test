{
 "cells": [
  {
   "cell_type": "markdown",
   "id": "23b33000",
   "metadata": {},
   "source": [
    "### **출처**"
   ]
  },
  {
   "cell_type": "markdown",
   "id": "1082c1cb",
   "metadata": {},
   "source": [
    "https://www.acmicpc.net/problem/11404"
   ]
  },
  {
   "cell_type": "markdown",
   "id": "d5ed6ae5",
   "metadata": {},
   "source": [
    "### **문제**"
   ]
  },
  {
   "cell_type": "markdown",
   "id": "1e071839",
   "metadata": {},
   "source": [
    "n(2 ≤ n ≤ 100)개의 도시가 있다. 그리고 한 도시에서 출발하여 다른 도시에 도착하는 m(1 ≤ m ≤ 100,000)개의 버스가 있다. 각 버스는 한 번 사용할 때 필요한 비용이 있다.\n",
    "\n",
    "모든 도시의 쌍 (A, B)에 대해서 도시 A에서 B로 가는데 필요한 비용의 최솟값을 구하는 프로그램을 작성하시오."
   ]
  },
  {
   "cell_type": "markdown",
   "id": "94f2df0d",
   "metadata": {},
   "source": [
    "### **입력**"
   ]
  },
  {
   "cell_type": "markdown",
   "id": "c8eccce3",
   "metadata": {},
   "source": [
    "첫째 줄에 도시의 개수 n이 주어지고 둘째 줄에는 버스의 개수 m이 주어진다. 그리고 셋째 줄부터 m+2줄까지 다음과 같은 버스의 정보가 주어진다. 먼저 처음에는 그 버스의 출발 도시의 번호가 주어진다. 버스의 정보는 버스의 시작 도시 a, 도착 도시 b, 한 번 타는데 필요한 비용 c로 이루어져 있다. 시작 도시와 도착 도시가 같은 경우는 없다. 비용은 100,000보다 작거나 같은 자연수이다.\n",
    "\n",
    "시작 도시와 도착 도시를 연결하는 노선은 하나가 아닐 수 있다."
   ]
  },
  {
   "cell_type": "markdown",
   "id": "fc4d522c",
   "metadata": {},
   "source": [
    "### **출력**"
   ]
  },
  {
   "cell_type": "markdown",
   "id": "12c03be0",
   "metadata": {},
   "source": [
    "n개의 줄을 출력해야 한다. **i번째 줄에 출력하는 j번째 숫자는 도시 i에서 j로 가는데 필요한 최소 비용**이다. 만약, i에서 j로 갈 수 없는 경우에는 그 자리에 0을 출력한다."
   ]
  },
  {
   "cell_type": "markdown",
   "id": "5afb6296",
   "metadata": {},
   "source": [
    "### **예제 입력**"
   ]
  },
  {
   "cell_type": "markdown",
   "id": "42c4a039",
   "metadata": {},
   "source": [
    "5  \n",
    "14  \n",
    "1 2 2  \n",
    "1 3 3  \n",
    "1 4 1  \n",
    "1 5 10  \n",
    "2 4 2  \n",
    "3 4 1  \n",
    "3 5 1  \n",
    "4 5 3  \n",
    "3 5 10  \n",
    "3 1 8  \n",
    "1 4 2  \n",
    "5 1 7  \n",
    "3 4 2  \n",
    "5 2 4  "
   ]
  },
  {
   "cell_type": "markdown",
   "id": "6057f605",
   "metadata": {},
   "source": [
    "  ### **예제 출력**"
   ]
  },
  {
   "cell_type": "markdown",
   "id": "a4474378",
   "metadata": {},
   "source": [
    "0 2 3 1 4  \n",
    "12 0 15 2 5  \n",
    "8 5 0 1 1  \n",
    "10 7 13 0 3  \n",
    "7 4 10 6 0  "
   ]
  },
  {
   "cell_type": "markdown",
   "id": "37001a5d",
   "metadata": {},
   "source": [
    "### **코드**"
   ]
  },
  {
   "cell_type": "markdown",
   "id": "ce1f52ca",
   "metadata": {},
   "source": [
    "**p.257 플로이드 워셜 알고리즘 소스코드 사용**"
   ]
  },
  {
   "cell_type": "code",
   "execution_count": 12,
   "id": "644a6f92",
   "metadata": {},
   "outputs": [
    {
     "name": "stdout",
     "output_type": "stream",
     "text": [
      "5\n",
      "14 \n",
      "1 2 2 \n",
      "1 3 3 \n",
      "1 4 1\n",
      "1 5 10\n",
      "2 4 2\n",
      "3 4 1\n",
      "3 5 1\n",
      "4 5 3\n",
      "3 5 10\n",
      "3 1 8\n",
      "1 4 2\n",
      "5 1 7\n",
      "3 4 2\n",
      "5 2 4\n",
      "0 2 3 1 4 \n",
      "12 0 15 2 5 \n",
      "8 5 0 1 1 \n",
      "10 7 13 0 3 \n",
      "7 4 10 6 0 \n"
     ]
    }
   ],
   "source": [
    "INF = int(1e9) # 무한을 의미하는 값 , 10억 설정\n",
    "\n",
    "n = int(input()) # 도시 개수\n",
    "m = int(input()) # 버스 개수 \n",
    "\n",
    "cost = [[INF] * (n +1) for _ in range(n + 1)] # \n",
    "\n",
    "# 자기 자신에서 자기 자신으로 가는 비용은 0으로 초기화 \n",
    "for a in range(1, n +1):\n",
    "    for b in range(1, n +1) :\n",
    "        if a == b:\n",
    "            cost [a][b] = 0 \n",
    "            \n",
    "# 각 간선에 대한 정보를 입력 받아, 그 값으로 초기화 \n",
    "for _ in range(m) :\n",
    "    # a : 버스의 시작 도시, b : 버스의 도착 도시, c : 비용 \n",
    "    a, b, c = map(int, input().split())\n",
    "    # A에서 B로 가는 비용은 C, 가장 적은 비용 저장\n",
    "    if c < cost[a][b] :\n",
    "        cost[a][b] = c\n",
    "    \n",
    "# 점화식에 따라 플로이드 워셜 알고리즘을 수행 \n",
    "for k in range(1, n + 1) :\n",
    "    for i in range(1, n + 1) :\n",
    "        for j in range(1, n + 1):\n",
    "            cost[i][j] = min(cost[i][j], cost[i][k] + cost[k][j])\n",
    "            \n",
    "# 수행된 결과를 출력 \n",
    "for i in range(1, n + 1) :\n",
    "    for j in range(1, n + 1) :\n",
    "        #도달할 수 없는 경우, 무한이라고 출력 \n",
    "        if cost[i][j] == INF :\n",
    "            print(0, end = \" \")\n",
    "        # 도달할 수 있는 경우 거리를 출력 \n",
    "        else : \n",
    "            print(cost[i][j], end = \" \")\n",
    "    print()"
   ]
  },
  {
   "cell_type": "markdown",
   "id": "9b1c9449",
   "metadata": {},
   "source": [
    "## "
   ]
  }
 ],
 "metadata": {
  "kernelspec": {
   "display_name": "study",
   "language": "python",
   "name": "study"
  },
  "language_info": {
   "codemirror_mode": {
    "name": "ipython",
    "version": 3
   },
   "file_extension": ".py",
   "mimetype": "text/x-python",
   "name": "python",
   "nbconvert_exporter": "python",
   "pygments_lexer": "ipython3",
   "version": "3.10.13"
  }
 },
 "nbformat": 4,
 "nbformat_minor": 5
}
