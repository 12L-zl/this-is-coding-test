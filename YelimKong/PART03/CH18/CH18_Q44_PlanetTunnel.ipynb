{
 "cells": [
  {
   "cell_type": "markdown",
   "id": "11ec9dc9",
   "metadata": {},
   "source": [
    "## **Q.44 행성 터널**"
   ]
  },
  {
   "cell_type": "markdown",
   "id": "824c8353",
   "metadata": {},
   "source": [
    "**출처 : https://www.acmicpc.net/problem/2887**"
   ]
  },
  {
   "cell_type": "markdown",
   "id": "e58f14cc",
   "metadata": {},
   "source": [
    "### **문제**"
   ]
  },
  {
   "cell_type": "markdown",
   "id": "a8095838",
   "metadata": {},
   "source": [
    "때는 2040년, 이민혁은 우주에 자신만의 왕국을 만들었다. 왕국은 N개의 행성으로 이루어져 있다. 민혁이는 이 행성을 효율적으로 지배하기 위해서 행성을 연결하는 터널을 만들려고 한다.\n",
    "\n",
    "행성은 3차원 좌표위의 한 점으로 생각하면 된다. 두 행성 A(xA, yA, zA)와 B(xB, yB, zB)를 터널로 연결할 때 드는 비용은 min(|xA-xB|, |yA-yB|, |zA-zB|)이다.\n",
    "\n",
    "민혁이는 터널을 총 N-1개 건설해서 모든 행성이 서로 연결되게 하려고 한다. 이때, 모든 행성을 터널로 연결하는데 필요한 최소 비용을 구하는 프로그램을 작성하시오."
   ]
  },
  {
   "cell_type": "markdown",
   "id": "0e5af480",
   "metadata": {},
   "source": [
    "### **입력**"
   ]
  },
  {
   "cell_type": "markdown",
   "id": "cfc844b0",
   "metadata": {},
   "source": [
    "첫째 줄에 행성의 개수 N이 주어진다. (1 ≤ N ≤ 100,000) 다음 N개 줄에는 각 행성의 x, y, z좌표가 주어진다. 좌표는 -109보다 크거나 같고, 109보다 작거나 같은 정수이다. 한 위치에 행성이 두 개 이상 있는 경우는 없다. "
   ]
  },
  {
   "cell_type": "markdown",
   "id": "d29bf1c9",
   "metadata": {},
   "source": [
    "### **출력**"
   ]
  },
  {
   "cell_type": "markdown",
   "id": "a18c7fda",
   "metadata": {},
   "source": [
    "첫째 줄에 모든 행성을 터널로 연결하는데 필요한 최소 비용을 출력한다."
   ]
  },
  {
   "cell_type": "markdown",
   "id": "869c726c",
   "metadata": {},
   "source": [
    "### **예제 입력**"
   ]
  },
  {
   "cell_type": "markdown",
   "id": "99f278e3",
   "metadata": {},
   "source": [
    "5  \n",
    "11 -15 -15  \n",
    "14 -5 -15  \n",
    "-1 -1 -5  \n",
    "10 -4 -1  \n",
    "19 -4 19  "
   ]
  },
  {
   "cell_type": "markdown",
   "id": "5966056a",
   "metadata": {},
   "source": [
    "### **예제 출력**"
   ]
  },
  {
   "cell_type": "markdown",
   "id": "fc540f06",
   "metadata": {},
   "source": [
    "4"
   ]
  },
  {
   "cell_type": "code",
   "execution_count": 8,
   "id": "ed0a3a73",
   "metadata": {},
   "outputs": [
    {
     "name": "stdout",
     "output_type": "stream",
     "text": [
      "5\n",
      "11 -15 -15\n",
      "14 -5 -15\n",
      "-1 -1 -5\n",
      "10 -4 -1\n",
      "19 -4 19\n",
      "4\n"
     ]
    }
   ],
   "source": [
    "# 서로소 집합\n",
    "# 특정 원소가 속한 집합을 찾기\n",
    "def find_parent(parent, x):\n",
    "    # 루트 노드를 찾을 때까지 재귀 호출\n",
    "    if parent[x] != x:\n",
    "        parent[x] = find_parent(parent, parent[x])\n",
    "    return parent[x]\n",
    "\n",
    "# 두 원소가 속한 집합을 합치기\n",
    "def union_parent(parent, i, j):\n",
    "    i = find_parent(parent, i)\n",
    "    j = find_parent(parent, j)\n",
    "    if i < j:\n",
    "        parent[j] = i\n",
    "    else:\n",
    "        parent[i] = j\n",
    "\n",
    "# 행성의 개수 \n",
    "e = int(input())\n",
    "\n",
    "# 각 행성의 좌표\n",
    "graph = []\n",
    "for _ in range(e):\n",
    "    a, b, c = map(int, input().split())\n",
    "    graph.append([a, b, c])               # [(11, -15, -15), (14, -5, -15), (-1, -1, -5), (10, -4, -1), (19, -4, 19)]\n",
    "\n",
    "# 모든 가능한 간선 및 비용 계산\n",
    "edges = []\n",
    "for m in range(e):                       # e = 4 -> 0 ~ 4\n",
    "    for n in range(m + 1, e):            #       -> 1 ~ 4\n",
    "        # min(|xA-xB|, |yA-yB|, |zA-zB|)\n",
    "        cost = min(abs(graph[m][0] - graph[n][0]), \n",
    "                   abs(graph[m][1] - graph[n][1]), \n",
    "                   abs(graph[m][2] - graph[n][2]))\n",
    "        edges.append((cost, m, n))\n",
    "\n",
    "# 간선을 비용에 따라 정렬\n",
    "edges.sort()\n",
    "# print(edges) # [(0, 0, 1), (0, 3, 4), (1, 0, 3), (1, 1, 3), (1, 1, 4), (3, 2, 3), (3, 2, 4), (4, 1, 2), (8, 0, 4), (10, 0, 2)]\n",
    "\n",
    "# 부모노드 자기 자신으로 초기화 \n",
    "parent = [i for i in range(e)]    # [0, 1, 2, 3]\n",
    "min_cost = 0\n",
    "for cost, i, j in edges:\n",
    "    # 사이클이 발생하지 않는 경우에만 집합에 포함\n",
    "    if find_parent(parent, i) != find_parent(parent, j):\n",
    "        union_parent(parent, i, j)\n",
    "        min_cost += cost\n",
    "\n",
    "print(min_cost)"
   ]
  }
 ],
 "metadata": {
  "kernelspec": {
   "display_name": "study",
   "language": "python",
   "name": "study"
  },
  "language_info": {
   "codemirror_mode": {
    "name": "ipython",
    "version": 3
   },
   "file_extension": ".py",
   "mimetype": "text/x-python",
   "name": "python",
   "nbconvert_exporter": "python",
   "pygments_lexer": "ipython3",
   "version": "3.10.13"
  }
 },
 "nbformat": 4,
 "nbformat_minor": 5
}
