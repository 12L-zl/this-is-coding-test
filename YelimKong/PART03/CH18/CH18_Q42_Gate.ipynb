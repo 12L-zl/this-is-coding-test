{
 "cells": [
  {
   "cell_type": "markdown",
   "id": "144b5f57",
   "metadata": {},
   "source": [
    "## **Q42 탑승구**"
   ]
  },
  {
   "cell_type": "markdown",
   "id": "08a35b18",
   "metadata": {},
   "source": [
    "**문제**"
   ]
  },
  {
   "cell_type": "markdown",
   "id": "4ca68df9",
   "metadata": {},
   "source": [
    "공항에는 G개의 탑승구가 있으며, 각각의 탑승구는 1번부터 G번까지의 번호로 구분된다.  \n",
    "공항에는 P개의 비행기가 차례대로 도착할 예정이며, i번째 비행기를 1번부터 gi번째 (I ≤ gi ≤ G) 탑승구 중 하나에 영구적으로 도킹해야 합니다. 이때, 다른 비행기가 도킹하지 않은 탑승구에만 도킹할 수 있습니다.  \n",
    "또한 P개의 비행기를 순서대로 도킹하다가 만약에 어떠한 탑승구에도 도킹할 수 없는 비행기가 나오는 경우, 그 시점에서 공항의 운행을 중지합니다. 공항의 관리자는 최대한 많은 비행기를 공항에 도킹하고자 합니다, 비행기를 최대 몇 대 도킹할 수 있는지를 출력하는 프로그램을 작성하시오"
   ]
  },
  {
   "cell_type": "markdown",
   "id": "7cc223a2",
   "metadata": {},
   "source": [
    "**입력 조건**"
   ]
  },
  {
   "cell_type": "markdown",
   "id": "24f03d1d",
   "metadata": {},
   "source": [
    "* 첫째 줄에는 탑승구의 수 G(1 ≤ G ≤ 100,000) 가 주어집니다.\n",
    "* 둘째 줄에는 비행기의 수 P(1 ≤ P ≤ 100,000) 가 주어집니다. \n",
    "* 다음 P개의 줄에는 각 비행기가 도킹할 수 있는 탑승구의 정보 g(1 ≤ gi ≤ G)가 주어집니다. 이는 i번째 비행기가 1번부터 g번째 (1 ≤ gi ≤ G) 탑승구 중 하나에 도킹할 수 있다는 의미입니다.  "
   ]
  },
  {
   "cell_type": "markdown",
   "id": "360126ce",
   "metadata": {},
   "source": [
    "**출력 조건**"
   ]
  },
  {
   "cell_type": "markdown",
   "id": "707de620",
   "metadata": {},
   "source": [
    "* 첫째 줄에 도킹할 수 있는 비행기의 최대 개수를 출력합니다."
   ]
  },
  {
   "cell_type": "markdown",
   "id": "d69f5fa5",
   "metadata": {},
   "source": [
    "**입력 예시**"
   ]
  },
  {
   "cell_type": "markdown",
   "id": "9e10ad5f",
   "metadata": {},
   "source": [
    "4  \n",
    "3  \n",
    "4  \n",
    "1  \n",
    "1  "
   ]
  },
  {
   "cell_type": "markdown",
   "id": "a8fa9328",
   "metadata": {},
   "source": [
    "**출력 예시**"
   ]
  },
  {
   "cell_type": "markdown",
   "id": "0916c07c",
   "metadata": {},
   "source": [
    "2"
   ]
  },
  {
   "cell_type": "markdown",
   "id": "ca0f46f1",
   "metadata": {},
   "source": [
    "**CODE**"
   ]
  },
  {
   "cell_type": "code",
   "execution_count": 24,
   "id": "a9d4a70b",
   "metadata": {},
   "outputs": [
    {
     "name": "stdout",
     "output_type": "stream",
     "text": [
      "4\n",
      "3\n",
      "4\n",
      "1\n",
      "1\n",
      "2\n"
     ]
    }
   ],
   "source": [
    "# 서로소 집합\n",
    "# 특정 원소가 속한 집합을 찾기\n",
    "def find_parent(parent, x):\n",
    "    # 루트 노드를 찾을 때까지 재귀 호출\n",
    "    if parent[x] != x:\n",
    "        parent[x] = find_parent(parent, parent[x])\n",
    "    return parent[x]\n",
    "\n",
    "# 두 원소가 속한 집합을 합치기\n",
    "def union_parent(parent, a, b):\n",
    "    a = find_parent(parent, a)\n",
    "    b = find_parent(parent, b)\n",
    "    if a < b:\n",
    "        parent[b] = a\n",
    "    else:\n",
    "        parent[a] = b\n",
    "        \n",
    "# 탑승구의 수(G), 비행기의 수(P)       \n",
    "g = int(input())  \n",
    "p = int(input())\n",
    "\n",
    "parent = [0] * (g + 1)     # [0,0,0,0,0]\n",
    "\n",
    "for i in range(g + 1) :\n",
    "    parent[i] = i          # [0, 1, 2, 3, 4]\n",
    "    \n",
    "    \n",
    "i = []                     # 탑승구 저장할 빈리스트 \n",
    "result = 0                 # 결과값 초기화  \n",
    "for _ in range(p): \n",
    "    j = int(input())       # 탑승구 번호 입력  \n",
    "    i.append(j)             # i에 저장\n",
    "# print(i) [4, 1, 1]\n",
    "    # 리스트 i의 첫 번째 요소(첫 번째로 입력된 탑승구)를 확인\n",
    "    while i:\n",
    "        # 현재 리스트의 첫 번째 탑승구의 루트 노드를 찾기\n",
    "        # print(find_parent(parent, i[0])) # 4의 부모 노드는 4 \n",
    "        if find_parent(parent, i[0]) != 0:\n",
    "            # 해당 탑승구의 루트 노드가 0이 아니라면, 도킹 가능\n",
    "            # 첫 번째 탑승구와 그 이전 탑승구를 합쳐서 도킹 처리\n",
    "            union_parent(parent, find_parent(parent, i[0]), find_parent(parent, i[0]) - 1)\n",
    "            result += 1  # 결과값 증가\n",
    "            i.pop(0)     # 처리된 탑승구를 리스트에서 제거\n",
    "        else:\n",
    "            # 해당 탑승구의 루트 노드가 0이면 더 이상 도킹할 수 있는 탑승구가 없음\n",
    "            break  \n",
    "            \n",
    "            \n",
    "print(result)        \n",
    "\n",
    "    \n",
    "'''\n",
    "(4, 3) - o\n",
    "(1, 0) - o \n",
    "(1) - 부모 노드가 0이므로 break \n",
    "'''"
   ]
  }
 ],
 "metadata": {
  "kernelspec": {
   "display_name": "study",
   "language": "python",
   "name": "study"
  },
  "language_info": {
   "codemirror_mode": {
    "name": "ipython",
    "version": 3
   },
   "file_extension": ".py",
   "mimetype": "text/x-python",
   "name": "python",
   "nbconvert_exporter": "python",
   "pygments_lexer": "ipython3",
   "version": "3.10.13"
  }
 },
 "nbformat": 4,
 "nbformat_minor": 5
}
