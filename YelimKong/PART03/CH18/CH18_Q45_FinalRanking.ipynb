{
 "cells": [
  {
   "cell_type": "markdown",
   "id": "b4a15333",
   "metadata": {},
   "source": [
    "## **Q45. 최종순위**"
   ]
  },
  {
   "cell_type": "markdown",
   "id": "6a9d5955",
   "metadata": {},
   "source": [
    "**문제 출처 :https://www.acmicpc.net/problem/3665 https://www.acmicpc.net/problem/3665**"
   ]
  },
  {
   "cell_type": "markdown",
   "id": "47f5246c",
   "metadata": {},
   "source": [
    "### **문제**"
   ]
  },
  {
   "cell_type": "markdown",
   "id": "e1ef039c",
   "metadata": {},
   "source": [
    "올해 ACM-ICPC 대전 인터넷 예선에는 총 n개의 팀이 참가했다. 팀은 1번부터 n번까지 번호가 매겨져 있다. 놀랍게도 올해 참가하는 팀은 작년에 참가했던 팀과 동일하다.\n",
    "\n",
    "올해는 인터넷 예선 본부에서는 최종 순위를 발표하지 않기로 했다. 그 대신에 작년에 비해서 상대적인 순위가 바뀐 팀의 목록만 발표하려고 한다. (작년에는 순위를 발표했다) 예를 들어, 작년에 팀 13이 팀 6 보다 순위가 높았는데, 올해 팀 6이 팀 13보다 순위가 높다면, (6, 13)을 발표할 것이다.\n",
    "\n",
    "창영이는 이 정보만을 가지고 올해 최종 순위를 만들어보려고 한다. 작년 순위와 상대적인 순위가 바뀐 모든 팀의 목록이 주어졌을 때, 올해 순위를 만드는 프로그램을 작성하시오. 하지만, 본부에서 발표한 정보를 가지고 확실한 올해 순위를 만들 수 없는 경우가 있을 수도 있고, 일관성이 없는 잘못된 정보일 수도 있다. 이 두 경우도 모두 찾아내야 한다."
   ]
  },
  {
   "cell_type": "markdown",
   "id": "b79de733",
   "metadata": {},
   "source": [
    "### **입력**"
   ]
  },
  {
   "cell_type": "markdown",
   "id": "dc338bcb",
   "metadata": {},
   "source": [
    "첫째 줄에는 테스트 케이스의 개수가 주어진다. 테스트 케이스는 100개를 넘지 않는다. 각 테스트 케이스는 다음과 같이 이루어져 있다.\n",
    "\n",
    "* 팀의 수 n을 포함하고 있는 한 줄. (2 ≤ n ≤ 500)\n",
    "* n개의 정수 ti를 포함하고 있는 한 줄. (1 ≤ ti ≤ n) ti는 작년에 i등을 한 팀의 번호이다. 1등이 가장 성적이 높은 팀이다. 모든 ti는 서로 다르다.\n",
    "* 상대적인 등수가 바뀐 쌍의 수 m (0 ≤ m ≤ 25000)\n",
    "* 두 정수 ai와 bi를 포함하고 있는 m줄. (1 ≤ ai < bi ≤ n) 상대적인 등수가 바뀐 두 팀이 주어진다. 같은 쌍이 여러 번 발표되는 경우는 없다."
   ]
  },
  {
   "cell_type": "markdown",
   "id": "1cf81698",
   "metadata": {},
   "source": [
    "### **출력**"
   ]
  },
  {
   "cell_type": "markdown",
   "id": "42eb7dc0",
   "metadata": {},
   "source": [
    "각 테스트 케이스에 대해서 다음을 출력한다.\n",
    "\n",
    "* n개의 정수를 한 줄에 출력한다. 출력하는 숫자는 올해 순위이며, 1등팀부터 순서대로 출력한다. 만약, 확실한 순위를 찾을 수 없다면 \"?\"를 출력한다. 데이터에 일관성이 없어서 순위를 정할 수 없는 경우에는 \"IMPOSSIBLE\"을 출력한다."
   ]
  },
  {
   "cell_type": "markdown",
   "id": "13b50d8e",
   "metadata": {},
   "source": [
    "### **예제 입력**"
   ]
  },
  {
   "cell_type": "markdown",
   "id": "d573d182",
   "metadata": {},
   "source": [
    "3  \n",
    "5  \n",
    "5 4 3 2 1  \n",
    "2  \n",
    "2 4  \n",
    "3 4  \n",
    "3  \n",
    "2 3 1  \n",
    "0  \n",
    "4  \n",
    "1 2 3 4  \n",
    "3  \n",
    "1 2  \n",
    "3 4  \n",
    "2 3  "
   ]
  },
  {
   "cell_type": "markdown",
   "id": "81b0eaac",
   "metadata": {},
   "source": [
    "### **예제 출력**"
   ]
  },
  {
   "cell_type": "markdown",
   "id": "8750453f",
   "metadata": {},
   "source": [
    "5 3 2 4 1  \n",
    "2 3 1    \n",
    "IMPOSSIBLE  "
   ]
  },
  {
   "cell_type": "markdown",
   "id": "240cb1fd",
   "metadata": {},
   "source": [
    "**CODE**"
   ]
  },
  {
   "cell_type": "code",
   "execution_count": 2,
   "id": "de6e8e12",
   "metadata": {},
   "outputs": [],
   "source": [
    "from collections import deque\n",
    "\n",
    "\n",
    "# 테스트 케이스 개수 \n",
    "tc = int(input())\n",
    "\n",
    "for _ in range(tc) :\n",
    "    # 팀의 수 \n",
    "    n = int(input()) \n",
    "    \n",
    "    # 각 노드의 진입차수 초기화 \n",
    "    indegree = [0] * (n + 1)\n",
    "    \n",
    "    #각 노드에 연결된 간선 정보를 담기 위한 인접 행렬 초기화 \n",
    "    # [큰 순위의 팀 번호][작은 순위의 팀번호] = True\n",
    "    graph = [[False] * (n + 1) for i in range(n + 1)]\n",
    "    \n",
    "    # 작년 팀 등수 (인덱스 == 등수, 값 == 팀 번호)\n",
    "    t = list(map(int, input().split()))\n",
    "    \n",
    "    # 방향 그래프의 간선 정보 초기화 \n",
    "    for i in range(n) :\n",
    "        for j in range(i + 1, n) :\n",
    "            # [큰 순위의 팀 번호][작은 순위의 팀번호] = True\n",
    "            graph[t[i]]t[[j]] = True\n",
    "            # 진입 차수 추가 \n",
    "            indegree[t[j]] += 1\n",
    "            \n",
    "    # 올해 변셩된 순위 정보 입력 \n",
    "    m = int(input())\n",
    "    for _ in range(m) :\n",
    "        a, b = map(int, input().split())\n",
    "        \n",
    "        # a, b가 큰 순위의 팀번호, 작은 순위의 팀 번호라면 \n",
    "        if (graph[a][b]) :\n",
    "            graph[a][b] = False\n",
    "            graph[b][a] = True\n",
    "            indegree[b] -= 1\n",
    "            indegree[a] += 1\n",
    "            \n",
    "        # 반대라면 \n",
    "        else : \n",
    "            graph[b][a] = False\n",
    "            graph[a][b] = True\n",
    "            indegree[a] -= 1\n",
    "            indegree[b] += 1\n",
    "            \n",
    "            \n",
    "    # 위상 정렬 시작 \n",
    "    result = []\n",
    "    q = deque()\n",
    "    \n",
    "    for i in range(1, n + 1) :\n",
    "        if (indegree[i] == 0 ):\n",
    "            # 큐에 팀 번호 삽입 \n",
    "            q.append(i)\n",
    "            \n",
    "    cycle = False   # 데이터에 일관성이 없어서 순위를 정할 수 없는 경우 == 사이클이 발생하는 경우 == 노드가 N번 나오기 전에 큐가 비게 되는 경우 \n",
    "    certain = True  # 확실한 순위를 찾을 수 없는 경우 == 특정 시점에 2개 이상의 노드가 큐에 한꺼번에 들어가는 경우 \n",
    "    \n",
    "    # 정확히 노드가 개수만큼 반복\n",
    "    for i in range(n) :\n",
    "        # 큐가 비어 있다면 사이클이 발생했다는 의미\n",
    "        if len(q) == 0:\n",
    "            cycle = True\n",
    "            break\n",
    "            \n",
    "        # 큐의 원소가 2개 이상이라면 가능한 정렬 결과가 여러 개라는 의미 \n",
    "        if len(q) >= 2:\n",
    "            certain = False\n",
    "            break\n",
    "            \n",
    "        # 큐에서 원소 꺼내기\n",
    "        now = q.popleft()\n",
    "        # 결과 리스트에 추가 \n",
    "        result.append(now)\n",
    "        \n",
    "        # 해당 노드와 연결된 노드들의 진입 차수 빼기\n",
    "        for j in range(1, n +1) :\n",
    "            if(graph[now][j] == True) :\n",
    "                indegree[j] -= 1\n",
    "                # 새롭게 진입 차수가 0이 된 노드를 찾아 큐에 삽입\n",
    "                if (indegree[j] == 0) :\n",
    "                    q.append(j)\n",
    "                    \n",
    "        # 사이클이 발생하는 경우(일관성이 없는 경우)\n",
    "        if cycle == True :\n",
    "            print(\"IMPOSSIBLE\")\n",
    "        # 위상 정렬 결과가 여러 개인 경우 \n",
    "        elif certain == False : \n",
    "            print(\"?\")\n",
    "        else : \n",
    "            for i in result :\n",
    "                print(i, end=\" \")\n",
    "            print()\n",
    "\n"
   ]
  },
  {
   "cell_type": "markdown",
   "id": "9b9c6e6c",
   "metadata": {},
   "source": [
    "#### **출처 : https://wooono.tistory.com/586**"
   ]
  }
 ],
 "metadata": {
  "kernelspec": {
   "display_name": "study",
   "language": "python",
   "name": "study"
  },
  "language_info": {
   "codemirror_mode": {
    "name": "ipython",
    "version": 3
   },
   "file_extension": ".py",
   "mimetype": "text/x-python",
   "name": "python",
   "nbconvert_exporter": "python",
   "pygments_lexer": "ipython3",
   "version": "3.10.13"
  }
 },
 "nbformat": 4,
 "nbformat_minor": 5
}
