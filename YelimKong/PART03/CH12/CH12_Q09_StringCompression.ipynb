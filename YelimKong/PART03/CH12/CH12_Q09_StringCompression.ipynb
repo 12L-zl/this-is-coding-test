{
 "cells": [
  {
   "cell_type": "markdown",
   "id": "9791cf01",
   "metadata": {},
   "source": [
    "### **(9) 문자열 압축**"
   ]
  },
  {
   "cell_type": "markdown",
   "id": "073fde85",
   "metadata": {},
   "source": [
    "**제공 링크**  \n",
    "https://school.programmers.co.kr/learn/courses/30/lessons/60057"
   ]
  },
  {
   "cell_type": "markdown",
   "id": "364e73d1",
   "metadata": {},
   "source": [
    "**문제**"
   ]
  },
  {
   "cell_type": "markdown",
   "id": "ad7cca09",
   "metadata": {},
   "source": [
    "문자열에서 같은 값이 연속해서 나타나는 것을 그 문자의 개수와 반복되는 값으로 표현하여 더 짧은 문자열로 줄여서 표현하는 알고리즘  \n",
    "**압축할 문자열 s가 매개변수로 주어질 때, 아래 설명한 방법으로 1개 이상 단위로 문자열을 잘라 압축하여 표현한 문자열 중 가장 짧은 것의 길이를 return 하도록 solution 함수**를 만들기"
   ]
  },
  {
   "cell_type": "markdown",
   "id": "d9900128",
   "metadata": {},
   "source": [
    " \"aabbaccc\"의 경우 \"2a2ba3c\"(문자가 반복되지 않아 한번만 나타난 경우 1은 생략함)와 같이 표현할 수 있는데, 이러한 방식은 반복되는 문자가 적은 경우 압축률이 낮다는 단점"
   ]
  },
  {
   "cell_type": "markdown",
   "id": "5125cfff",
   "metadata": {},
   "source": [
    "**예시**"
   ]
  },
  {
   "cell_type": "markdown",
   "id": "7affd3cc",
   "metadata": {},
   "source": [
    "\"ababcdcdababcdcd\"의 경우 문자를 1개 단위로 자르면 전혀 압축되지 않지만, 2개 단위로 잘라서 압축한다면 \"2ab2cd2ab2cd\"로 표현할 수 있습니다. 다른 방법으로 8개 단위로 잘라서 압축한다면 \"2ababcdcd\"로 표현할 수 있으며, 이때가 가장 짧게 압축하여 표현할 수 있는 방법"
   ]
  },
  {
   "cell_type": "markdown",
   "id": "0ef9b2b7",
   "metadata": {},
   "source": [
    "**제한사항**"
   ]
  },
  {
   "cell_type": "markdown",
   "id": "56906340",
   "metadata": {},
   "source": [
    "* 1 ≤ s의 길이 ≤ 1,000  \n",
    "* s는 알파벳 소문자"
   ]
  },
  {
   "cell_type": "code",
   "execution_count": null,
   "id": "bc54738f",
   "metadata": {},
   "outputs": [],
   "source": [
    "#def solution(s):\n",
    "#    answer = 0\n",
    "#    return answer"
   ]
  },
  {
   "cell_type": "code",
   "execution_count": 1,
   "id": "4608383e",
   "metadata": {},
   "outputs": [
    {
     "name": "stdout",
     "output_type": "stream",
     "text": [
      "[1, 2, 3, 4]\n"
     ]
    }
   ],
   "source": [
    "s = \"aabbaccc\"\n",
    "l_result = []\n",
    "for length in range(1, len(s) // 2 + 1) :\n",
    "    l_result.append(length)\n",
    "    \n",
    "print(l_result)"
   ]
  },
  {
   "cell_type": "code",
   "execution_count": 2,
   "id": "857d5ef6",
   "metadata": {},
   "outputs": [
    {
     "name": "stdout",
     "output_type": "stream",
     "text": [
      "['a', 'a', 'b', 'b', 'a', 'c', 'c', 'c', 'aa', 'bb', 'ac', 'cc', 'aab', 'bac', 'cc', 'aabb', 'accc']\n"
     ]
    }
   ],
   "source": [
    "s = \"aabbaccc\"\n",
    "result = []\n",
    "\n",
    "for length in range(1, len(s) // 2 + 1) :\n",
    "    for i in range(0, len(s), length):     # 길이만큼 문자열을 자르는 부분 수정\n",
    "        substr = s[i:i + length]\n",
    "        result.append(substr)\n",
    "    \n",
    "print(result)"
   ]
  },
  {
   "cell_type": "code",
   "execution_count": 14,
   "id": "7c5a6a19",
   "metadata": {},
   "outputs": [
    {
     "name": "stdout",
     "output_type": "stream",
     "text": [
      "[('a', 2), ('b', 2), ('a', 1), ('c', 3)]\n"
     ]
    }
   ],
   "source": [
    "s = \"aabbaccc\"\n",
    "length = 1\n",
    "\n",
    "str_c = []                                     # 초기화\n",
    "for i in range(0, len(s), length):             # 문자열을 최대 압축 단위만큼 쪼개기\n",
    "    substr = s[i:i + length]                   # 범위만큼 쪼갠 문자열 substr 변수에 저장\n",
    "  \n",
    "    if str_c and str_c[-1][0] == substr:      # 직전에 저장한 문자열과 현재 문자열이 같다면   \n",
    "        str_c[-1] = (substr, str_c[-1][1] + 1) # 튜플의 원소의 값 + 1 증가\n",
    "    else:                                      # 같지 않다면 (처음은 초기화 상태라 else 부터 시작)\n",
    "        str_c.append((substr, 1))               # 새로운 튜플을 추가\n",
    "\n",
    "\n",
    "print(str_c)"
   ]
  },
  {
   "cell_type": "code",
   "execution_count": 5,
   "id": "bf2d5c4e",
   "metadata": {},
   "outputs": [
    {
     "name": "stdout",
     "output_type": "stream",
     "text": [
      "aabbaccc\n",
      "7\n",
      "Time: 0.0009624958038330078 초\n"
     ]
    }
   ],
   "source": [
    "import time\n",
    "\n",
    "s = input(\"\")         # 입력 받은 문자열\n",
    "\n",
    "start = time.time()   # 시작 시점\n",
    "\n",
    "result = []           # 결과를 저장할 리스트\n",
    "\n",
    "def solution(s):\n",
    "    global result    # solution 함수 내에서 사용 가능한 전역 변수 result\n",
    "\n",
    "    for length in range(1, len(s) // 2 + 1):          # 문자열 압축 단위 개수 확인\n",
    "        \n",
    "        str_c = []                                     # 초기화\n",
    "        for i in range(0, len(s), length):             # 문자열을 최대 압축 단위만큼 쪼개기\n",
    "            substr = s[i:i + length]                   # 범위만큼 쪼갠 문자열 substr 변수에 저장\n",
    "  \n",
    "            if str_c and str_c[-1][0] == substr:      # 직전에 저장한 문자열과 현재 문자열이 같다면   \n",
    "                str_c[-1] = (substr, str_c[-1][1] + 1) # 튜플의 원소의 값 + 1 증가\n",
    "            else:                                      # 같지 않다면 (처음은 초기화 상태라 else 부터 시작)\n",
    "                str_c.append((substr, 1))               # 새로운 튜플을 추가\n",
    "\n",
    "        # 결과를 문자열로 합치기\n",
    "        result_str = []\n",
    "\n",
    "        for substr, count in str_c:                   # 튜플의 값을 문자와 숫자로 나눈다.\n",
    "            if count > 1:                             # 숫자가 1보다 크면\n",
    "                result_str.append(str(count) + substr) # ex) ('a', 2) 이 구조에서 2a로 \n",
    "            else:\n",
    "                result_str.append(substr)              # 숫자가 1보다 작다면 그대로 문자만 반환 \n",
    "\n",
    "        result_str = ''.join(result_str)               # 하나의 문자열로 연결\n",
    "\n",
    "        # 결과의 길이 계산 및 저장\n",
    "        result_length = len(result_str)\n",
    "        result.append((length, result_length))         # ex) 1로 압축 했을 때의 결과 길이, ... length로 압훅 했을 때 결과 길이\n",
    "\n",
    "    min_len = min(result, key=lambda x: x[1])[1]      # (문자열 길이)를 기준으로 최소값을 찾기\n",
    "    return min_len                                    # 결과값을 반환\n",
    "\n",
    "# solution 함수 호출\n",
    "min_len = solution(s)\n",
    "\n",
    "end = time.time()                                      # 종료 시점\n",
    "print(min_len)\n",
    "print(\"Time:\", end - start, \"초\")                 "
   ]
  },
  {
   "cell_type": "code",
   "execution_count": 6,
   "id": "8cd877c6",
   "metadata": {},
   "outputs": [
    {
     "name": "stdout",
     "output_type": "stream",
     "text": [
      "ababcdcdababcdcd\n",
      "9\n",
      "Time: 0.0012791156768798828 초\n"
     ]
    }
   ],
   "source": [
    "import time\n",
    "\n",
    "s = input(\"\")         # 입력 받은 문자열\n",
    "\n",
    "start = time.time()   # 시작 시점\n",
    "\n",
    "result = []           # 결과를 저장할 리스트\n",
    "\n",
    "def solution(s):\n",
    "    global result    # solution 함수 내에서 사용 가능한 전역 변수 result\n",
    "\n",
    "    for length in range(1, len(s) // 2 + 1):          # 문자열 압축 단위 개수 확인\n",
    "        \n",
    "        str_c = []                                     # 초기화\n",
    "        for i in range(0, len(s), length):             # 문자열을 최대 압축 단위만큼 쪼개기\n",
    "            substr = s[i:i + length]                   # 범위만큼 쪼갠 문자열 substr 변수에 저장\n",
    "  \n",
    "            if str_c and str_c[-1][0] == substr:      # 직전에 저장한 문자열과 현재 문자열이 같다면   \n",
    "                str_c[-1] = (substr, str_c[-1][1] + 1) # 튜플의 원소의 값 + 1 증가\n",
    "            else:                                      # 같지 않다면 (처음은 초기화 상태라 else 부터 시작)\n",
    "                str_c.append((substr, 1))               # 새로운 튜플을 추가\n",
    "\n",
    "        # 결과를 문자열로 합치기\n",
    "        result_str = []\n",
    "\n",
    "        for substr, count in str_c:                   # 튜플의 값을 문자와 숫자로 나눈다.\n",
    "            if count > 1:                             # 숫자가 1보다 크면\n",
    "                result_str.append(str(count) + substr) # ex) ('a', 2) 이 구조에서 2a로 \n",
    "            else:\n",
    "                result_str.append(substr)              # 숫자가 1보다 작다면 그대로 문자만 반환 \n",
    "\n",
    "        result_str = ''.join(result_str)               # 하나의 문자열로 연결\n",
    "\n",
    "        # 결과의 길이 계산 및 저장\n",
    "        result_length = len(result_str)\n",
    "        result.append((length, result_length))         # ex) 1로 압축 했을 때의 결과 길이, ... length로 압훅 했을 때 결과 길이\n",
    "\n",
    "    min_len = min(result, key=lambda x: x[1])[1]      # (문자열 길이)를 기준으로 최소값을 찾기\n",
    "    return min_len                                    # 결과값을 반환\n",
    "\n",
    "# solution 함수 호출\n",
    "min_len = solution(s)\n",
    "\n",
    "end = time.time()                                      # 종료 시점\n",
    "print(min_len)\n",
    "print(\"Time:\", end - start, \"초\")                 "
   ]
  },
  {
   "cell_type": "code",
   "execution_count": 7,
   "id": "14c8b911",
   "metadata": {},
   "outputs": [
    {
     "name": "stdout",
     "output_type": "stream",
     "text": [
      "abcabcdede\n",
      "8\n",
      "Time: 0.0 초\n"
     ]
    }
   ],
   "source": [
    "import time\n",
    "\n",
    "s = input(\"\")         # 입력 받은 문자열\n",
    "\n",
    "start = time.time()   # 시작 시점\n",
    "\n",
    "result = []           # 결과를 저장할 리스트\n",
    "\n",
    "def solution(s):\n",
    "    global result    # solution 함수 내에서 사용 가능한 전역 변수 result\n",
    "\n",
    "    for length in range(1, len(s) // 2 + 1):          # 문자열 압축 단위 개수 확인\n",
    "        \n",
    "        str_c = []                                     # 초기화\n",
    "        for i in range(0, len(s), length):             # 문자열을 최대 압축 단위만큼 쪼개기\n",
    "            substr = s[i:i + length]                   # 범위만큼 쪼갠 문자열 substr 변수에 저장\n",
    "  \n",
    "            if str_c and str_c[-1][0] == substr:      # 직전에 저장한 문자열과 현재 문자열이 같다면   \n",
    "                str_c[-1] = (substr, str_c[-1][1] + 1) # 튜플의 원소의 값 + 1 증가\n",
    "            else:                                      # 같지 않다면 (처음은 초기화 상태라 else 부터 시작)\n",
    "                str_c.append((substr, 1))               # 새로운 튜플을 추가\n",
    "\n",
    "        # 결과를 문자열로 합치기\n",
    "        result_str = []\n",
    "\n",
    "        for substr, count in str_c:                   # 튜플의 값을 문자와 숫자로 나눈다.\n",
    "            if count > 1:                             # 숫자가 1보다 크면\n",
    "                result_str.append(str(count) + substr) # ex) ('a', 2) 이 구조에서 2a로 \n",
    "            else:\n",
    "                result_str.append(substr)              # 숫자가 1보다 작다면 그대로 문자만 반환 \n",
    "\n",
    "        result_str = ''.join(result_str)               # 하나의 문자열로 연결\n",
    "\n",
    "        # 결과의 길이 계산 및 저장\n",
    "        result_length = len(result_str)\n",
    "        result.append((length, result_length))         # ex) 1로 압축 했을 때의 결과 길이, ... length로 압훅 했을 때 결과 길이\n",
    "\n",
    "    min_len = min(result, key=lambda x: x[1])[1]      # (문자열 길이)를 기준으로 최소값을 찾기\n",
    "    return min_len                                    # 결과값을 반환\n",
    "\n",
    "# solution 함수 호출\n",
    "min_len = solution(s)\n",
    "\n",
    "end = time.time()                                      # 종료 시점\n",
    "print(min_len)\n",
    "print(\"Time:\", end - start, \"초\")                 "
   ]
  },
  {
   "cell_type": "code",
   "execution_count": 8,
   "id": "93325eb5",
   "metadata": {},
   "outputs": [
    {
     "name": "stdout",
     "output_type": "stream",
     "text": [
      "abcabcabcabcdededededede\n",
      "14\n",
      "Time: 0.0010361671447753906 초\n"
     ]
    }
   ],
   "source": [
    "import time\n",
    "\n",
    "s = input(\"\")         # 입력 받은 문자열\n",
    "\n",
    "start = time.time()   # 시작 시점\n",
    "\n",
    "result = []           # 결과를 저장할 리스트\n",
    "\n",
    "def solution(s):\n",
    "    global result    # solution 함수 내에서 사용 가능한 전역 변수 result\n",
    "\n",
    "    for length in range(1, len(s) // 2 + 1):          # 문자열 압축 단위 개수 확인\n",
    "        \n",
    "        str_c = []                                     # 초기화\n",
    "        for i in range(0, len(s), length):             # 문자열을 최대 압축 단위만큼 쪼개기\n",
    "            substr = s[i:i + length]                   # 범위만큼 쪼갠 문자열 substr 변수에 저장\n",
    "  \n",
    "            if str_c and str_c[-1][0] == substr:      # 직전에 저장한 문자열과 현재 문자열이 같다면   \n",
    "                str_c[-1] = (substr, str_c[-1][1] + 1) # 튜플의 원소의 값 + 1 증가\n",
    "            else:                                      # 같지 않다면 (처음은 초기화 상태라 else 부터 시작)\n",
    "                str_c.append((substr, 1))               # 새로운 튜플을 추가\n",
    "\n",
    "        # 결과를 문자열로 합치기\n",
    "        result_str = []\n",
    "\n",
    "        for substr, count in str_c:                   # 튜플의 값을 문자와 숫자로 나눈다.\n",
    "            if count > 1:                             # 숫자가 1보다 크면\n",
    "                result_str.append(str(count) + substr) # ex) ('a', 2) 이 구조에서 2a로 \n",
    "            else:\n",
    "                result_str.append(substr)              # 숫자가 1보다 작다면 그대로 문자만 반환 \n",
    "\n",
    "        result_str = ''.join(result_str)               # 하나의 문자열로 연결\n",
    "\n",
    "        # 결과의 길이 계산 및 저장\n",
    "        result_length = len(result_str)\n",
    "        result.append((length, result_length))         # ex) 1로 압축 했을 때의 결과 길이, ... length로 압훅 했을 때 결과 길이\n",
    "\n",
    "    min_len = min(result, key=lambda x: x[1])[1]      # (문자열 길이)를 기준으로 최소값을 찾기\n",
    "    return min_len                                    # 결과값을 반환\n",
    "\n",
    "# solution 함수 호출\n",
    "min_len = solution(s)\n",
    "\n",
    "end = time.time()                                      # 종료 시점\n",
    "print(min_len)\n",
    "print(\"Time:\", end - start, \"초\")                 "
   ]
  },
  {
   "cell_type": "code",
   "execution_count": 9,
   "id": "9551e791",
   "metadata": {
    "scrolled": true
   },
   "outputs": [
    {
     "name": "stdout",
     "output_type": "stream",
     "text": [
      "xababcdcdababcdcd\n",
      "17\n",
      "Time: 0.0 초\n"
     ]
    }
   ],
   "source": [
    "import time\n",
    "\n",
    "s = input(\"\")         # 입력 받은 문자열\n",
    "\n",
    "start = time.time()   # 시작 시점\n",
    "\n",
    "result = []           # 결과를 저장할 리스트\n",
    "\n",
    "def solution(s):\n",
    "    global result    # solution 함수 내에서 사용 가능한 전역 변수 result\n",
    "\n",
    "    for length in range(1, len(s) // 2 + 1):          # 문자열 압축 단위 개수 확인\n",
    "        \n",
    "        str_c = []                                     # 초기화\n",
    "        for i in range(0, len(s), length):             # 문자열을 최대 압축 단위만큼 쪼개기\n",
    "            substr = s[i:i + length]                   # 범위만큼 쪼갠 문자열 substr 변수에 저장\n",
    "  \n",
    "            if str_c and str_c[-1][0] == substr:      # 직전에 저장한 문자열과 현재 문자열이 같다면   \n",
    "                str_c[-1] = (substr, str_c[-1][1] + 1) # 튜플의 원소의 값 + 1 증가\n",
    "            else:                                      # 같지 않다면 (처음은 초기화 상태라 else 부터 시작)\n",
    "                str_c.append((substr, 1))               # 새로운 튜플을 추가\n",
    "\n",
    "        # 결과를 문자열로 합치기\n",
    "        result_str = []\n",
    "\n",
    "        for substr, count in str_c:                   # 튜플의 값을 문자와 숫자로 나눈다.\n",
    "            if count > 1:                             # 숫자가 1보다 크면\n",
    "                result_str.append(str(count) + substr) # ex) ('a', 2) 이 구조에서 2a로 \n",
    "            else:\n",
    "                result_str.append(substr)              # 숫자가 1보다 작다면 그대로 문자만 반환 \n",
    "\n",
    "        result_str = ''.join(result_str)               # 하나의 문자열로 연결\n",
    "\n",
    "        # 결과의 길이 계산 및 저장\n",
    "        result_length = len(result_str)\n",
    "        result.append((length, result_length))         # ex) 1로 압축 했을 때의 결과 길이, ... length로 압훅 했을 때 결과 길이\n",
    "\n",
    "    min_len = min(result, key=lambda x: x[1])[1]      # (문자열 길이)를 기준으로 최소값을 찾기\n",
    "    return min_len                                    # 결과값을 반환\n",
    "\n",
    "# solution 함수 호출\n",
    "min_len = solution(s)\n",
    "\n",
    "end = time.time()                                      # 종료 시점\n",
    "print(min_len)\n",
    "print(\"Time:\", end - start, \"초\")                 "
   ]
  },
  {
   "cell_type": "markdown",
   "id": "15ea39cf",
   "metadata": {},
   "source": [
    "### 힘들었다.. 테스트 성공.."
   ]
  },
  {
   "attachments": {
    "%EB%AC%B8%EC%9E%90%EC%97%B4%EC%95%95%EC%B6%95.png": {
     "image/png": "[encoded data removed]"
    }
   },
   "cell_type": "markdown",
   "id": "c13b8181",
   "metadata": {},
   "source": [
    "![%EB%AC%B8%EC%9E%90%EC%97%B4%EC%95%95%EC%B6%95.png](attachment:%EB%AC%B8%EC%9E%90%EC%97%B4%EC%95%95%EC%B6%95.png)"
   ]
  }
 ],
 "metadata": {
  "kernelspec": {
   "display_name": "study",
   "language": "python",
   "name": "study"
  },
  "language_info": {
   "codemirror_mode": {
    "name": "ipython",
    "version": 3
   },
   "file_extension": ".py",
   "mimetype": "text/x-python",
   "name": "python",
   "nbconvert_exporter": "python",
   "pygments_lexer": "ipython3",
   "version": "3.10.13"
  }
 },
 "nbformat": 4,
 "nbformat_minor": 5
}
