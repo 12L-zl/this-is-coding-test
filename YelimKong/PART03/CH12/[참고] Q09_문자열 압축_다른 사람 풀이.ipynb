{
 "cells": [
  {
   "cell_type": "markdown",
   "id": "9cf2570c",
   "metadata": {},
   "source": [
    "### **다른 사람 풀이**"
   ]
  },
  {
   "cell_type": "code",
   "execution_count": 1,
   "id": "cc69016c",
   "metadata": {},
   "outputs": [
    {
     "name": "stdout",
     "output_type": "stream",
     "text": [
      "7\n",
      "9\n",
      "8\n",
      "14\n",
      "17\n",
      "2\n"
     ]
    }
   ],
   "source": [
    "def compress(text, tok_len):\n",
    "    words = [text[i:i+tok_len] for i in range(0, len(text), tok_len)]\n",
    "    res = []\n",
    "    cur_word = words[0]\n",
    "    cur_cnt = 1\n",
    "    for a, b in zip(words, words[1:] + ['']):\n",
    "        if a == b:\n",
    "            cur_cnt += 1\n",
    "        else:\n",
    "            res.append([cur_word, cur_cnt])\n",
    "            cur_word = b\n",
    "            cur_cnt = 1\n",
    "    return sum(len(word) + (len(str(cnt)) if cnt > 1 else 0) for word, cnt in res)\n",
    "\n",
    "def solution(text):\n",
    "    return min(compress(text, tok_len) for tok_len in list(range(1, int(len(text)/2) + 1)) + [len(text)])\n",
    "\n",
    "a = [\n",
    "    \"aabbaccc\",\n",
    "    \"ababcdcdababcdcd\",\n",
    "    \"abcabcdede\",\n",
    "    \"abcabcabcabcdededededede\",\n",
    "    \"xababcdcdababcdcd\",\n",
    "\n",
    "    'aaaaaa',\n",
    "]\n",
    "\n",
    "for x in a:\n",
    "    print(solution(x))\n"
   ]
  },
  {
   "cell_type": "code",
   "execution_count": 2,
   "id": "948c83d3",
   "metadata": {},
   "outputs": [
    {
     "name": "stdout",
     "output_type": "stream",
     "text": [
      "7\n",
      "9\n",
      "8\n",
      "14\n",
      "17\n",
      "2\n"
     ]
    }
   ],
   "source": [
    "def solution(s):\n",
    "    answer = len(s)\n",
    "    for x in range(1, int(len(s)/2)+1):\n",
    "        d = 0\n",
    "        comp = ''\n",
    "        c = 1\n",
    "        for i in range(0, len(s), x):\n",
    "            temp = s[i:i+x]\n",
    "            if comp == temp:\n",
    "                c += 1\n",
    "            elif comp != temp:\n",
    "                d += len(temp)\n",
    "                if c > 1:\n",
    "                    d += len(\"{}\".format(c))\n",
    "                c = 1\n",
    "                comp = temp\n",
    "        if c > 1:\n",
    "            d += len(\"{}\".format(c))\n",
    "        answer = min(answer, d)\n",
    "    return answer\n",
    "\n",
    "a = [\n",
    "    \"aabbaccc\",\n",
    "    \"ababcdcdababcdcd\",\n",
    "    \"abcabcdede\",\n",
    "    \"abcabcabcabcdededededede\",\n",
    "    \"xababcdcdababcdcd\",\n",
    "\n",
    "    'aaaaaa',\n",
    "]\n",
    "\n",
    "for x in a:\n",
    "    print(solution(x))"
   ]
  }
 ],
 "metadata": {
  "kernelspec": {
   "display_name": "study",
   "language": "python",
   "name": "study"
  },
  "language_info": {
   "codemirror_mode": {
    "name": "ipython",
    "version": 3
   },
   "file_extension": ".py",
   "mimetype": "text/x-python",
   "name": "python",
   "nbconvert_exporter": "python",
   "pygments_lexer": "ipython3",
   "version": "3.10.13"
  }
 },
 "nbformat": 4,
 "nbformat_minor": 5
}
