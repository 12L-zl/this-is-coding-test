{
 "cells": [
  {
   "cell_type": "markdown",
   "id": "aff31c74",
   "metadata": {},
   "source": [
    "### (7) 럭키 스트레이트 "
   ]
  },
  {
   "cell_type": "markdown",
   "id": "b335b9e2",
   "metadata": {},
   "source": [
    " **문제**\n",
    "\n",
    "'럭키 스트레이트'는 게임 내에서 점수가 특정 조건을 만족할 때만 사용할 수 있다.  \n",
    "**특정조건**이란 현재 캐릭터의 점수를 N이라고 할 때 자릿수를 기준으로 점수 N을 반으로 나누어 왼쪽 부분의 각 자릿수의 합과 오른쪽 부분의 각 자릿수 부분의 합을 더한 값이 동일한 상황을 의미"
   ]
  },
  {
   "cell_type": "markdown",
   "id": "d94b8146",
   "metadata": {},
   "source": [
    "**예시**"
   ]
  },
  {
   "cell_type": "markdown",
   "id": "2864a7a6",
   "metadata": {},
   "source": [
    "현재 점수가 $123,402$ 라면 **왼쪽 부분의 각 자릿수 합**은 $1 + 2 + 3$, **오른쪽 부분의 각 자릿수 합**은  $4 + 0 + 2$ 이므로 **두 합이 6으로 동일하여 럭키 스트레이트 사용** 가능 "
   ]
  },
  {
   "cell_type": "markdown",
   "id": "a9ab0fda",
   "metadata": {},
   "source": [
    "**입력 조건**\n",
    "* 첫째 줄에 점수 N이 정수로 주어진다. $(10 ≤ N ≤ 99,999,999)$ \n",
    "* 단, 점수 N의 자릿수는 항상 짝수 형태로만 주어진다. ex) 총 자릿수가 5인 $12,345$와 같은 수는 입력 안 됨"
   ]
  },
  {
   "cell_type": "markdown",
   "id": "53ed5115",
   "metadata": {},
   "source": [
    "**출력 조건**\n",
    "* 첫째 줄에 **럭키 스트레이트를 사용할 수 있다면 \"LUCKY\"** 를, **사용할 수 없다면 \"READY\"** 를 출력 "
   ]
  },
  {
   "cell_type": "markdown",
   "id": "14d054a5",
   "metadata": {},
   "source": [
    "### **코드 요약**\n",
    "* 1. 숫자 n을 입력한다. (n의 자릿수가 홀수라면 다시 입력할 수 있도록 조건 생성)\n",
    "* 2. n[0]에서 각 문자를 순회하며, 각 문자를 정수로 변환 후 array 리스트에 저장한다. \n",
    "* 3. n[0] 길이의 절반을 half_len_n에 저장한다. \n",
    "* 4. array 리스트의 처음부터 half_len_n까지 요소들의 합 계산해서 left에 저장한다. \n",
    "     array 리스트의 half_len_n부터 끝까지 요소들의 합 계산해서 right에 저장한다. \n",
    "* 5. 만약 left와 right가 같다면 LUCKY 출력, 다르다면 READY 를 출력한다."
   ]
  },
  {
   "cell_type": "code",
   "execution_count": 34,
   "id": "0ebc70ce",
   "metadata": {
    "scrolled": true
   },
   "outputs": [
    {
     "name": "stdout",
     "output_type": "stream",
     "text": [
      "숫자 입력하세요: 123402\n",
      "LUCKY\n"
     ]
    }
   ],
   "source": [
    "n = [\n",
    "    num if len(num) % 2 == 0 else input(\"n의 자릿수는 항상 짝수 형태로 입력하세요: \")\n",
    "    for num in [input(\"숫자 입력하세요: \")]\n",
    "]\n",
    "\n",
    "array = [int(i) for i in n[0]]\n",
    "# print(array) # [1, 2, 3, 4, 5, 6]\n",
    "\n",
    "half_len_n = len(n[0]) // 2\n",
    "# print(half_len_n) # 3\n",
    "\n",
    "left = sum(array[:half_len_n]) \n",
    "right = sum(array[half_len_n:]) \n",
    "\n",
    "# print(left, right) # 6 6\n",
    "if left == right : \n",
    "    print(\"LUCKY\")\n",
    "else : \n",
    "    print(\"READY\")\n"
   ]
  }
 ],
 "metadata": {
  "kernelspec": {
   "display_name": "study",
   "language": "python",
   "name": "study"
  },
  "language_info": {
   "codemirror_mode": {
    "name": "ipython",
    "version": 3
   },
   "file_extension": ".py",
   "mimetype": "text/x-python",
   "name": "python",
   "nbconvert_exporter": "python",
   "pygments_lexer": "ipython3",
   "version": "3.10.13"
  }
 },
 "nbformat": 4,
 "nbformat_minor": 5
}
