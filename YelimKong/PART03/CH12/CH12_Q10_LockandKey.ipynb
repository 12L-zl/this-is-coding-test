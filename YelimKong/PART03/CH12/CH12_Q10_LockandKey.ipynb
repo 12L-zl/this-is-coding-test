{
 "cells": [
  {
   "cell_type": "markdown",
   "id": "e62b5728",
   "metadata": {},
   "source": [
    "### **(10) 자물쇠와 열쇠**"
   ]
  },
  {
   "cell_type": "markdown",
   "id": "36255322",
   "metadata": {},
   "source": [
    "**문제**"
   ]
  },
  {
   "cell_type": "markdown",
   "id": "d4604a67",
   "metadata": {},
   "source": [
    "비밀의 문을 발견, 자물쇠로 잠겨 있었고 문 앞에는 열쇠가 있다.  \n",
    "자물쇠는 격자 한 칸의 크기가 1 X 1인 N X N 크기의 정사각 형태이고 열쇠는 M X M 크기인 정사각 격자 형태\n",
    "\n",
    "* 자물쇠 영역내에서는 열쇠의 돌기 부분과 자물쇠의 홈 부분이 정확히 일치해야 한다.\n",
    "* 열쇠의 돌기와 자물쇠의 돌기가 만나서는 안 된다. \n",
    "* 비어있는 곳이 없어야 자물쇠를 열 수 있다. "
   ]
  },
  {
   "cell_type": "markdown",
   "id": "a8d67fec",
   "metadata": {},
   "source": [
    "**자물쇠를 열 수 있으면 true를, 열 수 없으면 false를 return 하는 solution 함수 완성하기**"
   ]
  },
  {
   "cell_type": "markdown",
   "id": "b5bb04de",
   "metadata": {},
   "source": [
    "**제한 사항**"
   ]
  },
  {
   "cell_type": "markdown",
   "id": "fc902a30",
   "metadata": {},
   "source": [
    "* key는 M x M(3 ≤ M ≤ 20, M은 자연수)크기 2차원 배열\n",
    "* lock은 N x N(3 ≤ N ≤ 20, N은 자연수)크기 2차원 배열\n",
    "* M은 항상 N 이하\n",
    "* key와 lock의 원소는 0 또는 1로 이루어져 있다.\n",
    "* **0은 홈 부분, 1은 돌기 부분을 나타낸다.**"
   ]
  },
  {
   "cell_type": "markdown",
   "id": "dbf306bd",
   "metadata": {},
   "source": [
    "**입출력 예**"
   ]
  },
  {
   "cell_type": "markdown",
   "id": "1b235b8b",
   "metadata": {},
   "source": [
    "| **key**                           | **lock**                          | **result** |\n",
    "|-----------------------------------|-----------------------------------|------------|\n",
    "| [[0, 0, 0], [1, 0, 0], [0, 1, 1]] | [[1, 1, 1], [1, 1, 0], [1, 0, 1]] | true       |"
   ]
  },
  {
   "cell_type": "markdown",
   "id": "25b2366c",
   "metadata": {},
   "source": [
    "### 접근 방식\n",
    "\n",
    "* **완전 탐색**을 이용해서 열쇠를 이동이나 회전시켜서 자물쇠에 끼워보는 작업을 전부 시도해보는 접근 방법\n",
    "* 완전 탐색을 수월하게 하기 위해서 자물쇠 리스트의 크기를 3배 이상으로 변경하면 계산이 수월해진다. "
   ]
  },
  {
   "cell_type": "markdown",
   "id": "62fc7bdd",
   "metadata": {},
   "source": [
    "### 코드 구현\n",
    "\n",
    "    1) 열쇠와 자물쇠가 3 x 3 크기라고 가정\n",
    "    2) 자물쇠의 크기가 3배인 새로운 리스트로 만들어 중앙 부분으로 옮긴다.\n",
    "    3) 열쇠 배열을 왼쪽 부터 시작해서 한 칸씩 이동하는 방식으로 차례대로 자물쇠의 모든 홈을 채울 수 있는지 확인 \n",
    "    4) 자물쇠 리스트에 열쇠 리스트의 값을 더한 뒤에, 더한 결과를 확인했을 때 자물쇠 부분의 모든 값이 정확히 1인지 확인 \n",
    "   "
   ]
  },
  {
   "cell_type": "markdown",
   "id": "cd7a72ef",
   "metadata": {},
   "source": [
    "### key point"
   ]
  },
  {
   "cell_type": "markdown",
   "id": "0e244209",
   "metadata": {},
   "source": [
    "**def rotate_a_matrix_by_90_degree()** 함수는 **'2차원 리스트를 90도 회전한결과를 반환하는 함수'** 인데 파이썬에서 2차원 리스트를 다룰 때 가끔씩 사용하므로 기억하기"
   ]
  },
  {
   "cell_type": "code",
   "execution_count": 3,
   "id": "daebda96",
   "metadata": {},
   "outputs": [
    {
     "data": {
      "text/plain": [
       "True"
      ]
     },
     "execution_count": 3,
     "metadata": {},
     "output_type": "execute_result"
    }
   ],
   "source": [
    "# 2차원 리스트 90도 회전 \n",
    "def rotate_a_matrix_by_90_degree(a):\n",
    "    n = len(a) # 행 길이 계산\n",
    "    m = len(a[0]) # 열 길이 계산\n",
    "    \n",
    "    result = [[0] * n for _ in range(m)] # 결과 리스트 \n",
    "    for i in range(n) :\n",
    "        for j in range(m) :\n",
    "            result[j][n - i - 1] = a[i][j]\n",
    "    \n",
    "    return result \n",
    "\n",
    "# 자물쇠의 중간 부분이 모두 1인지 확인\n",
    "def check(new_lock) :\n",
    "    lock_length = len(new_lock) // 3\n",
    "    for i in range(lock_length, lock_length * 2) :\n",
    "        for j in range(lock_length, lock_length * 2):\n",
    "            if new_lock[i][j] != 1:\n",
    "                return False\n",
    "            \n",
    "    return True\n",
    "\n",
    "def solution(key, lock) :\n",
    "    n = len(lock)\n",
    "    m = len(key)\n",
    "    # 자물쇠의 크기를 기존의 3배로 변환 \n",
    "    new_lock = [[0] * (n * 3) for _ in range(n * 3)] \n",
    "    # 새로운 자물쇠의 중앙 부분에 기존의 자물쇠 넣기\n",
    "    for i in range(n) :\n",
    "        for j in range(n) :\n",
    "            new_lock[i + n][j + n] = lock[i][j]\n",
    "            \n",
    "            \n",
    "    # 4가지 방향에 대해서 확인\n",
    "    for rotation in range(4) :\n",
    "        key = rotate_a_matrix_by_90_degree(key) # 열쇠 회전\n",
    "        for x in range(n * 2) :\n",
    "            for y in range(n * 2) :\n",
    "                # 자물쇠에 열쇠를 끼워 넣기\n",
    "                for i in range(m) :\n",
    "                    for j in range(m) :\n",
    "                        new_lock[x + i][y + j] += key[i][j]\n",
    "                        \n",
    "                # 새로운 자물쇠에 열쇠가 정확히 들어맞는지 검사\n",
    "                if check(new_lock) == True :\n",
    "                    return True\n",
    "                \n",
    "                # 자물쇠에서 열쇠를 다시 빼기\n",
    "                for i in range(m) :\n",
    "                    for j in range(m) :\n",
    "                        new_lock[x + i][y + j] -= key[i][j]\n",
    "                        \n",
    "    return False\n",
    "\n",
    "\n",
    "# 입출력 예시\n",
    "solution([[0, 0, 0], [1, 0, 0], [0, 1, 1]], [[1, 1, 1], [1, 1, 0], [1, 0, 1]])"
   ]
  },
  {
   "cell_type": "code",
   "execution_count": 4,
   "id": "2f943ca3",
   "metadata": {},
   "outputs": [
    {
     "data": {
      "text/plain": [
       "[[0, 1, 0], [1, 0, 0], [1, 0, 0]]"
      ]
     },
     "execution_count": 4,
     "metadata": {},
     "output_type": "execute_result"
    }
   ],
   "source": [
    "# 2차원 리스트 90도 회전 \n",
    "def rotate_a_matrix_by_90_degree(a):\n",
    "    n = len(a) # 행 길이 계산\n",
    "    m = len(a[0]) # 열 길이 계산\n",
    "    \n",
    "    result = [[0] * n for _ in range(m)] # 결과 리스트 \n",
    "    for i in range(n) :\n",
    "        for j in range(m) :\n",
    "            result[j][n - i - 1] = a[i][j]\n",
    "    \n",
    "    return result \n",
    "\n",
    "rotate_a_matrix_by_90_degree([[0, 0, 0], [1, 0, 0], [0, 1, 1]])"
   ]
  },
  {
   "attachments": {
    "q10.jpg": {
     "image/jpeg": "[encoded data removed]"
    }
   },
   "cell_type": "markdown",
   "id": "1b2b73b0",
   "metadata": {},
   "source": [
    "![q10.jpg](attachment:q10.jpg)"
   ]
  },
  {
   "cell_type": "code",
   "execution_count": 7,
   "id": "572d9601",
   "metadata": {},
   "outputs": [
    {
     "data": {
      "text/plain": [
       "3"
      ]
     },
     "execution_count": 7,
     "metadata": {},
     "output_type": "execute_result"
    }
   ],
   "source": [
    "bb = [[0, 0, 0], [1, 0, 0], [0, 1, 1]]\n",
    "len(bb) # 3\n",
    "len(bb[0]) # 3"
   ]
  },
  {
   "cell_type": "code",
   "execution_count": 10,
   "id": "ddf757a6",
   "metadata": {},
   "outputs": [
    {
     "data": {
      "text/plain": [
       "True"
      ]
     },
     "execution_count": 10,
     "metadata": {},
     "output_type": "execute_result"
    }
   ],
   "source": [
    "# 자물쇠의 중간 부분이 모두 1인지 확인\n",
    "def check(new_lock) :\n",
    "    lock_length = len(new_lock) // 3\n",
    "    for i in range(lock_length, lock_length * 2) :\n",
    "        for j in range(lock_length, lock_length * 2):\n",
    "            if new_lock[i][j] != 1:\n",
    "                return False\n",
    "            \n",
    "    return True\n",
    "\n",
    "check([[1, 1, 1], [1, 1, 0], [1, 0, 1]])\n",
    "# 이해가 안 감 ㅠ"
   ]
  },
  {
   "cell_type": "code",
   "execution_count": 25,
   "id": "903b7d08",
   "metadata": {
    "scrolled": false
   },
   "outputs": [
    {
     "name": "stdout",
     "output_type": "stream",
     "text": [
      "[[0, 0, 0, 0, 0, 0, 0, 0, 0], [0, 0, 0, 0, 0, 0, 0, 0, 0], [0, 0, 0, 0, 0, 0, 0, 0, 0], [0, 0, 0, 1, 0, 0, 0, 0, 0], [0, 0, 0, 0, 0, 0, 0, 0, 0], [0, 0, 0, 0, 0, 0, 0, 0, 0], [0, 0, 0, 0, 0, 0, 0, 0, 0], [0, 0, 0, 0, 0, 0, 0, 0, 0], [0, 0, 0, 0, 0, 0, 0, 0, 0]]\n",
      "[[0, 0, 0, 0, 0, 0, 0, 0, 0], [0, 0, 0, 0, 0, 0, 0, 0, 0], [0, 0, 0, 0, 0, 0, 0, 0, 0], [0, 0, 0, 1, 1, 0, 0, 0, 0], [0, 0, 0, 0, 0, 0, 0, 0, 0], [0, 0, 0, 0, 0, 0, 0, 0, 0], [0, 0, 0, 0, 0, 0, 0, 0, 0], [0, 0, 0, 0, 0, 0, 0, 0, 0], [0, 0, 0, 0, 0, 0, 0, 0, 0]]\n",
      "[[0, 0, 0, 0, 0, 0, 0, 0, 0], [0, 0, 0, 0, 0, 0, 0, 0, 0], [0, 0, 0, 0, 0, 0, 0, 0, 0], [0, 0, 0, 1, 1, 1, 0, 0, 0], [0, 0, 0, 0, 0, 0, 0, 0, 0], [0, 0, 0, 0, 0, 0, 0, 0, 0], [0, 0, 0, 0, 0, 0, 0, 0, 0], [0, 0, 0, 0, 0, 0, 0, 0, 0], [0, 0, 0, 0, 0, 0, 0, 0, 0]]\n",
      "[[0, 0, 0, 0, 0, 0, 0, 0, 0], [0, 0, 0, 0, 0, 0, 0, 0, 0], [0, 0, 0, 0, 0, 0, 0, 0, 0], [0, 0, 0, 1, 1, 1, 0, 0, 0], [0, 0, 0, 1, 0, 0, 0, 0, 0], [0, 0, 0, 0, 0, 0, 0, 0, 0], [0, 0, 0, 0, 0, 0, 0, 0, 0], [0, 0, 0, 0, 0, 0, 0, 0, 0], [0, 0, 0, 0, 0, 0, 0, 0, 0]]\n",
      "[[0, 0, 0, 0, 0, 0, 0, 0, 0], [0, 0, 0, 0, 0, 0, 0, 0, 0], [0, 0, 0, 0, 0, 0, 0, 0, 0], [0, 0, 0, 1, 1, 1, 0, 0, 0], [0, 0, 0, 1, 1, 0, 0, 0, 0], [0, 0, 0, 0, 0, 0, 0, 0, 0], [0, 0, 0, 0, 0, 0, 0, 0, 0], [0, 0, 0, 0, 0, 0, 0, 0, 0], [0, 0, 0, 0, 0, 0, 0, 0, 0]]\n",
      "[[0, 0, 0, 0, 0, 0, 0, 0, 0], [0, 0, 0, 0, 0, 0, 0, 0, 0], [0, 0, 0, 0, 0, 0, 0, 0, 0], [0, 0, 0, 1, 1, 1, 0, 0, 0], [0, 0, 0, 1, 1, 0, 0, 0, 0], [0, 0, 0, 0, 0, 0, 0, 0, 0], [0, 0, 0, 0, 0, 0, 0, 0, 0], [0, 0, 0, 0, 0, 0, 0, 0, 0], [0, 0, 0, 0, 0, 0, 0, 0, 0]]\n",
      "[[0, 0, 0, 0, 0, 0, 0, 0, 0], [0, 0, 0, 0, 0, 0, 0, 0, 0], [0, 0, 0, 0, 0, 0, 0, 0, 0], [0, 0, 0, 1, 1, 1, 0, 0, 0], [0, 0, 0, 1, 1, 0, 0, 0, 0], [0, 0, 0, 1, 0, 0, 0, 0, 0], [0, 0, 0, 0, 0, 0, 0, 0, 0], [0, 0, 0, 0, 0, 0, 0, 0, 0], [0, 0, 0, 0, 0, 0, 0, 0, 0]]\n",
      "[[0, 0, 0, 0, 0, 0, 0, 0, 0], [0, 0, 0, 0, 0, 0, 0, 0, 0], [0, 0, 0, 0, 0, 0, 0, 0, 0], [0, 0, 0, 1, 1, 1, 0, 0, 0], [0, 0, 0, 1, 1, 0, 0, 0, 0], [0, 0, 0, 1, 0, 0, 0, 0, 0], [0, 0, 0, 0, 0, 0, 0, 0, 0], [0, 0, 0, 0, 0, 0, 0, 0, 0], [0, 0, 0, 0, 0, 0, 0, 0, 0]]\n",
      "[[0, 0, 0, 0, 0, 0, 0, 0, 0], [0, 0, 0, 0, 0, 0, 0, 0, 0], [0, 0, 0, 0, 0, 0, 0, 0, 0], [0, 0, 0, 1, 1, 1, 0, 0, 0], [0, 0, 0, 1, 1, 0, 0, 0, 0], [0, 0, 0, 1, 0, 1, 0, 0, 0], [0, 0, 0, 0, 0, 0, 0, 0, 0], [0, 0, 0, 0, 0, 0, 0, 0, 0], [0, 0, 0, 0, 0, 0, 0, 0, 0]]\n"
     ]
    },
    {
     "data": {
      "text/plain": [
       "True"
      ]
     },
     "execution_count": 25,
     "metadata": {},
     "output_type": "execute_result"
    }
   ],
   "source": [
    "def solution(key, lock) :\n",
    "    n = len(lock)\n",
    "    m = len(key)\n",
    "    # 자물쇠의 크기를 기존의 3배로 변환 \n",
    "    new_lock = [[0] * (n * 3) for _ in range(n * 3)] \n",
    "    # 새로운 자물쇠의 중앙 부분에 기존의 자물쇠 넣기\n",
    "    for i in range(n) :\n",
    "        for j in range(n) :\n",
    "            new_lock[i + n][j + n] = lock[i][j]\n",
    "            print(new_lock)\n",
    "            \n",
    "    # 4가지 방향에 대해서 확인\n",
    "    for rotation in range(4) :\n",
    "        key = rotate_a_matrix_by_90_degree(key) # 열쇠 회전\n",
    "        for x in range(n * 2) :\n",
    "            for y in range(n * 2) :\n",
    "                # 자물쇠에 열쇠를 끼워 넣기\n",
    "                for i in range(m) :\n",
    "                    for j in range(m) :\n",
    "                        new_lock[x + i][y + j] += key[i][j]\n",
    "                        \n",
    "                        \n",
    "                # 새로운 자물쇠에 열쇠가 정확히 들어맞는지 검사\n",
    "                if check(new_lock) == True :\n",
    "                    return True\n",
    "                \n",
    "                # 자물쇠에서 열쇠를 다시 빼기\n",
    "                for i in range(m) :\n",
    "                    for j in range(m) :\n",
    "                        new_lock[x + i][y + j] -= key[i][j]\n",
    "                        \n",
    "    return False\n",
    "\n",
    "solution([[0, 0, 0], [1, 0, 0], [0, 1, 1]], [[1, 1, 1], [1, 1, 0], [1, 0, 1]])\n",
    "\n",
    "\n",
    "#    [[0, 0, 0, 0, 0, 0, 0, 0, 0],\n",
    "#     [0, 0, 0, 0, 0, 0, 0, 0, 0],\n",
    "#     [0, 0, 0, 0, 0, 0, 0, 0, 0],\n",
    "#     [0, 0, 0, 1, 0, 0, 0, 0, 0],\n",
    "#     [0, 0, 0, 0, 0, 0, 0, 0, 0], \n",
    "#     [0, 0, 0, 0, 0, 0, 0, 0, 0], \n",
    "#     [0, 0, 0, 0, 0, 0, 0, 0, 0],\n",
    "#     [0, 0, 0, 0, 0, 0, 0, 0, 0],\n",
    "#     [0, 0, 0, 0, 0, 0, 0, 0, 0]]\n",
    "\n",
    "#    [[0, 0, 0, 0, 0, 0, 0, 0, 0],\n",
    "#     [0, 0, 0, 0, 0, 0, 0, 0, 0],\n",
    "#     [0, 0, 0, 0, 0, 0, 0, 0, 0],\n",
    "#     [0, 0, 0, 1, 1, 0, 0, 0, 0],\n",
    "#     [0, 0, 0, 0, 0, 0, 0, 0, 0],\n",
    "#     [0, 0, 0, 0, 0, 0, 0, 0, 0],\n",
    "#     [0, 0, 0, 0, 0, 0, 0, 0, 0],\n",
    "#     [0, 0, 0, 0, 0, 0, 0, 0, 0],\n",
    "#     [0, 0, 0, 0, 0, 0, 0, 0, 0]]\n",
    "\n",
    "#    [[0, 0, 0, 0, 0, 0, 0, 0, 0],\n",
    "#     [0, 0, 0, 0, 0, 0, 0, 0, 0],\n",
    "#     [0, 0, 0, 0, 0, 0, 0, 0, 0],\n",
    "#     [0, 0, 0, 1, 1, 1, 0, 0, 0],\n",
    "#     [0, 0, 0, 0, 0, 0, 0, 0, 0],\n",
    "#     [0, 0, 0, 0, 0, 0, 0, 0, 0],\n",
    "#     [0, 0, 0, 0, 0, 0, 0, 0, 0],\n",
    "#     [0, 0, 0, 0, 0, 0, 0, 0, 0],\n",
    "#     [0, 0, 0, 0, 0, 0, 0, 0, 0]]\n",
    "\n",
    "#    [[0, 0, 0, 0, 0, 0, 0, 0, 0],\n",
    "#     [0, 0, 0, 0, 0, 0, 0, 0, 0],\n",
    "#     [0, 0, 0, 0, 0, 0, 0, 0, 0],\n",
    "#     [0, 0, 0, 1, 1, 1, 0, 0, 0],\n",
    "#     [0, 0, 0, 1, 0, 0, 0, 0, 0],\n",
    "#     [0, 0, 0, 0, 0, 0, 0, 0, 0],\n",
    "#     [0, 0, 0, 0, 0, 0, 0, 0, 0],\n",
    "#     [0, 0, 0, 0, 0, 0, 0, 0, 0],\n",
    "#     [0, 0, 0, 0, 0, 0, 0, 0, 0]]\n",
    "\n",
    "#    [[0, 0, 0, 0, 0, 0, 0, 0, 0],\n",
    "#     [0, 0, 0, 0, 0, 0, 0, 0, 0],\n",
    "#     [0, 0, 0, 0, 0, 0, 0, 0, 0],\n",
    "#     [0, 0, 0, 1, 1, 1, 0, 0, 0],\n",
    "#     [0, 0, 0, 1, 1, 0, 0, 0, 0],\n",
    "#     [0, 0, 0, 0, 0, 0, 0, 0, 0],\n",
    "#     [0, 0, 0, 0, 0, 0, 0, 0, 0],\n",
    "#     [0, 0, 0, 0, 0, 0, 0, 0, 0],\n",
    "#     [0, 0, 0, 0, 0, 0, 0, 0, 0]]\n",
    "\n",
    "#    [[0, 0, 0, 0, 0, 0, 0, 0, 0],\n",
    "#     [0, 0, 0, 0, 0, 0, 0, 0, 0],\n",
    "#     [0, 0, 0, 0, 0, 0, 0, 0, 0],\n",
    "#     [0, 0, 0, 1, 1, 1, 0, 0, 0],\n",
    "#     [0, 0, 0, 1, 1, 0, 0, 0, 0],\n",
    "#     [0, 0, 0, 0, 0, 0, 0, 0, 0],\n",
    "#     [0, 0, 0, 0, 0, 0, 0, 0, 0],\n",
    "#     [0, 0, 0, 0, 0, 0, 0, 0, 0],\n",
    "#     [0, 0, 0, 0, 0, 0, 0, 0, 0]]\n",
    "\n",
    "#    [[0, 0, 0, 0, 0, 0, 0, 0, 0],\n",
    "#     [0, 0, 0, 0, 0, 0, 0, 0, 0],\n",
    "#     [0, 0, 0, 0, 0, 0, 0, 0, 0],\n",
    "#     [0, 0, 0, 1, 1, 1, 0, 0, 0],\n",
    "#     [0, 0, 0, 1, 1, 0, 0, 0, 0],\n",
    "#     [0, 0, 0, 1, 0, 0, 0, 0, 0],\n",
    "#     [0, 0, 0, 0, 0, 0, 0, 0, 0],\n",
    "#     [0, 0, 0, 0, 0, 0, 0, 0, 0],\n",
    "#     [0, 0, 0, 0, 0, 0, 0, 0, 0]]\n",
    "\n",
    "#    [[0, 0, 0, 0, 0, 0, 0, 0, 0],\n",
    "#     [0, 0, 0, 0, 0, 0, 0, 0, 0],\n",
    "#     [0, 0, 0, 0, 0, 0, 0, 0, 0],\n",
    "#     [0, 0, 0, 1, 1, 1, 0, 0, 0],\n",
    "#     [0, 0, 0, 1, 1, 0, 0, 0, 0],\n",
    "#     [0, 0, 0, 1, 0, 0, 0, 0, 0],\n",
    "#     [0, 0, 0, 0, 0, 0, 0, 0, 0],\n",
    "#     [0, 0, 0, 0, 0, 0, 0, 0, 0],\n",
    "#     [0, 0, 0, 0, 0, 0, 0, 0, 0]]\n",
    "\n",
    "#    [[0, 0, 0, 0, 0, 0, 0, 0, 0],\n",
    "#     [0, 0, 0, 0, 0, 0, 0, 0, 0],\n",
    "#     [0, 0, 0, 0, 0, 0, 0, 0, 0],\n",
    "#     [0, 0, 0, 1, 1, 1, 0, 0, 0],\n",
    "#     [0, 0, 0, 1, 1, 0, 0, 0, 0],\n",
    "#     [0, 0, 0, 1, 0, 1, 0, 0, 0],\n",
    "#     [0, 0, 0, 0, 0, 0, 0, 0, 0],\n",
    "#     [0, 0, 0, 0, 0, 0, 0, 0, 0],\n",
    "#     [0, 0, 0, 0, 0, 0, 0, 0, 0]]"
   ]
  }
 ],
 "metadata": {
  "kernelspec": {
   "display_name": "study",
   "language": "python",
   "name": "study"
  },
  "language_info": {
   "codemirror_mode": {
    "name": "ipython",
    "version": 3
   },
   "file_extension": ".py",
   "mimetype": "text/x-python",
   "name": "python",
   "nbconvert_exporter": "python",
   "pygments_lexer": "ipython3",
   "version": "3.10.13"
  }
 },
 "nbformat": 4,
 "nbformat_minor": 5
}
