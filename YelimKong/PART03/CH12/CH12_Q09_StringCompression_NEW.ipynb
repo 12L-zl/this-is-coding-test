{
 "cells": [
  {
   "cell_type": "markdown",
   "id": "0ac9d3be",
   "metadata": {},
   "source": [
    "### **(9) 문자열 압축**"
   ]
  },
  {
   "cell_type": "markdown",
   "id": "5511398d",
   "metadata": {},
   "source": [
    "**제공 링크**  \n",
    "https://school.programmers.co.kr/learn/courses/30/lessons/60057"
   ]
  },
  {
   "cell_type": "markdown",
   "id": "05989f05",
   "metadata": {},
   "source": [
    "**문제**"
   ]
  },
  {
   "cell_type": "markdown",
   "id": "1b017f32",
   "metadata": {},
   "source": [
    "문자열에서 같은 값이 연속해서 나타나는 것을 그 문자의 개수와 반복되는 값으로 표현하여 더 짧은 문자열로 줄여서 표현하는 알고리즘  \n",
    "**압축할 문자열 s가 매개변수로 주어질 때, 아래 설명한 방법으로 1개 이상 단위로 문자열을 잘라 압축하여 표현한 문자열 중 가장 짧은 것의 길이를 return 하도록 solution 함수**를 만들기"
   ]
  },
  {
   "cell_type": "markdown",
   "id": "fc788138",
   "metadata": {},
   "source": [
    " \"aabbaccc\"의 경우 \"2a2ba3c\"(문자가 반복되지 않아 한번만 나타난 경우 1은 생략함)와 같이 표현할 수 있는데, 이러한 방식은 반복되는 문자가 적은 경우 압축률이 낮다는 단점"
   ]
  },
  {
   "cell_type": "markdown",
   "id": "592e4a77",
   "metadata": {},
   "source": [
    "**예시**"
   ]
  },
  {
   "cell_type": "markdown",
   "id": "4bd3aec1",
   "metadata": {},
   "source": [
    "\"ababcdcdababcdcd\"의 경우 문자를 1개 단위로 자르면 전혀 압축되지 않지만, 2개 단위로 잘라서 압축한다면 \"2ab2cd2ab2cd\"로 표현할 수 있습니다. 다른 방법으로 8개 단위로 잘라서 압축한다면 \"2ababcdcd\"로 표현할 수 있으며, 이때가 가장 짧게 압축하여 표현할 수 있는 방법"
   ]
  },
  {
   "cell_type": "markdown",
   "id": "76ce8248",
   "metadata": {},
   "source": [
    "**제한사항**"
   ]
  },
  {
   "cell_type": "markdown",
   "id": "250105f6",
   "metadata": {},
   "source": [
    "* 1 ≤ s의 길이 ≤ 1,000  \n",
    "* s는 알파벳 소문자"
   ]
  },
  {
   "cell_type": "code",
   "execution_count": 37,
   "id": "c8f97f03",
   "metadata": {},
   "outputs": [
    {
     "name": "stdout",
     "output_type": "stream",
     "text": [
      "aabbaccc\n"
     ]
    },
    {
     "data": {
      "text/plain": [
       "7"
      ]
     },
     "execution_count": 37,
     "metadata": {},
     "output_type": "execute_result"
    }
   ],
   "source": [
    "s = input()\n",
    "\n",
    "def solution(s):\n",
    "    # 문자열 길이가 1이라면 1 반환\n",
    "    if len(s) == 1: \n",
    "        return 1  \n",
    "\n",
    "    len_s = len(s) \n",
    "    for size in range(1, len(s) // 2 + 1):  # ex) aabbaccc 라면 문자열 길이가 8 //2 = 4 → [size : 1, 2, 3, 4]\n",
    "        result = \"\"\n",
    "        prev = s[:size] \n",
    "        count = 0\n",
    "        for i in range(0, len(s), size):\n",
    "            # 이전 문자열과 동일하면 count에 1씩 증가\n",
    "            if s[i:i+size] == prev:  \n",
    "                count += 1\n",
    "            # 다르다면 \n",
    "            else:  \n",
    "                result += (str(count) if count > 1 else '') + prev  # 카운트와 이전 문자열 추가\n",
    "                prev = s[i:i+size]  # 이전 문자열 업데이트\n",
    "\n",
    "                # count 1로 초기화 \n",
    "                count = 1  \n",
    "        # count가 1보다 크면 문자열로 변환한 count + prev \n",
    "        # ex) count : 3, prev : a → 3a\n",
    "        \n",
    "        # count가 1이하이면 → \"\" + prev \n",
    "        # ex) count : 1, prev = a → a 반환 \n",
    "        result += (str(count) if count > 1 else '') + prev  \n",
    "        len_s = min(len_s, len(result)) \n",
    "\n",
    "    return len_s\n",
    "\n",
    "solution(s)"
   ]
  },
  {
   "cell_type": "code",
   "execution_count": 38,
   "id": "77e01d8a",
   "metadata": {},
   "outputs": [
    {
     "name": "stdout",
     "output_type": "stream",
     "text": [
      "ababcdcdababcdcd\n"
     ]
    },
    {
     "data": {
      "text/plain": [
       "9"
      ]
     },
     "execution_count": 38,
     "metadata": {},
     "output_type": "execute_result"
    }
   ],
   "source": [
    "s = input()\n",
    "solution(s)"
   ]
  },
  {
   "cell_type": "code",
   "execution_count": 39,
   "id": "e3044796",
   "metadata": {},
   "outputs": [
    {
     "name": "stdout",
     "output_type": "stream",
     "text": [
      "abcabcdede\n"
     ]
    },
    {
     "data": {
      "text/plain": [
       "8"
      ]
     },
     "execution_count": 39,
     "metadata": {},
     "output_type": "execute_result"
    }
   ],
   "source": [
    "s = input()\n",
    "solution(s)"
   ]
  },
  {
   "cell_type": "code",
   "execution_count": 40,
   "id": "a868d35d",
   "metadata": {},
   "outputs": [
    {
     "name": "stdout",
     "output_type": "stream",
     "text": [
      "abcabcabcabcdededededede\n"
     ]
    },
    {
     "data": {
      "text/plain": [
       "14"
      ]
     },
     "execution_count": 40,
     "metadata": {},
     "output_type": "execute_result"
    }
   ],
   "source": [
    "s = input()\n",
    "solution(s)"
   ]
  },
  {
   "cell_type": "code",
   "execution_count": 41,
   "id": "673fc321",
   "metadata": {},
   "outputs": [
    {
     "name": "stdout",
     "output_type": "stream",
     "text": [
      "xababcdcdababcdcd\n"
     ]
    },
    {
     "data": {
      "text/plain": [
       "17"
      ]
     },
     "execution_count": 41,
     "metadata": {},
     "output_type": "execute_result"
    }
   ],
   "source": [
    "s = input()\n",
    "solution(s)"
   ]
  },
  {
   "cell_type": "code",
   "execution_count": 36,
   "id": "c0e6d76c",
   "metadata": {
    "scrolled": true
   },
   "outputs": [
    {
     "name": "stdout",
     "output_type": "stream",
     "text": [
      "aabbaccc\n",
      "b\n",
      "a\n",
      "c\n",
      "bb\n",
      "ac\n",
      "cc\n",
      "bac\n",
      "cc\n",
      "accc\n"
     ]
    },
    {
     "data": {
      "text/plain": [
       "7"
      ]
     },
     "execution_count": 36,
     "metadata": {},
     "output_type": "execute_result"
    }
   ],
   "source": [
    "s = input()\n",
    "\n",
    "def solution(s):\n",
    "    # 문자열 길이가 1이라면 1 반환\n",
    "    if len(s) == 1: \n",
    "        return 1  \n",
    "\n",
    "    len_s = len(s) \n",
    "    for size in range(1, len(s) // 2 + 1):  # ex) aabbaccc 라면 문자열 길이가 8 //2 = 4 → [size : 1, 2, 3, 4]\n",
    "        result = \"\"\n",
    "        prev = s[:size] \n",
    "        '''\n",
    "        print(prev)\n",
    "        a\n",
    "        aa\n",
    "        aab\n",
    "        aabb\n",
    "        '''\n",
    "        count = 0\n",
    "        for i in range(0, len(s), size):\n",
    "            # 이전 문자열과 동일하면 count에 1씩 증가\n",
    "            if s[i:i+size] == prev:  \n",
    "                count += 1\n",
    "            # 다르다면 \n",
    "            else:  \n",
    "                result += (str(count) if count > 1 else '') + prev  # 카운트와 이전 문자열 추가\n",
    "                '''\n",
    "                print(result)\n",
    "                2a\n",
    "                2a2b\n",
    "                2a2ba\n",
    "                aa\n",
    "                aabb\n",
    "                aabbac\n",
    "                aab\n",
    "                aabbac\n",
    "                aabb\n",
    "                '''\n",
    "                prev = s[i:i+size]  # 이전 문자열 업데이트\n",
    "                '''\n",
    "                print(prev)\n",
    "                b\n",
    "                a\n",
    "                c\n",
    "                bb\n",
    "                ac\n",
    "                cc\n",
    "                bac\n",
    "                cc\n",
    "                accc\n",
    "                '''\n",
    "                # count 1로 초기화 \n",
    "                count = 1  \n",
    "        # count가 1보다 크면 문자열로 변환한 count + prev (ex) count : 3, prev : a → 3a) \n",
    "        # count가 1이하이면 → \"\" + prev ( ex) count : 1, prev = a → a 반환) \n",
    "        result += (str(count) if count > 1 else '') + prev  \n",
    "        \n",
    "        '''\n",
    "        print(result)\n",
    "        2a2ba3c\n",
    "        aabbaccc\n",
    "        aabbaccc\n",
    "        aabbaccc\n",
    "        '''\n",
    "        len_s = min(len_s, len(result)) \n",
    "\n",
    "    return len_s\n",
    "\n",
    "solution(s)\n"
   ]
  },
  {
   "cell_type": "markdown",
   "id": "f6fd77d6",
   "metadata": {},
   "source": [
    "### **이전풀이**"
   ]
  },
  {
   "cell_type": "code",
   "execution_count": 43,
   "id": "431bc166",
   "metadata": {},
   "outputs": [
    {
     "name": "stdout",
     "output_type": "stream",
     "text": [
      "aabbaccc\n",
      "7\n"
     ]
    }
   ],
   "source": [
    "s = input(\"\")         # 입력 받은 문자열\n",
    "\n",
    "result = []           # 결과를 저장할 리스트\n",
    "\n",
    "def solution(s):\n",
    "    global result    # solution 함수 내에서 사용 가능한 전역 변수 result\n",
    "\n",
    "    for length in range(1, len(s) // 2 + 1):          # 문자열 압축 단위 개수 확인\n",
    "        \n",
    "        str_c = []                                     # 초기화\n",
    "        for i in range(0, len(s), length):             # 문자열을 최대 압축 단위만큼 쪼개기\n",
    "            substr = s[i:i + length]                   # 범위만큼 쪼갠 문자열 substr 변수에 저장\n",
    "  \n",
    "            if str_c and str_c[-1][0] == substr:      # 직전에 저장한 문자열과 현재 문자열이 같다면   \n",
    "                str_c[-1] = (substr, str_c[-1][1] + 1) # 튜플의 원소의 값 + 1 증가\n",
    "            else:                                      # 같지 않다면 (처음은 초기화 상태라 else 부터 시작)\n",
    "                str_c.append((substr, 1))               # 새로운 튜플을 추가\n",
    "\n",
    "        # 결과를 문자열로 합치기\n",
    "        result_str = []\n",
    "\n",
    "        for substr, count in str_c:                   # 튜플의 값을 문자와 숫자로 나눈다.\n",
    "            if count > 1:                             # 숫자가 1보다 크면\n",
    "                result_str.append(str(count) + substr) # ex) ('a', 2) 이 구조에서 2a로 \n",
    "            else:\n",
    "                result_str.append(substr)              # 숫자가 1보다 작다면 그대로 문자만 반환 \n",
    "\n",
    "        result_str = ''.join(result_str)               # 하나의 문자열로 연결\n",
    "\n",
    "        # 결과의 길이 계산 및 저장\n",
    "        result_length = len(result_str)\n",
    "        result.append((length, result_length))         # ex) 1로 압축 했을 때의 결과 길이, ... length로 압훅 했을 때 결과 길이\n",
    "\n",
    "    min_len = min(result, key=lambda x: x[1])[1]      # (문자열 길이)를 기준으로 최소값을 찾기\n",
    "    return min_len                                    # 결과값을 반환\n",
    "\n",
    "# solution 함수 호출\n",
    "min_len = solution(s)\n",
    "\n",
    "                                \n",
    "print(min_len)\n",
    "              "
   ]
  }
 ],
 "metadata": {
  "kernelspec": {
   "display_name": "study",
   "language": "python",
   "name": "study"
  },
  "language_info": {
   "codemirror_mode": {
    "name": "ipython",
    "version": 3
   },
   "file_extension": ".py",
   "mimetype": "text/x-python",
   "name": "python",
   "nbconvert_exporter": "python",
   "pygments_lexer": "ipython3",
   "version": "3.10.13"
  }
 },
 "nbformat": 4,
 "nbformat_minor": 5
}
