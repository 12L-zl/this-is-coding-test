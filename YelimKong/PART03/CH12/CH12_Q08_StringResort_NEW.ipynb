{
 "cells": [
  {
   "cell_type": "markdown",
   "id": "314d8ea6",
   "metadata": {},
   "source": [
    "### **(8) 문자열 재정렬**"
   ]
  },
  {
   "cell_type": "markdown",
   "id": "5bd092f8",
   "metadata": {},
   "source": [
    "**문제**"
   ]
  },
  {
   "cell_type": "markdown",
   "id": "44634eff",
   "metadata": {},
   "source": [
    "**알파벳 대문자와 숫자(0~9)로만 구성된 문자열이 입력**으로 주어짐  \n",
    "이때 **모든 알파벳을 오름차순으로 정렬하여 이어서 출력**한 뒤에,  \n",
    "**그 뒤에 모든 숫자를 더한 값을 이어서 출력**"
   ]
  },
  {
   "cell_type": "markdown",
   "id": "47e1273e",
   "metadata": {},
   "source": [
    "**예시**"
   ]
  },
  {
   "cell_type": "markdown",
   "id": "28e6ed74",
   "metadata": {},
   "source": [
    "K1KA5CB7이라는 값이 들어오면 ABCKK13 출력"
   ]
  },
  {
   "cell_type": "markdown",
   "id": "01084ddc",
   "metadata": {},
   "source": [
    "**입력 조건**"
   ]
  },
  {
   "cell_type": "markdown",
   "id": "528f8a55",
   "metadata": {},
   "source": [
    "* 첫째 줄에 하나의 문자열 S가 주어진다. (1 ≤ S의 길이 ≤ 10,000)"
   ]
  },
  {
   "cell_type": "markdown",
   "id": "23735c09",
   "metadata": {},
   "source": [
    "**출력 조건**"
   ]
  },
  {
   "cell_type": "markdown",
   "id": "34ff86d7",
   "metadata": {},
   "source": [
    "* 첫째 줄에 문제에서 요구하는 정답을 출력"
   ]
  },
  {
   "cell_type": "markdown",
   "id": "313bed01",
   "metadata": {},
   "source": [
    "### **코드 요약**\n",
    "* 1. 문자열 입력 후 문자 리스트 s를 생성한다.\n",
    "* 2. s에서 알파벳만 alpha 리스트에 저장한다.\n",
    "* 3. 알파벳 오름차순 정렬 후 sorted_alpha에 저장한다.\n",
    "* 4. s에서 숫자만 정수로 반환해서 num 리스트에 저장한다.\n",
    "* 5. num 리스트의 합 계산 후 sum_num에 저장한다. \n",
    "* 6. sorted_alpha과 문자열로 변환한 sum_num을 join으로 연결해서 출력한다."
   ]
  },
  {
   "cell_type": "code",
   "execution_count": 19,
   "id": "40def173",
   "metadata": {},
   "outputs": [
    {
     "name": "stdout",
     "output_type": "stream",
     "text": [
      "K1KA5CB7\n",
      "ABCKK13\n"
     ]
    }
   ],
   "source": [
    "s = [str for str in input()]\n",
    "\n",
    "alpha = [i for i in s if i.isalpha()]\n",
    "sorted_alpha = sorted(alpha)\n",
    "\n",
    "num = alpha = [ int(i) for i in s if i.isdigit()]\n",
    "sum_num = sum(num)\n",
    "\n",
    "print(''.join(sorted_alpha) + str(sum_num))"
   ]
  },
  {
   "cell_type": "code",
   "execution_count": 20,
   "id": "81837b7f",
   "metadata": {},
   "outputs": [
    {
     "name": "stdout",
     "output_type": "stream",
     "text": [
      "AJKDLSI412K4JSJ9D\n",
      "ADDIJJJKKLSS20\n"
     ]
    }
   ],
   "source": [
    "s = [str for str in input()]\n",
    "\n",
    "alpha = [i for i in s if i.isalpha()]\n",
    "sorted_alpha = sorted(alpha)\n",
    "\n",
    "num = alpha = [ int(i) for i in s if i.isdigit()]\n",
    "sum_num = sum(num)\n",
    "\n",
    "print(''.join(sorted_alpha) + str(sum_num))"
   ]
  },
  {
   "cell_type": "code",
   "execution_count": 14,
   "id": "ab5c1b52",
   "metadata": {
    "scrolled": true
   },
   "outputs": [
    {
     "name": "stdout",
     "output_type": "stream",
     "text": [
      "K1KA5CB7\n",
      "['K', '1', 'K', 'A', '5', 'C', 'B', '7']\n"
     ]
    }
   ],
   "source": [
    "s = [str for str in input()]\n",
    "print(s)"
   ]
  },
  {
   "cell_type": "code",
   "execution_count": 15,
   "id": "063bed49",
   "metadata": {},
   "outputs": [
    {
     "name": "stdout",
     "output_type": "stream",
     "text": [
      "K1KA5CB7\n",
      "['K', 'K', 'A', 'C', 'B']\n"
     ]
    }
   ],
   "source": [
    "s = [str for str in input()]\n",
    "\n",
    "alpha = [\n",
    "    i for i in s if i.isalpha()\n",
    "]\n",
    "print(alpha) "
   ]
  },
  {
   "cell_type": "code",
   "execution_count": 16,
   "id": "a8a5c67e",
   "metadata": {},
   "outputs": [
    {
     "name": "stdout",
     "output_type": "stream",
     "text": [
      "['A', 'B', 'C', 'K', 'K']\n"
     ]
    }
   ],
   "source": [
    "sorted_alpha = sorted(alpha)\n",
    "print(sorted_alpha)"
   ]
  },
  {
   "cell_type": "code",
   "execution_count": 17,
   "id": "333f8796",
   "metadata": {},
   "outputs": [
    {
     "name": "stdout",
     "output_type": "stream",
     "text": [
      "13\n"
     ]
    }
   ],
   "source": [
    "num = alpha = [\n",
    "    int(i) for i in s if i.isdigit()\n",
    "]\n",
    "sum_num = sum(num)\n",
    "print(sum_num)"
   ]
  },
  {
   "cell_type": "code",
   "execution_count": 18,
   "id": "c225c599",
   "metadata": {},
   "outputs": [
    {
     "name": "stdout",
     "output_type": "stream",
     "text": [
      "ABCKK13\n"
     ]
    }
   ],
   "source": [
    "print(''.join(sorted_alpha) + str(sum_num))"
   ]
  }
 ],
 "metadata": {
  "kernelspec": {
   "display_name": "study",
   "language": "python",
   "name": "study"
  },
  "language_info": {
   "codemirror_mode": {
    "name": "ipython",
    "version": 3
   },
   "file_extension": ".py",
   "mimetype": "text/x-python",
   "name": "python",
   "nbconvert_exporter": "python",
   "pygments_lexer": "ipython3",
   "version": "3.10.13"
  }
 },
 "nbformat": 4,
 "nbformat_minor": 5
}
