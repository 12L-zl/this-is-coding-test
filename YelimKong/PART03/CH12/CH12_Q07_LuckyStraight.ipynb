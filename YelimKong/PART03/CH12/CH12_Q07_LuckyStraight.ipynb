{
 "cells": [
  {
   "cell_type": "markdown",
   "id": "b4d85352",
   "metadata": {},
   "source": [
    "### (7) 럭키 스트레이트 "
   ]
  },
  {
   "cell_type": "markdown",
   "id": "c0f26cec",
   "metadata": {},
   "source": [
    " **문제**\n",
    "\n",
    "'럭키 스트레이트'는 게임 내에서 점수가 특정 조건을 만족할 때만 사용할 수 있다.  \n",
    "**특정조건**이란 현재 캐릭터의 점수를 N이라고 할 때 자릿수를 기준으로 점수 N을 반으로 나누어 왼쪽 부분의 각 자릿수의 합과 오른쪽 부분의 각 자릿수 부분의 합을 더한 값이 동일한 상황을 의미"
   ]
  },
  {
   "cell_type": "markdown",
   "id": "85b06573",
   "metadata": {},
   "source": [
    "**예시**"
   ]
  },
  {
   "cell_type": "markdown",
   "id": "38d09101",
   "metadata": {},
   "source": [
    "현재 점수가 $123,402$ 라면 **왼쪽 부분의 각 자릿수 합**은 $1 + 2 + 3$, **오른쪽 부분의 각 자릿수 합**은  $4 + 0 + 2$ 이므로 **두 합이 6으로 동일하여 럭키 스트레이트 사용** 가능 "
   ]
  },
  {
   "cell_type": "markdown",
   "id": "1e393272",
   "metadata": {},
   "source": [
    "**입력 조건**\n",
    "* 첫째 줄에 점수 N이 정수로 주어진다. $(10 ≤ N ≤ 99,999,999)$ \n",
    "* 단, 점수 N의 자릿수는 항상 짝수 형태로만 주어진다. ex) 총 자릿수가 5인 $12,345$와 같은 수는 입력 안 됨"
   ]
  },
  {
   "cell_type": "markdown",
   "id": "a1a287f4",
   "metadata": {},
   "source": [
    "**출력 조건**\n",
    "* 첫째 줄에 **럭키 스트레이트를 사용할 수 있다면 \"LUCKY\"** 를, **사용할 수 없다면 \"READY\"** 를 출력 "
   ]
  },
  {
   "cell_type": "markdown",
   "id": "e063a3af",
   "metadata": {},
   "source": [
    "**코드 요약**\n",
    "\n",
    "    1. N 입력 생성, N의 총 길이 n변수 저장\n",
    "    2. N의 조건 생성\n",
    "    3. N을 문자로 쪼개서 리스트에 각 자리수 별 다시 저장\n",
    "    4. 첫 번째, 마지막 인덱스로 사용할 변수 생성\n",
    "    5. lucky 함수 정의\n",
    "    6. 중간 인덱스 사용할 변수 생성\n",
    "    7. array의 0 ~ 중간 인덱스 까지 더한 값과 중간 + 1 ~ 마지막 인덱스까지 더한 값이 같다면\n",
    "    8. LUCKY 반환\n",
    "    9. 같지 않다면 READY 반환\n",
    "    "
   ]
  },
  {
   "cell_type": "code",
   "execution_count": 13,
   "id": "c61eb46b",
   "metadata": {},
   "outputs": [
    {
     "data": {
      "text/plain": [
       "[1, 2, 4, 5, 3, 2]"
      ]
     },
     "execution_count": 13,
     "metadata": {},
     "output_type": "execute_result"
    }
   ],
   "source": [
    "N = 124532\n",
    "idx = [int((i)) for i in str(N)]\n",
    "idx"
   ]
  },
  {
   "cell_type": "code",
   "execution_count": 16,
   "id": "8b2bbbb1",
   "metadata": {},
   "outputs": [
    {
     "name": "stdout",
     "output_type": "stream",
     "text": [
      "123402\n",
      "결과: LUCKY\n",
      "실행 시간: 0.0006968975067138672 초\n"
     ]
    }
   ],
   "source": [
    "import time\n",
    "\n",
    "N = int(input())\n",
    "n = len(str(N))\n",
    "\n",
    "if not (n % 2 == 0):                     # 조건 1 : n의 총 길이는 짝수\n",
    "    print(\"N의 길이는 짝수여야 합니다.\")\n",
    "    exit()                                # 반복문이 아니여서 exit() 사용함\n",
    "\n",
    "start_time = time.time()                  # 시작 시점\n",
    " \n",
    "array = [int(i) for i in str(N)]         # N을 문자로 쪼개서 리스트에 각 자리수 별 다시 저장 \n",
    "\n",
    "start = 0                                 # 첫 번째 인덱스\n",
    "end = len(array) - 1                      # 마지막 인덱스\n",
    "\n",
    "\n",
    "def lucky(array, start, end):             \n",
    "    mid = (start + end) // 2              # 중간 인덱스\n",
    "    \n",
    "    # array의 0 ~ 중간 인덱스 까지 더한 값과 중간 + 1 ~ 마지막 인덱스까지 더한 값이 같다면\n",
    "    if sum(array[start:mid + 1]) == sum(array[mid + 1:end + 1]):\n",
    "        return \"LUCKY\"                    # LUCKY 반환\n",
    "    else:                                 # 같지 않다면\n",
    "        return \"READY\"                    # READY 반환\n",
    "\n",
    "result = lucky(array, start, end)         # 결과 값\n",
    "\n",
    "\n",
    "end_time = time.time()                    # 종료 시점\n",
    "\n",
    "running_time = end_time - start_time     \n",
    "\n",
    "print(\"결과:\", result)\n",
    "print(f\"실행 시간: {running_time} 초\")\n"
   ]
  },
  {
   "cell_type": "code",
   "execution_count": 17,
   "id": "c252075a",
   "metadata": {},
   "outputs": [
    {
     "name": "stdout",
     "output_type": "stream",
     "text": [
      "7755\n",
      "결과: READY\n",
      "실행 시간: 0.0011246204376220703 초\n"
     ]
    }
   ],
   "source": [
    "import time\n",
    "\n",
    "N = int(input())\n",
    "n = len(str(N))\n",
    "\n",
    "if not (n % 2 == 0):                     # 조건 1 : n의 총 길이는 짝수\n",
    "    print(\"N의 길이는 짝수여야 합니다.\")\n",
    "    exit()                                # 반복문이 아니여서 exit() 사용함\n",
    "\n",
    "start_time = time.time()                  # 시작 시점\n",
    " \n",
    "array = [int(i) for i in str(N)]         # N을 문자로 쪼개서 리스트에 각 자리수 별 다시 저장 \n",
    "\n",
    "start = 0                                 # 첫 번째 인덱스\n",
    "end = len(array) - 1                      # 마지막 인덱스\n",
    "\n",
    "\n",
    "def lucky(array, start, end):             \n",
    "    mid = (start + end) // 2              # 중간 인덱스\n",
    "    \n",
    "    # array의 0 ~ 중간 인덱스 까지 더한 값과 중간 + 1 ~ 마지막 인덱스까지 더한 값이 같다면\n",
    "    if sum(array[start:mid + 1]) == sum(array[mid + 1:end + 1]):\n",
    "        return \"LUCKY\"                    # LUCKY 반환\n",
    "    else:                                 # 같지 않다면\n",
    "        return \"READY\"                    # READY 반환\n",
    "\n",
    "result = lucky(array, start, end)         # 결과 값\n",
    "\n",
    "\n",
    "end_time = time.time()                    # 종료 시점\n",
    "\n",
    "running_time = end_time - start_time     \n",
    "\n",
    "print(\"결과:\", result)\n",
    "print(f\"실행 시간: {running_time} 초\")\n"
   ]
  }
 ],
 "metadata": {
  "kernelspec": {
   "display_name": "study",
   "language": "python",
   "name": "study"
  },
  "language_info": {
   "codemirror_mode": {
    "name": "ipython",
    "version": 3
   },
   "file_extension": ".py",
   "mimetype": "text/x-python",
   "name": "python",
   "nbconvert_exporter": "python",
   "pygments_lexer": "ipython3",
   "version": "3.10.13"
  }
 },
 "nbformat": 4,
 "nbformat_minor": 5
}
