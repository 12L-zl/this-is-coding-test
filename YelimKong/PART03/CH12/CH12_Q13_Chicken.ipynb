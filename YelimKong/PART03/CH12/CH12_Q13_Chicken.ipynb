{
 "cells": [
  {
   "cell_type": "markdown",
   "id": "c3b1bfb4",
   "metadata": {},
   "source": [
    "## **(13) 치킨배달**"
   ]
  },
  {
   "cell_type": "markdown",
   "id": "1320bcdb",
   "metadata": {},
   "source": [
    "**링크 : https://www.acmicpc.net/problem/15686**"
   ]
  },
  {
   "cell_type": "markdown",
   "id": "1a5f1df2",
   "metadata": {},
   "source": [
    "### **문제**"
   ]
  },
  {
   "cell_type": "markdown",
   "id": "7c8e1ea4",
   "metadata": {},
   "source": [
    "크기가 N×N인 도시가 있다. 도시는 1×1크기의 칸으로 나누어져 있다. 도시의 각 칸은 빈 칸, 치킨집, 집 중 하나이다. 도시의 칸은 (r, c)와 같은 형태로 나타내고, r행 c열 또는 위에서부터 r번째 칸, 왼쪽에서부터 c번째 칸을 의미한다. r과 c는 1부터 시작한다.\n",
    "\n",
    "이 도시에 사는 사람들은 치킨을 매우 좋아한다. 따라서, 사람들은 \"치킨 거리\"라는 말을 주로 사용한다. **치킨 거리는 집과 가장 가까운 치킨집 사이의 거리**이다. 즉, 치킨 거리는 집을 기준으로 정해지며, 각각의 집은 치킨 거리를 가지고 있다. 도시의 치킨 거리는 모든 집의 치킨 거리의 합이다.\n",
    "\n",
    "임의의 두 칸 (r1, c1)과 (r2, c2) 사이의 거리는 |r1-r2| + |c1-c2|로 구한다.\n",
    "\n",
    "예를 들어, 아래와 같은 지도를 갖는 도시를 살펴보자."
   ]
  },
  {
   "cell_type": "markdown",
   "id": "0df42cb7",
   "metadata": {},
   "source": [
    "0 2 0 1 0  \n",
    "1 0 1 0 0  \n",
    "0 0 0 0 0  \n",
    "0 0 0 1 1  \n",
    "0 0 0 1 2  "
   ]
  },
  {
   "cell_type": "markdown",
   "id": "21a3894c",
   "metadata": {},
   "source": [
    "**0은 빈 칸, 1은 집, 2는 치킨집이다.**\n",
    "\n",
    "(2, 1)에 있는 집과 (1, 2)에 있는 치킨집과의 거리는 |2-1| + |1-2| = 2, (5, 5)에 있는 치킨집과의 거리는 |2-5| + |1-5| = 7이다. 따라서, (2, 1)에 있는 집의 치킨 거리는 2이다.\n",
    "\n",
    "(5, 4)에 있는 집과 (1, 2)에 있는 치킨집과의 거리는 |5-1| + |4-2| = 6, (5, 5)에 있는 치킨집과의 거리는 |5-5| + |4-5| = 1이다. 따라서, (5, 4)에 있는 집의 치킨 거리는 1이다.\n",
    "\n",
    "이 도시에 있는 치킨집은 모두 같은 프랜차이즈이다. 프렌차이즈 본사에서는 수익을 증가시키기 위해 일부 치킨집을 폐업시키려고 한다. 오랜 연구 끝에 **이 도시에서 가장 수익을 많이 낼 수 있는  치킨집의 개수는 최대 M개**라는 사실을 알아내었다.\n",
    "\n",
    "**도시에 있는 치킨집 중에서 최대 M개를 고르고, 나머지 치킨집은 모두 폐업**시켜야 한다. 어떻게 고르면, **도시의 치킨 거리가 가장 작게 될지 구하는** 프로그램을 작성하시오."
   ]
  },
  {
   "cell_type": "markdown",
   "id": "d6f5ab12",
   "metadata": {},
   "source": [
    "### **입력**"
   ]
  },
  {
   "cell_type": "markdown",
   "id": "96efe266",
   "metadata": {},
   "source": [
    "첫째 줄에 N(2 ≤ N ≤ 50)과 M(1 ≤ M ≤ 13)이 주어진다.\n",
    "\n",
    "둘째 줄부터 N개의 줄에는 도시의 정보가 주어진다.\n",
    "\n",
    "도시의 정보는 0, 1, 2로 이루어져 있고, 0은 빈 칸, 1은 집, 2는 치킨집을 의미한다. 집의 개수는 2N개를 넘지 않으며, 적어도 1개는 존재한다. 치킨집의 개수는 M보다 크거나 같고, 13보다 작거나 같다."
   ]
  },
  {
   "cell_type": "markdown",
   "id": "7e8eac03",
   "metadata": {},
   "source": [
    "### **출력**"
   ]
  },
  {
   "cell_type": "markdown",
   "id": "333b5629",
   "metadata": {},
   "source": [
    "첫째 줄에 폐업시키지 않을 치킨집을 최대 M개를 골랐을 때, **도시의 치킨 거리의 최솟값**을 출력한다."
   ]
  },
  {
   "cell_type": "markdown",
   "id": "313501ba",
   "metadata": {},
   "source": [
    "**예제 입력 1**"
   ]
  },
  {
   "cell_type": "markdown",
   "id": "0e51bd1b",
   "metadata": {},
   "source": [
    "5 3  \n",
    "0 0 1 0 0  \n",
    "0 0 2 0 1  \n",
    "0 1 2 0 0  \n",
    "0 0 1 0 0  \n",
    "0 0 0 0 2  "
   ]
  },
  {
   "cell_type": "markdown",
   "id": "0e9dbd7e",
   "metadata": {},
   "source": [
    "**예제 출력 1**"
   ]
  },
  {
   "cell_type": "markdown",
   "id": "60fbdd22",
   "metadata": {},
   "source": [
    "5"
   ]
  },
  {
   "cell_type": "markdown",
   "id": "3b635e63",
   "metadata": {},
   "source": [
    "**예제 입력 2**"
   ]
  },
  {
   "cell_type": "markdown",
   "id": "da341af0",
   "metadata": {},
   "source": [
    "5 2  \n",
    "0 2 0 1 0  \n",
    "1 0 1 0 0  \n",
    "0 0 0 0 0  \n",
    "2 0 0 1 1  \n",
    "2 2 0 1 2  "
   ]
  },
  {
   "cell_type": "markdown",
   "id": "e35c4ed7",
   "metadata": {},
   "source": [
    "**예제 출력 2**"
   ]
  },
  {
   "cell_type": "markdown",
   "id": "7398bdf1",
   "metadata": {},
   "source": [
    "10"
   ]
  },
  {
   "cell_type": "markdown",
   "id": "6a06684d",
   "metadata": {},
   "source": [
    "**예제 입력 3**"
   ]
  },
  {
   "cell_type": "markdown",
   "id": "1e5df0fb",
   "metadata": {},
   "source": [
    "5 1  \n",
    "1 2 0 0 0  \n",
    "1 2 0 0 0  \n",
    "1 2 0 0 0  \n",
    "1 2 0 0 0  \n",
    "1 2 0 0 0  "
   ]
  },
  {
   "cell_type": "markdown",
   "id": "23c168ea",
   "metadata": {},
   "source": [
    "**예제 출력 3**"
   ]
  },
  {
   "cell_type": "markdown",
   "id": "d4aad55d",
   "metadata": {},
   "source": [
    "11"
   ]
  },
  {
   "cell_type": "markdown",
   "id": "fe9b1c41",
   "metadata": {},
   "source": [
    "### **CODE**"
   ]
  },
  {
   "cell_type": "markdown",
   "id": "9fce0fb0",
   "metadata": {},
   "source": [
    "**itertools 라이브러리**\n",
    "* combinations(iterable, r) : iterable에서 원소 개수가 r개인 조합 뽑기"
   ]
  },
  {
   "cell_type": "code",
   "execution_count": 10,
   "id": "edfcb57e",
   "metadata": {},
   "outputs": [
    {
     "name": "stdout",
     "output_type": "stream",
     "text": [
      "(1, 2)\n",
      "(1, 3)\n",
      "(2, 3)\n"
     ]
    }
   ],
   "source": [
    "from itertools import combinations\n",
    "\n",
    "l = [1,2,3]\n",
    "\n",
    "# I에서 2가지의 조합 찾기\n",
    "for i in combinations(l,2):\n",
    "    print(i)\n"
   ]
  },
  {
   "cell_type": "code",
   "execution_count": 31,
   "id": "83d14e34",
   "metadata": {
    "scrolled": true
   },
   "outputs": [
    {
     "name": "stdout",
     "output_type": "stream",
     "text": [
      "5 3\n",
      "0 0 1 0 0 \n",
      "0 0 2 0 1\n",
      "0 1 2 0 0 \n",
      "0 0 1 0 0\n",
      "0 0 0 0 2\n",
      "1\n",
      "2\n",
      "1\n",
      "1\n",
      "5\n"
     ]
    }
   ],
   "source": [
    "from itertools import combinations\n",
    "\n",
    "n, m = map(int, input().split())\n",
    "\n",
    "city = []\n",
    "for _ in range(n):\n",
    "    row = list(map(int, input().split()))\n",
    "    city.append(row)\n",
    "\n",
    "#print(city) \n",
    "# [[0, 0, 1, 0, 0], [0, 0, 2, 0, 1], [0, 1, 2, 0, 0], [0, 0, 1, 0, 0], [0, 0, 0, 0, 2]]  \n",
    "    \n",
    "homes = []    # 집의 좌표 \n",
    "chickens = [] # 치킨의 좌표 \n",
    "\n",
    "# 집과 치킨집의 위치 찾기\n",
    "for i in range(n):\n",
    "    for j in range(n):\n",
    "        if city[i][j] == 1:\n",
    "            homes.append((i+1, j+1))\n",
    "            #print(homes)\n",
    "            '''\n",
    "            [(1, 3)]\n",
    "            [(1, 3), (2, 5)]\n",
    "            [(1, 3), (2, 5), (3, 2)]\n",
    "            [(1, 3), (2, 5), (3, 2), (4, 3)]\n",
    "            '''\n",
    "            \n",
    "        elif city[i][j] == 2:\n",
    "            chickens.append((i+1, j+1))\n",
    "            #print(chickens)\n",
    "            '''\n",
    "            [(2, 3)]\n",
    "            [(2, 3), (3, 3)]\n",
    "            [(2, 3), (3, 3), (5, 5)]\n",
    "            '''\n",
    "                  \n",
    "# 무한대로 초기화 \n",
    "min_distance = float('inf')\n",
    "\n",
    "# 치킨집의 조합 중 M개를 선택\n",
    "for chicken_comb in combinations(chickens, m):\n",
    "    #print(chicken_comb) # ((2, 3), (3, 3), (5, 5))\n",
    "   \n",
    "    total_distance = 0\n",
    "    for home in homes:\n",
    "        # 각 집에서 가장 가까운 치킨집까지 거리 찾기\n",
    "        distance = min([abs(home[0] - c[0]) + abs(home[1] - c[1]) for c in chicken_comb])\n",
    "        #print(distance)\n",
    "        '''\n",
    "        1\n",
    "        2\n",
    "        1\n",
    "        1\n",
    "        '''\n",
    "        total_distance += distance\n",
    "    # 최소 치킨 거리 업데이트\n",
    "    min_distance = min(min_distance, total_distance)\n",
    "\n",
    "print(min_distance) # 1 + 2 + 1 + 1  = 5"
   ]
  },
  {
   "cell_type": "markdown",
   "id": "12bbeb3a",
   "metadata": {},
   "source": [
    "### **distance 계산 방법**  \n",
    "> homes = [(1, 3), (2, 5), (3, 2), (4, 3)]  \n",
    "> chicken_comb = ((2, 3), (3, 3), (5, 5))\n",
    "\n",
    "\n",
    "**1. 첫 번째 집 (1, 3)에서 각 치킨집까지의 거리:**\n",
    "\n",
    "(1, 3) ~ (2, 3) 거리: |1-2| + |3-3| = 1 + 0 = 1  \n",
    "(1, 3) ~ (3, 3) 거리: |1-3| + |3-3| = 2 + 0 = 2  \n",
    "(1, 3) ~ (5, 5) 거리: |1-5| + |3-5| = 4 + 2 = 6  \n",
    "min_distance: 1  \n",
    "\n",
    "\n",
    "**2. 두 번째 집 (2, 5)에서 각 치킨집까지의 거리:**\n",
    "\n",
    "(2, 5) ~ (2, 3) 거리: |2-2| + |5-3| = 0 + 2 = 2  \n",
    "(2, 5) ~ (3, 3) 거리: |2-3| + |5-3| = 1 + 2 = 3  \n",
    "(2, 5) ~ (5, 5) 거리: |2-5| + |5-5| = 3 + 0 = 3  \n",
    "min_distance: 2  \n",
    "\n",
    "\n",
    "**3. 세 번째 집 (3, 2)에서 각 치킨집까지의 거리:**\n",
    "\n",
    "(3, 2) ~ (2, 3) 거리: |3-2| + |2-3| = 1 + 1 = 2  \n",
    "(3, 2) ~ (3, 3) 거리: |3-3| + |2-3| = 0 + 1 = 1  \n",
    "(3, 2) ~ (5, 5) 거리: |3-5| + |2-5| = 2 + 3 = 5  \n",
    "min_distance: 1  \n",
    "\n",
    "\n",
    "**4. 네 번째 집 (4, 3)에서 각 치킨집까지의 거리:**\n",
    "\n",
    "(4, 3) ~ (2, 3) 거리: |4-2| + |3-3| = 2 + 0 = 2  \n",
    "(4, 3) ~ (3, 3) 거리: |4-3| + |3-3| = 1 + 0 = 1  \n",
    "(4, 3) ~ (5, 5) 거리: |4-5| + |3-5| = 1 + 2 = 3  \n",
    "min_distance: 1  "
   ]
  },
  {
   "cell_type": "code",
   "execution_count": 34,
   "id": "4031c1a2",
   "metadata": {},
   "outputs": [
    {
     "name": "stdout",
     "output_type": "stream",
     "text": [
      "5 2\n",
      "0 2 0 1 0\n",
      "1 0 1 0 0 \n",
      "0 0 0 0 0\n",
      "2 0 0 1 1\n",
      "2 2 0 1 2\n",
      "10\n"
     ]
    }
   ],
   "source": [
    "from itertools import combinations\n",
    "\n",
    "n, m = map(int, input().split())\n",
    "\n",
    "city = []\n",
    "for _ in range(n):\n",
    "    row = list(map(int, input().split()))\n",
    "    city.append(row)\n",
    "\n",
    "homes = []    # 집의 좌표 \n",
    "chickens = [] # 치킨의 좌표 \n",
    "\n",
    "# 집과 치킨집의 위치 찾기\n",
    "for i in range(n):\n",
    "    for j in range(n):\n",
    "        if city[i][j] == 1:\n",
    "            homes.append((i+1, j+1))\n",
    "            \n",
    "        elif city[i][j] == 2:\n",
    "            chickens.append((i+1, j+1))\n",
    "\n",
    "                  \n",
    "# 무한대로 초기화 \n",
    "min_distance = float('inf')\n",
    "\n",
    "# 치킨집의 조합 중 M개를 선택\n",
    "for chicken_comb in combinations(chickens, m):\n",
    "   \n",
    "    total_distance = 0\n",
    "    for home in homes:\n",
    "        # 각 집에서 가장 가까운 치킨집까지 거리 찾기\n",
    "        distance = min([abs(home[0] - c[0]) + abs(home[1] - c[1]) for c in chicken_comb])\n",
    "        total_distance += distance\n",
    "    # 최소 치킨 거리\n",
    "    min_distance = min(min_distance, total_distance)\n",
    "\n",
    "print(min_distance) # 10"
   ]
  },
  {
   "cell_type": "code",
   "execution_count": 35,
   "id": "d4a26249",
   "metadata": {},
   "outputs": [
    {
     "name": "stdout",
     "output_type": "stream",
     "text": [
      "5 1 \n",
      "1 2 0 0 0 \n",
      "1 2 0 0 0 \n",
      "1 2 0 0 0 \n",
      "1 2 0 0 0 \n",
      "1 2 0 0 0 \n",
      "11\n"
     ]
    }
   ],
   "source": [
    "from itertools import combinations\n",
    "\n",
    "n, m = map(int, input().split())\n",
    "\n",
    "city = []\n",
    "for _ in range(n):\n",
    "    row = list(map(int, input().split()))\n",
    "    city.append(row)\n",
    "\n",
    "homes = []    # 집의 좌표 \n",
    "chickens = [] # 치킨의 좌표 \n",
    "\n",
    "# 집과 치킨집의 위치 찾기\n",
    "for i in range(n):\n",
    "    for j in range(n):\n",
    "        if city[i][j] == 1:\n",
    "            homes.append((i+1, j+1))\n",
    "            \n",
    "        elif city[i][j] == 2:\n",
    "            chickens.append((i+1, j+1))\n",
    "\n",
    "                  \n",
    "# 무한대로 초기화 \n",
    "min_distance = float('inf')\n",
    "\n",
    "# 치킨집의 조합 중 M개를 선택\n",
    "for chicken_comb in combinations(chickens, m):\n",
    "   \n",
    "    total_distance = 0\n",
    "    for home in homes:\n",
    "        # 각 집에서 가장 가까운 치킨집까지 거리 찾기\n",
    "        distance = min([abs(home[0] - c[0]) + abs(home[1] - c[1]) for c in chicken_comb])\n",
    "        total_distance += distance\n",
    "    # 최소 치킨 거리\n",
    "    min_distance = min(min_distance, total_distance)\n",
    "\n",
    "print(min_distance) # 11"
   ]
  }
 ],
 "metadata": {
  "kernelspec": {
   "display_name": "study",
   "language": "python",
   "name": "study"
  },
  "language_info": {
   "codemirror_mode": {
    "name": "ipython",
    "version": 3
   },
   "file_extension": ".py",
   "mimetype": "text/x-python",
   "name": "python",
   "nbconvert_exporter": "python",
   "pygments_lexer": "ipython3",
   "version": "3.10.13"
  }
 },
 "nbformat": 4,
 "nbformat_minor": 5
}
