{
 "cells": [
  {
   "cell_type": "markdown",
   "id": "314d8ea6",
   "metadata": {},
   "source": [
    "### **(8) 문자열 재정렬**"
   ]
  },
  {
   "cell_type": "markdown",
   "id": "5bd092f8",
   "metadata": {},
   "source": [
    "**문제**"
   ]
  },
  {
   "cell_type": "markdown",
   "id": "44634eff",
   "metadata": {},
   "source": [
    "**알파벳 대문자와 숫자(0~9)로만 구성된 문자열이 입력**으로 주어짐  \n",
    "이때 **모든 알파벳을 오름차순으로 정렬하여 이어서 출력**한 뒤에,  \n",
    "**그 뒤에 모든 숫자를 더한 값을 이어서 출력**"
   ]
  },
  {
   "cell_type": "markdown",
   "id": "47e1273e",
   "metadata": {},
   "source": [
    "**예시**"
   ]
  },
  {
   "cell_type": "markdown",
   "id": "28e6ed74",
   "metadata": {},
   "source": [
    "K1KA5CB7이라는 값이 들어오면 ABCKK13 출력"
   ]
  },
  {
   "cell_type": "markdown",
   "id": "01084ddc",
   "metadata": {},
   "source": [
    "**입력 조건**"
   ]
  },
  {
   "cell_type": "markdown",
   "id": "528f8a55",
   "metadata": {},
   "source": [
    "* 첫째 줄에 하나의 문자열 S가 주어진다. (1 ≤ S의 길이 ≤ 10,000)"
   ]
  },
  {
   "cell_type": "markdown",
   "id": "23735c09",
   "metadata": {},
   "source": [
    "**출력 조건**"
   ]
  },
  {
   "cell_type": "markdown",
   "id": "34ff86d7",
   "metadata": {},
   "source": [
    "* 첫째 줄에 문제에서 요구하는 정답을 출력"
   ]
  },
  {
   "cell_type": "markdown",
   "id": "313bed01",
   "metadata": {},
   "source": [
    "**코드 요약**\n",
    "\n",
    "    1. 문자열 입력 \n",
    "    2. 문자열 쪼개서 리스트 안에 원소 형태로 넣기\n",
    "    3. 문자와 숫자를 나눠서 저장할 새 리스트 각각 생성\n",
    "    4. 만약 i가 문자라면 alpha 리스트에 추가 \n",
    "    5. 만약 i가 숫자라면 숫자를 정수형으로 변환하여 digit에 추가\n",
    "    6. 문자 리스트 안에 있는 문자들 오름차순 정렬, digit_sum  : 숫자들 다 합친 값 \n",
    "    7. 문자와 숫자를 합치기"
   ]
  },
  {
   "cell_type": "code",
   "execution_count": 8,
   "id": "5e15f314",
   "metadata": {},
   "outputs": [
    {
     "name": "stdout",
     "output_type": "stream",
     "text": [
      "K1KA5CB7\n"
     ]
    },
    {
     "data": {
      "text/plain": [
       "['K', '1', 'K', 'A', '5', 'C', 'B', '7']"
      ]
     },
     "execution_count": 8,
     "metadata": {},
     "output_type": "execute_result"
    }
   ],
   "source": [
    "# 문자열 쪼개서 리스트 안에 원소 형태로 넣기\n",
    "input(\"\")\n",
    "idx = [i for i in str(N)]\n",
    "idx\n"
   ]
  },
  {
   "cell_type": "code",
   "execution_count": 15,
   "id": "547d3c80",
   "metadata": {
    "scrolled": true
   },
   "outputs": [
    {
     "name": "stdout",
     "output_type": "stream",
     "text": [
      "K\n",
      "1\n",
      "K\n",
      "A\n",
      "5\n",
      "C\n",
      "B\n",
      "7\n"
     ]
    }
   ],
   "source": [
    "idx = ['K', '1', 'K', 'A', '5', 'C', 'B', '7']\n",
    "for i in idx:\n",
    "    print(i)"
   ]
  },
  {
   "cell_type": "code",
   "execution_count": 24,
   "id": "e7cda773",
   "metadata": {},
   "outputs": [
    {
     "name": "stdout",
     "output_type": "stream",
     "text": [
      "K1KA5CB7\n",
      "ABCKK13\n",
      "running time: 0.0009922981262207031 초\n"
     ]
    }
   ],
   "source": [
    "import time\n",
    "\n",
    "S = input(\"\")                  # 문자열 입력\n",
    "\n",
    "start = time.time()            # 시작 시점\n",
    "\n",
    "array = [i for i in str(S)]   # 문자열 쪼개기\n",
    "\n",
    "alpha = []                     # 문자를 저장할 리스트\n",
    "digit = []                     # 숫자를 저장할 리스트\n",
    "\n",
    "for i in array:\n",
    "    if i.isalpha():            # 만약 i가 문자라면\n",
    "        alpha.append(i)        # 문자를 ralpha에 추가\n",
    "    elif i.isdigit():          # 만약 i가 숫자라면\n",
    "        digit.append(int(i))    # 숫자를 정수형으로 변환하여 digit에 추가\n",
    "\n",
    "alpha.sort()                   # 문자를 오름차순 정렬\n",
    "digit_sum = sum(digit)         # digit_sum  : 숫자들 다 합친 값 \n",
    "\n",
    "result = ''.join(alpha + [str(digit_sum)])  # 문자와 숫자를 합치기\n",
    "\n",
    "end = time.time()               # 종료 시점\n",
    "\n",
    "print(result)\n",
    "print(f\"running time: {end - start} 초\")\n"
   ]
  },
  {
   "cell_type": "markdown",
   "id": "530853b6",
   "metadata": {},
   "source": [
    "### *TypeError: can only concatenate list (not \"str\") to list*\n",
    "\n",
    "* **수정 전**  \n",
    "`result = ''.join(alpha + str(digit_sum))`\n",
    "\n",
    "이유 : 문자들의 리스트와 문자열의 합은 오류 발생   \n",
    "            *→ 문자열도 리스트로 감싸야 함* \n",
    "\n",
    "* **수정 후**  \n",
    "`result = ''.join(alpha + [str(digit_sum)])`\n",
    "\n"
   ]
  },
  {
   "cell_type": "code",
   "execution_count": 23,
   "id": "6cf55e20",
   "metadata": {},
   "outputs": [
    {
     "name": "stdout",
     "output_type": "stream",
     "text": [
      "K1KA5CB7\n"
     ]
    },
    {
     "ename": "TypeError",
     "evalue": "can only concatenate list (not \"str\") to list",
     "output_type": "error",
     "traceback": [
      "\u001b[1;31m---------------------------------------------------------------------------\u001b[0m",
      "\u001b[1;31mTypeError\u001b[0m                                 Traceback (most recent call last)",
      "Cell \u001b[1;32mIn[23], line 21\u001b[0m\n\u001b[0;32m     18\u001b[0m alpha\u001b[38;5;241m.\u001b[39msort()                   \u001b[38;5;66;03m# 문자를 오름차순 정렬\u001b[39;00m\n\u001b[0;32m     19\u001b[0m digit_sum \u001b[38;5;241m=\u001b[39m \u001b[38;5;28msum\u001b[39m(digit)\n\u001b[1;32m---> 21\u001b[0m result \u001b[38;5;241m=\u001b[39m \u001b[38;5;124m'\u001b[39m\u001b[38;5;124m'\u001b[39m\u001b[38;5;241m.\u001b[39mjoin(\u001b[43malpha\u001b[49m\u001b[43m \u001b[49m\u001b[38;5;241;43m+\u001b[39;49m\u001b[43m \u001b[49m\u001b[38;5;28;43mstr\u001b[39;49m\u001b[43m(\u001b[49m\u001b[43mdigit_sum\u001b[49m\u001b[43m)\u001b[49m)  \u001b[38;5;66;03m# 문자와 숫자를 합치기\u001b[39;00m\n\u001b[0;32m     23\u001b[0m end \u001b[38;5;241m=\u001b[39m time\u001b[38;5;241m.\u001b[39mtime()               \u001b[38;5;66;03m# 종료 시점\u001b[39;00m\n\u001b[0;32m     25\u001b[0m \u001b[38;5;28mprint\u001b[39m(result)\n",
      "\u001b[1;31mTypeError\u001b[0m: can only concatenate list (not \"str\") to list"
     ]
    }
   ],
   "source": [
    "import time\n",
    "\n",
    "S = input(\"\")                  # 문자열 입력\n",
    "\n",
    "start = time.time()            # 시작 시점\n",
    "\n",
    "array = [i for i in str(S)]   # 문자열 쪼개기\n",
    "\n",
    "alpha = []                     # 문자를 저장할 리스트\n",
    "digit = []                     # 숫자를 저장할 리스트\n",
    "\n",
    "for i in array:\n",
    "    if i.isalpha():            # 만약 i가 문자라면\n",
    "        alpha.append(i)        # 문자를 ralpha에 추가\n",
    "    elif i.isdigit():          # 만약 i가 숫자라면\n",
    "        digit.append(int(i))    # 숫자를 정수형으로 변환하여 digit에 추가\n",
    "\n",
    "alpha.sort()                   # 문자를 오름차순 정렬\n",
    "digit_sum = sum(digit)\n",
    "\n",
    "result = ''.join(alpha + str(digit_sum))  # 문자와 숫자를 합치기 (오류)\n",
    "\n",
    "end = time.time()               # 종료 시점\n",
    "\n",
    "print(result)\n",
    "print(f\"running time: {end - start} 초\")\n"
   ]
  },
  {
   "cell_type": "code",
   "execution_count": 26,
   "id": "5b2adb52",
   "metadata": {},
   "outputs": [
    {
     "name": "stdout",
     "output_type": "stream",
     "text": [
      "AJKDLSI412K4JSJ9D\n",
      "ADDIJJJKKLSS20\n",
      "running time: 0.0 초\n"
     ]
    }
   ],
   "source": [
    "import time\n",
    "\n",
    "S = input(\"\")                  # 문자열 입력\n",
    "\n",
    "start = time.time()            # 시작 시점\n",
    "\n",
    "array = [i for i in str(S)]   # 문자열 쪼개기\n",
    "\n",
    "alpha = []                     # 문자를 저장할 리스트\n",
    "digit = []                     # 숫자를 저장할 리스트\n",
    "\n",
    "for i in array:\n",
    "    if i.isalpha():            # 만약 i가 문자라면\n",
    "        alpha.append(i)        # 문자를 ralpha에 추가\n",
    "    elif i.isdigit():          # 만약 i가 숫자라면\n",
    "        digit.append(int(i))    # 숫자를 정수형으로 변환하여 digit에 추가\n",
    "\n",
    "alpha.sort()                   # 문자를 오름차순 정렬\n",
    "digit_sum = sum(digit)\n",
    "\n",
    "result = ''.join(alpha + [str(digit_sum)])  # 문자와 숫자를 합치기\n",
    "\n",
    "end = time.time()               # 종료 시점\n",
    "\n",
    "print(result)\n",
    "print(f\"running time: {end - start} 초\")\n"
   ]
  }
 ],
 "metadata": {
  "kernelspec": {
   "display_name": "study",
   "language": "python",
   "name": "study"
  },
  "language_info": {
   "codemirror_mode": {
    "name": "ipython",
    "version": 3
   },
   "file_extension": ".py",
   "mimetype": "text/x-python",
   "name": "python",
   "nbconvert_exporter": "python",
   "pygments_lexer": "ipython3",
   "version": "3.10.13"
  }
 },
 "nbformat": 4,
 "nbformat_minor": 5
}
