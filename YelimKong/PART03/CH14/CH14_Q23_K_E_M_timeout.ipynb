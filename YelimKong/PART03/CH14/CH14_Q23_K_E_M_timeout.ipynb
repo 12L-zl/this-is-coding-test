{
 "cells": [
  {
   "cell_type": "markdown",
   "id": "5ca0030a",
   "metadata": {},
   "source": [
    "### **(23) 국영수**"
   ]
  },
  {
   "cell_type": "markdown",
   "id": "29510ff4",
   "metadata": {},
   "source": [
    "**문제**"
   ]
  },
  {
   "cell_type": "markdown",
   "id": "d85842b6",
   "metadata": {},
   "source": [
    "도현이네 반 학생 N명의 이름과 국어, 영어, 수학 점수가 주어진다. 이때, 다음과 같은 조건으로 학생의 성적을 정렬하는 프로그램을 작성하시오.\n",
    "\n",
    "1. 국어 점수가 감소하는 순서로\n",
    "2. 국어 점수가 같으면 영어 점수가 증가하는 순서로\n",
    "3. 국어 점수와 영어 점수가 같으면 수학 점수가 감소하는 순서로\n",
    "4. 모든 점수가 같으면 이름이 사전 순으로 증가하는 순서로 (단, 아스키 코드에서 대문자는 소문자보다 작으므로 사전순으로 앞에 온다.)"
   ]
  },
  {
   "cell_type": "markdown",
   "id": "bca756cf",
   "metadata": {},
   "source": [
    "**입력 조건**"
   ]
  },
  {
   "cell_type": "markdown",
   "id": "d6c6648e",
   "metadata": {},
   "source": [
    "* 첫째 줄에 도현이네 반의 학생의 수 N (1 ≤ N ≤ 100,000)이 주어진다.\n",
    "* 둘째 줄부터 한 줄에 하나씩 각 학생의 이름, 국어, 영어, 수학 점수가 공백으로 구분해 주어진다. \n",
    "* 점수는 1보다 크거나 같고, 100보다 작거나 같은 자연수이다. \n",
    "* 이름은 알파벳 대소문자로 이루어진 문자열이고, 길이는 10자리를 넘지 않는다."
   ]
  },
  {
   "cell_type": "markdown",
   "id": "1de95bd9",
   "metadata": {},
   "source": [
    "**출력 조건**"
   ]
  },
  {
   "cell_type": "markdown",
   "id": "86440b41",
   "metadata": {},
   "source": [
    "* 문제에 나와있는 정렬 기준으로 정렬한 후 첫째 줄부터 N개의 줄에 걸쳐 각 학생의 이름을 출력한다."
   ]
  },
  {
   "cell_type": "markdown",
   "id": "cd29a063",
   "metadata": {},
   "source": [
    "**입력 예시**"
   ]
  },
  {
   "cell_type": "markdown",
   "id": "ee08a369",
   "metadata": {},
   "source": [
    "12 <br>\n",
    "Junkyu 50 60 100 <br>\n",
    "Sangkeun 80 60 50 <br>\n",
    "Sunyoung 80 70 100 <br>\n",
    "Soong 50 60 90 <br>\n",
    "Haebin 50 60 100 <br>\n",
    "Kangsoo 60 80 100 <br>\n",
    "Donghyuk 80 60 100 <br>\n",
    "Sei 70 70 70 <br>\n",
    "Wonseob 70 70 90 <br>\n",
    "Sanghyun 70 70 80 <br>\n",
    "nsj 80 80 80 <br>\n",
    "Taewhan 50 60 90 <br>"
   ]
  },
  {
   "cell_type": "markdown",
   "id": "b667e2d2",
   "metadata": {},
   "source": [
    "**출력 예시**"
   ]
  },
  {
   "cell_type": "markdown",
   "id": "b0225ed0",
   "metadata": {},
   "source": [
    "Donghyuk <br>\n",
    "Sangkeun <br>\n",
    "Sunyoung <br>\n",
    "nsj <br>\n",
    "Wonseob <br>\n",
    "Sanghyun <br>\n",
    "Sei <br>\n",
    "Kangsoo <br>\n",
    "Haebin <br>\n",
    "Junkyu <br>\n",
    "Soong <br>\n",
    "Taewhan <br>"
   ]
  },
  {
   "cell_type": "code",
   "execution_count": 5,
   "id": "e3f2058b",
   "metadata": {},
   "outputs": [
    {
     "name": "stdout",
     "output_type": "stream",
     "text": [
      "12\n",
      "Junkyu 50 60 100\n",
      "Sangkeun 80 60 50\n",
      "Sunyoung 80 70 100\n",
      "Soong 50 60 90\n",
      "Haebin 50 60 100\n",
      "Kangsoo 60 80 100\n",
      "Donghyuk 80 60 100\n",
      "Sei 70 70 70\n",
      "Wonseob 70 70 90\n",
      "Sanghyun 70 70 80\n",
      "nsj 80 80 80\n",
      "Taewhan 50 60 90\n",
      "Donghyuk\n",
      "Sangkeun\n",
      "Sunyoung\n",
      "nsj\n",
      "Wonseob\n",
      "Sanghyun\n",
      "Sei\n",
      "Kangsoo\n",
      "Haebin\n",
      "Junkyu\n",
      "Soong\n",
      "Taewhan\n"
     ]
    }
   ],
   "source": [
    "N = int(input())      # 학생 수 입력\n",
    "students = []         # 학생 정보를 담을 리스트\n",
    "\n",
    "# 학생 정보 입력 \n",
    "for _ in range(N):\n",
    "    info = input().split()             # 학생 이름, 국어, 영어, 수학 점수 입력\n",
    "    name = info[0]                     # 학생 이름\n",
    "    scores = list(map(int, info[1:]))  # 국어, 영어, 수학 점수 리스트로 변환\n",
    "    students.append((name, scores))    # 학생 정보를 튜플로 리스트에 추가\n",
    "\n",
    "# 학생 정보 정렬\n",
    "for i in range(N):\n",
    "    for j in range(N - 1):\n",
    "        # 국어 점수 비교 후 정렬\n",
    "        if students[j][1][0] < students[j + 1][1][0]:\n",
    "            students[j], students[j + 1] = students[j + 1], students[j]\n",
    "        elif students[j][1][0] == students[j + 1][1][0]:           # 국어 점수가 같을 경우\n",
    "            # 영어 점수 비교 후 정렬\n",
    "            if students[j][1][1] > students[j + 1][1][1]:\n",
    "                students[j], students[j + 1] = students[j + 1], students[j]\n",
    "            elif students[j][1][1] == students[j + 1][1][1]:      # 영어 점수도 같을 경우\n",
    "                # 수학 점수 비교 후 정렬\n",
    "                if students[j][1][2] < students[j + 1][1][2]:\n",
    "                    students[j], students[j + 1] = students[j + 1], students[j]\n",
    "                elif students[j][1][2] == students[j + 1][1][2]:  # 수학 점수도 같을 경우\n",
    "                    # 이름을 기준으로 정렬\n",
    "                    if students[j][0] > students[j + 1][0]:\n",
    "                        students[j], students[j + 1] = students[j + 1], students[j]\n",
    "\n",
    "# 정렬된 학생 정보 출력\n",
    "for student in students:\n",
    "    print(student[0])\n"
   ]
  },
  {
   "cell_type": "markdown",
   "id": "cfbd34c6",
   "metadata": {},
   "source": [
    "### [결과]💣 시간 초과 "
   ]
  },
  {
   "attachments": {
    "q23_b.png": {
     "image/png": "[encoded data removed]"
    }
   },
   "cell_type": "markdown",
   "id": "a22af36e",
   "metadata": {},
   "source": [
    "![q23_b.png](attachment:q23_b.png)"
   ]
  }
 ],
 "metadata": {
  "kernelspec": {
   "display_name": "study",
   "language": "python",
   "name": "study"
  },
  "language_info": {
   "codemirror_mode": {
    "name": "ipython",
    "version": 3
   },
   "file_extension": ".py",
   "mimetype": "text/x-python",
   "name": "python",
   "nbconvert_exporter": "python",
   "pygments_lexer": "ipython3",
   "version": "3.10.13"
  }
 },
 "nbformat": 4,
 "nbformat_minor": 5
}
