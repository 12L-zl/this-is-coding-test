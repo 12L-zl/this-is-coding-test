{
 "cells": [
  {
   "cell_type": "markdown",
   "id": "6d2e09af",
   "metadata": {},
   "source": [
    "### **(26) 카드 정렬하기**"
   ]
  },
  {
   "cell_type": "markdown",
   "id": "d44ba82a",
   "metadata": {},
   "source": [
    "**문제 링크**"
   ]
  },
  {
   "cell_type": "markdown",
   "id": "9107ff00",
   "metadata": {},
   "source": [
    "https://www.acmicpc.net/problem/1715"
   ]
  },
  {
   "cell_type": "markdown",
   "id": "7da8a099",
   "metadata": {},
   "source": [
    "**문제**"
   ]
  },
  {
   "cell_type": "markdown",
   "id": "11a08e44",
   "metadata": {},
   "source": [
    "정렬된 두 묶음의 숫자 카드가 있다고 하자. 각 묶음의 카드의 수를 A, B라 하면 보통 두 묶음을 합쳐서 하나로 만드는 데에는 A+B 번의 비교를 해야 한다. 이를테면, 20장의 숫자 카드 묶음과 30장의 숫자 카드 묶음을 합치려면 50번의 비교가 필요하다.\n",
    "\n",
    "매우 많은 숫자 카드 묶음이 책상 위에 놓여 있다. 이들을 두 묶음씩 골라 서로 합쳐나간다면, 고르는 순서에 따라서 비교 횟수가 매우 달라진다. 예를 들어 10장, 20장, 40장의 묶음이 있다면 10장과 20장을 합친 뒤, 합친 30장 묶음과 40장을 합친다면 (10 + 20) + (30 + 40) = 100번의 비교가 필요하다. 그러나 10장과 40장을 합친 뒤, 합친 50장 묶음과 20장을 합친다면 (10 + 40) + (50 + 20) = 120 번의 비교가 필요하므로 덜 효율적인 방법이다.\n",
    "\n",
    "N개의 숫자 카드 묶음의 각각의 크기가 주어질 때, 최소한 몇 번의 비교가 필요한지를 구하는 프로그램을 작성하시오."
   ]
  },
  {
   "cell_type": "markdown",
   "id": "5d16e1f4",
   "metadata": {},
   "source": [
    "**입력**"
   ]
  },
  {
   "cell_type": "markdown",
   "id": "e03225dd",
   "metadata": {},
   "source": [
    "* 첫째 줄에 N이 주어진다. (1 ≤ N ≤ 100,000)\n",
    "* 이어서 N개의 줄에 걸쳐 숫자 카드 묶음의 각각의 크기가 주어진다. \n",
    "* 숫자 카드 묶음의 크기는 1,000보다 작거나 같은 양의 정수이다."
   ]
  },
  {
   "cell_type": "markdown",
   "id": "c42ca620",
   "metadata": {},
   "source": [
    "**출력**"
   ]
  },
  {
   "cell_type": "markdown",
   "id": "3fb65a4d",
   "metadata": {},
   "source": [
    "첫째 줄에 최소 비교 횟수를 출력한다."
   ]
  },
  {
   "cell_type": "markdown",
   "id": "0a5b8219",
   "metadata": {},
   "source": [
    "**예제 입력**"
   ]
  },
  {
   "cell_type": "markdown",
   "id": "ff21405c",
   "metadata": {},
   "source": [
    "3 <br>\n",
    "10 <br>\n",
    "20 <br>\n",
    "40 <br>"
   ]
  },
  {
   "cell_type": "markdown",
   "id": "fc38bac7",
   "metadata": {},
   "source": [
    "**예제 출력**"
   ]
  },
  {
   "cell_type": "markdown",
   "id": "53931a79",
   "metadata": {},
   "source": [
    "100"
   ]
  },
  {
   "cell_type": "code",
   "execution_count": 16,
   "id": "848efe94",
   "metadata": {},
   "outputs": [
    {
     "name": "stdout",
     "output_type": "stream",
     "text": [
      "3\n",
      "10\n",
      "20\n",
      "40\n",
      "100\n"
     ]
    }
   ],
   "source": [
    "N = int(input())   # 각 묶음 카드의 수 \n",
    "\n",
    "result =  0        # 최소 비교 결과    \n",
    "\n",
    "cards = []\n",
    "for _ in range(N):\n",
    "    card = int(input())   # N개의 숫자 카드 묶음의 크기 \n",
    "    cards.append(card)    # cards 안에 카드 리스트 형태로 넣기 \n",
    "    cards.sort()          # 계산을 위한 오름차순 정렬\n",
    "\n",
    "\n",
    "while len(cards) > 1:         # 카드 묶음이 1개 이상 남아있는 동안 반복\n",
    "    min1 = cards.pop(0)       # 리스트에서 가장 작은 값 두 개를 뽑아냄\n",
    "    min2 = cards.pop(0)\n",
    "    result += min1 + min2     # 두 값을 더하여 비용에 추가\n",
    "    cards.append(min1 + min2) # 두 값을 더한 값을 리스트에 추가하여 새로운 묶음 생성\n",
    "    cards.sort()              # 리스트를 다시 정렬하여 가장 작은 값이 맨 앞으로 오도록 함\n",
    "\n",
    "print(result)                 \n"
   ]
  },
  {
   "cell_type": "markdown",
   "id": "d60f7f5d",
   "metadata": {},
   "source": [
    "###  **💣 시간 초과**"
   ]
  },
  {
   "attachments": {
    "q26.png": {
     "image/png": "[encoded data removed]"
    }
   },
   "cell_type": "markdown",
   "id": "2fbdb68d",
   "metadata": {},
   "source": [
    "![q26.png](attachment:q26.png)"
   ]
  }
 ],
 "metadata": {
  "kernelspec": {
   "display_name": "study",
   "language": "python",
   "name": "study"
  },
  "language_info": {
   "codemirror_mode": {
    "name": "ipython",
    "version": 3
   },
   "file_extension": ".py",
   "mimetype": "text/x-python",
   "name": "python",
   "nbconvert_exporter": "python",
   "pygments_lexer": "ipython3",
   "version": "3.10.13"
  }
 },
 "nbformat": 4,
 "nbformat_minor": 5
}
