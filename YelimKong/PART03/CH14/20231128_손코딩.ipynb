{
 "cells": [
  {
   "cell_type": "code",
   "execution_count": 3,
   "id": "83c52e34",
   "metadata": {},
   "outputs": [
    {
     "name": "stdout",
     "output_type": "stream",
     "text": [
      "12\n",
      "Junkyu 50 60 100\n",
      "Sangkeun 80 60 50\n",
      "Sunyoung 80 70 100\n",
      "Soong 50 60 90\n",
      "Haebin 50 60 100\n",
      "Kangsoo 60 80 100\n",
      "Donghyuk 80 60 100\n",
      "Sei 70 70 70\n",
      "Wonseob 70 70 90\n",
      "Sanghyun 70 70 80\n",
      "nsj 80 80 80\n",
      "Taewhan 50 60 90\n",
      "Donghyuk\n",
      "Sangkeun\n",
      "Sunyoung\n",
      "nsj\n",
      "Wonseob\n",
      "Sanghyun\n",
      "Sei\n",
      "Kangsoo\n",
      "Haebin\n",
      "Junkyu\n",
      "Soong\n",
      "Taewhan\n"
     ]
    }
   ],
   "source": [
    "# 국영수\n",
    "N = int(input()) # 학생 수 \n",
    "students = []     # 학생 정보\n",
    "\n",
    "for _ in range(N) :\n",
    "    info = input().split() \n",
    "    name = info[0]                    # 이름\n",
    "    scores = list(map(int, info[1:])) # 점수\n",
    "    students.append((name, scores)) \n",
    "# 3\n",
    "# Junkyu 50 60 100\n",
    "# Sangkeun 80 60 50\n",
    "# Sunyoung 80 70 100\n",
    "# [('Junkyu', [50, 60, 100]), ('Sangkeun', [80, 60, 50]), ('Sunyoung', [80, 70, 100])]\n",
    "\n",
    "# 정렬\n",
    "for i in range(N) : \n",
    "    for j in range(N-1): # 다음 학생과 비교 \n",
    "        if students[j][1][0] < students[j+1][1][0] :\n",
    "            students[j], students[j+1] = students[j+1], students[j]\n",
    "        elif students[j][1][0] == students[j+1][1][0] :\n",
    "            if students[j][1][1] > students[j+1][1][1] :\n",
    "                students[j], students[j+1] = students[j+1], students[j]\n",
    "            elif students[j][1][1] == students[j+1][1][1] :\n",
    "                if students[j][1][2] < students[j+1][1][2] :\n",
    "                    students[j], students[j+1] = students[j+1], students[j]\n",
    "                elif students[j][1][2] == students[j+1][1][2] :\n",
    "                    students[j], students[j+1] = students[j+1], students[j]\n",
    "                    if students[j][0] > students[j+1][0] :\n",
    "                        students[j], students[j+1] = students[j+1], students[j]\n",
    "                        \n",
    "# 모든 점수가 같으면 이름이 사전 순으로 증가하는 순서로 (단, 아스키 코드에서 대문자는 소문자보다 작으므로 사전순으로 앞에 온다.)                    \n",
    "for student in students :\n",
    "    print(student[0])\n",
    "\n",
    "\n"
   ]
  },
  {
   "cell_type": "code",
   "execution_count": 5,
   "id": "8f539d6e",
   "metadata": {
    "scrolled": true
   },
   "outputs": [
    {
     "name": "stdout",
     "output_type": "stream",
     "text": [
      "3\n",
      "yelim 50 60 100\n",
      "subin 50 60 100\n",
      "ranee 50 60 100\n",
      "ranee\n",
      "subin\n",
      "yelim\n"
     ]
    }
   ],
   "source": [
    "# 국영수\n",
    "N = int(input()) # 학생 수 \n",
    "students = []     # 학생 정보\n",
    "\n",
    "for _ in range(N) :\n",
    "    info = input().split() \n",
    "    name = info[0]                    # 이름\n",
    "    scores = list(map(int, info[1:])) # 점수\n",
    "    students.append((name, scores)) \n",
    "# 3\n",
    "# Junkyu 50 60 100\n",
    "# Sangkeun 80 60 50\n",
    "# Sunyoung 80 70 100\n",
    "# [('Junkyu', [50, 60, 100]), ('Sangkeun', [80, 60, 50]), ('Sunyoung', [80, 70, 100])]\n",
    "\n",
    "# 정렬\n",
    "for i in range(N) : \n",
    "    for j in range(N-1): # 다음 학생과 비교 \n",
    "        if students[j][1][0] < students[j+1][1][0] :\n",
    "            students[j], students[j+1] = students[j+1], students[j]\n",
    "        elif students[j][1][0] == students[j+1][1][0] :\n",
    "            if students[j][1][1] > students[j+1][1][1] :\n",
    "                students[j], students[j+1] = students[j+1], students[j]\n",
    "            elif students[j][1][1] == students[j+1][1][1] :\n",
    "                if students[j][1][2] < students[j+1][1][2] :\n",
    "                    students[j], students[j+1] = students[j+1], students[j]\n",
    "                elif students[j][1][2] == students[j+1][1][2] :\n",
    "                    students[j], students[j+1] = students[j+1], students[j]\n",
    "                    if students[j][0] > students[j+1][0] :\n",
    "                        students[j], students[j+1] = students[j+1], students[j]\n",
    "                        \n",
    "# 모든 점수가 같으면 이름이 사전 순으로 증가하는 순서로 (단, 아스키 코드에서 대문자는 소문자보다 작으므로 사전순으로 앞에 온다.)                    \n",
    "for student in students :\n",
    "    print(student[0])"
   ]
  },
  {
   "cell_type": "code",
   "execution_count": 7,
   "id": "098c0b7f",
   "metadata": {},
   "outputs": [
    {
     "name": "stdout",
     "output_type": "stream",
     "text": [
      "4\n",
      "5 1 7 9\n",
      "5\n"
     ]
    }
   ],
   "source": [
    "# 안테나\n",
    "N = int(input()) # 집의 수 \n",
    "position = list(map(int, input().split())) # 집의 위치 \n",
    "\n",
    "mid_index = (len(position) - 1)//2 \n",
    "sorted_position = sorted(position)\n",
    "mid_value = sorted_position[mid_index]\n",
    "\n",
    "print(mid_value)\n",
    "\n"
   ]
  },
  {
   "cell_type": "code",
   "execution_count": 13,
   "id": "be610a15",
   "metadata": {},
   "outputs": [
    {
     "name": "stdout",
     "output_type": "stream",
     "text": [
      "5\n",
      "20\n",
      "30\n",
      "40\n",
      "45\n",
      "50\n",
      "420\n"
     ]
    }
   ],
   "source": [
    "# 카드 정렬하기\n",
    "N = int(input())   # 각 묶음 카드의 수 \n",
    "\n",
    "result =  0        # 최소 비교 결과    \n",
    "\n",
    "cards = []\n",
    "for _ in range(N) :\n",
    "    card = int(input())\n",
    "    cards.append(card)\n",
    "    cards.sort()\n",
    "    \n",
    "while len(cards) > 1:  # \n",
    "    min1 = cards.pop(0) # [10, 20, 40] -> 10      # 40\n",
    "    min2 = cards.pop(0) # [20, 40]-> 20           # 30\n",
    "    result += min1 + min2  # result = 10 + 20     # result = 30 + 70\n",
    "    cards.append(min1 + min2) # [40, 30]          # [70]\n",
    "    cards.sort() # 20 30 40 50 # [30, 40]                 \n",
    "    \n",
    "print(result)\n"
   ]
  },
  {
   "cell_type": "code",
   "execution_count": null,
   "id": "c0ca9d2f",
   "metadata": {},
   "outputs": [],
   "source": [
    "while len(cards) > 1:  # \n",
    "    min1 = cards.pop(0) # [50, 50, 85] -> 50     \n",
    "    min2 = cards.pop(0) # [50, 85]-> 50         \n",
    "    result += min1 + min2  # result = 50 + 85 +100 + 185\n",
    "    cards.append(min1 + min2) # [85]          \n",
    "    cards.sort() # 20 30 40 50 #                \n",
    "    \n",
    "print(result)"
   ]
  }
 ],
 "metadata": {
  "kernelspec": {
   "display_name": "study",
   "language": "python",
   "name": "study"
  },
  "language_info": {
   "codemirror_mode": {
    "name": "ipython",
    "version": 3
   },
   "file_extension": ".py",
   "mimetype": "text/x-python",
   "name": "python",
   "nbconvert_exporter": "python",
   "pygments_lexer": "ipython3",
   "version": "3.10.13"
  }
 },
 "nbformat": 4,
 "nbformat_minor": 5
}
