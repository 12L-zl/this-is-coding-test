{
 "cells": [
  {
   "cell_type": "markdown",
   "id": "b0971736",
   "metadata": {},
   "source": [
    "### **(31) 금광**"
   ]
  },
  {
   "cell_type": "markdown",
   "id": "d3c811d2",
   "metadata": {},
   "source": [
    "n X m 크기의 금광이 있다. 금광은 1 X 1 크기의 칸으로 나누어져 있으며, 각 칸은 특정한 크기의 금이 들어 있다. 채굴자는 첫 번째 열부터 출발하여 금을 캐기 시작한다. 맨 처음에는 첫 번째 열의 어느 행에서든 출발할 수 있다. 이후에 m번에 걸쳐서 매번 오른쪽 위, 오른쪽, 오른쪽 아래 3가지 중 하나의 위치로 이동해야 한다. 결과적으로 채굴자가 얻을 수 있는 금의 최대 크기 출력하는 프로그램 작성"
   ]
  },
  {
   "cell_type": "markdown",
   "id": "2fde620b",
   "metadata": {},
   "source": [
    "**입력 조건**"
   ]
  },
  {
   "cell_type": "markdown",
   "id": "accc82fc",
   "metadata": {},
   "source": [
    "* 첫째 줄에 테스트 케이스 T가 입력됨 (1 ≤ T ≤ 1000)\n",
    "* 매 테스트 케이스 첫째 줄에 n과 m이 공백으로 구분되어 입력됨 (1 ≤ n, m ≤ 20) \n",
    "* 둘째 줄에 n X m개의 위치에 매장된 금의 개수가 공백으로 구분되어 입력됨 (0 ≤ 각 위치에 매장된 금의 개수 ≤ 100)"
   ]
  },
  {
   "cell_type": "markdown",
   "id": "fb6b0ba1",
   "metadata": {},
   "source": [
    "**출력 조건**"
   ]
  },
  {
   "cell_type": "markdown",
   "id": "7cccd567",
   "metadata": {},
   "source": [
    "* 테스트 케이스마다 채굴자가 얻을 수 있는 금의 최대 크기 출력 \n",
    "* 각 테스트 케이스는 줄 바꿈을 이용해 구분함"
   ]
  },
  {
   "cell_type": "markdown",
   "id": "f9fbc711",
   "metadata": {},
   "source": [
    "**입력 예시**"
   ]
  },
  {
   "cell_type": "markdown",
   "id": "4ded050f",
   "metadata": {},
   "source": [
    "2  \n",
    "3 4   \n",
    "1 3 3 2 2 1 4 1 0 6 4 7  \n",
    "4 4  \n",
    "1 3 1 5 2 2 4 1 5 0 2 3 0 6 1 2  "
   ]
  },
  {
   "cell_type": "markdown",
   "id": "a75489a5",
   "metadata": {},
   "source": [
    "**출력 예시**"
   ]
  },
  {
   "cell_type": "markdown",
   "id": "f2116e59",
   "metadata": {},
   "source": [
    "19  \n",
    "16  "
   ]
  },
  {
   "cell_type": "markdown",
   "id": "3b721d32",
   "metadata": {},
   "source": [
    "**코드**"
   ]
  },
  {
   "cell_type": "code",
   "execution_count": null,
   "id": "737f9e26",
   "metadata": {},
   "outputs": [
    {
     "name": "stdout",
     "output_type": "stream",
     "text": [
      "2\n",
      "3 4\n",
      "1 3 3 2 2 1 4 1 0 6 4 7\n",
      "19\n"
     ]
    }
   ],
   "source": [
    "for tc in range(int(input())) :\n",
    "    n,m = map(int, input().split())\n",
    "    array = list(map(int, input().split()))\n",
    "    \n",
    "    # 다이나믹 프로그래밍을 위한 2차원 DP 테이블 초기화 \n",
    "    dp = []\n",
    "    index = 0\n",
    "    for i in range(n) :\n",
    "        dp.append(array[index:index + m])\n",
    "        index += m\n",
    "        \n",
    "    # 다이나믹 프로그래밍 진행 \n",
    "    for j in range(1, m) :\n",
    "        for i in range(n) :\n",
    "            # 왼쪽 위에서 오는 경우 \n",
    "            if i == 0 :\n",
    "                left_up = 0 \n",
    "            else : \n",
    "                left_up = dp[i - 1][j - 1]\n",
    "            # 왼쪽 아래에서 오는 경우 \n",
    "            if i == n - 1 :\n",
    "                left_down = 0 \n",
    "            else : \n",
    "                left_down = dp[i + 1][j - 1]\n",
    "            #왼쪽에서 오는 경우\n",
    "            left = dp[i][j - 1]\n",
    "            dp[i][j] = dp[i][j] + max(left_up, left_down, left)\n",
    "            \n",
    "    result = 0 \n",
    "    for i in range(n) :\n",
    "        result = max(result, dp[i][m - 1])\n",
    "        \n",
    "    print(result)"
   ]
  }
 ],
 "metadata": {
  "kernelspec": {
   "display_name": "study",
   "language": "python",
   "name": "study"
  },
  "language_info": {
   "codemirror_mode": {
    "name": "ipython",
    "version": 3
   },
   "file_extension": ".py",
   "mimetype": "text/x-python",
   "name": "python",
   "nbconvert_exporter": "python",
   "pygments_lexer": "ipython3",
   "version": "3.10.13"
  }
 },
 "nbformat": 4,
 "nbformat_minor": 5
}
