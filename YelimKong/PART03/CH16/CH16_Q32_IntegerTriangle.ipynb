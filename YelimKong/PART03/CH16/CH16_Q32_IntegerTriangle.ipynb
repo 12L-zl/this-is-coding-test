{
 "cells": [
  {
   "cell_type": "code",
   "execution_count": 3,
   "id": "1ef2a823",
   "metadata": {},
   "outputs": [
    {
     "name": "stdout",
     "output_type": "stream",
     "text": [
      "5\n",
      "7\n",
      "3 8\n",
      "8 1 0\n",
      "2 7 4 4 \n",
      "4 5 2 6 5\n",
      "30\n"
     ]
    }
   ],
   "source": [
    "# 삼각형의 크기 \n",
    "n = int(input()) \n",
    "\n",
    "# 정수 삼각형\n",
    "tri = [list(map(int, input().split())) for _ in range(n)]\n",
    "\n",
    "# DP 테이블 초기화\n",
    "dp = [[0] * n for _ in range(n)]\n",
    "dp[0][0] = tri[0][0]  # 첫 번째 줄의 값은 초기값\n",
    "\n",
    "# 삼각형의 줄 \n",
    "for i in range(1, n):\n",
    "    # i번째 줄의 위치 \n",
    "    for j in range(i + 1):\n",
    "        # 왼쪽 대각선 위에서 내려옴 (위치가 두번째부터 일 때 )\n",
    "        if j > 0:\n",
    "            dp[i][j] = max(dp[i][j], dp[i - 1][j - 1] + tri[i][j])\n",
    "        # 오른쪽 대각선 위에서 내려옴\n",
    "        if j < i:\n",
    "            dp[i][j] = max(dp[i][j], dp[i - 1][j] + tri[i][j])\n",
    "\n",
    "# 마지막 줄에서 최대값 찾기\n",
    "# n-1 한 이유 : 인덱스가 0부터 시작하니까 \n",
    "result = max(dp[n - 1])\n",
    "\n",
    "print(result)  "
   ]
  }
 ],
 "metadata": {
  "kernelspec": {
   "display_name": "study",
   "language": "python",
   "name": "study"
  },
  "language_info": {
   "codemirror_mode": {
    "name": "ipython",
    "version": 3
   },
   "file_extension": ".py",
   "mimetype": "text/x-python",
   "name": "python",
   "nbconvert_exporter": "python",
   "pygments_lexer": "ipython3",
   "version": "3.10.13"
  }
 },
 "nbformat": 4,
 "nbformat_minor": 5
}
