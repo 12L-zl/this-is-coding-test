{
 "cells": [
  {
   "cell_type": "markdown",
   "id": "b0f544fa",
   "metadata": {},
   "source": [
    "### **(16) 연구소**"
   ]
  },
  {
   "cell_type": "markdown",
   "id": "f714dfae",
   "metadata": {},
   "source": [
    "**문제**"
   ]
  },
  {
   "cell_type": "markdown",
   "id": "8c924e45",
   "metadata": {},
   "source": [
    "인체에 치명적인 바이러스를 연구하던 연구소에서 바이러스가 유출되었다. 다행히 바이러스는 아직 퍼지지 않았고, 바이러스의 확산을 막기 위해서 연구소에 벽을 세우려고 한다.\n",
    "\n",
    "연구소는 크기가 N×M인 직사각형으로 나타낼 수 있으며, 직사각형은 1×1 크기의 정사각형으로 나누어져 있다. 연구소는 빈 칸, 벽으로 이루어져 있으며, 벽은 칸 하나를 가득 차지한다. \n",
    "\n",
    "일부 칸은 바이러스가 존재하며, 이 바이러스는 상하좌우로 인접한 빈 칸으로 모두 퍼져나갈 수 있다. 새로 세울 수 있는 벽의 개수는 3개이며, 꼭 3개를 세워야 한다.\n",
    "\n",
    "예를 들어, 아래와 같이 연구소가 생긴 경우를 살펴보자.`"
   ]
  },
  {
   "cell_type": "markdown",
   "id": "8a425f63",
   "metadata": {},
   "source": [
    "2 0 0 0 1 1 0  \n",
    "0 0 1 0 1 2 0  \n",
    "0 1 1 0 1 0 0  \n",
    "0 1 0 0 0 0 0  \n",
    "0 0 0 0 0 1 1  \n",
    "0 1 0 0 0 0 0  \n",
    "0 1 0 0 0 0 0  "
   ]
  },
  {
   "cell_type": "markdown",
   "id": "b0e9d9dc",
   "metadata": {},
   "source": [
    "이때, 0은 빈 칸, 1은 벽, 2는 바이러스가 있는 곳이다. 아무런 벽을 세우지 않는다면, 바이러스는 모든 빈 칸으로 퍼져나갈 수 있다.\n",
    "\n",
    "2행 1열, 1행 2열, 4행 6열에 벽을 세운다면 지도의 모양은 아래와 같아지게 된다."
   ]
  },
  {
   "cell_type": "markdown",
   "id": "b7569744",
   "metadata": {},
   "source": [
    "2 1 0 0 1 1 0  \n",
    "1 0 1 0 1 2 0  \n",
    "0 1 1 0 1 0 0  \n",
    "0 1 0 0 0 1 0  \n",
    "0 0 0 0 0 1 1  \n",
    "0 1 0 0 0 0 0  \n",
    "0 1 0 0 0 0 0  "
   ]
  },
  {
   "cell_type": "markdown",
   "id": "be40ff09",
   "metadata": {},
   "source": [
    "벽을 3개 세운 뒤, 바이러스가 퍼질 수 없는 곳을 안전 영역이라고 한다. 위의 지도에서 안전 영역의 크기는 27이다.\n",
    "\n",
    "연구소의 지도가 주어졌을 때 얻을 수 있는 안전 영역 크기의 최댓값을 구하는 프로그램을 작성하시오"
   ]
  },
  {
   "cell_type": "markdown",
   "id": "aeff11b6",
   "metadata": {},
   "source": [
    "**입력**"
   ]
  },
  {
   "cell_type": "markdown",
   "id": "b5d395b0",
   "metadata": {},
   "source": [
    "첫째 줄에 지도의 세로 크기 N과 가로 크기 M이 주어진다. (3 ≤ N, M ≤ 8)\n",
    "\n",
    "둘째 줄부터 N개의 줄에 지도의 모양이 주어진다. 0은 빈 칸, 1은 벽, 2는 바이러스가 있는 위치이다. 2의 개수는 2보다 크거나 같고, 10보다 작거나 같은 자연수이다.\n",
    "\n",
    "빈 칸의 개수는 3개 이상이다."
   ]
  },
  {
   "cell_type": "markdown",
   "id": "59707533",
   "metadata": {},
   "source": [
    "**출력**"
   ]
  },
  {
   "cell_type": "markdown",
   "id": "5cfe90a3",
   "metadata": {},
   "source": [
    "첫째 줄에 얻을 수 있는 안전 영역의 최대 크기를 출력한다."
   ]
  },
  {
   "cell_type": "markdown",
   "id": "c864a4c2",
   "metadata": {},
   "source": [
    "**예제입력1**"
   ]
  },
  {
   "cell_type": "markdown",
   "id": "403b48f3",
   "metadata": {},
   "source": [
    "7 7  \n",
    "2 0 0 0 1 1 0  \n",
    "0 0 1 0 1 2 0  \n",
    "0 1 1 0 1 0 0  \n",
    "0 1 0 0 0 0 0  \n",
    "0 0 0 0 0 1 1  \n",
    "0 1 0 0 0 0 0  \n",
    "0 1 0 0 0 0 0  "
   ]
  },
  {
   "cell_type": "markdown",
   "id": "3aa1d55f",
   "metadata": {},
   "source": [
    "**예제출력1**"
   ]
  },
  {
   "cell_type": "markdown",
   "id": "c2ce913e",
   "metadata": {},
   "source": [
    "27"
   ]
  },
  {
   "cell_type": "markdown",
   "id": "afb0590c",
   "metadata": {},
   "source": [
    "**CODE**"
   ]
  },
  {
   "cell_type": "code",
   "execution_count": 37,
   "id": "6ea00864",
   "metadata": {},
   "outputs": [
    {
     "name": "stdout",
     "output_type": "stream",
     "text": [
      "4 6\n",
      "0 0 0 0 0 0\n",
      "1 0 0 0 0 2\n",
      "1 1 1 0 0 2\n",
      "0 0 0 0 0 2\n",
      "[[0, 0, 0, 0, 0, 0], [1, 0, 0, 0, 0, 2], [1, 1, 1, 0, 0, 2], [0, 0, 0, 0, 0, 2]]\n"
     ]
    }
   ],
   "source": [
    "n,m = map(int, input().split())\n",
    "temp = [[0] *m for _ in range(n)] # 벽 설치\n",
    "lab = [list(map(int, input().split())) for _ in range(n) ] # 정보 입력 (빈칸 : 0, 벽 : 1, 바이러스 : 2)\n",
    "print(lab)"
   ]
  },
  {
   "cell_type": "code",
   "execution_count": 38,
   "id": "94003087",
   "metadata": {},
   "outputs": [],
   "source": [
    "# 북동남서 방향\n",
    "dx = [-1, 0, 1, 0]\n",
    "dy = [0, 1, 0, -1]\n",
    "\n",
    "result = 0 "
   ]
  },
  {
   "cell_type": "code",
   "execution_count": 39,
   "id": "4a048ea3",
   "metadata": {},
   "outputs": [],
   "source": [
    "# 바이러스 퍼지는 함수\n",
    "def virus(x, y):\n",
    "    # x, y에서 시작하여 새로운 위치(nx, ny)를 계산 \n",
    "    for i in range(4) :\n",
    "        nx = x + dx[i]\n",
    "        ny = y + dy[i]\n",
    "        \n",
    "        # nx 0이상 n미만, ny가 0이상 m 미만\n",
    "        if nx >= 0 and nx < n and ny >= 0 and ny < m :\n",
    "            # 빈칸 0 일 때\n",
    "            if temp[nx][ny] == 0 :\n",
    "                # 바이러스 2로 바꿔줌\n",
    "                temp[nx][ny] = 2\n",
    "                virus(nx, ny)"
   ]
  },
  {
   "cell_type": "code",
   "execution_count": 40,
   "id": "9c3eb037",
   "metadata": {},
   "outputs": [],
   "source": [
    "# 안전 지대 탐색 \n",
    "def get_score() :\n",
    "    # 안전지대 총 크기 score = 0으로 초기화\n",
    "    score = 0 \n",
    "    # i : 행, j : 열\n",
    "    for i in range(n) :\n",
    "        for j in range(m) :\n",
    "            # 빈칸 0일 때 \n",
    "            if temp[i][j] == 0 :\n",
    "                # 안전지대 1씩 추가\n",
    "                score += 1 \n",
    "                \n",
    "    return score"
   ]
  },
  {
   "cell_type": "code",
   "execution_count": 41,
   "id": "0e64b9fe",
   "metadata": {},
   "outputs": [
    {
     "name": "stdout",
     "output_type": "stream",
     "text": [
      "9\n"
     ]
    }
   ],
   "source": [
    "def dfs(count) :\n",
    "    # result 가 함수 외부에 정의되어 있어 global 사용\n",
    "    global result \n",
    "    # 울타리 3개 설치된 경우 행, 열 순회 \n",
    "    if count == 3:\n",
    "        for i in range(n) :\n",
    "            for j in range(m) :\n",
    "                # 현재 연구소 상태를 lab 상태로 복제 \n",
    "                temp[i][j] = lab[i][j]\n",
    "                \n",
    "        for i in range(n) :\n",
    "            for j in range(m) :\n",
    "                # temp 배열에서 바이러스 2가 있는 위치라면\n",
    "                if temp[i][j] == 2:\n",
    "                    # 바이러스 확산 함수 호출하려 확산\n",
    "                    virus(i, j)\n",
    "        # 안전영역 크기 계산하는 함수 호출하여, 최대 값을 result에 저장\n",
    "        result = max(result, get_score())\n",
    "        return \n",
    "    \n",
    "    \n",
    "    for i in range(n) :\n",
    "        for j in range(m):\n",
    "            # 빈칸이라면 벽을 설치\n",
    "            if lab[i][j] == 0 :\n",
    "                lab[i][j] = 1\n",
    "                count += 1 \n",
    "                # 울타리 하나 설치한 상태에서 dfs 함수 재귀적 호출\n",
    "                dfs(count)\n",
    "                # 재귀 호출 끝나고 현재 위치의 울타리 제거 \n",
    "                lab[i][j] = 0 \n",
    "                # 울타리 제거 했으므로 설치된 울타리 수 나타내는 count 변수의 값 1감소 \n",
    "                count -= 1\n",
    "                \n",
    "# dfs 함수 최초 호출하여 울타리 설치 시작 \n",
    "# 처음에는 설치 되지 않았으므로 0 시작\n",
    "dfs(0)\n",
    "print(result)        "
   ]
  }
 ],
 "metadata": {
  "kernelspec": {
   "display_name": "study",
   "language": "python",
   "name": "study"
  },
  "language_info": {
   "codemirror_mode": {
    "name": "ipython",
    "version": 3
   },
   "file_extension": ".py",
   "mimetype": "text/x-python",
   "name": "python",
   "nbconvert_exporter": "python",
   "pygments_lexer": "ipython3",
   "version": "3.10.13"
  }
 },
 "nbformat": 4,
 "nbformat_minor": 5
}
