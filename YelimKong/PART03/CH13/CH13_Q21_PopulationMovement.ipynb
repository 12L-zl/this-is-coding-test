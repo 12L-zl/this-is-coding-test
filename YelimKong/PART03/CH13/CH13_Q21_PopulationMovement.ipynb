{
 "cells": [
  {
   "cell_type": "markdown",
   "id": "d42bad7b",
   "metadata": {},
   "source": [
    "### **Q.21 인구이동**"
   ]
  },
  {
   "cell_type": "markdown",
   "id": "bd63d5e5",
   "metadata": {},
   "source": [
    "**링크 : https://www.acmicpc.net/problem/16234**"
   ]
  },
  {
   "cell_type": "markdown",
   "id": "48d4fe4a",
   "metadata": {},
   "source": [
    "### **문제**"
   ]
  },
  {
   "cell_type": "markdown",
   "id": "6efa45c3",
   "metadata": {},
   "source": [
    "N×N크기의 땅이 있고, 땅은 1×1개의 칸으로 나누어져 있다. 각각의 땅에는 나라가 하나씩 존재하며, r행 c열에 있는 나라에는 A[r][c]명이 살고 있다. 인접한 나라 사이에는 국경선이 존재한다. 모든 나라는 1×1 크기이기 때문에, 모든 국경선은 정사각형 형태이다.  \n",
    "\n",
    "오늘부터 인구 이동이 시작되는 날이다.  \n",
    "\n",
    "인구 이동은 하루 동안 다음과 같이 진행되고, 더 이상 아래 방법에 의해 인구 이동이 없을 때까지 지속된다.  \n",
    "\n",
    "국경선을 공유하는 두 나라의 인구 차이가 L명 이상, R명 이하라면, 두 나라가 공유하는 국경선을 오늘 하루 동안 연다.  \n",
    "위의 조건에 의해 열어야하는 국경선이 모두 열렸다면, 인구 이동을 시작한다.  \n",
    "국경선이 열려있어 인접한 칸만을 이용해 이동할 수 있으면, 그 나라를 오늘 하루 동안은 연합이라고 한다.  \n",
    "연합을 이루고 있는 각 칸의 인구수는 (연합의 인구수) / (연합을 이루고 있는 칸의 개수)가 된다. 편의상 소수점은 버린다.  \n",
    "연합을 해체하고, 모든 국경선을 닫는다.  \n",
    "각 나라의 인구수가 주어졌을 때, 인구 이동이 며칠 동안 발생하는지 구하는 프로그램을 작성하시오.  "
   ]
  },
  {
   "cell_type": "markdown",
   "id": "e38be8f1",
   "metadata": {},
   "source": [
    "### **입력**"
   ]
  },
  {
   "cell_type": "markdown",
   "id": "3062544e",
   "metadata": {},
   "source": [
    "첫째 줄에 N, L, R이 주어진다. (1 ≤ N ≤ 50, 1 ≤ L ≤ R ≤ 100)  \n",
    "\n",
    "둘째 줄부터 N개의 줄에 각 나라의 인구수가 주어진다. r행 c열에 주어지는 정수는 A[r][c]의 값이다. (0 ≤ A[r][c] ≤ 100)  \n",
    "\n",
    "인구 이동이 발생하는 일수가 2,000번 보다 작거나 같은 입력만 주어진다.  "
   ]
  },
  {
   "cell_type": "markdown",
   "id": "85ca152b",
   "metadata": {},
   "source": [
    "### **출력**"
   ]
  },
  {
   "cell_type": "markdown",
   "id": "19448b6c",
   "metadata": {},
   "source": [
    "인구 이동이 며칠 동안 발생하는지 첫째 줄에 출력한다."
   ]
  },
  {
   "cell_type": "markdown",
   "id": "33d3d1eb",
   "metadata": {},
   "source": [
    "### **예제 입력 1**"
   ]
  },
  {
   "cell_type": "markdown",
   "id": "1374a908",
   "metadata": {},
   "source": [
    "2 20 50  \n",
    "50 30  \n",
    "20 40  "
   ]
  },
  {
   "cell_type": "markdown",
   "id": "f43b3a33",
   "metadata": {},
   "source": [
    "### **예제 출력 1**"
   ]
  },
  {
   "cell_type": "markdown",
   "id": "75034b01",
   "metadata": {},
   "source": [
    "1"
   ]
  },
  {
   "cell_type": "markdown",
   "id": "e0d40b4a",
   "metadata": {},
   "source": [
    "### **CODE**"
   ]
  },
  {
   "cell_type": "code",
   "execution_count": 4,
   "id": "bf6be22a",
   "metadata": {},
   "outputs": [
    {
     "name": "stdout",
     "output_type": "stream",
     "text": [
      "2 20 50 \n",
      "50 30 \n",
      "30 40\n",
      "50\n",
      "40\n",
      "36\n",
      "36\n",
      "36\n",
      "40\n",
      "1\n"
     ]
    }
   ],
   "source": [
    "# 땅의 크기, 인구 차이 조건\n",
    "n, l, r = list(map(int, input().split())) \n",
    "pop_map = [list(map(int, input().split())) for _ in range(n)]\n",
    "chk = [[False] * n for _ in range(n)]\n",
    "\n",
    "\n",
    "# 동 남 서 북\n",
    "dy = [0, 1, 0, -1]\n",
    "dx = [1, 0, -1, 0]\n",
    "\n",
    "# dfs 선택한 이유 : 인구 이동이 가능한 모든 나라를 찾아야 하므로 선택함 \n",
    "def bfs(y, x):\n",
    "    q = [(y, x)]               # 탐색 시작점 q에 추가\n",
    "    union = [(y, x)]           # 합쳐진 나라들 위치 저장\n",
    "    total_pop = pop_map[y][x]  # 시작 국가의 인구를 총 인구에 추가\n",
    "    \n",
    "    print(total_pop)\n",
    "    chk[y][x] = True          # 방문 표시\n",
    "    while q:\n",
    "        ey, ex = q.pop(0)      # 큐의 첫 번째 요소를 꺼냄\n",
    "        for k in range(4):\n",
    "            ny = ey + dy[k]\n",
    "            nx = ex + dx[k]\n",
    "            if 0 <= ny < n and 0 <= nx < n and not chk[ny][nx]:\n",
    "                # 인구 차이가 L명 이상, R명 이하인 경우\n",
    "                if l <= abs(pop_map[ey][ex] - pop_map[ny][nx]) <= r:\n",
    "                    chk[ny][nx] = True\n",
    "                    q.append((ny, nx))\n",
    "                    union.append((ny, nx))\n",
    "                    total_pop += pop_map[ny][nx]\n",
    "    # 인구수 갱신\n",
    "    for y, x in union:\n",
    "        pop_map[y][x] = total_pop // len(union)\n",
    "    return len(union) > 1  # 인구이동 후 합친 경우 True 반환, 인구 이동이 없으면 탐색 필요 없음 \n",
    "\n",
    "cnt = 0\n",
    "\n",
    "while True:\n",
    "    chk = [[False] * n for _ in range(n)]  # 방문 초기화\n",
    "    is_moved = False                       # 인구 이동 발생 여부\n",
    "    for j in range(n):\n",
    "        for i in range(n):\n",
    "            if not chk[j][i]:  # 아직 방문하지 않은 경우\n",
    "                if bfs(j, i):  # 인구 이동이 발생한 경우\n",
    "                    is_moved = True\n",
    "    if not is_moved:\n",
    "        break\n",
    "    cnt += 1\n",
    "\n",
    "print(cnt)\n"
   ]
  },
  {
   "cell_type": "code",
   "execution_count": 2,
   "id": "ef9b089c",
   "metadata": {},
   "outputs": [
    {
     "name": "stdout",
     "output_type": "stream",
     "text": [
      "3 5 10\n",
      "10 15 20 \n",
      "20 30 25\n",
      "40 22 10 \n",
      "[[10, 15, 20], [20, 30, 25], [40, 22, 10]]\n",
      "[[False, False, False], [False, False, False], [False, False, False]]\n"
     ]
    }
   ],
   "source": [
    "# 땅의 크기, 인구 차이 조건\n",
    "n, l, r = list(map(int, input().split())) \n",
    "pop_map = [list(map(int, input().split())) for _ in range(n)]\n",
    "chk = [[False] * n for _ in range(n)]\n",
    "print(pop_map)\n",
    "print(chk)\n",
    "\n",
    "'''\n",
    "pop_map\n",
    "[[10, 15, 20],\n",
    " [20, 30, 25],\n",
    " [40, 22, 10]]\n",
    "'''\n",
    "\n",
    "'''\n",
    "chk\n",
    "[[False, False, False],\n",
    " [False, False, False],\n",
    " [False, False, False]]\n",
    "'''"
   ]
  }
 ],
 "metadata": {
  "kernelspec": {
   "display_name": "study",
   "language": "python",
   "name": "study"
  },
  "language_info": {
   "codemirror_mode": {
    "name": "ipython",
    "version": 3
   },
   "file_extension": ".py",
   "mimetype": "text/x-python",
   "name": "python",
   "nbconvert_exporter": "python",
   "pygments_lexer": "ipython3",
   "version": "3.10.13"
  }
 },
 "nbformat": 4,
 "nbformat_minor": 5
}
