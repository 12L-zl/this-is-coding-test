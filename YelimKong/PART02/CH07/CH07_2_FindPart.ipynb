{
 "cells": [
  {
   "cell_type": "markdown",
   "id": "ca82ac6e",
   "metadata": {},
   "source": [
    "### (2) 부품 찾기"
   ]
  },
  {
   "cell_type": "markdown",
   "id": "c0f7ece8",
   "metadata": {},
   "source": [
    "동빈이네 전자 매장에는 부품이 N개 있다. 각 부품은 정수 형태의 고유한 번호가 있다. 어느 날 손님이 M개 종류의 부품을 대량으로 구매하겠다며 당일 날 견적서를 요청했다. 동빈이는 때를 놓치지 않고 손님이 문의한 부품 M개 종류를 모두 확인해서 견적서를 작성해야 한다. 이때 가게 안에 부품이 모두 있는지 확인하는 프로그램을 작성해보자 "
   ]
  },
  {
   "cell_type": "markdown",
   "id": "44852499",
   "metadata": {},
   "source": [
    "**입력 조건**\n",
    "* 첫째 줄에 정수 N이 주어진다. (1 ≤ N ≤ 1,000,000)\n",
    "* 둘째 줄에는 공백으로 구분하여 N개의 정수가 주어진다. 이때 정수는 1보다 크고 1,000,000 이하\n",
    "* 샛째 줄에는 정수 M이 주어진다.(1 ≤ N ≤ 1,000,000)\n",
    "* 넷째 줄에는 공백으로 구분하여 M개의 정수가 주어진다. 이때 정수는 1보다 크고 1,000,000 이하"
   ]
  },
  {
   "cell_type": "markdown",
   "id": "c047fcd4",
   "metadata": {},
   "source": [
    "**출력 조건**\n",
    "* 첫째 줄에 공백으로 구분하여 각 부품이 존재하면 yes를, 없으면 no를 출력"
   ]
  },
  {
   "cell_type": "code",
   "execution_count": 3,
   "id": "a38120bf",
   "metadata": {},
   "outputs": [
    {
     "name": "stdout",
     "output_type": "stream",
     "text": [
      "5\n",
      "8 3 7 9 2\n",
      "3\n",
      "5 7 9\n",
      "no yes yes\n"
     ]
    }
   ],
   "source": [
    "# 부품의 전체 개수, 종류 개수\n",
    "N = int(input())\n",
    "\n",
    "# 전체 부품 나열\n",
    "tot = list(map(int, input().split()))\n",
    "\n",
    "# 부품의 종류 개수\n",
    "M = int(input())\n",
    "\n",
    "# 찾아야 할 부품\n",
    "target = list(map(int, input().split()))\n",
    "\n",
    "# 부품 리스트를 정렬하여 이진 탐색을 수행할 수 있도록 함\n",
    "tot.sort()\n",
    "\n",
    "# 이진 탐색 함수 정의\n",
    "# arr : 부품 리스트 \n",
    "# target : 찾아야 할 부품 번호\n",
    "# start : 탐색 범위의 시작 인덱스 \n",
    "# end : 탐색 범위의 끝 인덱스 \n",
    "def binary_search(arr, target, start, end):\n",
    "    while start <= end:\n",
    "        mid = (start + end) // 2\n",
    "        # 찾은 경우 yes 반환 \n",
    "        if arr[mid] == target:\n",
    "            return 'yes'\n",
    "        # 만약 target 보다 큰 쪽에 있다면 end 를 mid -1 로 변경해서 탐색 범위 줄이기 \n",
    "        elif arr[mid] > target:\n",
    "            end = mid - 1\n",
    "        # 만약 target 보다 작은 쪽에 있다면 end 를 mid + 1 로 변경해서 탐색 범위 줄이기 \n",
    "        else:\n",
    "            start = mid + 1\n",
    "    # start가 end보다 커지면 찾는 부품이 없으므로 no 반환 \n",
    "    return 'no'\n",
    "\n",
    "result = []\n",
    "# 각각의 부품에 대해 이진 탐색을 수행하여 결과를 저장\n",
    "for t in target:\n",
    "    result.append(binary_search(tot, t, 0, N - 1))\n",
    "\n",
    "# 결과 출력\n",
    "print(' '.join(result))\n"
   ]
  }
 ],
 "metadata": {
  "kernelspec": {
   "display_name": "study",
   "language": "python",
   "name": "study"
  },
  "language_info": {
   "codemirror_mode": {
    "name": "ipython",
    "version": 3
   },
   "file_extension": ".py",
   "mimetype": "text/x-python",
   "name": "python",
   "nbconvert_exporter": "python",
   "pygments_lexer": "ipython3",
   "version": "3.10.13"
  }
 },
 "nbformat": 4,
 "nbformat_minor": 5
}
