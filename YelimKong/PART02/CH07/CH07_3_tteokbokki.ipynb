{
 "cells": [
  {
   "cell_type": "markdown",
   "id": "cb55a1af",
   "metadata": {},
   "source": [
    "## **(3) 떡볶이 떡 만들기**"
   ]
  },
  {
   "cell_type": "markdown",
   "id": "b3d7ba5e",
   "metadata": {},
   "source": [
    "**문제**"
   ]
  },
  {
   "cell_type": "markdown",
   "id": "61b6138a",
   "metadata": {},
   "source": [
    "절단기에 높이(H)를 지정하면 줄지어진 떡을 한 번에 절단한다. 높이가 H보다 긴 떡은 H 위의 부분이 잘릴 것이고, 낮은 떡은 잘리지 않을 것이다.<br>\n",
    "예를 들어 높이가 19,14, 10, 17cm인 떡이 나란히 있고 절단기 높이를 15cm로 지정하면 자른 뒤 떡의 높이는 15, 14, 10, 15cm가 될 것이다. 잘린 떡의 길이는 차례대로 4, 0, 0, 2cm이다. 손님은 6cm만큼의 길이를 가져간다. <br>\n",
    "손님이 왔을 때 요청한 총 길이가 M일 때 적어도 M만큼의 떡을 얻기 위해 절단기에 설정할 수 있는 높이의 최댓값을 구하는 프로그램을 작성하시오."
   ]
  },
  {
   "cell_type": "markdown",
   "id": "113e9c67",
   "metadata": {},
   "source": [
    "**입력 조건**"
   ]
  },
  {
   "cell_type": "markdown",
   "id": "f9ce7d4c",
   "metadata": {},
   "source": [
    "* 첫째 줄에 떡의 개수 N과 요청한 떡의 길이 M이 주어진다.(1 ≤ N ≤ 1,000,000, 1 ≤ M ≤ 2,000,000,000)\n",
    "* 둘째 줄에는 떡의 개별 높이가 주어진다. 떡 높이의 총합은 항상 M 이상이므로, 손님은 필요한 양만큼 떡을 사갈 수 있다. 높이는 10억보다 작거나 같은 양의 정수  또는 0이다."
   ]
  },
  {
   "cell_type": "markdown",
   "id": "5bc2de03",
   "metadata": {},
   "source": [
    "**출력 조건**"
   ]
  },
  {
   "cell_type": "markdown",
   "id": "9cffa3ca",
   "metadata": {},
   "source": [
    "* 적어도 M만큼의 떡을 집에 가져가기 위해 설정할 수 있는 높이의 최댓값을 출력"
   ]
  },
  {
   "cell_type": "markdown",
   "id": "afa98fc6",
   "metadata": {},
   "source": [
    "**입력 예시**"
   ]
  },
  {
   "cell_type": "markdown",
   "id": "3caa5726",
   "metadata": {},
   "source": [
    "4 6 <br>\n",
    "19 15 10 17"
   ]
  },
  {
   "cell_type": "markdown",
   "id": "f9293c88",
   "metadata": {},
   "source": [
    "**출력 예시**"
   ]
  },
  {
   "cell_type": "markdown",
   "id": "d1c7e48c",
   "metadata": {},
   "source": [
    "15"
   ]
  },
  {
   "cell_type": "markdown",
   "id": "c7587165",
   "metadata": {},
   "source": [
    "**코드**"
   ]
  },
  {
   "cell_type": "code",
   "execution_count": 15,
   "id": "48186f36",
   "metadata": {},
   "outputs": [
    {
     "name": "stdout",
     "output_type": "stream",
     "text": [
      "4 6\n",
      "19 15 10 17\n",
      "15\n"
     ]
    }
   ],
   "source": [
    "N, M = list(map(int, input().split())) # 4 6\n",
    "H = list(map(int, input().split())) # 19 15 10 17\n",
    "\n",
    "start = 0 \n",
    "end = max(H)\n",
    "\n",
    "def cut(H, M, start, end):\n",
    "    result = 0 # mid 저장 값\n",
    "    while start <= end:\n",
    "        mid = (start + end) // 2\n",
    "        total = sum(max(0, x - mid) for x in H) # 각 H원소에서 mid를 뺀 후 합하기\n",
    "\n",
    "        if total >= M:    # total값이 원하는 값보다 크다면\n",
    "            result = mid  #  mid 값을 result로 기록\n",
    "            start = mid + 1  # 오른쪽 범위 탐색\n",
    "        else:\n",
    "            end = mid - 1  # 왼쪽 범위 탐색\n",
    "\n",
    "    return result\n",
    "\n",
    "# H 리스트를 정렬하고 이진 탐색 실행\n",
    "H.sort()\n",
    "result = cut(H, M, 0, max(H))\n",
    "print(result)  \n"
   ]
  }
 ],
 "metadata": {
  "kernelspec": {
   "display_name": "study",
   "language": "python",
   "name": "study"
  },
  "language_info": {
   "codemirror_mode": {
    "name": "ipython",
    "version": 3
   },
   "file_extension": ".py",
   "mimetype": "text/x-python",
   "name": "python",
   "nbconvert_exporter": "python",
   "pygments_lexer": "ipython3",
   "version": "3.10.13"
  }
 },
 "nbformat": 4,
 "nbformat_minor": 5
}
