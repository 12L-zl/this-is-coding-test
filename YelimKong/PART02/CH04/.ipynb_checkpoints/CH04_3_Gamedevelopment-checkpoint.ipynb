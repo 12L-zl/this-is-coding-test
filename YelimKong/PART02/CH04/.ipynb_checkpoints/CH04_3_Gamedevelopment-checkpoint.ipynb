{
 "cells": [
  {
   "cell_type": "markdown",
   "id": "daea54a2",
   "metadata": {},
   "source": [
    "### (4) 게임 개발"
   ]
  },
  {
   "cell_type": "markdown",
   "id": "97b04935",
   "metadata": {},
   "source": [
    "**입력 조건**\n",
    "\n",
    "* 첫째 줄에 맵의 세로 크기 N과 가로 크기 M을 공백으로 구분하여 입력 \n",
    "    (3 ≤ N, M ≤ 50 )\n",
    "* 둘째 줄에 게임 캐릭터가 있는 칸의 좌표(A, B)와 바라보는 방향 d가 각각 서로 공백으로 구분하여 주어진다. 방향 d의 값 \n",
    "\n",
    "    - 0 : 북쪽\n",
    "    - 1 : 동쪽\n",
    "    - 2 : 남쪽\n",
    "    - 3 : 서쪽\n",
    "    \n",
    "* 셋째 줄부터 맵이 육지인지 바다인지에 대한 정보가 주어진다. N개의 줄에 맵의 상태가 북쪽부터 남쪽 순서대로, 각 줄의 데이터는 서쪽부터 동쪽 순서대로 주어진다. 맵의 외각은 항상 바다로 되어 있다.\n",
    "\n",
    "    - 0 : 육지\n",
    "    - 1 : 바다\n",
    "    \n",
    "* 처음에 게임 캐릭터가 위치한 칸의 상태는 항상 육지 "
   ]
  },
  {
   "cell_type": "markdown",
   "id": "993f45dd",
   "metadata": {},
   "source": [
    "**출력 조건**\n",
    "\n",
    "* 첫째 줄에 이동을 마친 후 캐릭터가 방문한 칸의 수를 출력 "
   ]
  },
  {
   "cell_type": "code",
   "execution_count": 12,
   "id": "52a1b039",
   "metadata": {},
   "outputs": [
    {
     "name": "stdout",
     "output_type": "stream",
     "text": [
      "[[0, 0, 0, 0], [0, 0, 0, 0], [0, 0, 0, 0], [0, 0, 1, 0]]\n"
     ]
    }
   ],
   "source": [
    "# map_info test\n",
    "N = 4\n",
    "M = 4\n",
    "x = 3\n",
    "y = 2\n",
    "\n",
    "check = [[0] * M for _ in range(N)]\n",
    "check[x][y] = 1\n",
    "print(check)"
   ]
  },
  {
   "cell_type": "code",
   "execution_count": 15,
   "id": "8b6bc32a",
   "metadata": {
    "scrolled": true
   },
   "outputs": [
    {
     "name": "stdout",
     "output_type": "stream",
     "text": [
      "4 4 \n",
      "1 1 0\n",
      "1 1 1 1 \n",
      "1 0 0 1\n",
      "1 1 0 1\n",
      "1 1 1 1\n",
      "3\n"
     ]
    }
   ],
   "source": [
    "N, M = map(int, input().split()) # N x M 크기의 map\n",
    "x, y, d = map(int, input().split()) # 캐릭터의 위치 (x, y) , 바라보는 방향 : d\n",
    "game_map = [list(map(int, input().split())) for _ in range(N) ] # 전체 map 정보 입력 받기 (육지 : 0, 바다 : 1)\n",
    "\n",
    "# 북, 동, 남, 서\n",
    "dx = [-1, 0, 1ㅠ, 0]  \n",
    "dy = [0, 1, 0, -1]\n",
    "\n",
    "# game_map : 방문한 위치를 저장하기 위한 맵, 0으로 초기화 \n",
    "check = [[0] * M for _ in range(N)]\n",
    "check[x][y] = 1\n",
    "\n",
    "#  북(0), 동(1), 남(2), 서(3)\n",
    "# 왼쪽으로 회전 시 방향 바뀌는 함수 \n",
    "def turn_left() :\n",
    "    global d # 방향 \n",
    "    d -= 1 \n",
    "    if d == -1 : # 0  → -1 : 북 → 서\n",
    "        d = 3  \n",
    "        # d 가 0(북)일 때 'd -= 1' 을 수행하면 d는 -1이 됨/ 북에서 왼쪽 방향인 서쪽은 3이므로 d=3으로 표기 \n",
    "    \n",
    "count = 1 # 방문한 칸의 수 (구해야 하는 값)\n",
    "turn_num = 0 # 로봇이 회전한 횟수 , 회전횟수가 4가 되면 4방향 모두 탐색했음을 의미, 처음방향으로 돌아감\n",
    "while True : \n",
    "    #왼쪽으로 회전 \n",
    "    turn_left() # 로봇의 방향 d가 왼쪽으로 회전 \n",
    "    \n",
    "    # 회전한 이후 정면이 가보지 않은 칸이고, 육지이면 이동 \n",
    "    nx = x + dx[d]\n",
    "    ny = y + dy[d]\n",
    "    \n",
    "    if check[nx][ny] == 0 and game_map[nx][ny] == 0: # 육지인 경우 \n",
    "        check[nx][ny] = 1 \n",
    "        x, y = nx, ny # 로봇의 현재 위치를 이동한 위치로 업데이트 \n",
    "        count += 1\n",
    "        turn_num = 0 # 회전 횟수를 0으로 초기화, 새로운 칸에 도착하면 다시 회전할 필요 없음 \n",
    "        continue\n",
    "    # 회전한 이후 정면에 가본 칸이거나 바다인 경우 회전 \n",
    "    else : \n",
    "        turn_num += 1 # 왼쪽 방향으로 이동 \n",
    "    \n",
    "    # 로봇이 모두 가본 칸이거나 바다로 막혀있을 때 \n",
    "    # 4번 모두 회전 했는데 움직일 수 없음 \n",
    "    # 앞의 else가 4가 되었을 때 \n",
    "    if turn_num == 4: \n",
    "        nx = x - dx[d]\n",
    "        ny = y - dy[d]\n",
    "              \n",
    "        # 뒤로 갈 수 있다면(뒤에 있는 칸이 육지) 이동\n",
    "        if game_map[nx][ny] == 0 :\n",
    "            x, y = nx, ny\n",
    "       #뒤가 바다로 막혀있을 때 종료          \n",
    "        else : \n",
    "            break\n",
    "        turn_num = 0 # 방향 다시 순회 \n",
    "        \n",
    "print(count)\n",
    "\n",
    "    "
   ]
  },
  {
   "cell_type": "code",
   "execution_count": 1,
   "id": "22c66005",
   "metadata": {},
   "outputs": [
    {
     "name": "stdout",
     "output_type": "stream",
     "text": [
      "5 6\n",
      "101010\n",
      "111111\n",
      "000001\n",
      "111111\n",
      "111111\n"
     ]
    },
    {
     "ename": "IndexError",
     "evalue": "list index out of range",
     "output_type": "error",
     "traceback": [
      "\u001b[1;31m---------------------------------------------------------------------------\u001b[0m",
      "\u001b[1;31mIndexError\u001b[0m                                Traceback (most recent call last)",
      "Cell \u001b[1;32mIn[1], line 44\u001b[0m\n\u001b[0;32m     40\u001b[0m                 visited[nx][ny] \u001b[38;5;241m=\u001b[39m \u001b[38;5;28;01mTrue\u001b[39;00m\n\u001b[0;32m     43\u001b[0m \u001b[38;5;66;03m# BFS 실행하여 결과 출력\u001b[39;00m\n\u001b[1;32m---> 44\u001b[0m \u001b[38;5;28mprint\u001b[39m(\u001b[43mbfs\u001b[49m\u001b[43m(\u001b[49m\u001b[43mmaze_map\u001b[49m\u001b[43m,\u001b[49m\u001b[43m \u001b[49m\u001b[43mn\u001b[49m\u001b[43m,\u001b[49m\u001b[43m \u001b[49m\u001b[43mm\u001b[49m\u001b[43m)\u001b[49m)\n",
      "Cell \u001b[1;32mIn[1], line 34\u001b[0m, in \u001b[0;36mbfs\u001b[1;34m(maze_map, n, m)\u001b[0m\n\u001b[0;32m     31\u001b[0m     \u001b[38;5;28;01mcontinue\u001b[39;00m\n\u001b[0;32m     33\u001b[0m \u001b[38;5;66;03m# 벽인 경우 무시\u001b[39;00m\n\u001b[1;32m---> 34\u001b[0m \u001b[38;5;28;01mif\u001b[39;00m \u001b[43mmaze_map\u001b[49m\u001b[43m[\u001b[49m\u001b[43mnx\u001b[49m\u001b[43m]\u001b[49m\u001b[43m[\u001b[49m\u001b[43mny\u001b[49m\u001b[43m]\u001b[49m \u001b[38;5;241m==\u001b[39m \u001b[38;5;241m0\u001b[39m:\n\u001b[0;32m     35\u001b[0m     \u001b[38;5;28;01mcontinue\u001b[39;00m\n\u001b[0;32m     37\u001b[0m \u001b[38;5;66;03m# 해당 노드를 처음 방문하는 경우에만 최단 거리 기록\u001b[39;00m\n",
      "\u001b[1;31mIndexError\u001b[0m: list index out of range"
     ]
    }
   ],
   "source": [
    "from collections import deque\n",
    "\n",
    "# n x m 크기 입력\n",
    "n, m = map(int, input().split())\n",
    "maze_map = [list(map(int, input().split())) for _ in range(n)]\n",
    "\n",
    "def bfs(maze_map, n, m):\n",
    "    # 북, 동, 남, 서 방향 정의\n",
    "    dx = [-1, 0, 1, 0]\n",
    "    dy = [0, 1, 0, -1]\n",
    "    \n",
    "    # 방문한 위치를 기록하기 위한 2차원 리스트 초기화\n",
    "    visited = [[False] * m for _ in range(n)]\n",
    "    queue = deque([(0, 0, 1)])  # 시작 위치와 초기 이동 거리\n",
    "    visited[0][0] = True\n",
    "    \n",
    "    # BFS 실행\n",
    "    while queue:\n",
    "        x, y, dist = queue.popleft()\n",
    "        \n",
    "        # 목적지에 도달한 경우\n",
    "        if x == n-1 and y == m-1:\n",
    "            return dist\n",
    "        \n",
    "        # 현재 위치에서 4가지 방향으로의 위치 확인\n",
    "        for i in range(4):\n",
    "            nx, ny = x + dx[i], y + dy[i]\n",
    "            \n",
    "            # 미로 공간을 벗어난 경우 무시\n",
    "            if nx < 0 or nx >= n or ny < 0 or ny >= m:\n",
    "                continue\n",
    "            \n",
    "            # 벽인 경우 무시\n",
    "            if maze_map[nx][ny] == 0:\n",
    "                continue\n",
    "            \n",
    "            # 해당 노드를 처음 방문하는 경우에만 최단 거리 기록\n",
    "            if not visited[nx][ny]:\n",
    "                queue.append((nx, ny, dist + 1))\n",
    "                visited[nx][ny] = True\n",
    "\n",
    "\n",
    "# BFS 실행하여 결과 출력\n",
    "print(bfs(maze_map, n, m))\n"
   ]
  },
  {
   "cell_type": "code",
   "execution_count": null,
   "id": "eed202fb",
   "metadata": {},
   "outputs": [],
   "source": []
  }
 ],
 "metadata": {
  "kernelspec": {
   "display_name": "study",
   "language": "python",
   "name": "study"
  },
  "language_info": {
   "codemirror_mode": {
    "name": "ipython",
    "version": 3
   },
   "file_extension": ".py",
   "mimetype": "text/x-python",
   "name": "python",
   "nbconvert_exporter": "python",
   "pygments_lexer": "ipython3",
   "version": "3.10.13"
  }
 },
 "nbformat": 4,
 "nbformat_minor": 5
}
