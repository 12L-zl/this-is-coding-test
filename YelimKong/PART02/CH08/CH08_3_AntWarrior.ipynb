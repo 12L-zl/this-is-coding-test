{
 "cells": [
  {
   "cell_type": "markdown",
   "id": "586ecf84",
   "metadata": {},
   "source": [
    "### **CH08 다이나믹 프로그래밍**"
   ]
  },
  {
   "cell_type": "markdown",
   "id": "7786b363",
   "metadata": {},
   "source": [
    "### **(3) 개미 전사**"
   ]
  },
  {
   "cell_type": "markdown",
   "id": "369676fc",
   "metadata": {},
   "source": [
    "**문제**"
   ]
  },
  {
   "cell_type": "markdown",
   "id": "4a213ae8",
   "metadata": {},
   "source": [
    "개미 전사가 정찰병에게 들키지 않고 식량창고를 약탈하기 위해서는 최소한 한 칸 이상 떨어진 식량창고를 약탈해야 한다. 예를 들어 식량창고 4개가 다음과 같이 존재한다고 하자 <br>\n",
    "{1, 3, 1, 5}<br>\n",
    "이때 개미 전사는 두 번째 식량창고와 네 번째 식량창고를 선택했을 때 최댓값인 총 8개의 식량을 빼앗을 수 있다. <br>\n",
    "개미 전사를 위해 식량창고 N개에 대한 정보가 주어졌을 때 얻을 수 있는 식량의 최댓값을 구하는 프로그램 작성하시오."
   ]
  },
  {
   "cell_type": "markdown",
   "id": "d5b122ac",
   "metadata": {},
   "source": [
    "**입력 조건**"
   ]
  },
  {
   "cell_type": "markdown",
   "id": "61c1aca7",
   "metadata": {},
   "source": [
    "* 첫째 줄에 식량창고의 개수 N이 주어진다. (3 ≤ N ≤ 100)\n",
    "* 둘째 줄에 공백으로 구분되어 각 식량창고에 저장된 식량의 개수 K가 주어진다. (0 ≤ K ≤ 1,000)"
   ]
  },
  {
   "cell_type": "markdown",
   "id": "8a93d56a",
   "metadata": {},
   "source": [
    "**출력 조건**"
   ]
  },
  {
   "cell_type": "markdown",
   "id": "002926ea",
   "metadata": {},
   "source": [
    "* 첫째 줄에 개미 전사가 얻을 수 있는 식량의 최댓값을 출력하시오"
   ]
  },
  {
   "cell_type": "markdown",
   "id": "94b9e1e2",
   "metadata": {},
   "source": [
    "**입력 예시**"
   ]
  },
  {
   "cell_type": "markdown",
   "id": "cfc0eae3",
   "metadata": {},
   "source": [
    "4<br>\n",
    "1 3 1 5"
   ]
  },
  {
   "cell_type": "markdown",
   "id": "6af8aec1",
   "metadata": {},
   "source": [
    "**출력 예시**"
   ]
  },
  {
   "cell_type": "markdown",
   "id": "e05530af",
   "metadata": {},
   "source": [
    "8"
   ]
  },
  {
   "cell_type": "code",
   "execution_count": 4,
   "id": "ea54ebd4",
   "metadata": {},
   "outputs": [
    {
     "name": "stdout",
     "output_type": "stream",
     "text": [
      "4\n",
      "1 3 1 5\n",
      "8\n"
     ]
    }
   ],
   "source": [
    "N = int(input()) # 식량 창고 개수 \n",
    "K = list(map(int, input().split())) # 창고에 저장된 식량 개수\n",
    "\n",
    "d = [0] * 101\n",
    "\n",
    "odd_sum = sum(K[i] for i in range(len(K)) if i % 2 == 0)\n",
    "even_sum = sum(K[i] for i in range(len(K)) if i % 2 != 0)\n",
    "print(max(odd_sum, even_sum))\n"
   ]
  },
  {
   "cell_type": "code",
   "execution_count": 7,
   "id": "d18bca20",
   "metadata": {},
   "outputs": [
    {
     "name": "stdout",
     "output_type": "stream",
     "text": [
      "6\n",
      "1 2 4 5 3 6\n",
      "13\n"
     ]
    }
   ],
   "source": [
    "N = int(input()) # 식량 창고 개수 \n",
    "K = list(map(int, input().split())) # 창고에 저장된 식량 개수\n",
    "\n",
    "d = [0] * 101\n",
    "\n",
    "odd_sum = sum(K[i] for i in range(len(K)) if i % 2 == 0)\n",
    "even_sum = sum(K[i] for i in range(len(K)) if i % 2 != 0)\n",
    "print(max(odd_sum, even_sum))"
   ]
  },
  {
   "cell_type": "code",
   "execution_count": 5,
   "id": "1a3dc58c",
   "metadata": {},
   "outputs": [
    {
     "name": "stdout",
     "output_type": "stream",
     "text": [
      "14\n",
      "39 499 233 500 400 400 499 455 669 333 222 555 555 44\n",
      "2786\n"
     ]
    }
   ],
   "source": [
    "N = int(input()) # 식량 창고 개수 \n",
    "K = list(map(int, input().split())) # 창고에 저장된 식량 개수\n",
    "\n",
    "d = [0] * 101\n",
    "\n",
    "odd_sum = sum(K[i] for i in range(len(K)) if i % 2 == 0)\n",
    "even_sum = sum(K[i] for i in range(len(K)) if i % 2 != 0)\n",
    "print(max(odd_sum, even_sum))"
   ]
  },
  {
   "cell_type": "markdown",
   "id": "7b37ac94",
   "metadata": {},
   "source": [
    "**정답**"
   ]
  },
  {
   "cell_type": "code",
   "execution_count": 6,
   "id": "cfa48a47",
   "metadata": {},
   "outputs": [
    {
     "name": "stdout",
     "output_type": "stream",
     "text": [
      "4\n",
      "1 3 1 5\n",
      "8\n"
     ]
    }
   ],
   "source": [
    "n = int(input()) # 식량 창고 개수 \n",
    "k = list(map(int, input().split())) # 모든 식량 정보 입력받기\n",
    "\n",
    "# 앞서 계산된 결과를 저장하기 위한 DP 테이블 초기화 \n",
    "d = [0]* 100\n",
    "\n",
    "# 다이나믹 프로그래밍(Dynamic Programming) 진행(보텀업)\n",
    "d[0] = k[0] \n",
    "d[1] = max(k[0], k[1])\n",
    "for i in range(2, n) :\n",
    "    d[i] = max(d[i - 1], d[i - 2] + k[i])\n",
    "    \n",
    "# 계산된 결과 출력 \n",
    "print(d[n - 1])"
   ]
  }
 ],
 "metadata": {
  "kernelspec": {
   "display_name": "study",
   "language": "python",
   "name": "study"
  },
  "language_info": {
   "codemirror_mode": {
    "name": "ipython",
    "version": 3
   },
   "file_extension": ".py",
   "mimetype": "text/x-python",
   "name": "python",
   "nbconvert_exporter": "python",
   "pygments_lexer": "ipython3",
   "version": "3.10.13"
  }
 },
 "nbformat": 4,
 "nbformat_minor": 5
}
