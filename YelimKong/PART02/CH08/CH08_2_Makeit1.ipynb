{
 "cells": [
  {
   "cell_type": "markdown",
   "id": "51f0bb2e",
   "metadata": {},
   "source": [
    "### (2) 1로 만들기"
   ]
  },
  {
   "cell_type": "markdown",
   "id": "e9eb02ae",
   "metadata": {},
   "source": [
    "* 정수 X가 주어졌을 때, 정수 X에 사용할 수 있는 연산은 다음과 같은 4가지입니다.\n",
    "    1. X가 5로 나누어 떨어지면, 5로 나눕니다.\n",
    "    2. X가 3으로 나누어 떨어지면, 3으로 나눕니다.\n",
    "    3. X가 2로 나누어 떨어지면, 2로 나눕니다.\n",
    "    4. X에서 1을 뺍니다.\n",
    "    \n",
    "    \n",
    "* 정수 X가 주어졌을 때, 연산 4개를 적절히 사용해서 값을 1로 만들고자 합니다. 연산을 사용하는 횟수의 최솟값을 출력하세요. 예를 들어 정수가 26이면 다음과 같이 계산해서 3번의 연산이 최솟값입니다.\n",
    "\n",
    "    - 26 → 25 → 5 → 1"
   ]
  },
  {
   "cell_type": "markdown",
   "id": "d35080e2",
   "metadata": {},
   "source": [
    "**목표 : 1로 만들기 위한 최소 연산 횟수 구하기**"
   ]
  },
  {
   "cell_type": "code",
   "execution_count": 8,
   "id": "ea4fbe53",
   "metadata": {},
   "outputs": [
    {
     "name": "stdout",
     "output_type": "stream",
     "text": [
      "26\n",
      "3\n"
     ]
    }
   ],
   "source": [
    "# 한 번 계산된 결과를 메모이제이션(memoization) 하기 위한 리스트 초기화 \n",
    "d = [0] * 30000\n",
    "\n",
    "def cal(x) :\n",
    "    # x가 1이면 연산 횟수는 0 \n",
    "    if x == 1 :\n",
    "        return 0\n",
    "    \n",
    "    # 중복 계산 피하기 \n",
    "    # d 리스트에 이미 계산 결과가 저장 되어 있으면, 해당 결과를 반환\n",
    "    if d[x] != 0 :\n",
    "        return d[x]\n",
    "    \n",
    "    # 1을 뺀 경우 \n",
    "    # X에서 가장 가까운 작은 숫자이므로 X - 1 \n",
    "    min_cal = cal(x - 1) + 1\n",
    "    \n",
    "    # x가 2로 나누어 떨어지면\n",
    "    if x % 2 == 0 :\n",
    "        min_cal = min(min_cal, cal(x // 2) + 1) # 2로 나누고, 연산 횟수 1 증가\n",
    "    \n",
    "    # x가 3으로 나누어 떨어지면\n",
    "    if x % 3 == 0 :\n",
    "        min_cal = min(min_cal, cal(x // 3) + 1) # 3으로 나누고, 연산 횟수 1 증가 \n",
    "    \n",
    "    # # x가 5로 나누어 떨어지면\n",
    "    if x % 5 == 0 :\n",
    "        min_cal = min(min_cal, cal(x // 5) + 1) # 5로 나누고, 연산 횟수 1 증가 \n",
    "    \n",
    "    # d[X] : X를 1로 만드는데 필요한 최소 연산 횟수\n",
    "    d[x] = min_cal\n",
    "    return min_cal\n",
    "\n",
    "\n",
    "# X 입력 \n",
    "X = int(input())\n",
    "print(cal(X))"
   ]
  }
 ],
 "metadata": {
  "kernelspec": {
   "display_name": "study",
   "language": "python",
   "name": "study"
  },
  "language_info": {
   "codemirror_mode": {
    "name": "ipython",
    "version": 3
   },
   "file_extension": ".py",
   "mimetype": "text/x-python",
   "name": "python",
   "nbconvert_exporter": "python",
   "pygments_lexer": "ipython3",
   "version": "3.10.13"
  }
 },
 "nbformat": 4,
 "nbformat_minor": 5
}
