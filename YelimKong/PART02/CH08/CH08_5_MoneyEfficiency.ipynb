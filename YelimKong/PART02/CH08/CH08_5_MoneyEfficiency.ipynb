{
 "cells": [
  {
   "cell_type": "markdown",
   "id": "c3464a5e",
   "metadata": {},
   "source": [
    "### **CH08 다이나믹 프로그래밍**"
   ]
  },
  {
   "cell_type": "markdown",
   "id": "7be57832",
   "metadata": {},
   "source": [
    "### **(5) 효율적인 화폐 구성**"
   ]
  },
  {
   "cell_type": "markdown",
   "id": "a2f167f2",
   "metadata": {},
   "source": [
    "N가지 종류의 화폐가 있다. 이 화폐들의 개수를 최소한으로 이용해서 그 가치의 합이 M원이 되도록 하려고 한다. 이때 각 화폐는 몇 개라도 사용할 수 있으며, 사용한 화폐의 구성은 같지만 순서만 다른 것은 같은 경우로 구분한다. 예를 들어 2원, 3원 단위의 화폐가 있을 때는 15원을 만들기 위해 5개 사용하는 것이 가장 최소한의 화폐 개수이다."
   ]
  },
  {
   "cell_type": "markdown",
   "id": "52462458",
   "metadata": {},
   "source": [
    "**입력 조건**"
   ]
  },
  {
   "cell_type": "markdown",
   "id": "3b59522e",
   "metadata": {},
   "source": [
    "* 첫째 줄에 N, M이 주어진다. (1 ≤ N ≤ 100, 1 ≤ M ≤ 10,000)\n",
    "* 이후 N개의 줄에는 각 화폐의 가치가 주어진다. 화폐 가치는 10,000보다 작거나 같은 자연수이다."
   ]
  },
  {
   "cell_type": "markdown",
   "id": "2398b05d",
   "metadata": {},
   "source": [
    "**출력 조건**"
   ]
  },
  {
   "cell_type": "markdown",
   "id": "78bdbed7",
   "metadata": {},
   "source": [
    "* 첫째 줄에 M원을 만들기 위한 최소한의 화폐 개수를 출력한다.\n",
    "* 불가능할 때는 -1을 출력한다."
   ]
  },
  {
   "cell_type": "markdown",
   "id": "f720cf31",
   "metadata": {},
   "source": [
    "**입력 예시1**"
   ]
  },
  {
   "cell_type": "markdown",
   "id": "c9dd85ed",
   "metadata": {},
   "source": [
    "2 15 <br>\n",
    "2<br>\n",
    "3<br>"
   ]
  },
  {
   "cell_type": "markdown",
   "id": "19842da9",
   "metadata": {},
   "source": [
    "**출력 예시1**"
   ]
  },
  {
   "cell_type": "markdown",
   "id": "dc0d514a",
   "metadata": {},
   "source": [
    "5"
   ]
  },
  {
   "cell_type": "markdown",
   "id": "c19ad8f7",
   "metadata": {},
   "source": [
    "**코드**"
   ]
  },
  {
   "cell_type": "code",
   "execution_count": 1,
   "id": "f744b178",
   "metadata": {},
   "outputs": [
    {
     "name": "stdout",
     "output_type": "stream",
     "text": [
      "2 15 \n",
      "2\n",
      "3\n",
      "5\n"
     ]
    }
   ],
   "source": [
    "n, m = map(int, input().split())\n",
    "\n",
    "# n개의 화폐 단위 정보 입력 받기\n",
    "array = []\n",
    "for i in range(n) :\n",
    "    array.append(int(input()))\n",
    "    \n",
    "# 한 번 계산된 결과를 저장하기 위한 DP 테이블 초기화 \n",
    "d = [10001] * (m + 1)\n",
    "\n",
    "# 다이나믹 프로그래밍 (Dynamic Programming)  진행 (보텀업)\n",
    "d[0] = 0 \n",
    "for i in range(n) :\n",
    "    for j in range(array[i], m + 1) :\n",
    "        if d[j - array[i]] != 10001 : #(i - k)원을 만드는 방법이 존재하는 경우 \n",
    "            d[j] = min(d[j], d[j - array[i]] + 1)\n",
    "            \n",
    "# 계산된 결과 출력 \n",
    "if d[m] == 10001 : # 최종적으로 m원을 만드는 방법이 없는 경우 \n",
    "    print(-1)\n",
    "else : \n",
    "    print(d[m])\n",
    "    "
   ]
  }
 ],
 "metadata": {
  "kernelspec": {
   "display_name": "study",
   "language": "python",
   "name": "study"
  },
  "language_info": {
   "codemirror_mode": {
    "name": "ipython",
    "version": 3
   },
   "file_extension": ".py",
   "mimetype": "text/x-python",
   "name": "python",
   "nbconvert_exporter": "python",
   "pygments_lexer": "ipython3",
   "version": "3.10.13"
  }
 },
 "nbformat": 4,
 "nbformat_minor": 5
}
