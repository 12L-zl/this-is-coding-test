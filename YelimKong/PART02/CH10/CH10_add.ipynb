{
 "cells": [
  {
   "cell_type": "code",
   "execution_count": 9,
   "id": "0954a567",
   "metadata": {},
   "outputs": [
    {
     "data": {
      "text/plain": [
       "(2, [0, 1, 2, 2])"
      ]
     },
     "execution_count": 9,
     "metadata": {},
     "output_type": "execute_result"
    }
   ],
   "source": [
    "def find_parent(parent, x):\n",
    "    # 루트 노드를 찾을 때까지 재귀 호출\n",
    "    if parent[x] != x:\n",
    "        parent[x] = find_parent(parent, parent[x])\n",
    "    return parent[x]\n",
    "\n",
    "example = [0, 1, 2, 2]  # 인덱스 0은 사용하지 않음, 1 → 1, 2 → 2, 3 → 2\n",
    "\n",
    "# 노드 3의 루트 노드 찾기\n",
    "root_3 = find_parent(example, 3)\n",
    "root_3, example"
   ]
  },
  {
   "cell_type": "code",
   "execution_count": 10,
   "id": "f139c9a0",
   "metadata": {},
   "outputs": [
    {
     "data": {
      "text/plain": [
       "[0, 1, 2, 2]"
      ]
     },
     "execution_count": 10,
     "metadata": {},
     "output_type": "execute_result"
    }
   ],
   "source": [
    "def union_parent(parent, a, b):\n",
    "    a = find_parent(parent, a)\n",
    "    b = find_parent(parent, b)\n",
    "    if a < b:\n",
    "        parent[b] = a\n",
    "    else:\n",
    "        parent[a] = b\n",
    "\n",
    "example = [0, 1, 2, 2] \n",
    "\n",
    "\n",
    "union_parent(example, 2, 3)  # [0, 1, 2, 2]\n",
    "\n",
    "\n",
    "example"
   ]
  }
 ],
 "metadata": {
  "kernelspec": {
   "display_name": "study",
   "language": "python",
   "name": "study"
  },
  "language_info": {
   "codemirror_mode": {
    "name": "ipython",
    "version": 3
   },
   "file_extension": ".py",
   "mimetype": "text/x-python",
   "name": "python",
   "nbconvert_exporter": "python",
   "pygments_lexer": "ipython3",
   "version": "3.10.13"
  }
 },
 "nbformat": 4,
 "nbformat_minor": 5
}
