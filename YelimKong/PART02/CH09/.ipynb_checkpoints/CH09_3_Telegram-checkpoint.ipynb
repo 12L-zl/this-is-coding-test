{
 "cells": [
  {
   "cell_type": "markdown",
   "id": "c844e18e",
   "metadata": {},
   "source": [
    "### **(3) 전보**"
   ]
  },
  {
   "cell_type": "markdown",
   "id": "86af5a6b",
   "metadata": {},
   "source": [
    "어떤 나라에는 N개의 도시가 있다. 그리고 각 도시는 보내고자 하는 메시지가 있는 경우, 다른 도시로 전보를 보내서 다른 도시로 해당 메시지를 전송할 수 있다. 하지만 X라는 도시에서 Y라는 도시로 전보를 보내고자 한다면, 도시X에서 Y로 향하는 통로가 설치되어 있어야 한다. 예를 들어 X에서 Y로 향하는 통로는 있지만 Y에서 X로 향하는통로가 없다면 Y는 X로 메시지를 보낼 수 없다. 또한 통로를 거쳐 메시지를 보낼 때는 일정 시간이 소요된다.  \n",
    "어느 날 C라는 도시에서 위급 상황이 발생했다. 그래서 최대한 많은 도시로 메시지를 보내고자 한다. 메시지는 도시 C에서 출발하여 각 도시 사이에 설치된 통로를 거쳐, 최대한 많이 퍼져나갈 것이다.각 도시의 번호와 통로가 설치되어 있는 정보가 주어졌을 때, 도시 C에서 보낸 메시지를 받게 되는 도시의 개수는 총 몇 개이며 도시들이 모두 메시지를 받는 데까지 걸리는 시간은 얼마인지 계산하는 프로그램을 작성하시오."
   ]
  },
  {
   "cell_type": "markdown",
   "id": "7c102789",
   "metadata": {},
   "source": [
    "### **입력 조건**"
   ]
  },
  {
   "cell_type": "markdown",
   "id": "11c3572e",
   "metadata": {},
   "source": [
    "* 첫째 줄에 도시의 개수 N, 통로의 개수 M,  메시지를 보내고자 하는 도시 C가 주어진다.\n",
    "* 둘째 줄부터 M + 1 번째 줄에 걸쳐서 통로에 대한 정보 X, Y, Z가 주어진다. 이는 특정 도시 X에서 다른 특정 도시 Y로 이어지는 통로가 있으며, 메시지가 전달되는 시간이 Z라는 의미이다. "
   ]
  },
  {
   "cell_type": "markdown",
   "id": "29bf15d9",
   "metadata": {},
   "source": [
    "### **출력 조건**"
   ]
  },
  {
   "cell_type": "markdown",
   "id": "f66c6535",
   "metadata": {},
   "source": [
    "* 첫째 줄에 도시 C에서 보낸 메시지를 받는 도시의 총 개수와 총 걸리는 시간을 공백으로 구분하여 출력한다."
   ]
  },
  {
   "cell_type": "markdown",
   "id": "d10e4dca",
   "metadata": {},
   "source": [
    "### **입력 예시**"
   ]
  },
  {
   "cell_type": "markdown",
   "id": "7a87b876",
   "metadata": {},
   "source": [
    "3 2 1  \n",
    "1 2 4   \n",
    "1 3 2   "
   ]
  },
  {
   "cell_type": "markdown",
   "id": "7c70145c",
   "metadata": {},
   "source": [
    "### **출력 예시**"
   ]
  },
  {
   "cell_type": "markdown",
   "id": "40aa2952",
   "metadata": {},
   "source": [
    "2 4"
   ]
  },
  {
   "cell_type": "markdown",
   "id": "65351a44",
   "metadata": {},
   "source": [
    "**코드**"
   ]
  },
  {
   "cell_type": "code",
   "execution_count": 10,
   "id": "899cdb9d",
   "metadata": {},
   "outputs": [
    {
     "name": "stdout",
     "output_type": "stream",
     "text": [
      "5 3 1 \n",
      "1 2 4\n",
      "1 3 2\n",
      "2 5 3\n",
      "3 7\n"
     ]
    }
   ],
   "source": [
    "import heapq \n",
    "INF = int(1e9)\n",
    "\n",
    "# 노드의 개수, 간선의 개수, 시작 노드 \n",
    "n, m, c = map(int, input().split()) # 3 2 1\n",
    "\n",
    "# 각 노드에 연결되어 있는 노드에 대한 정보를 담는 리스트\n",
    "graph = [[] for i in range(n + 1)] # [[], [], [], []]\n",
    "\n",
    "# 최단 거리 테이블을 모두 무한으로 초기화\n",
    "distance = [INF] * (n + 1)\n",
    "\n",
    "for _ in range(m) :\n",
    "    x, y, z = map(int, input().split())\n",
    "     # 노드 x에서 노드 y로 가는 비용이 z라는 의미\n",
    "    graph[x].append((y, z))\n",
    "    # print(graph) # [[], [(2, 4)], [], []]\n",
    "    \n",
    "# 다익스트라 알고리즘을 수행\n",
    "def dijkstra(start):\n",
    "    # 우선순위 큐를 사용\n",
    "    q = []\n",
    "    # 시작 노드로 가기 위한 최단 경로는 0으로 설정하고 큐에 삽입\n",
    "    heapq.heappush(q, (0, start))\n",
    "    distance[start] = 0 \n",
    "    # 큐가 비어있지 않다면\n",
    "    while q:\n",
    "        dist, now = heapq.heappop(q)\n",
    "        if distance[now] < dist:\n",
    "            continue\n",
    "        # 가장 최단 거리가 짧은 노드에 대한 정보    \n",
    "        for i in graph[now]:\n",
    "            cost = dist + i[1]\n",
    "             # 현재 노드를 거쳐서, 다른 노드로 이동하는 거리가 더 짧은 경우\n",
    "            if cost < distance[i[0]]:\n",
    "                distance[i[0]] = cost\n",
    "                 # 다시 우선순위 큐에 삽입\n",
    "                heapq.heappush(q, (cost, i[0]))\n",
    "                \n",
    "dijkstra(c)\n",
    "\n",
    "count = 0\n",
    "max_distance = 0 \n",
    "\n",
    "# 모든 노드로 가기 위한 최단 거리를 확인\n",
    "for d in distance:\n",
    "    # 도달할 수 있는 경우\n",
    "    if d != INF:\n",
    "        count += 1\n",
    "        # 가장 멀리 있는 노드와의 최단 거리를 갱신\n",
    "        max_distance = max(max_distance, d)\n",
    "\n",
    "# 시작 노드는 제외해야 하므로 count - 1을 출력\n",
    "print(count - 1, max_distance)\n",
    "            "
   ]
  }
 ],
 "metadata": {
  "kernelspec": {
   "display_name": "study",
   "language": "python",
   "name": "study"
  },
  "language_info": {
   "codemirror_mode": {
    "name": "ipython",
    "version": 3
   },
   "file_extension": ".py",
   "mimetype": "text/x-python",
   "name": "python",
   "nbconvert_exporter": "python",
   "pygments_lexer": "ipython3",
   "version": "3.10.13"
  }
 },
 "nbformat": 4,
 "nbformat_minor": 5
}
