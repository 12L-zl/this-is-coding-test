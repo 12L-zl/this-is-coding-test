{
 "cells": [
  {
   "cell_type": "markdown",
   "id": "45c6c09f",
   "metadata": {},
   "source": [
    "### **(4) 두 배열의 원소 교체**"
   ]
  },
  {
   "cell_type": "markdown",
   "id": "773f7ce8",
   "metadata": {},
   "source": [
    "**문제**"
   ]
  },
  {
   "cell_type": "markdown",
   "id": "f471a4e7",
   "metadata": {},
   "source": [
    "* N, K 그리고 배열 A와 B의 정보가 주어졌을 때, 최대 K번의 바꿔치기 연산을 수행하여 만들 수 있는 배열 A의 모든 원소의 합의 최댓값 출력하는 프로그램 작성하시오 "
   ]
  },
  {
   "cell_type": "markdown",
   "id": "14e6359a",
   "metadata": {},
   "source": [
    "**출력 조건**"
   ]
  },
  {
   "cell_type": "markdown",
   "id": "b7d87c49",
   "metadata": {},
   "source": [
    "* 최대 K번의 바꿔치기 연산을 수행하여 만들 수 있는 배열 A의 모든 원소의 합의 최댓값 출력 "
   ]
  },
  {
   "cell_type": "code",
   "execution_count": 21,
   "id": "9c9aea22",
   "metadata": {},
   "outputs": [
    {
     "name": "stdout",
     "output_type": "stream",
     "text": [
      "5 3\n",
      "1 2 5 4 3\n",
      "5 5 6 6 5\n",
      "20\n"
     ]
    }
   ],
   "source": [
    "# N : 원소의 개수, K : 바꿔치기 횟수\n",
    "N, K = list(map(int, input().split()))\n",
    "\n",
    "a = list(map(int, input().split()))\n",
    "b = list(map(int, input().split()))\n",
    "a.sort(reverse = False)\n",
    "b.sort(reverse = True)\n",
    "\n",
    "for i in range(K) :\n",
    "    if a[i] < b[i] :\n",
    "        a[i], b[i] = b[i], a[i]\n",
    "        \n",
    "    else : \n",
    "        continue\n",
    "    break\n",
    "    \n",
    "    \n",
    "print(sum(a))\n",
    "\n",
    "\n",
    "    "
   ]
  }
 ],
 "metadata": {
  "kernelspec": {
   "display_name": "study",
   "language": "python",
   "name": "study"
  },
  "language_info": {
   "codemirror_mode": {
    "name": "ipython",
    "version": 3
   },
   "file_extension": ".py",
   "mimetype": "text/x-python",
   "name": "python",
   "nbconvert_exporter": "python",
   "pygments_lexer": "ipython3",
   "version": "3.10.13"
  }
 },
 "nbformat": 4,
 "nbformat_minor": 5
}
