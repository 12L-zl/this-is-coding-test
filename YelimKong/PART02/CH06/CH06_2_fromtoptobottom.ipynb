{
 "cells": [
  {
   "cell_type": "markdown",
   "id": "1b92152d",
   "metadata": {},
   "source": [
    "### (2) 위에서 아래로"
   ]
  },
  {
   "cell_type": "markdown",
   "id": "3dbade17",
   "metadata": {},
   "source": [
    "**입력 조건**\n",
    "* 첫째 줄에 수열에 속해 있는 수의 개수 N이 주어진다.(1 ≤ N ≤ 500)\n",
    "* 둘째 줄부터 N + 1 번째 줄까지 N개의 수가 입력된다. 수의 범위는 1이상 100,000 이하의 자연수이다."
   ]
  },
  {
   "cell_type": "markdown",
   "id": "1642fc74",
   "metadata": {},
   "source": [
    "**출력 조건**\n",
    "* 입력으로 주어진 수열이 내림차순으로 정렬된 결과를 공백으로 구분하여 출력한다. 동일한 수의 순서는 자유롭게 출력해도 된다."
   ]
  },
  {
   "cell_type": "markdown",
   "id": "c04f16ef",
   "metadata": {},
   "source": [
    "* **4가지 알고리즘 중 삽입 정렬 사용**\n",
    "\n",
    "\n",
    "| 정렬 알고리즘  | 평균 시간 복잡도  | 공간 복잡도  | 특징    |\n",
    "|:----------:|:---------:|:----------------:|:--------|\n",
    "|  선택 정렬  | O(N²)    |  O(N)  |  아이디어가 매우 간단  |\n",
    "| 삽입 정렬   |  O(N²)   |  O(N)  | 데이터가 거의 정렬되어 있을 때는 가장 빠르다.  |\n",
    "|  퀵 정렬  |  O(NlogN)   |  O(N)  | 대부분의 경우에 가장 적합하며, 충분히 빠르다.  |\n",
    "|  계수 정렬  |  O(N+K)  |  O(N + K)  |데이터의 크기가 한정되어 있는 경우에만 <br>사용이 가능하지만 매우 빠르게 동작함</br>   |"
   ]
  },
  {
   "cell_type": "code",
   "execution_count": 2,
   "id": "85a8117b",
   "metadata": {},
   "outputs": [
    {
     "name": "stdout",
     "output_type": "stream",
     "text": [
      "3\n",
      "15\n",
      "27\n",
      "12\n",
      "27 15 12 "
     ]
    }
   ],
   "source": [
    "# 수열의 길이 입력\n",
    "N = int(input()) \n",
    "\n",
    "sequence = [] # 빈 리스트 : 입력한 숫자들 저장용도\n",
    "for _ in range(N) : \n",
    "    num = int(input())\n",
    "    sequence.append(num)\n",
    "    \n",
    "for i in range(1, len(sequence)) :\n",
    "    # range(start, end, step) \n",
    "    for j in range(i, 0, -1) : # i부터 시작해서 역순으로 거슬러 감 \n",
    "        # 예를 들어 숫자 27과 15를 비교하고 27이 15보다 크다면, 코드 위치 변경 : 스와핑\n",
    "        if sequence[j] > sequence[j-1] :\n",
    "            sequence[j], sequence[j-1] = sequence[j-1], sequence[j]\n",
    "        else : \n",
    "            break\n",
    "\n",
    "\n",
    "for num in sequence:\n",
    "    # # 각 숫자를 출력하고, 숫자 사이에 공백을 넣어 출력\n",
    "    print(num, end = \" \")"
   ]
  }
 ],
 "metadata": {
  "kernelspec": {
   "display_name": "study",
   "language": "python",
   "name": "study"
  },
  "language_info": {
   "codemirror_mode": {
    "name": "ipython",
    "version": 3
   },
   "file_extension": ".py",
   "mimetype": "text/x-python",
   "name": "python",
   "nbconvert_exporter": "python",
   "pygments_lexer": "ipython3",
   "version": "3.10.13"
  }
 },
 "nbformat": 4,
 "nbformat_minor": 5
}
