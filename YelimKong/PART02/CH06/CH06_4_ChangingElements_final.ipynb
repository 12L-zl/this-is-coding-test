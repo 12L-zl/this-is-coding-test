{
 "cells": [
  {
   "cell_type": "markdown",
   "id": "4fa8e0f5",
   "metadata": {},
   "source": [
    "### **(4) 두 배열의 원소 교체**"
   ]
  },
  {
   "cell_type": "markdown",
   "id": "88558362",
   "metadata": {},
   "source": [
    "**문제**"
   ]
  },
  {
   "cell_type": "markdown",
   "id": "500f72ce",
   "metadata": {},
   "source": [
    "* N, K 그리고 배열 A와 B의 정보가 주어졌을 때, 최대 K번의 바꿔치기 연산을 수행하여 만들 수 있는 배열 A의 모든 원소의 합의 최댓값 출력하는 프로그램 작성하시오 "
   ]
  },
  {
   "cell_type": "markdown",
   "id": "34ad40ae",
   "metadata": {},
   "source": [
    "**입력 조건**"
   ]
  },
  {
   "cell_type": "markdown",
   "id": "e7c2f28d",
   "metadata": {},
   "source": [
    "* 첫 번째 줄에 N, K가 공백으로 구분되어 입력된다. (1 ≤N ≤ 500)\n",
    "* 두 번째 줄부터 N + 1번째 줄까지 N개의 수가 입력된다. 수의 범위는 1이상 100,000 이하의 자연수이다."
   ]
  },
  {
   "cell_type": "markdown",
   "id": "f7de746e",
   "metadata": {},
   "source": [
    "**출력 조건**"
   ]
  },
  {
   "cell_type": "markdown",
   "id": "b56979b4",
   "metadata": {},
   "source": [
    "* 최대 K번의 바꿔치기 연산을 수행하여 만들 수 있는 배열 A의 모든 원소의 합의 최댓값 출력 "
   ]
  },
  {
   "cell_type": "code",
   "execution_count": 25,
   "id": "e6d35851",
   "metadata": {},
   "outputs": [
    {
     "name": "stdout",
     "output_type": "stream",
     "text": [
      "5 3 \n",
      "10 10 10 5 5 \n",
      "13 10 9 5 5\n",
      "53\n"
     ]
    }
   ],
   "source": [
    "# N : 원소의 개수, K : 바꿔치기 횟수\n",
    "N, K = list(map(int, input().split()))\n",
    "\n",
    "a = list(map(int, input().split()))\n",
    "b = list(map(int, input().split()))\n",
    "\n",
    "a.sort(reverse = False)\n",
    "b.sort(reverse = True)\n",
    "\n",
    "for i in range(K) :\n",
    "    if a[i] <= b[i] :\n",
    "        a[i], b[i] = b[i], a[i]\n",
    "    \n",
    "print(sum(a))\n"
   ]
  }
 ],
 "metadata": {
  "kernelspec": {
   "display_name": "study",
   "language": "python",
   "name": "study"
  },
  "language_info": {
   "codemirror_mode": {
    "name": "ipython",
    "version": 3
   },
   "file_extension": ".py",
   "mimetype": "text/x-python",
   "name": "python",
   "nbconvert_exporter": "python",
   "pygments_lexer": "ipython3",
   "version": "3.10.13"
  }
 },
 "nbformat": 4,
 "nbformat_minor": 5
}
