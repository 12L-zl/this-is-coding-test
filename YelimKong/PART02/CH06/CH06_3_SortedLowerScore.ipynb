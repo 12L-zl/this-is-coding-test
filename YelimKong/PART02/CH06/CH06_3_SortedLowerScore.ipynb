{
 "cells": [
  {
   "cell_type": "markdown",
   "id": "daed44c7",
   "metadata": {},
   "source": [
    "### **(3) 성적이 낮은 순서로 학생 출력하기**"
   ]
  },
  {
   "cell_type": "markdown",
   "id": "af413cf4",
   "metadata": {},
   "source": [
    "**문제**"
   ]
  },
  {
   "cell_type": "markdown",
   "id": "ec4d8498",
   "metadata": {},
   "source": [
    "N명의 학생 정보가 있다.학생 정보는 이름과 학생의 성적으로 구분된다.  \n",
    "각 학생의 이름과 성적 정보가 주어졌을 때 **성적이 낮은 순서대로 학생의 이름을 출력**하는 프로그램 작성하시오 "
   ]
  },
  {
   "cell_type": "markdown",
   "id": "9e17a1c9",
   "metadata": {},
   "source": [
    "**입력 정보**"
   ]
  },
  {
   "cell_type": "markdown",
   "id": "8ace8fa1",
   "metadata": {},
   "source": [
    "* 첫 번째 줄에 학생의 수 N이 입력된다. (1 ≤ N ≤ 100,000)\n",
    "* 두 번째 줄부터 N + 1 번째 줄에는 학생의 이름을 나타내는 문자열 A와 학생의 성적으로 나타내는 정수 B가 공백으로 구분되어 입력된다.  \n",
    "문자열 A의 길이와 학생의 성적은 100 이하의 자연수이다. "
   ]
  },
  {
   "cell_type": "markdown",
   "id": "59532997",
   "metadata": {},
   "source": [
    "**출력 조건**"
   ]
  },
  {
   "cell_type": "markdown",
   "id": "f3a4e0fd",
   "metadata": {},
   "source": [
    "* 모든 학생의 이름을 성적이 낮은 순서대로 출력한다.  \n",
    "성적이 동일한 학생들의 순서는 자유롭게 출력 가능 "
   ]
  },
  {
   "cell_type": "code",
   "execution_count": 6,
   "id": "55015d52",
   "metadata": {},
   "outputs": [
    {
     "name": "stdout",
     "output_type": "stream",
     "text": [
      "2\n",
      "손흥민 100\n",
      "공예림 80\n",
      "공예림 80\n",
      "손흥민 100\n"
     ]
    }
   ],
   "source": [
    "n = int(input())                  # 학생의 수 \n",
    "stu = []                          # 학생 이름, 성적 저장 리스트          \n",
    "\n",
    "for _ in range(n) :\n",
    "    student = input().split()     # 학생 정보 입력\n",
    "    name = student[0]             # 학생 이름 \n",
    "    score = int(student[1])       # 학생 점수\n",
    "    stu.append((name, score))     \n",
    "\n",
    "stu.sort()                        # 오름차순 정렬\n",
    "\n",
    "for i in stu :                   # 오름차순 출력\n",
    "    print(i[0], i[1])\n"
   ]
  }
 ],
 "metadata": {
  "kernelspec": {
   "display_name": "study",
   "language": "python",
   "name": "study"
  },
  "language_info": {
   "codemirror_mode": {
    "name": "ipython",
    "version": 3
   },
   "file_extension": ".py",
   "mimetype": "text/x-python",
   "name": "python",
   "nbconvert_exporter": "python",
   "pygments_lexer": "ipython3",
   "version": "3.10.13"
  }
 },
 "nbformat": 4,
 "nbformat_minor": 5
}
