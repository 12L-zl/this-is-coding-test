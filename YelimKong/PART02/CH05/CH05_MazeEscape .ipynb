{
 "cells": [
  {
   "cell_type": "markdown",
   "id": "8b792911",
   "metadata": {},
   "source": [
    "### (4) 미로 탈출"
   ]
  },
  {
   "cell_type": "markdown",
   "id": "d89da33d",
   "metadata": {},
   "source": [
    "###  BFS"
   ]
  },
  {
   "cell_type": "code",
   "execution_count": 1,
   "id": "70d4a02b",
   "metadata": {},
   "outputs": [
    {
     "name": "stdout",
     "output_type": "stream",
     "text": [
      "1 2 3 8 7 4 5 6 "
     ]
    }
   ],
   "source": [
    "from collections import deque\n",
    "\n",
    "# BFS 메서드 정의 \n",
    "def bfs(graph, start, visited) :\n",
    "    #큐 (Queue) 구현을 위해 deque 라이브러리 사용\n",
    "    queue = deque([start])\n",
    "    #현재 노드를 방문 처리 \n",
    "    visited[start] = True\n",
    "    # 큐가 빌 때까지 반복 \n",
    "    while queue :\n",
    "        #큐에서 하나의 원소를 뽑아 출력 \n",
    "        v = queue.popleft()\n",
    "        print(v, end = ' ')\n",
    "        # 해당 원소와 연결된, 아직 방문하지 않은 원소들을 큐에 삽입 \n",
    "        for i in graph[v] :\n",
    "            if not visited[i]:\n",
    "                queue.append(i)\n",
    "                visited[i] = True\n",
    "                \n",
    "# 각 노드가 연결된 정보를 리스트 자료형으로 표현(2차원 리스트)\n",
    "graph = [\n",
    "    [],\n",
    "    [2, 3, 8],\n",
    "    [1, 7], \n",
    "    [1, 4, 5],\n",
    "    [3, 5], \n",
    "    [3, 4], \n",
    "    [7], \n",
    "    [2, 6, 8],\n",
    "    [1, 7]\n",
    "]\n",
    "\n",
    "# 각 노드가 방문된 정보를 리스트 자료형으로 표현(1차원 리스트)\n",
    "visited = [False] * 9\n",
    "\n",
    "#정의된 BFS 함수 호출\n",
    "bfs(graph, 1, visited)"
   ]
  },
  {
   "cell_type": "code",
   "execution_count": 4,
   "id": "d933cb66",
   "metadata": {},
   "outputs": [
    {
     "name": "stdout",
     "output_type": "stream",
     "text": [
      "5 6\n",
      "101010\n",
      "111111\n",
      "000001\n",
      "111111\n",
      "111111\n",
      "[[101010], [111111], [1], [111111], [111111]]\n"
     ]
    }
   ],
   "source": [
    "\n",
    "# n x m 크기 입력\n",
    "n, m = map(int, input().split())\n",
    "game_map = [list(map(int, input().split())) for _ in range(n) ] # 전체 map 정보 입력 받기 (육지 : 0, 바다 : 1)\n",
    "\n",
    "print(game_map)\n"
   ]
  },
  {
   "cell_type": "code",
   "execution_count": 6,
   "id": "85eeaa18",
   "metadata": {},
   "outputs": [
    {
     "name": "stdout",
     "output_type": "stream",
     "text": [
      "5 6\n",
      "101010\n",
      "111111\n",
      "000001\n",
      "111111\n",
      "111111\n",
      "deque([(1, 0)])\n",
      "deque([(0, 0)])\n",
      "deque([(0, 0), (1, 1)])\n",
      "deque([(1, 2)])\n",
      "deque([(0, 2)])\n",
      "deque([(0, 2), (1, 3)])\n",
      "deque([(1, 4)])\n",
      "deque([(0, 4)])\n",
      "deque([(0, 4), (1, 5)])\n",
      "deque([(2, 5)])\n",
      "deque([(3, 5)])\n",
      "deque([(4, 5)])\n",
      "deque([(4, 5), (3, 4)])\n",
      "deque([(3, 4), (4, 4)])\n",
      "deque([(4, 4), (3, 3)])\n",
      "deque([(3, 3), (4, 3)])\n",
      "deque([(4, 3), (3, 2)])\n",
      "deque([(3, 2), (4, 2)])\n",
      "deque([(4, 2), (3, 1)])\n",
      "deque([(3, 1), (4, 1)])\n",
      "deque([(4, 1), (3, 0)])\n",
      "deque([(3, 0), (4, 0)])\n"
     ]
    },
    {
     "data": {
      "text/plain": [
       "10"
      ]
     },
     "execution_count": 6,
     "metadata": {},
     "output_type": "execute_result"
    }
   ],
   "source": [
    "from collections import deque\n",
    "\n",
    "# n x m 크기 입력 받기\n",
    "n, m = map(int, input().split())\n",
    "# 전체 미로 정보 입력  (괴물이 있는 부분 : 0, 괴물이 없는 부분 : 1)\n",
    "maze_map = [list(map(int, input())) for _ in range(n)]\n",
    "\n",
    "# 방향 벡터 (북, 동, 남, 서)\n",
    "dx = [-1, 0, 1, 0] # 행\n",
    "dy = [0, 1, 0, -1] # 열\n",
    "\n",
    "# BFS 메서드 정의\n",
    "def bfs(x, y):\n",
    "    # 큐(Queue) 구현을 위해 deque 라이브러리 사용\n",
    "    queue = deque()\n",
    "    queue.append((x, y))\n",
    "    # 큐가 빌 때까지 반복\n",
    "    while queue:\n",
    "        x, y = queue.popleft()\n",
    "        # 4가지 방향으로의 위치 확인\n",
    "        for i in range(4):\n",
    "            nx = x + dx[i]\n",
    "            ny = y + dy[i]\n",
    "            # map 벗어날 경우 무시 \n",
    "            if nx < 0 or nx >= n or ny < 0 or ny >= m:\n",
    "                continue\n",
    "            # 이동할 수 없는 경우 무시\n",
    "            if maze_map[nx][ny] == 0:\n",
    "                continue\n",
    "            # 해당 노드를 처음 방문하는 경우에만 최단 거리 기록\n",
    "            if maze_map[nx][ny] == 1:\n",
    "                maze_map[nx][ny] = maze_map[x][y] + 1\n",
    "                queue.append((nx, ny))\n",
    "                #print(queue)\n",
    "    # 출구까지 최단거리 -1 해준 이유는 인덱스 기준 때문에 \n",
    "    return maze_map[n-1][m-1]\n",
    "\n",
    "# 문제에서 (1, 1) 출발은 인덱스 번호로 계산 시 (0, 0)\n",
    "bfs(0, 0)\n"
   ]
  },
  {
   "cell_type": "code",
   "execution_count": null,
   "id": "c5c1fbb0",
   "metadata": {},
   "outputs": [],
   "source": []
  },
  {
   "cell_type": "code",
   "execution_count": null,
   "id": "63b5ab52",
   "metadata": {},
   "outputs": [],
   "source": []
  },
  {
   "cell_type": "code",
   "execution_count": null,
   "id": "e66b689f",
   "metadata": {},
   "outputs": [],
   "source": []
  },
  {
   "cell_type": "code",
   "execution_count": null,
   "id": "3963bb08",
   "metadata": {},
   "outputs": [],
   "source": []
  },
  {
   "cell_type": "code",
   "execution_count": null,
   "id": "7d9d95b7",
   "metadata": {},
   "outputs": [],
   "source": []
  },
  {
   "cell_type": "code",
   "execution_count": null,
   "id": "786f6f36",
   "metadata": {},
   "outputs": [],
   "source": []
  }
 ],
 "metadata": {
  "kernelspec": {
   "display_name": "study",
   "language": "python",
   "name": "study"
  },
  "language_info": {
   "codemirror_mode": {
    "name": "ipython",
    "version": 3
   },
   "file_extension": ".py",
   "mimetype": "text/x-python",
   "name": "python",
   "nbconvert_exporter": "python",
   "pygments_lexer": "ipython3",
   "version": "3.10.13"
  }
 },
 "nbformat": 4,
 "nbformat_minor": 5
}
