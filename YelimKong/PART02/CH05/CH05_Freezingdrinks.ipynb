{
 "cells": [
  {
   "cell_type": "markdown",
   "id": "fe76443d",
   "metadata": {},
   "source": [
    "### (3) 음료수 얼려 먹기"
   ]
  },
  {
   "cell_type": "markdown",
   "id": "0e041b39",
   "metadata": {},
   "source": [
    "**입력 조건**\n",
    "\n",
    "* 첫 번째 줄에 얼음 틀의 새로 길이 N과 가로 길이 M이 주어진다. (1 ≤ N,M ≤ 1,000)\n",
    "* 두 번째 줄부터 N + 1번째 줄까지 얼음 틀의 형태가 주어진다. \n",
    "* 이때 구멍이 뚫려있는 부분은 0, 그렇지 않은 부분은 1이다. "
   ]
  },
  {
   "cell_type": "markdown",
   "id": "70961cf4",
   "metadata": {},
   "source": [
    "**출력 조건**\n",
    "* 한 번에 만들 수 있는 아이스크림의 개수 출력"
   ]
  },
  {
   "cell_type": "code",
   "execution_count": 23,
   "id": "ef8a7575",
   "metadata": {},
   "outputs": [
    {
     "name": "stdout",
     "output_type": "stream",
     "text": [
      "15 14\n",
      "00000111100000\n",
      "11111101111110\n",
      "11011101101110\n",
      "11011101100000\n",
      "11011111111111\n",
      "11011111111100\n",
      "11000000011111\n",
      "01111111111111\n",
      "00000000011111\n",
      "01111111111000\n",
      "00011111111000\n",
      "00000001111000\n",
      "11111111110011\n",
      "11100011111111\n",
      "11100011111111\n",
      "8\n"
     ]
    }
   ],
   "source": [
    "N, M = map(int, input().split()) # 얼음틀의 크기 \n",
    "ice_frame = [] # 얼음틀 \n",
    "for _ in range(N): # N : 얼음틀 높이 \n",
    "    row = list(map(int, input().strip())) # 양끝 공백 제거 입력 (각 행)\n",
    "    ice_frame.append(row)\n",
    "\n",
    "def DFS(x, y) :\n",
    "    # x, y < 0 : x, y 좌표가 음수 \n",
    "    # x ≥ N, y ≥ M : 좌표가 얼음 틀 범위 벗어난 경우     \n",
    "    # ice_frame[x][y] == 1 : 이미 방문한 경우 \n",
    "    if x < 0 or x >= N or y < 0 or y >= M or ice_frame[x][y] == 1:\n",
    "        return # 범위를 벗어나거나 이미 방문한 경우 종료\n",
    "    ice_frame[x][y] = 1 # 방문 처리 \n",
    "    # 북, 동, 남, 서 \n",
    "    dx = [-1, 0, 1, 0]\n",
    "    dy = [0, 1, 0, -1]\n",
    "    for i in range(4): # 방향 4개이므로 \n",
    "        # 이동한 방향 계산 \n",
    "        nx, ny = x + dx[i], y + dy[i]\n",
    "        # 얼음틀 범위내에 있고 방문하지 않았는지 \n",
    "        if 0 <= nx < N and 0 <= ny < M and ice_frame[nx][ny] == 0:  \n",
    "            DFS(nx, ny)\n",
    "    \n",
    "count = 0 # 결과 값 \n",
    "# 모든 얼음틀 순회 0인 곳 찾기 \n",
    "for i in range(N) :\n",
    "    for j in range(M) :\n",
    "        # 현재 위치에 구멍이 뚫려 있으면\n",
    "        if ice_frame[i][j] == 0:\n",
    "            # DFS 함수 호출 \n",
    "            DFS(i, j)\n",
    "            # 찾을 때마다 추가 \n",
    "            count += 1 \n",
    "\n",
    "print(count)\n"
   ]
  }
 ],
 "metadata": {
  "kernelspec": {
   "display_name": "study",
   "language": "python",
   "name": "study"
  },
  "language_info": {
   "codemirror_mode": {
    "name": "ipython",
    "version": 3
   },
   "file_extension": ".py",
   "mimetype": "text/x-python",
   "name": "python",
   "nbconvert_exporter": "python",
   "pygments_lexer": "ipython3",
   "version": "3.10.13"
  }
 },
 "nbformat": 4,
 "nbformat_minor": 5
}
