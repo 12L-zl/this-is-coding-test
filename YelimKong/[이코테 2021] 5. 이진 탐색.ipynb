{
 "cells": [
  {
   "cell_type": "markdown",
   "id": "a31b7488",
   "metadata": {},
   "source": [
    "### 이진 탐색 알고리즘"
   ]
  },
  {
   "cell_type": "markdown",
   "id": "440eb94e",
   "metadata": {},
   "source": [
    "* 순차 탐색 : 리스트 안에 있는 특정한 **데이터를 찾기 위해 앞에서부터 데이터를 하나씩 확인**하는 방법\n",
    "* 이진 탐색 : 정렬되어 있는 리스트에서 **탐색 범위를 절반씩 좁혀가며 데이터를 탐색**하는 방법 \n",
    "    - 이진 탐색은 시작점, 끝점, 중간점을 이용하여 탐색 범위를 설정함"
   ]
  },
  {
   "cell_type": "markdown",
   "id": "bd61389a",
   "metadata": {},
   "source": [
    "**이진 탐색의 시간 복잡도**\n",
    "* 단계마다 탐색 범위를 2로 나누는 것과 동일하므로 **연산횟수는 log₂N에 비례**\n",
    "* 예를 들어 초기 데이터 개수가 32개일 때, 이상적으로 1단계를 거치면 16개가량의 데이터만 남는다.\n",
    "    - 2단계를 거치면 8개 가량의 데이터만 남는다.\n",
    "    - 3단계를 거치면 4개 가량의 데이터만 남는다.\n",
    "* 다시 말해 이진 탐색은 탐색 범위를 절반씩 줄이며, 시간 복잡도는 O(logN)을 보장"
   ]
  },
  {
   "cell_type": "markdown",
   "id": "acb8069f",
   "metadata": {},
   "source": [
    "**이진 탐색 소스코드 : 재귀적 구현**"
   ]
  },
  {
   "cell_type": "code",
   "execution_count": 1,
   "id": "0522d842",
   "metadata": {},
   "outputs": [
    {
     "name": "stdout",
     "output_type": "stream",
     "text": [
      "10 7\n",
      "1 3 5 7 9 11 13 15 17 19\n",
      "4\n"
     ]
    }
   ],
   "source": [
    "# 이진 탐색 소스코드 구현 (재귀 함수)\n",
    "# 1) 입력한 원소가 전체 원소 내에 존재할 경우\n",
    "def binary_search(array, target, start, end) :\n",
    "    if start > end :# 이진탐색은 정렬이 되어 있어야 하는데 start > end 가 되면 시작할 수 없음 \n",
    "        return None # 데이터가 존재하지 않음을 반환\n",
    "    mid = (start + end) // 2 # 중간값 인덱스 \n",
    "    # 찾은 경우 중간점 인덱스 반환 \n",
    "    if array[mid] == target : \n",
    "        return mid\n",
    "    # 중간점의 값보다 찾고자 하는 값이 작은 경우 왼쪽 확인\n",
    "    elif array[mid] > target : \n",
    "        return binary_search(array, target, start, mid - 1)\n",
    "    # 중간점의 값보다 찾고자 하는 값이 큰 경우 오른쪽 확인\n",
    "    else : \n",
    "        return binary_search(array, target, mid + 1, end)\n",
    "    \n",
    "# n(원소의 개수)과 target(찾고자 하는 값)을 입력 받기\n",
    "n, target = list(map(int, input().split()))\n",
    "# 전체 원소 입력 받기\n",
    "array = list(map(int, input().split()))\n",
    "\n",
    "# 이진 탐색 수행 결과 출력 \n",
    "result = binary_search(array, target, 0, n - 1 )\n",
    "if result == None :\n",
    "    print(\"원소가 존재하지 않습니다.\")\n",
    "    \n",
    "else :\n",
    "    print(result + 1)\n",
    "    \n"
   ]
  },
  {
   "cell_type": "code",
   "execution_count": 3,
   "id": "3f588d34",
   "metadata": {},
   "outputs": [
    {
     "name": "stdout",
     "output_type": "stream",
     "text": [
      "10 7 \n",
      "1 3 5 6 9 11 13 15 17 19\n",
      "원소가 존재하지 않습니다.\n"
     ]
    }
   ],
   "source": [
    "# 이진 탐색 소스코드 구현 (재귀 함수)\n",
    "# 2) 입력한 원소가 전체 원소 내에 존재하지 않을 경우\n",
    "def binary_search(array, target, start, end) :\n",
    "    if start > end :\n",
    "        return None\n",
    "    mid = (start + end) // 2\n",
    "    # 찾은 경우 중간점 인덱스 반환 \n",
    "    if array[mid] == target : \n",
    "        return mid\n",
    "    # 중간점의 값보다 찾고자 하는 값이 작은 경우 왼쪽 확인\n",
    "    elif array[mid] > target : \n",
    "        return binary_search(array, target, start, mid - 1)\n",
    "    # 중간점의 값보다 찾고자 하는 값이 큰 경우 오른쪽 확인\n",
    "    else : \n",
    "        return binary_search(array, target, mid + 1, end)\n",
    "    \n",
    "# n(원소의 개수)과 target(찾고자 하는 값)을 입력 받기\n",
    "n, target = list(map(int, input().split()))\n",
    "# 전체 원소 입력 받기\n",
    "array = list(map(int, input().split()))\n",
    "\n",
    "# 이진 탐색 수행 결과 출력 \n",
    "result = binary_search(array, target, 0, n - 1 )\n",
    "if result == None :\n",
    "    print(\"원소가 존재하지 않습니다.\")\n",
    "    \n",
    "else :\n",
    "    print(result + 1)"
   ]
  },
  {
   "cell_type": "code",
   "execution_count": 4,
   "id": "c69f561f",
   "metadata": {},
   "outputs": [
    {
     "name": "stdout",
     "output_type": "stream",
     "text": [
      "10 7\n",
      "1 3 5 7 9 11 13 15 17 19\n",
      "4\n"
     ]
    }
   ],
   "source": [
    "# 이진 탐색 소스코드 구현(반복문)\n",
    "def binary_search(array, target, start, end) :\n",
    "    while start <= end : \n",
    "        mid = (start + end) // 2\n",
    "        # 찾은 경우 중간점 인덱스 반환\n",
    "        if array[mid] == target : \n",
    "            return mid\n",
    "        # 중간점의 값보다 찾고자 하는 값이 작은 경우 왼쪽 확인\n",
    "        elif array[mid] > target : \n",
    "            return mid -1\n",
    "        # 중간점의 값보다 찾고자 하는 값이 큰 경우 오른쪽 확인\n",
    "        else : \n",
    "            start = mid + 1\n",
    "    return None\n",
    "\n",
    "# n(원소의 개수)과 target(찾고자 하는 값)을 입력 받기\n",
    "n, target = list(map(int, input().split()))\n",
    "# 전체 원소 입력 받기\n",
    "array = list(map(int, input().split()))\n",
    "\n",
    "# 이진 탐색 수행 결과 출력 \n",
    "result = binary_search(array, target, 0, n - 1)\n",
    "if result == None : \n",
    "    print(\"원소가 존재하지 않습니다.\")\n",
    "else :\n",
    "    print(result + 1)"
   ]
  },
  {
   "cell_type": "markdown",
   "id": "cf771858",
   "metadata": {},
   "source": [
    "**파이썬 이진 탐색 라이브러리**\n",
    "* bisect_left(a, x) : 정렬된 순서를 유지하면서 배열 a에 x를 삽입할 가장 왼쪽 인덱스를 반환\n",
    "* bisect_right(a, x) : 정렬된 순서를 유지하면서 배열 a에 x를 삽입할 가장 오른쪽 인덱스를 반환 "
   ]
  },
  {
   "attachments": {
    "3.png": {
     "image/png": "[encoded data removed]"
    }
   },
   "cell_type": "markdown",
   "id": "66f4304e",
   "metadata": {},
   "source": [
    "![3.png](attachment:3.png)"
   ]
  },
  {
   "cell_type": "code",
   "execution_count": 5,
   "id": "573aa620",
   "metadata": {},
   "outputs": [
    {
     "name": "stdout",
     "output_type": "stream",
     "text": [
      "2\n",
      "4\n"
     ]
    }
   ],
   "source": [
    "from bisect import bisect_left, bisect_right\n",
    "\n",
    "a = [1, 2, 4, 4, 8]\n",
    "x = 4\n",
    "\n",
    "print(bisect_left(a, x))\n",
    "print(bisect_right(a, x))"
   ]
  },
  {
   "cell_type": "markdown",
   "id": "8feeb32e",
   "metadata": {},
   "source": [
    "**값이 특정 범위에 속하는 데이터 개수 구하기**"
   ]
  },
  {
   "cell_type": "code",
   "execution_count": 7,
   "id": "2bcbd7e5",
   "metadata": {},
   "outputs": [
    {
     "name": "stdout",
     "output_type": "stream",
     "text": [
      "2\n",
      "6\n"
     ]
    }
   ],
   "source": [
    "from bisect import bisect_left, bisect_right\n",
    "\n",
    "# 값이 [left_value, right_value]인 데이터의 개수를 반환하는 함수\n",
    "def count_by_range(a, left_value, right_value) :\n",
    "    right_index = bisect_right(a, right_value)\n",
    "    left_index = bisect_left(a, left_value)\n",
    "    return right_index - left_index\n",
    "\n",
    "# 배열 선언\n",
    "a = [1, 2, 3, 3, 3, 3, 4, 4, 8, 9]\n",
    "\n",
    "# 값이 4인 데이터 개수 출력 \n",
    "print(count_by_range(a, 4, 4))\n",
    "\n",
    "# 값이 [-1, 3] 범위에 있는 데이터 개수 출력\n",
    "print(count_by_range(a, -1, 3))"
   ]
  },
  {
   "cell_type": "markdown",
   "id": "77b17dac",
   "metadata": {},
   "source": [
    "**파라메트릭 서치(Parametric Search)**\n",
    "\n",
    "* **파라메트릭 서치**란 최적화 문제를 결정('예' 혹은 '아니오')로 바꾸어 해결하는 기법\n",
    "    * 예시 : 특정한 조건을 만족하는 가장 알맞은 값을 빠르게 찾는 최적화 문제 \n",
    "    \n",
    "* 일반적으로 코딩 테스트에서 파라메트릭 서치 문제는 **이진 탐색을 이용**하여 해결 가능"
   ]
  }
 ],
 "metadata": {
  "kernelspec": {
   "display_name": "study",
   "language": "python",
   "name": "study"
  },
  "language_info": {
   "codemirror_mode": {
    "name": "ipython",
    "version": 3
   },
   "file_extension": ".py",
   "mimetype": "text/x-python",
   "name": "python",
   "nbconvert_exporter": "python",
   "pygments_lexer": "ipython3",
   "version": "3.10.13"
  }
 },
 "nbformat": 4,
 "nbformat_minor": 5
}
