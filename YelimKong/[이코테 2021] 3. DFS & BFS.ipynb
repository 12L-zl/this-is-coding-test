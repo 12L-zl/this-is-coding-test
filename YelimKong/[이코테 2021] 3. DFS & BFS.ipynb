{
 "cells": [
  {
   "cell_type": "markdown",
   "id": "63d54473",
   "metadata": {},
   "source": [
    "## 3. DFS & BFS"
   ]
  },
  {
   "cell_type": "markdown",
   "id": "63cd0cd1",
   "metadata": {},
   "source": [
    "### * **그래프 탐색 알고리즘 : DFS/BFS**"
   ]
  },
  {
   "cell_type": "markdown",
   "id": "7e8a1618",
   "metadata": {},
   "source": [
    "* 탐색(Search)이란 많은 양의 데이터 중에서 원하는 데이터를 찾는 과정\n",
    "* 대표적인 그래프 탐색 알고리즘 : DFS, BFS\n",
    "* DFS/BFS는 코딩 테스트에서 자주 등장하는 유형"
   ]
  },
  {
   "cell_type": "markdown",
   "id": "2980ea59",
   "metadata": {},
   "source": [
    "**스택 자료구조**\n",
    "* 먼저 들어 온 데이터가 나중에 나가는 형식(선입후출)의 자료구조\n",
    "* 입구와 출구가 동일한 형태로 스택 시각화 할 수 있음"
   ]
  },
  {
   "cell_type": "markdown",
   "id": "a386fc3a",
   "metadata": {},
   "source": [
    "**스택 구현 예제**"
   ]
  },
  {
   "cell_type": "code",
   "execution_count": 5,
   "id": "c5772ec6",
   "metadata": {},
   "outputs": [
    {
     "name": "stdout",
     "output_type": "stream",
     "text": [
      "[1, 3, 2, 5]\n",
      "[5, 2, 3, 1]\n"
     ]
    }
   ],
   "source": [
    "stack = []\n",
    "\n",
    "# 삽입(5) - 삽입(2) - 삽입(3) - 삽입(7) - 삭제() - 삽입(1) - 삽입(4) - 삭제()\n",
    "stack.append(5)\n",
    "stack.append(2)\n",
    "stack.append(3)\n",
    "stack.append(7)\n",
    "stack.pop() # 7 삭제\n",
    "stack.append(1)\n",
    "stack.append(4)\n",
    "stack.pop() # 4 삭제\n",
    "\n",
    "print(stack[::-1]) #최상단 원소부터 출력\n",
    "print(stack) # 최하단 원소부터 출력"
   ]
  },
  {
   "cell_type": "markdown",
   "id": "f0fde6fe",
   "metadata": {},
   "source": [
    "**큐 자료구조**\n",
    "* 먼저 들어 온 데이터가 먼저 나가는 형식(선입선출)의 자료 구조 \n",
    "* 큐는 입구와 출구가 모두 뚫려 있는 터널과 같은 형태로 시각화 할 수 있다."
   ]
  },
  {
   "cell_type": "markdown",
   "id": "91df5c46",
   "metadata": {},
   "source": [
    "**큐 구현 예제**"
   ]
  },
  {
   "cell_type": "code",
   "execution_count": 8,
   "id": "d1564afe",
   "metadata": {},
   "outputs": [
    {
     "name": "stdout",
     "output_type": "stream",
     "text": [
      "deque([3, 7, 1, 4])\n",
      "deque([4, 1, 7, 3])\n"
     ]
    }
   ],
   "source": [
    "from collections import deque\n",
    "\n",
    "# 큐(Queue) 구현을 위해 deque 라이브러리 사용 \n",
    "queue = deque()\n",
    "\n",
    "# 삽입(5) - 삽입(2) - 삽입(3) - 삽입(7) - 삭제() - 삽입(1) - 삽입(4) - 삭제()\n",
    "queue.append(5)\n",
    "queue.append(2)\n",
    "queue.append(3)\n",
    "queue.append(7)\n",
    "queue.popleft()\n",
    "queue.append(1)\n",
    "queue.append(4)\n",
    "queue.popleft()\n",
    "\n",
    "print(queue) # 먼저 들어온 순서대로 출력 \n",
    "queue.reverse() # 역순으로 바꾸기\n",
    "print(queue) # 나중에 들어온 원소부터 출력"
   ]
  },
  {
   "cell_type": "markdown",
   "id": "e5628c49",
   "metadata": {},
   "source": [
    "**재귀 함수**\n",
    "\n",
    "* 재귀 함수(Recursive Function)란 자기 자신을 다시 호출하는 함수\n",
    "* 단순한 형태의 재귀 함수 예제 \n",
    "    - '재귀 함수를 호출합니다.' 라는 문자열을 무난히 출력 \n",
    "    - 어느 정도 출력하다가 최대 재귀 깊이 초과 메세지 출력"
   ]
  },
  {
   "cell_type": "code",
   "execution_count": null,
   "id": "6b4c54bd",
   "metadata": {},
   "outputs": [],
   "source": [
    "#def recursive_function() :\n",
    "#    print('재귀 함수를 호출합니다.')\n",
    "#    recursive_function()\n",
    "    \n",
    "#recursive_function()"
   ]
  },
  {
   "cell_type": "markdown",
   "id": "090d2762",
   "metadata": {},
   "source": [
    "**재귀 함수의 종료 조건**\n",
    "* 재귀 함수를 문제 풀이에서 사용할 때는 재귀 함수의 종료 조건을 반드시 명시해야 함 \n",
    "* 종료 조건을 제대로 명시하지 않으면 함수가 무한히 호출될 수 있다.\n",
    "    - 종료 조건을 포함한 재귀 함수 예제 "
   ]
  },
  {
   "cell_type": "code",
   "execution_count": 8,
   "id": "cd4d9edf",
   "metadata": {
    "collapsed": true
   },
   "outputs": [
    {
     "name": "stdout",
     "output_type": "stream",
     "text": [
      "1 번째 재귀 함수에서 2 번째 재귀 함수를 호출합니다.\n",
      "2 번째 재귀 함수에서 3 번째 재귀 함수를 호출합니다.\n",
      "3 번째 재귀 함수에서 4 번째 재귀 함수를 호출합니다.\n",
      "4 번째 재귀 함수에서 5 번째 재귀 함수를 호출합니다.\n",
      "5 번째 재귀 함수에서 6 번째 재귀 함수를 호출합니다.\n",
      "6 번째 재귀 함수에서 7 번째 재귀 함수를 호출합니다.\n",
      "7 번째 재귀 함수에서 8 번째 재귀 함수를 호출합니다.\n",
      "8 번째 재귀 함수에서 9 번째 재귀 함수를 호출합니다.\n",
      "9 번째 재귀 함수에서 10 번째 재귀 함수를 호출합니다.\n",
      "9 번째 재귀함수를 종료합니다.\n",
      "8 번째 재귀함수를 종료합니다.\n",
      "7 번째 재귀함수를 종료합니다.\n",
      "6 번째 재귀함수를 종료합니다.\n",
      "5 번째 재귀함수를 종료합니다.\n",
      "4 번째 재귀함수를 종료합니다.\n",
      "3 번째 재귀함수를 종료합니다.\n",
      "2 번째 재귀함수를 종료합니다.\n",
      "1 번째 재귀함수를 종료합니다.\n"
     ]
    }
   ],
   "source": [
    "def recursive_function(i) :\n",
    "    if i == 10 :\n",
    "        return\n",
    "    print(i, '번째 재귀 함수에서', i+1, '번째 재귀 함수를 호출합니다.')\n",
    "    recursive_function(i + 1)\n",
    "    print(i,  '번째 재귀함수를 종료합니다.')\n",
    "    \n",
    "recursive_function(1)"
   ]
  },
  {
   "cell_type": "markdown",
   "id": "32a6fe4c",
   "metadata": {},
   "source": [
    "**팩토리얼 구현 예제**\n",
    "* n! = 1 X 2 X 3 X ...X (n-1) X n\n",
    "* 수학적으로 0!과 1!의 값은 1"
   ]
  },
  {
   "cell_type": "code",
   "execution_count": 9,
   "id": "a171121e",
   "metadata": {},
   "outputs": [
    {
     "name": "stdout",
     "output_type": "stream",
     "text": [
      "반복적으로 구현: 120\n",
      "재귀적으로 구현: 120\n"
     ]
    }
   ],
   "source": [
    "# 반복적으로 구현한 n!\n",
    "def factorial_iterative(n) :\n",
    "    result = 1\n",
    "    # 1부터 n까지의 수를 차례대로 곱하기 \n",
    "    for i in range(1, n + 1) :\n",
    "        result *= i \n",
    "    return result\n",
    "\n",
    "# 재귀적으로 구현한 n!\n",
    "def factorial_recursive(n) :\n",
    "    if n <= 1: # n이 1이하인 경우 1을 반환\n",
    "        return 1\n",
    "    # n! = n * (n-1)!를 그대로 코드로 작성하기\n",
    "    return n * factorial_recursive(n-1)\n",
    "\n",
    "# 각각의 방식으로 구현한 n! 출력(n = 5)\n",
    "print('반복적으로 구현:', factorial_iterative(5))\n",
    "print('재귀적으로 구현:', factorial_recursive(5))"
   ]
  },
  {
   "cell_type": "markdown",
   "id": "6025479b",
   "metadata": {},
   "source": [
    "**최대공약수 계산(유클리드 호제법)예제**\n",
    "* 두 개의 자연수에 대한 최대공약수를 구하는 대표적인 알고리즘으로는 유클리드 호제법이 있다. \n",
    "* **유클리드 호제법**\n",
    "    * 두 자연수 A, B에 대하여 (A > B) A를 B로 나눈 나머지를 R이라고 합니다. \n",
    "    * 이때 A와 B의 최대공약수는 B와 R의 최대공약수와 같다. \n",
    "    \n",
    "* 유클리드 호제법의 아이디어를 그대로 재귀 함수로 작성할 수 있다. \n",
    "    * 예시 : GCD(192, 162)\n"
   ]
  },
  {
   "cell_type": "markdown",
   "id": "ff40cf19",
   "metadata": {},
   "source": [
    "**유클리드 호제법**\n",
    "* 두 자연수 A, B에 대하여( A > B) A를 B로 나눈 나머지를 R이라고 한다.\n",
    "* 이때 A와 B의 최대공약수는 B와 R의 최대공약수와 같다. "
   ]
  },
  {
   "cell_type": "code",
   "execution_count": 10,
   "id": "f34b6e93",
   "metadata": {},
   "outputs": [
    {
     "name": "stdout",
     "output_type": "stream",
     "text": [
      "6\n"
     ]
    }
   ],
   "source": [
    "def gcd(a, b) :\n",
    "    if a % b == 0 :\n",
    "        return b\n",
    "    else : \n",
    "        return gcd(b, a % b)\n",
    "    \n",
    "print(gcd(192, 162))"
   ]
  },
  {
   "cell_type": "markdown",
   "id": "a4a074f1",
   "metadata": {},
   "source": [
    "**재귀 함수 사용의 유의 사항**\n",
    "\n",
    "* 재귀 함수를 잘 활용하면 복잡한 알고리즘을 간결하게 작성할 수 있다. \n",
    "    * 단, 오히려 다른 사람이 이해하기 어려운 형태의 코드가 될 수도 있으므로 신중하게 사용해야 한다. \n",
    "* 모든 재귀 함수는 반복문을 이용하여 동일한 기능을 구현할 수 있다. \n",
    "* 재귀 함수가 반복문보다 유리한 경우도 있고 불리한 경우도 있다. \n",
    "* 컴퓨터가 함수를 연속적으로 호출하면 컴퓨터 메모리 내부의 스택 프레임에 쌓인다. \n",
    "    * 그래서 스택을 사용해야 할 때 구현상 스택 라이브러리 대신에 재귀 함수를 이용하는 경우가 많다. "
   ]
  },
  {
   "cell_type": "markdown",
   "id": "2acfe8ee",
   "metadata": {},
   "source": [
    "**DFS(Depth-First-Search)**\n",
    "\n",
    "* DFS는 깊이 우선 탐색이라고도 부르며 그래프에서 깊은 부분을 우선적으로 탐색하는 알고리즘 \n",
    "* DFS는 스택 자료구조(혹은 재귀 함수)를 이용하며, 구체적인 동작 과정\n",
    "    1. 탐색 시작 노드를 스택에 삽입하고 방문 처리\n",
    "    2. 스택의 최상단 노드에 방문하지 않은 인접한 노드가 하나라도 있으면 그 노드를 스택에 넣고 방문 처리함. 방문하지 않은 인접 노드가 없으면 스택에서 최상단 노드를 꺼낸다. \n",
    "    3. 더 이상 2번의 과정을 수행할 수 없을 때까지 반복"
   ]
  },
  {
   "cell_type": "markdown",
   "id": "411933cc",
   "metadata": {},
   "source": [
    "**DFS 소스코드 예제**"
   ]
  },
  {
   "cell_type": "code",
   "execution_count": 17,
   "id": "581005b6",
   "metadata": {},
   "outputs": [
    {
     "name": "stdout",
     "output_type": "stream",
     "text": [
      "1 2 7 6 8 3 4 5 "
     ]
    }
   ],
   "source": [
    "# DFS 메서드 정의 \n",
    "def dfs(graph, v, visited):\n",
    "    # 현재 노드를 방문 처리 \n",
    "    visited[v] = True\n",
    "    print(v, end =' ')\n",
    "    # 현재 노드와 연결된 다른 노드를 재귀적으로 방문\n",
    "    for i in graph[v] :\n",
    "        if not visited[i] :\n",
    "            dfs(graph, i, visited)\n",
    "            \n",
    "            \n",
    "# 각 노드가 연결된 정보를 표현 (2차원 리스트)\n",
    "graph = [\n",
    "    [],# 1부터 시작하는 경우가 있으므로 0은 비워둠\n",
    "    [2, 3, 8], # 1번 노드와 연결된 것, 초기화 \n",
    "    [1, 7], # 2번 노드와 연결된 것 \n",
    "    [1, 4, 5],\n",
    "    [3, 5],\n",
    "    [3, 4],\n",
    "    [7],\n",
    "    [2, 6, 8],\n",
    "    [1, 7]\n",
    "]\n",
    "\n",
    "# 각 노드가 방문된 정보를 표현 (1차원 리스트)\n",
    "# False : 처음에는 하나도 방문하지 않았다(초기화) \n",
    "# 9 : 1~8번 노드 의미 인덱스 0 사용하지 않게 1 더 큰 크기의 1차원 리스트 초기화 \n",
    "visited = [False] * 9\n",
    "\n",
    "# 정의된 DFS 함수 호출\n",
    "dfs(graph, 1, visited)"
   ]
  },
  {
   "cell_type": "markdown",
   "id": "1cba5152",
   "metadata": {},
   "source": [
    "**BFS(Breadth-First-Search)**\n",
    "* BFS는 너비 우선 탐색, 그래프에서 가까운 노드부터 우선적으로 탐색하는 알고리즘\n",
    "* BFS는 큐 자료 구조를 이용, 구체적인 동작 과정 \n",
    "    1. 탐색 시작 노드를 큐에 삽입하고 방문 처리 \n",
    "    2. 큐에서 노드를 꺼낸 뒤에 해당 노드의 인접 노드 중에서 방문하지 않은 노드를 모두 큐에 삽입하고 방문 처리\n",
    "    3. 더 이상 2번의 과정을 수행할 수 없을 때까지 반복 "
   ]
  },
  {
   "cell_type": "markdown",
   "id": "23476583",
   "metadata": {},
   "source": [
    "**BFS 소스코드 예제**"
   ]
  },
  {
   "cell_type": "code",
   "execution_count": 19,
   "id": "509478a5",
   "metadata": {},
   "outputs": [
    {
     "name": "stdout",
     "output_type": "stream",
     "text": [
      "1 2 3 8 7 4 5 6 "
     ]
    }
   ],
   "source": [
    "from collections import deque\n",
    "\n",
    "# BFS 메서드 정의 \n",
    "def bfs(graph, start, visited):\n",
    "    # 큐(queue) 구현을 위해 deque 라이브러리 사용\n",
    "    queue = deque([start])\n",
    "    # 현재 노드를 방문 처리 \n",
    "    visited[start] = True\n",
    "    # 큐가 빌 때까지 반복\n",
    "    while queue : \n",
    "        # 큐에서 하나의 원소를 뽑아 출력하기\n",
    "        v = queue.popleft()\n",
    "        print(v, end = ' ')\n",
    "        # 아직 방문하지 않은 인접한 원소들을 큐에 삽입\n",
    "        for i in graph[v]:\n",
    "            if not visited[i]:\n",
    "                queue.append(i)\n",
    "                visited[i] = True\n",
    "\n",
    "# 각 노드가 연결된 정보를 표현(2차원 리스트)\n",
    "graph = [\n",
    "    [],# 1부터 시작하는 경우가 있으므로 0은 비워둠\n",
    "    [2, 3, 8], # 1번 노드와 연결된 것, 초기화 \n",
    "    [1, 7], # 2번 노드와 연결된 것 \n",
    "    [1, 4, 5],\n",
    "    [3, 5],\n",
    "    [3, 4],\n",
    "    [7],\n",
    "    [2, 6, 8],\n",
    "    [1, 7]\n",
    "]\n",
    "\n",
    "\n",
    "# 각 노드가 방문된 정보를 표현(1차원 리스트)\n",
    "visited = [False] * 9 \n",
    "\n",
    "# 정의된 BFS 함수 호출\n",
    "bfs(graph, 1, visited)\n",
    " "
   ]
  }
 ],
 "metadata": {
  "kernelspec": {
   "display_name": "study",
   "language": "python",
   "name": "study"
  },
  "language_info": {
   "codemirror_mode": {
    "name": "ipython",
    "version": 3
   },
   "file_extension": ".py",
   "mimetype": "text/x-python",
   "name": "python",
   "nbconvert_exporter": "python",
   "pygments_lexer": "ipython3",
   "version": "3.10.13"
  }
 },
 "nbformat": 4,
 "nbformat_minor": 5
}
