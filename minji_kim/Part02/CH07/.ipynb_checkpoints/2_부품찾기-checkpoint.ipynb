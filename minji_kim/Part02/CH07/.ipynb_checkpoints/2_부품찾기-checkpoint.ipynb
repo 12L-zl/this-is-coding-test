{
 "cells": [
  {
   "cell_type": "raw",
   "id": "72ffcc62",
   "metadata": {},
   "source": [
    "동빈이네 전자 매장에는 부품이 N개가 있다. 각 부품은 정수 형태의 고유한 번호가 있다. 어느 날 손님이 M개 종류의 부품을 대량으로 구매하겠다며 당일 날 견적서를 요청했다. 이때 가게 안에 부품이 모두 있는지 확인하는 프로그램 작성해보자.\n",
    "\n",
    "예를 들어 가게의 부품이 총 5개일 때 부품 번호는 다음과 같다.\n",
    "N = 5\n",
    "[8, 3, 7, 9, 2]\n",
    "\n",
    "손님은 총 3개의 부품이 있는지 확인 요청했는데 부품 번호는 다음과 같다.\n",
    "M = 3\n",
    "[5, 7, 9]\n",
    "\n",
    "이때 손님이 요청한 부품 번호의 순서대로 부품을 확인해 있으면 yes,없으면 no를 출력하고, 구분은 공백으로 한다."
   ]
  },
  {
   "cell_type": "raw",
   "id": "12da84a9",
   "metadata": {},
   "source": [
    "입력 조건 )\n",
    "- 첫째 줄에 정수 N이 주어진다. (1 <= N <= 1,000,000)\n",
    "- 둘째 줄에는 공백으로 구분해 N개의 정수가 주어진다. 정수는 1보다 크고 1,000,000 이하이다.\n",
    "- 셋째 줄에는 정수 M이 주어진다. (1 <= M <= 100,000)\n",
    "- 넷째 줄에는 공백으로 구분해 M개의 정수가 주어진다. 정수는 1보다 크고 1,000,000 이하이다.\n",
    "\n",
    "출력 조건 )\n",
    "- 첫째 줄에 공백으로 구분하여 각 부품이 존재하면 yes를, 없으면 no를 출력한다."
   ]
  },
  {
   "cell_type": "code",
   "execution_count": 30,
   "id": "5c73d576",
   "metadata": {},
   "outputs": [
    {
     "name": "stdout",
     "output_type": "stream",
     "text": [
      "5\n",
      "8 3 7 9 2\n",
      "3\n",
      "5 7 9\n",
      "no yes yes "
     ]
    }
   ],
   "source": [
    "n = int(input())\n",
    "array1 = list(map(int, input().split()))\n",
    "\n",
    "m = int(input())\n",
    "array2 = list(map(int, input().split()))\n",
    "    \n",
    "for k in array2 :\n",
    "    if k in array1 :\n",
    "        print('yes', end = ' ')\n",
    "    else :\n",
    "        print('no', end = ' ')"
   ]
  },
  {
   "cell_type": "raw",
   "id": "17cd2e4f",
   "metadata": {},
   "source": []
  },
  {
   "cell_type": "code",
   "execution_count": 28,
   "id": "67e5300f",
   "metadata": {},
   "outputs": [
    {
     "name": "stdout",
     "output_type": "stream",
     "text": [
      "5\n",
      "8 3 7 9 2\n",
      "3\n",
      "5 7 9\n",
      "no yes no "
     ]
    }
   ],
   "source": [
    "# 책에 있는 방법 1 ; 이진 탐색\n",
    "def binary_search(array, target, start, end) :\n",
    "    while start <= end :\n",
    "        mid = (start + end) // 2\n",
    "        # 찾은 경우 중간점 인덱스 반환\n",
    "        if array[mid] == target :\n",
    "            return mid\n",
    "        # 중간점의 값보다 찾고자 하는 값이 작은 경우 왼쪽 확인\n",
    "        elif array[mid] > target :\n",
    "            end = mid - 1\n",
    "        # 중간점의 값보다 찾고자 하는 값이 큰 경우 오른쪽 확인\n",
    "        else :\n",
    "            start = mid + 1\n",
    "        return None\n",
    "\n",
    "n = int(input())\n",
    "array = list(map(int, input().split()))\n",
    "array.sort()\n",
    "m = int(input())\n",
    "x = list(map(int, input().split()))\n",
    "\n",
    "for i in x :\n",
    "    result = binary_search(array, i, 0, n-1)\n",
    "    if result != None :\n",
    "        print('yes', end = ' ')\n",
    "    else :\n",
    "        print('no', end = ' ')"
   ]
  },
  {
   "cell_type": "code",
   "execution_count": 27,
   "id": "9c282090",
   "metadata": {},
   "outputs": [
    {
     "name": "stdout",
     "output_type": "stream",
     "text": [
      "5\n",
      "8 3 7 9 2\n",
      "3\n",
      "5 7 9\n",
      "no yes yes "
     ]
    }
   ],
   "source": [
    "# 책에 있는 방법2 ; 계수 정렬\n",
    "n = int(input())\n",
    "array = [0] * 1000001\n",
    "\n",
    "for i in input().split() :\n",
    "    array[int(i)] = 1\n",
    "    \n",
    "m = int(input())\n",
    "x = list(map(int, input().split()))\n",
    "for i in x :\n",
    "    if array[i] == 1 :\n",
    "        print('yes', end = ' ')\n",
    "    else :\n",
    "        print('no', end = ' ')"
   ]
  },
  {
   "cell_type": "code",
   "execution_count": 29,
   "id": "0a4a524f",
   "metadata": {},
   "outputs": [
    {
     "name": "stdout",
     "output_type": "stream",
     "text": [
      "5\n",
      "8 3 7 9 2\n",
      "3\n",
      "5 7 9\n",
      "no yes yes "
     ]
    }
   ],
   "source": [
    "# 책에 있는 방법3 ; 집합 자료형 이용\n",
    "n = int(input())\n",
    "array = set(map(int, input().split())) # 집합 자료형 초기화\n",
    "\n",
    "m = int(input())\n",
    "x = list(map(int, input().split()))\n",
    "\n",
    "for i in x :\n",
    "    if i in array :\n",
    "        print('yes', end = ' ')\n",
    "    else :\n",
    "        print('no', end = ' ')"
   ]
  },
  {
   "cell_type": "code",
   "execution_count": null,
   "id": "5a2450db",
   "metadata": {},
   "outputs": [],
   "source": []
  }
 ],
 "metadata": {
  "kernelspec": {
   "display_name": "Python 3 (ipykernel)",
   "language": "python",
   "name": "python3"
  },
  "language_info": {
   "codemirror_mode": {
    "name": "ipython",
    "version": 3
   },
   "file_extension": ".py",
   "mimetype": "text/x-python",
   "name": "python",
   "nbconvert_exporter": "python",
   "pygments_lexer": "ipython3",
   "version": "3.11.4"
  }
 },
 "nbformat": 4,
 "nbformat_minor": 5
}
