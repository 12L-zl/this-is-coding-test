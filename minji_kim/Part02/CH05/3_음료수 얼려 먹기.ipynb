{
 "cells": [
  {
   "cell_type": "markdown",
   "id": "9202e93d",
   "metadata": {},
   "source": [
    "N X M 크기의 얼음 틀이 있다. 구멍이 뚫려 있는 부분은 0, 칸막이가 존재하는 부분은 1로 표시된다. 구멍이 뚫려 있는 부분끼리 상, 하, 좌, 우로 붙어 있는 경우 서로 연결되어 있는 것으로 간주한다. 이때 얼음 틀의 모양이 주어졌을 때, 생성되는 총 아이스크림의 개수를 구하는 프로그램을 작성하시오."
   ]
  },
  {
   "cell_type": "markdown",
   "id": "1c3dae98",
   "metadata": {},
   "source": [
    "입력 조건 )\n",
    "- 첫 번째 줄에 얼음 틀의 세로 길이 N과 가로 길이 M이 주어진다. (1 <= N, M <= 1000)\n",
    "- 두 번째 줄부터 N+1번째 줄까지 얼음 틀의 형태가 주어진다.\n",
    "- 이때 구멍이 뚫려있는 부분은 0, 그렇지 않은 부분은 1이다.\n",
    "\n",
    "출력 조건 )\n",
    "- 한 번에 만들수 있는 아이스크림의 개수를 출력한다."
   ]
  },
  {
   "cell_type": "code",
   "execution_count": 7,
   "id": "ac77690b",
   "metadata": {},
   "outputs": [
    {
     "name": "stdout",
     "output_type": "stream",
     "text": [
      "15 14\n",
      "00000111100000\n",
      "11111101111110\n",
      "11011101101110\n",
      "11011101100000\n",
      "11011111111111\n",
      "11011111111100\n",
      "11000000011111\n",
      "01111111111111\n",
      "00000000011111\n",
      "01111111111000\n",
      "00011111111000\n",
      "00000001111000\n",
      "11111111110011\n",
      "11100011111111\n",
      "11100011111111\n",
      "8\n"
     ]
    }
   ],
   "source": [
    "n, m = map(int, input().split())\n",
    "\n",
    "ice = []\n",
    "for i in range(n) :\n",
    "    ice.append(list(map(int, input())))\n",
    "\n",
    "def dfs(x, y) :\n",
    "    if x <= -1 or x >= n or y <= -1 or y >= m :\n",
    "        return False\n",
    "    if ice[x][y] == 0 :\n",
    "        ice[x][y] = 1\n",
    "        \n",
    "        dfs(x-1, y)\n",
    "        dfs(x, y-1)\n",
    "        dfs(x+1, y)\n",
    "        dfs(x, y+1)\n",
    "        return True\n",
    "    return False\n",
    "\n",
    "result = 0\n",
    "for i in range(n) :\n",
    "    for j in range(m) :\n",
    "        if dfs(i, j) == True :\n",
    "            result += 1\n",
    "\n",
    "print(result)"
   ]
  },
  {
   "cell_type": "code",
   "execution_count": null,
   "id": "e1dea0b2",
   "metadata": {},
   "outputs": [],
   "source": []
  },
  {
   "cell_type": "code",
   "execution_count": 1,
   "id": "90a5c6e5",
   "metadata": {},
   "outputs": [
    {
     "name": "stdout",
     "output_type": "stream",
     "text": [
      "4 5\n",
      "00110\n",
      "00011\n",
      "11111\n",
      "00000\n",
      "3\n"
     ]
    }
   ],
   "source": [
    "# 두 번째 풀이\n",
    "n, m = map(int, input().split())\n",
    "data = []\n",
    "for _ in range(n) :\n",
    "    data.append(list(map(int, input())))\n",
    "    \n",
    "# 상하좌우\n",
    "dx = [-1, 1, 0, 0]\n",
    "dy = [0, 0, -1, 1]\n",
    "\n",
    "count = 0 # 아이스크림 개수\n",
    "\n",
    "\n",
    "def dfs(start_x, start_y) :\n",
    "    data[start_x][start_y] = 1 # 현재 노드 방문 처리\n",
    "    \n",
    "    for i in range(4) :\n",
    "        nx = start_x + dx[i]\n",
    "        ny = start_y + dy[i]\n",
    "        \n",
    "        if (nx >= 0 and nx < n and ny >=0 and ny < m) :\n",
    "            if data[nx][ny] == 0 :\n",
    "                dfs(nx, ny)\n",
    "                \n",
    "for i in range(n) :\n",
    "    for j in range(m) :\n",
    "        if data[i][j] == 0 :\n",
    "            dfs(i, j)\n",
    "            count += 1\n",
    "\n",
    "print(count)            "
   ]
  },
  {
   "cell_type": "code",
   "execution_count": null,
   "id": "69353afb",
   "metadata": {},
   "outputs": [],
   "source": []
  }
 ],
 "metadata": {
  "kernelspec": {
   "display_name": "Python 3 (ipykernel)",
   "language": "python",
   "name": "python3"
  },
  "language_info": {
   "codemirror_mode": {
    "name": "ipython",
    "version": 3
   },
   "file_extension": ".py",
   "mimetype": "text/x-python",
   "name": "python",
   "nbconvert_exporter": "python",
   "pygments_lexer": "ipython3",
   "version": "3.11.4"
  }
 },
 "nbformat": 4,
 "nbformat_minor": 5
}
