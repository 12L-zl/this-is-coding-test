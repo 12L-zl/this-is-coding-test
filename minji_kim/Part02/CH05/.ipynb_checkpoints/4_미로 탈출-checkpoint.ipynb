{
 "cells": [
  {
   "cell_type": "markdown",
   "id": "799939d7",
   "metadata": {},
   "source": [
    "N X M 크기의 직사각형 형태의 미로가 있다. 미로에는 여러 마리의 괴물이 있어 이를 피해 탈출해야 한다. 동빈이의 위치는 (1, 1)이고, 미로의 출구는 (N, M)의 위치에 존재하며 한 번에 한 칸씩 이동할 수 있다. 이때 괴물이 있는 부분은 0으로, 괴물이 없는 부분은 1로 표시되어 있다. 미로는 반드시 탈출할 수 있는 형태로 제시된다. 이때 탈출하기 위해 움직여야 하는 **최소 칸**의 개수를 구하시오. 칸을 셀 때는 시작 칸과 마지막 칸을 모두 포함해서 계산한다."
   ]
  },
  {
   "cell_type": "markdown",
   "id": "ec35fc1f",
   "metadata": {},
   "source": [
    "입력 조건 )\n",
    "- 첫째 줄에 두 정수 N, M(4 <= N, M <= 200)이 주어진다. 다음 N개의 줄에는 각각 M개의 정수 (0 혹은 1)로 미로의 정보가 주어진다. 각각의 수들은 공백 없이 붙어서 입력으로 제시된다. 또한 시작 칸과 마지막 칸은 항상 1이다.\n",
    "\n",
    "출력 조건 )\n",
    "- 첫째 줄에 최소 이동 칸의 개수를 출력한다."
   ]
  },
  {
   "cell_type": "code",
   "execution_count": 1,
   "id": "a49f06ec",
   "metadata": {},
   "outputs": [
    {
     "name": "stdout",
     "output_type": "stream",
     "text": [
      "5 6\n",
      "101010\n",
      "111111\n",
      "000001\n",
      "111111\n",
      "111111\n"
     ]
    }
   ],
   "source": [
    "n, m = map(int, input().split())\n",
    "data = []\n",
    "for _ in range(n) :\n",
    "    data.append(list(map(int, input())))"
   ]
  },
  {
   "cell_type": "code",
   "execution_count": 13,
   "id": "f7403b5f",
   "metadata": {},
   "outputs": [],
   "source": [
    "from collections import deque\n",
    "\n",
    "check = [[0] * m for _ in range(n)]  # 방문 기록용\n",
    "count = [[0] * m for _ in range(n)]  # 이동칸 기록용\n",
    "\n",
    "dx = [-1, 1, 0, 0]\n",
    "dy = [0, 0, -1, 1]\n",
    "\n",
    "def bfs() :\n",
    "    q = deque()\n",
    "    q.append((0, 0)) # 시작위치 삽입\n",
    "    check[0][0] = 1  # 시작위치 방문 기록\n",
    "    count[0][0] = 1  # 시작위치 이동칸 수 기록\n",
    "    \n",
    "    while q :\n",
    "        x, y = q.popleft()\n",
    "        \n",
    "        for i in range(4) :\n",
    "            nx = x + dx[i]\n",
    "            ny = y + dy[i]\n",
    "        \n",
    "            if nx >= 0 and nx < n and ny >= 0 and ny < m :\n",
    "                if check[nx][ny] == 0 and data[nx][ny] == 1 : # 인접한 노드 방문할 수 있는지 확인\n",
    "                    q.append((nx, ny))\n",
    "                    check[nx][ny] = 1\n",
    "                    count[nx][ny] = count[x][y] + 1\n",
    "    \n",
    "    return count[n-1][m-1] # 가장 오른쪽 아래까지의 최단거리 반환"
   ]
  },
  {
   "cell_type": "code",
   "execution_count": 14,
   "id": "acf4ded7",
   "metadata": {},
   "outputs": [
    {
     "data": {
      "text/plain": [
       "10"
      ]
     },
     "execution_count": 14,
     "metadata": {},
     "output_type": "execute_result"
    }
   ],
   "source": [
    "bfs()"
   ]
  },
  {
   "cell_type": "code",
   "execution_count": null,
   "id": "8d54cffb",
   "metadata": {},
   "outputs": [],
   "source": []
  }
 ],
 "metadata": {
  "kernelspec": {
   "display_name": "Python 3 (ipykernel)",
   "language": "python",
   "name": "python3"
  },
  "language_info": {
   "codemirror_mode": {
    "name": "ipython",
    "version": 3
   },
   "file_extension": ".py",
   "mimetype": "text/x-python",
   "name": "python",
   "nbconvert_exporter": "python",
   "pygments_lexer": "ipython3",
   "version": "3.11.4"
  }
 },
 "nbformat": 4,
 "nbformat_minor": 5
}
