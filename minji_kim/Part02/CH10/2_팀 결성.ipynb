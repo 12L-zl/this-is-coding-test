{
 "cells": [
  {
   "cell_type": "markdown",
   "id": "a3b7be44",
   "metadata": {},
   "source": [
    "학교에서 학생들에게 0번부터 N번까지의 번호를 부여했다. 처음에는 모든 학생이 서로 다른 팀으로 구분되어, 총 N+1개의 팀이 존재한다. 이때 선생님은 팀 합치기 연산과 같은 팀 여부 확인 연산을 사용할 수 있다.\n",
    "1. 팀 합치기 연산은 두 팀을 합치는 연산이다.\n",
    "2. 같은 팀 여부 확인 연산은 특정한 두 학생이 같은 팀에 속하는지를 확인하는 연산이다.\n",
    "\n",
    "선생님이 M개의 연산을 수행할 수 있을 때, 같은 팀 여부 확인 연산에 대한 연산 결과를 출력하는 프로그램을 작성해라."
   ]
  },
  {
   "cell_type": "markdown",
   "id": "8fa49c71",
   "metadata": {},
   "source": [
    "입력 조건 )\n",
    "- 첫째 줄에 N, M이 주어진다. M은 입력으로 주어지는 연산의 개수이다. (1 <= N, M <= 100,000)\n",
    "- 다음 M개의 줄에는 각각의 연산이 주어진다.\n",
    "- 팀 합치기 연산은 0 a b 형태로 주어진다. 이는 a번 학생이 속한 팀과 b번 학생이 속한 팀을 합친다는 의미이다,\n",
    "- 같은 팀 여부 확인 연산은 1 a b 형태로 주어진다. 이는 a번 학생과 b번 학생이 같은 팀에 속해 있는지를 확인하는 연산이다.\n",
    "- a와 b는 N 이하의 양의 정수이다.\n",
    "\n",
    "출력 조건 )\n",
    "- 같은 팀 여부 확인 연상네 대해 한 줄에 하나씩 YES 혹은 NO로 결과를 출력한다."
   ]
  },
  {
   "cell_type": "code",
   "execution_count": 12,
   "id": "6e252b1c",
   "metadata": {
    "scrolled": true
   },
   "outputs": [
    {
     "name": "stdout",
     "output_type": "stream",
     "text": [
      "7 8\n",
      "0 1 3\n",
      "1 1 7\n",
      "0 7 6\n",
      "1 7 1\n",
      "0 3 7\n",
      "0 4 2\n",
      "0 1 1\n",
      "1 1 1\n",
      "NO\n",
      "NO\n",
      "YES\n"
     ]
    }
   ],
   "source": [
    "n, m = map(int, input().split())\n",
    "\n",
    "a = []\n",
    "for _ in range(m) :\n",
    "    a.append(list(map(int, input().split())))\n",
    "    \n",
    "    \n",
    "for i in range(m) :\n",
    "    if a[i][0] == 0 : # 팀합치기\n",
    "        n -= 1\n",
    "        team = []\n",
    "        team.append([a[i][1], a[i][2]])\n",
    "    \n",
    "    elif a[i][0] == 1 :\n",
    "        team\n",
    "        \n"
   ]
  },
  {
   "cell_type": "code",
   "execution_count": 36,
   "id": "bbe4a3d9",
   "metadata": {},
   "outputs": [
    {
     "name": "stdout",
     "output_type": "stream",
     "text": [
      "7 8\n",
      "0 1 3\n",
      "1 1 7\n",
      "0 7 6\n",
      "1 7 1\n",
      "0 3 7\n",
      "0 4 2\n",
      "0 1 1\n",
      "1 1 1\n",
      "NO\n",
      "NO\n",
      "NO\n",
      "YES\n",
      "NO\n",
      "NO\n",
      "NO\n",
      "YES\n"
     ]
    }
   ],
   "source": [
    "n, m = map(int, input().split())\n",
    "\n",
    "a = []\n",
    "for _ in range(m) :\n",
    "    a.append(list(map(int, input().split())))\n",
    "    \n",
    "team = []\n",
    "for i in range(m) :\n",
    "    if a[i][0] == 0 :  # 팀합치기\n",
    "        n-=1\n",
    "        team.append([a[i][1], a[i][2]])\n",
    "        \n",
    "    elif a[i][0] == 1 : # 팀여부확인\n",
    "        for j in range(len(team)) :\n",
    "            if (a[i][1] in team[j]) and (a[i][2] in team[j]) :\n",
    "                print(\"YES\")\n",
    "            else :\n",
    "                print(\"NO\")"
   ]
  },
  {
   "cell_type": "code",
   "execution_count": 8,
   "id": "1a5b485d",
   "metadata": {},
   "outputs": [],
   "source": [
    "team = []\n",
    "for i in range(8) :\n",
    "    if a[i][0] == 0 :\n",
    "        n-=1\n",
    "        team.append([a[i][1], a[i][2]])"
   ]
  },
  {
   "cell_type": "code",
   "execution_count": 9,
   "id": "2917be18",
   "metadata": {},
   "outputs": [
    {
     "data": {
      "text/plain": [
       "[[1, 3], [7, 6], [3, 7], [4, 2], [1, 1]]"
      ]
     },
     "execution_count": 9,
     "metadata": {},
     "output_type": "execute_result"
    }
   ],
   "source": [
    "team"
   ]
  },
  {
   "cell_type": "code",
   "execution_count": 18,
   "id": "cae8955f",
   "metadata": {},
   "outputs": [
    {
     "data": {
      "text/plain": [
       "[[0, 1, 3],\n",
       " [1, 1, 7],\n",
       " [0, 7, 6],\n",
       " [1, 7, 1],\n",
       " [0, 3, 7],\n",
       " [0, 4, 2],\n",
       " [0, 1, 1],\n",
       " [1, 1, 1]]"
      ]
     },
     "execution_count": 18,
     "metadata": {},
     "output_type": "execute_result"
    }
   ],
   "source": [
    "a"
   ]
  },
  {
   "cell_type": "code",
   "execution_count": 35,
   "id": "2e3e1f67",
   "metadata": {},
   "outputs": [
    {
     "name": "stdout",
     "output_type": "stream",
     "text": [
      "yes\n",
      "no\n",
      "no\n",
      "no\n",
      "yes\n",
      "no\n",
      "yes\n",
      "yes\n",
      "no\n",
      "no\n",
      "yes\n",
      "no\n",
      "no\n",
      "no\n",
      "yes\n"
     ]
    }
   ],
   "source": [
    "for j in range(m) :\n",
    "    if a[j][0] == 1:\n",
    "        for i in range(len(team)) :\n",
    "            if a[j][1] in team[i]) :\n",
    "                print('yes')\n",
    "            else :\n",
    "                print('no')"
   ]
  },
  {
   "cell_type": "code",
   "execution_count": 28,
   "id": "39aa4df5",
   "metadata": {},
   "outputs": [
    {
     "name": "stdout",
     "output_type": "stream",
     "text": [
      "no\n"
     ]
    }
   ],
   "source": [
    "if [a[-2][1], a[-2][2]] in team[-1] :\n",
    "    print('yes')\n",
    "else :\n",
    "    print('no')"
   ]
  },
  {
   "cell_type": "code",
   "execution_count": 34,
   "id": "d1f414c6",
   "metadata": {},
   "outputs": [
    {
     "ename": "TypeError",
     "evalue": "argument of type 'int' is not iterable",
     "output_type": "error",
     "traceback": [
      "\u001b[1;31m---------------------------------------------------------------------------\u001b[0m",
      "\u001b[1;31mTypeError\u001b[0m                                 Traceback (most recent call last)",
      "Cell \u001b[1;32mIn[34], line 3\u001b[0m\n\u001b[0;32m      1\u001b[0m t \u001b[38;5;241m=\u001b[39m [\u001b[38;5;241m1\u001b[39m, \u001b[38;5;241m3\u001b[39m]\n\u001b[0;32m      2\u001b[0m b \u001b[38;5;241m=\u001b[39m [\u001b[38;5;241m1\u001b[39m ,\u001b[38;5;241m3\u001b[39m]\n\u001b[1;32m----> 3\u001b[0m \u001b[38;5;28;01mif\u001b[39;00m (b[\u001b[38;5;241m0\u001b[39m], b[\u001b[38;5;241m1\u001b[39m]) \u001b[38;5;129;01min\u001b[39;00m t[\u001b[38;5;241m0\u001b[39m] :\n\u001b[0;32m      4\u001b[0m     \u001b[38;5;28mprint\u001b[39m(\u001b[38;5;124m'\u001b[39m\u001b[38;5;124myes\u001b[39m\u001b[38;5;124m'\u001b[39m)\n",
      "\u001b[1;31mTypeError\u001b[0m: argument of type 'int' is not iterable"
     ]
    }
   ],
   "source": [
    "t = [1, 3]\n",
    "b = [1 ,3]\n",
    "if (b[0], b[1]) in t[0] :\n",
    "    print('yes')"
   ]
  },
  {
   "cell_type": "code",
   "execution_count": 47,
   "id": "294915bd",
   "metadata": {},
   "outputs": [
    {
     "name": "stdout",
     "output_type": "stream",
     "text": [
      "7 8\n",
      "0 1 3\n",
      "[0, 1, 0, 1, 0, 0, 0, 0]\n",
      "1 1 7\n",
      "0 7 6\n",
      "[0, 1, 0, 1, 0, 0, 3, 3]\n",
      "1 7 1\n",
      "0 3 7\n",
      "[0, 5, 0, 5, 0, 0, 5, 5]\n",
      "0 4 2\n",
      "[0, 5, 6, 5, 6, 0, 5, 5]\n",
      "0 1 1\n",
      "[0, 7, 6, 7, 6, 0, 7, 7]\n",
      "1 1 1\n"
     ]
    }
   ],
   "source": [
    "n,m = map(int, input().split())\n",
    "\n",
    "standard = [0] * (n+1)\n",
    "\n",
    "for i in range(1,m+1) :\n",
    "    a,b,c = map(int, input().split())\n",
    "\n",
    "    if a == 0 : \n",
    "        B = standard[b] # for문이 돌아갈때마다 standard[b]값이 바뀌므로 기준이 되는 상수는 for문밖에 있어야함\n",
    "        C = standard[c]\n",
    "        for u in range(len(standard)) :\n",
    "            if standard[u] != 0 :\n",
    "                if standard[u] == B or standard[u] == C :\n",
    "                    standard[u] = i        \n",
    "        standard[b] = standard[c] = i # for문에서 바껴서 없애려고 했으나, 첫번째 0 -> i로 바뀔때 필요해서 걍 놔둠\n",
    "        print(standard)"
   ]
  },
  {
   "cell_type": "code",
   "execution_count": null,
   "id": "382fd3c4",
   "metadata": {},
   "outputs": [],
   "source": []
  }
 ],
 "metadata": {
  "kernelspec": {
   "display_name": "Python 3 (ipykernel)",
   "language": "python",
   "name": "python3"
  },
  "language_info": {
   "codemirror_mode": {
    "name": "ipython",
    "version": 3
   },
   "file_extension": ".py",
   "mimetype": "text/x-python",
   "name": "python",
   "nbconvert_exporter": "python",
   "pygments_lexer": "ipython3",
   "version": "3.11.4"
  }
 },
 "nbformat": 4,
 "nbformat_minor": 5
}
