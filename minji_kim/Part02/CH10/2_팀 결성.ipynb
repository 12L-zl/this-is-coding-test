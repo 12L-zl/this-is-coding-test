{
 "cells": [
  {
   "cell_type": "markdown",
   "id": "a3b7be44",
   "metadata": {},
   "source": [
    "학교에서 학생들에게 0번부터 N번까지의 번호를 부여했다. 처음에는 모든 학생이 서로 다른 팀으로 구분되어, 총 N+1개의 팀이 존재한다. 이때 선생님은 팀 합치기 연산과 같은 팀 여부 확인 연산을 사용할 수 있다.\n",
    "1. 팀 합치기 연산은 두 팀을 합치는 연산이다.\n",
    "2. 같은 팀 여부 확인 연산은 특정한 두 학생이 같은 팀에 속하는지를 확인하는 연산이다.\n",
    "\n",
    "선생님이 M개의 연산을 수행할 수 있을 때, 같은 팀 여부 확인 연산에 대한 연산 결과를 출력하는 프로그램을 작성해라."
   ]
  },
  {
   "cell_type": "markdown",
   "id": "8fa49c71",
   "metadata": {},
   "source": [
    "입력 조건 )\n",
    "- 첫째 줄에 N, M이 주어진다. M은 입력으로 주어지는 연산의 개수이다. (1 <= N, M <= 100,000)\n",
    "- 다음 M개의 줄에는 각각의 연산이 주어진다.\n",
    "- 팀 합치기 연산은 0 a b 형태로 주어진다. 이는 a번 학생이 속한 팀과 b번 학생이 속한 팀을 합친다는 의미이다,\n",
    "- 같은 팀 여부 확인 연산은 1 a b 형태로 주어진다. 이는 a번 학생과 b번 학생이 같은 팀에 속해 있는지를 확인하는 연산이다.\n",
    "- a와 b는 N 이하의 양의 정수이다.\n",
    "\n",
    "출력 조건 )\n",
    "- 같은 팀 여부 확인 연상네 대해 한 줄에 하나씩 YES 혹은 NO로 결과를 출력한다."
   ]
  },
  {
   "cell_type": "code",
   "execution_count": 59,
   "id": "bbe4a3d9",
   "metadata": {},
   "outputs": [
    {
     "name": "stdout",
     "output_type": "stream",
     "text": [
      "7 8\n",
      "0 1 3\n",
      "1 1 7\n",
      "0 7 6\n",
      "1 7 1\n",
      "0 3 7\n",
      "0 4 2\n",
      "0 1 1\n",
      "1 1 1\n",
      "NO\n",
      "NO\n",
      "YES\n"
     ]
    }
   ],
   "source": [
    "n, m = map(int, input().split())\n",
    "\n",
    "a = []\n",
    "for _ in range(m) :\n",
    "    a.append(list(map(int, input().split())))\n",
    "    \n",
    "import numpy as np\n",
    "team = np.zeros((n+1, n+1))\n",
    "\n",
    "for i in range(m) :\n",
    "    if a[i][0] == 0 :  # 팀합치기\n",
    "        n -= 1\n",
    "        if  a[i][2] > a[i][1] :\n",
    "            team[a[i][1]] = a[i][2]\n",
    "            team[a[i][2]] = a[i][1]\n",
    "            \n",
    "    elif a[i][0] == 1 :  # 팀여부확인\n",
    "        if team[i] != 0 :\n",
    "            if team[a[i][1]] == team[a[i][2]] : # 그 팀의 인덱스가 같냐\n",
    "                print('YES')\n",
    "            else :\n",
    "                print('NO')"
   ]
  },
  {
   "cell_type": "code",
   "execution_count": 60,
   "id": "6b911ff5",
   "metadata": {},
   "outputs": [
    {
     "data": {
      "text/plain": [
       "array([0., 3., 0., 7., 0., 0., 0., 3.])"
      ]
     },
     "execution_count": 60,
     "metadata": {},
     "output_type": "execute_result"
    }
   ],
   "source": [
    "team"
   ]
  },
  {
   "cell_type": "code",
   "execution_count": 1,
   "id": "31063413",
   "metadata": {},
   "outputs": [
    {
     "name": "stdout",
     "output_type": "stream",
     "text": [
      "7 8\n",
      "0 1 3\n",
      "1 1 7\n",
      "NO\n",
      "0 7 6\n",
      "1 7 1\n",
      "NO\n",
      "0 3 7\n",
      "0 4 2\n",
      "0 1 1\n",
      "1 1 1\n",
      "YES\n"
     ]
    }
   ],
   "source": [
    "def find_parent(parent, x) :\n",
    "    if parent[x] != x :\n",
    "        parent[x] = find_parent(parent, parent[x])\n",
    "    return parent[x]\n",
    "\n",
    "def union_parent(parent, a, b) :\n",
    "    a = find_parent(parent, a)\n",
    "    b = find_parent(parent, b)\n",
    "    if a < b: \n",
    "        parent[b] = a\n",
    "    else :\n",
    "        parent[a] = b\n",
    "        \n",
    "n, m = map(int, input().split())\n",
    "parent = [0] * (n+1)\n",
    "\n",
    "for i in range(1, n+1) :\n",
    "    parent[i] = i\n",
    "\n",
    "for i in range(m) :\n",
    "    oper, a, b = map(int, input().split())\n",
    "    \n",
    "    if oper == 0 :\n",
    "        union_parent(parent, a, b)\n",
    "        \n",
    "    elif oper == 1 :\n",
    "        if find_parent(parent, a) == find_parent(parent, b) :\n",
    "            print(\"YES\")\n",
    "        else :\n",
    "            print(\"NO\")"
   ]
  },
  {
   "cell_type": "code",
   "execution_count": null,
   "id": "be4f061a",
   "metadata": {},
   "outputs": [],
   "source": []
  }
 ],
 "metadata": {
  "kernelspec": {
   "display_name": "Python 3 (ipykernel)",
   "language": "python",
   "name": "python3"
  },
  "language_info": {
   "codemirror_mode": {
    "name": "ipython",
    "version": 3
   },
   "file_extension": ".py",
   "mimetype": "text/x-python",
   "name": "python",
   "nbconvert_exporter": "python",
   "pygments_lexer": "ipython3",
   "version": "3.11.4"
  }
 },
 "nbformat": 4,
 "nbformat_minor": 5
}
