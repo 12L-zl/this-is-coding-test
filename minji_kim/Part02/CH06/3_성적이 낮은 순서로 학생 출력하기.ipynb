{
 "cells": [
  {
   "cell_type": "markdown",
   "id": "7e59d53c",
   "metadata": {},
   "source": [
    "N명의 학생 정보가 있다. 학생 정보는 학생의 이름과 성적으로 구분된다. 각 학생의 이름과 성적 정보가 주어졌을 때 성적이 낮은 순서대로 학생의 이름을 출력하는 프로그램을 작성하시오."
   ]
  },
  {
   "cell_type": "markdown",
   "id": "173a7684",
   "metadata": {},
   "source": [
    "입력 조건 )\n",
    "- 첫 번째 줄에 학생의 수 N이 입력된다. (1 <= N <= 100,000)\n",
    "- 두 번째 줄부터 N+1 번째 줄에는 학생의 이름을 나타내는 문자열 A와 학생의 성적을 나타내는 정수 B가 공백으로 구분되어 입력된다. 문자열 A의 길이와 학생의 성적은 100 이하의 자연수이다.\n",
    "\n",
    "출력 조건 )\n",
    "- 모든 학생의 이름을 성적이 낮은 순서대로 출력한다. 성적이 동일한 학생들의 순서는 자유롭게 출력해도 괜찮다."
   ]
  },
  {
   "cell_type": "code",
   "execution_count": 5,
   "id": "e0c5e2ef",
   "metadata": {},
   "outputs": [
    {
     "name": "stdout",
     "output_type": "stream",
     "text": [
      "2\n",
      "홍길동 95\n",
      "이순신 77\n",
      "95\n",
      "77\n"
     ]
    },
    {
     "data": {
      "text/plain": [
       "'def name(data) :\\n    score = []\\n    for i in range(n) :\\n        score.append(int(data[i][1]))\\n        \\n    score = score.sort()\\n    \\n    for i in range(n) :\\n        ndata = []\\n        ndata.append(data[i][score[i]])\\n    \\n    \\n    return '"
      ]
     },
     "execution_count": 5,
     "metadata": {},
     "output_type": "execute_result"
    }
   ],
   "source": [
    "n = int(input())\n",
    "data = []\n",
    "for _ in range(n) :\n",
    "    input_data = input().split()\n",
    "    data.append(input_data[0], int(input_data[1]))\n",
    "    \n",
    "for i in range(n) :\n",
    "    score = int(data[i][1])\n",
    "    #data = sorted(data, key = score)\n",
    "    print(score)\n",
    "    \n",
    "    \n",
    "'''def name(data) :\n",
    "    score = []\n",
    "    for i in range(n) :\n",
    "        score.append(int(data[i][1]))\n",
    "        \n",
    "    score = score.sort()\n",
    "    \n",
    "    for i in range(n) :\n",
    "        ndata = []\n",
    "        ndata.append(data[i][score[i]])\n",
    "    \n",
    "    \n",
    "    return '''"
   ]
  },
  {
   "cell_type": "code",
   "execution_count": 7,
   "id": "05efb82e",
   "metadata": {},
   "outputs": [
    {
     "name": "stdout",
     "output_type": "stream",
     "text": [
      "2\n",
      "홍길동 95\n",
      "이순신 77\n"
     ]
    }
   ],
   "source": [
    "n = int(input())\n",
    "data = []\n",
    "for _ in range(n) :\n",
    "    input_data = input().split()\n",
    "    data.append((input_data[0], int(input_data[1])))\n",
    "    \n",
    "data = sorted(data, key = data[1])"
   ]
  },
  {
   "cell_type": "code",
   "execution_count": 9,
   "id": "f730ceb3",
   "metadata": {},
   "outputs": [
    {
     "data": {
      "text/plain": [
       "('이순신', 77)"
      ]
     },
     "execution_count": 9,
     "metadata": {},
     "output_type": "execute_result"
    }
   ],
   "source": [
    "data[1]"
   ]
  },
  {
   "cell_type": "code",
   "execution_count": null,
   "id": "916da912",
   "metadata": {},
   "outputs": [],
   "source": []
  }
 ],
 "metadata": {
  "kernelspec": {
   "display_name": "Python 3 (ipykernel)",
   "language": "python",
   "name": "python3"
  },
  "language_info": {
   "codemirror_mode": {
    "name": "ipython",
    "version": 3
   },
   "file_extension": ".py",
   "mimetype": "text/x-python",
   "name": "python",
   "nbconvert_exporter": "python",
   "pygments_lexer": "ipython3",
   "version": "3.11.4"
  }
 },
 "nbformat": 4,
 "nbformat_minor": 5
}
