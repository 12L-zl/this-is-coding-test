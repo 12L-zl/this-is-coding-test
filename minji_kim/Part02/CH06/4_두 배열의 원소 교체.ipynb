{
 "cells": [
  {
   "cell_type": "markdown",
   "id": "3bea747c",
   "metadata": {},
   "source": [
    "두 개의 배열 A와 B를 가지고 있다. 두 배열은 N개의 원소로 구성되어 있으며, 배열의 원소는 모두 자연수이다. 최대 K번까지 바꿔치기 연산을 수행할 수 있는데, 바꿔치기 연산이란 배열에 A에 있는 원소 하나와 배열 B에 있는 원소 하나를 골라 두 원소를 서로 바꾸는 것을 말한다. 최종 목표는 배열 A의 모든 원소의 합이 최대가 되도록 하는 것이다.\n",
    "\n",
    "N, K, 그리고 배열 A와 B의 정보가 주어졌을 때, 최대 K번의 바꿔치기 연산을 수행하여 만들 수 있는 배열 A의 모든 원소의 합의 최댓값을 출력하는 프로그램을 작성하시오.\n",
    "\n",
    "예시)  \n",
    "N = 5, K = 3  \n",
    "배열 A = [1, 2, 5, 4, 3]  \n",
    "배열 B = [5, 5, 6, 6, 5]\n",
    "\n",
    "이 경우, 다음과 같이 세 번의 연산을 수행할 수 있다.\n",
    "- 연산1 ) A의 1 <-> B의 6\n",
    "- 연산2 ) A의 2 <-> B의 6\n",
    "- 연산3 ) A의 3 <-> B의 5\n",
    "\n",
    "세 번의 연산 이후,  \n",
    "배열 A = [6, 6, 5, 4, 5]  \n",
    "배열 B = [3, 5, 1, 2, 5]\n",
    "\n",
    "이때 배열 A의 모든 원소 합은 26이며, 이보다 더 합을 크게 만들 수 없다."
   ]
  },
  {
   "cell_type": "markdown",
   "id": "b16b23bc",
   "metadata": {},
   "source": [
    "입력 조건 )\n",
    "- 첫 번째 줄에 N, K가 공백으로 구분되어 입력된다. (1 <= N <= 100,000, 0 <= K <= N)\n",
    "- 두 번째 줄에 배열 A의 원소들이 공백으로 구분되어 입력된다. 모든 원소는 10,000,000보다 작은 자연수이다.\n",
    "- 세 번째 줄에 배열 B의 원소들이 공백으로 구분되어 입력된다. 모든 원소는 10,000,000보다 작은 자연수이다.\n",
    "\n",
    "출력 조건 )\n",
    "- 최대 K번의 바꿔치기 연산을 수행하여 만들 수 있는 배열 A의 모든 원소의 합의 최댓값을 출력한다."
   ]
  },
  {
   "cell_type": "code",
   "execution_count": 33,
   "id": "e594cfeb",
   "metadata": {},
   "outputs": [
    {
     "name": "stdout",
     "output_type": "stream",
     "text": [
      "5 3\n",
      "1 2 5 4 3\n",
      "5 5 6 6 5\n",
      "26\n"
     ]
    }
   ],
   "source": [
    "n, k = map(int, input().split())\n",
    "a = list(map(int, input().split()))\n",
    "b = list(map(int, input().split()))\n",
    "\n",
    "a.sort()\n",
    "b.sort(reverse=True)\n",
    "    \n",
    "for i in range(k) :\n",
    "    if a[i] <= b[i] :\n",
    "        a[i], b[i] = b[i], a[i]\n",
    "        \n",
    "print(sum(a))"
   ]
  },
  {
   "cell_type": "code",
   "execution_count": 50,
   "id": "36989fca",
   "metadata": {},
   "outputs": [
    {
     "name": "stdout",
     "output_type": "stream",
     "text": [
      "5 2\n",
      "3 1 4 2 0\n",
      "1 2 1 2 9\n",
      "[3, 2, 4, 2, 9]\n",
      "[1, 1, 1, 2, 0]\n",
      "20\n"
     ]
    }
   ],
   "source": [
    "n, k = map(int, input().split())\n",
    "a = list(map(int, input().split()))\n",
    "b = list(map(int, input().split()))\n",
    "\n",
    "for i in range(k) :\n",
    "    a[a.index(min(a))], b[b.index(max(b))] = b[b.index(max(b))], a[a.index(min(a))]\n",
    "\n",
    "print(a)\n",
    "print(b)\n",
    "print(sum(a))"
   ]
  },
  {
   "cell_type": "code",
   "execution_count": 53,
   "id": "74fd7f29",
   "metadata": {},
   "outputs": [
    {
     "data": {
      "text/plain": [
       "(4, 0)"
      ]
     },
     "execution_count": 53,
     "metadata": {},
     "output_type": "execute_result"
    }
   ],
   "source": [
    "a = [3, 1, 4, 2, 0]\n",
    "a.index(min(a)), a[a.index(min(a))]  # index, 값"
   ]
  },
  {
   "cell_type": "code",
   "execution_count": null,
   "id": "2d9d34d4",
   "metadata": {},
   "outputs": [],
   "source": []
  }
 ],
 "metadata": {
  "kernelspec": {
   "display_name": "Python 3 (ipykernel)",
   "language": "python",
   "name": "python3"
  },
  "language_info": {
   "codemirror_mode": {
    "name": "ipython",
    "version": 3
   },
   "file_extension": ".py",
   "mimetype": "text/x-python",
   "name": "python",
   "nbconvert_exporter": "python",
   "pygments_lexer": "ipython3",
   "version": "3.11.4"
  }
 },
 "nbformat": 4,
 "nbformat_minor": 5
}
