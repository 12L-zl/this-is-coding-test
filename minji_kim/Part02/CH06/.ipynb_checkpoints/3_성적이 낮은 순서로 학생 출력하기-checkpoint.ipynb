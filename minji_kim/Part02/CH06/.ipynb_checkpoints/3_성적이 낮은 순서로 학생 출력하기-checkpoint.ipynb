{
 "cells": [
  {
   "cell_type": "markdown",
   "id": "a52acdbe",
   "metadata": {},
   "source": []
  },
  {
   "cell_type": "markdown",
   "id": "9d7f1c8e",
   "metadata": {},
   "source": []
  },
  {
   "cell_type": "markdown",
   "id": "fc6cc16c",
   "metadata": {},
   "source": []
  },
  {
   "cell_type": "code",
   "execution_count": null,
   "id": "d92bd0d6",
   "metadata": {},
   "outputs": [],
   "source": []
  },
  {
   "cell_type": "markdown",
   "id": "686c838f",
   "metadata": {},
   "source": []
  },
  {
   "cell_type": "code",
   "execution_count": null,
   "id": "97d7d4e6",
   "metadata": {},
   "outputs": [],
   "source": []
  },
  {
   "cell_type": "code",
   "execution_count": null,
   "id": "18d1c7bc",
   "metadata": {},
   "outputs": [],
   "source": []
  }
 ],
 "metadata": {
  "kernelspec": {
   "display_name": "Python 3 (ipykernel)",
   "language": "python",
   "name": "python3"
  },
  "language_info": {
   "codemirror_mode": {
    "name": "ipython",
    "version": 3
   },
   "file_extension": ".py",
   "mimetype": "text/x-python",
   "name": "python",
   "nbconvert_exporter": "python",
   "pygments_lexer": "ipython3",
   "version": "3.11.4"
  }
 },
 "nbformat": 4,
 "nbformat_minor": 5
}
