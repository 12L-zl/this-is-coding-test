{
 "cells": [
  {
   "cell_type": "markdown",
   "id": "5f462d71",
   "metadata": {},
   "source": [
    "공중 미래 도시에는 1번부터 N번까지의 회사기 있는데 특정 회사끼리는 서로 도로를 통해 연결되어 있따. 방문 판매원 A는 현재 1번 회사에 위치해 있으며, X번 회사에 방문해 물건을 판매하고자 한다.\n",
    "회사끼리 연결되어 있는 도로를 이용하는 방법이 특정 회사에 도착하기 위한 유일한 방법이다. 또한 연결된 2개의 회사는 양방향으로 이동할 수 있다. 도로는 마하의 속도로 사람을 이동시켜주기 때문에 특정 회사와 다른 회사가 도로로 연결되어 있다면, 정확히 1만큼의 시간으로 이동할 수 있다.\n",
    "\n",
    "또한 오늘 방문 판매원 A는 기대하던 소개팅에도 참석하고자 한다. 소개팅의 상대는 K번 회사에 존재한다. A는 X번 회사에 가서 물건을 판매하기 전에 먼저 소개팅 상대의 회사에 찾아가서 함께 커피를 마실 예정이다.(이는 시간에 포함되지 않음) 따라서 A는 1번 회사에서 출발하여 K번 회사를 방문한 뒤에 X번 회사로 가는 것이 목표다. 이때 A는 가능한 한 빠르게 이동하고자 한다. 회사 사이를 이동하게 되는 최소 시간을 계산하는 프로그램을 작성하시오."
   ]
  },
  {
   "cell_type": "markdown",
   "id": "ad245c28",
   "metadata": {},
   "source": [
    "예를 들어 N = 5, X = 4, K = 5이고 회사 간 도로가 7개이면서 각 도로가\n",
    "(1, 2), (1, 3), (1, 4), (2, 4), (3, 4), (3, 5), (4, 5)로 연결되어 있다.\n",
    "이때 A는 최종적으로 4번 회사에 가는 경로를 1 - 3 - 5- 4로 설정한다면, 소개팅에 참석할 수 있으면서 총 3만큼의 시간으로 이동할 수 있다."
   ]
  },
  {
   "cell_type": "markdown",
   "id": "8013eb61",
   "metadata": {},
   "source": [
    "입력 조건 )\n",
    "- 첫째 줄에 전체 회사의 개수 N과 경로의 개수 M이 공백으로 구분되어 차례대로 주어진다. (1 <= N, M <= 100)\n",
    "- 둘째 줄부터 M+1 번째 줄에는 연결된 두 회사의 번호가 공백으로 구분되어 주어진다.\n",
    "- M+2 번째 줄에는 X와 K가 공백으로 구분되어 차례대로 주어진다. (1 <= K <= 100)\n",
    "\n",
    "출력 조건 )\n",
    "- 첫째 줄에 A가 K번 회사를 거쳐 X번 회사로 가는 최소 이동시간을 출력한다.\n",
    "- 만약 X번 회사에 도달할 수 없다면 -1을 출력한다."
   ]
  },
  {
   "cell_type": "code",
   "execution_count": 24,
   "id": "f2a75d74",
   "metadata": {},
   "outputs": [
    {
     "name": "stdout",
     "output_type": "stream",
     "text": [
      "5 7\n",
      "1 2\n",
      "1 3\n",
      "1 4\n",
      "2 4\n",
      "3 4\n",
      "3 5\n",
      "4 5\n",
      "4 5\n",
      "3\n"
     ]
    }
   ],
   "source": [
    "n, m = map(int, input().split())\n",
    "\n",
    "import numpy as np\n",
    "graph = np.full((n+1,n+1), 10)\n",
    "\n",
    "for i in range(1, n+1) : # 자기 자신으로 가는 비용은 0\n",
    "    graph[i][i] = 0\n",
    "\n",
    "for _ in range(m) : # 서로에게 가는 비용은 1\n",
    "    a, b = list(map(int, input().split()))\n",
    "    graph[a][b] = 1\n",
    "    graph[b][a] = 1\n",
    "    \n",
    "x, k = map(int, input().split())\n",
    "        \n",
    "for i in range(1, n+1) :\n",
    "    for a in range(1, n+1) :\n",
    "        for b in range(1, n+1) :\n",
    "            graph[a][b] = min(graph[a][b], graph[a][i] + graph[i][b])\n",
    "                \n",
    "distance = graph[1][k] + graph[k][x]\n",
    "\n",
    "if distance >= 10 :\n",
    "    print('-1')\n",
    "else :\n",
    "    print(distance)"
   ]
  },
  {
   "cell_type": "code",
   "execution_count": 18,
   "id": "7c4f7675",
   "metadata": {},
   "outputs": [
    {
     "data": {
      "text/plain": [
       "array([[10, 10, 10, 10, 10, 10],\n",
       "       [10,  0,  1,  1,  1,  2],\n",
       "       [10,  1,  0,  2,  1,  2],\n",
       "       [10,  1,  2,  0,  1,  1],\n",
       "       [10,  1,  1,  1,  0,  1],\n",
       "       [10,  2,  2,  1,  1,  0]])"
      ]
     },
     "execution_count": 18,
     "metadata": {},
     "output_type": "execute_result"
    }
   ],
   "source": [
    "graph"
   ]
  },
  {
   "cell_type": "code",
   "execution_count": 25,
   "id": "9fd1778a",
   "metadata": {},
   "outputs": [
    {
     "name": "stdout",
     "output_type": "stream",
     "text": [
      "4 2\n",
      "1 3\n",
      "2 4\n",
      "3 4\n",
      "-1\n"
     ]
    }
   ],
   "source": [
    "n, m = map(int, input().split())\n",
    "\n",
    "import numpy as np\n",
    "graph = np.full((n+1,n+1), 10)\n",
    "\n",
    "for i in range(1, n+1) :\n",
    "    graph[i][i] = 0\n",
    "\n",
    "for _ in range(m) :\n",
    "    a, b = list(map(int, input().split()))\n",
    "    graph[a][b] = 1\n",
    "    graph[b][a] = 1\n",
    "    \n",
    "x, k = map(int, input().split())\n",
    "        \n",
    "for i in range(1, n+1) :\n",
    "    for a in range(1, n+1) :\n",
    "        for b in range(1, n+1) :\n",
    "            graph[a][b] = min(graph[a][b], graph[a][i] + graph[i][b])\n",
    "            \n",
    "            \n",
    "distance = graph[1][k] + graph[k][x]\n",
    "\n",
    "if distance >= 10 :\n",
    "    print('-1')\n",
    "else :\n",
    "    print(distance)"
   ]
  },
  {
   "cell_type": "code",
   "execution_count": null,
   "id": "a0a5d8be",
   "metadata": {},
   "outputs": [],
   "source": []
  }
 ],
 "metadata": {
  "kernelspec": {
   "display_name": "Python 3 (ipykernel)",
   "language": "python",
   "name": "python3"
  },
  "language_info": {
   "codemirror_mode": {
    "name": "ipython",
    "version": 3
   },
   "file_extension": ".py",
   "mimetype": "text/x-python",
   "name": "python",
   "nbconvert_exporter": "python",
   "pygments_lexer": "ipython3",
   "version": "3.11.4"
  }
 },
 "nbformat": 4,
 "nbformat_minor": 5
}
