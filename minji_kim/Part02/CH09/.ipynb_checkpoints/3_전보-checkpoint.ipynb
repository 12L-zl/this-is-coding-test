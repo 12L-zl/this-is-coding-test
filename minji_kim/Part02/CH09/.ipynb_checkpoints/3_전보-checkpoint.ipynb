{
 "cells": [
  {
   "cell_type": "markdown",
   "id": "d220c9df",
   "metadata": {},
   "source": [
    "어떤 나라에는 N개의 도시가 있다. 그리고 각 도시는 보내고자 하는 메시지가 있는 경우, 다른 도시로 전보를 보내 다른 도시로 해당 메시지를 전송할 수 있다. 하지만 X라는 도시에서 Y라는 도시로 전보를 보내고자 한다면, 도시 X에서 Y로 향하는 통로가 설치되어 있어야 한다. 예를 들어 X에서 Y로 향하는 통로는 있지만, Y에서 X로 향하는 통로가 없다면 Y는 X로 메시지를 보낼 수 없다. 또한 통로를 거쳐 메시지를 보낼 때는 일정 시간이 소요된다."
   ]
  },
  {
   "cell_type": "markdown",
   "id": "2f7e38c6",
   "metadata": {},
   "source": [
    "어느 날 C라는 도시에서 위급 상황이 발생했다. 그래서 최대한 많은 도시로 메시지를 보내고자 한다. 메시지는 도시 C에서 출발하여 각 도시 사이에 설치된 통로를 거쳐, 최대한 많이 퍼져나갈 것이다. 각 도시의 번호와 통로가 설치되어 잇는 정보가 주어졌을 때, 도시 C에서 보낸 메시지를 받게 되는 도시의 개수는 총 몇 개이며 도시들이 모두 메시지를 받는 데까지 걸리는 시간은 얼마인지 계산하는 프로그램을 작성하시오."
   ]
  },
  {
   "cell_type": "markdown",
   "id": "66933e84",
   "metadata": {},
   "source": [
    "입력 조건 )\n",
    "- 첫째 줄에 도시의 개수 N, 통로의 개수 M, 메시지를 보내고자 하는 도시 C가 주어진다. (1 <= N <= 30,000, 1 <= M <= 200,000, 1 <= C <= N)\n",
    "- 둘째 줄부터 M+1번째 줄에 걸쳐서 통로에 대한 정보 X, Y, Z가 주어진다. 이는 특정 도시 X에서 다를 특정 도시 Y로 이어지는 통로가 있으며, 메시지가 전달되는 시간이 Z라는 의미다. (1 <= X, Y <= N, 1 <= Z <= 1000)\n",
    "\n",
    "출력 조건 ) \n",
    "- 첫째 줄에 도시 C에서 보낸 메시지를 받는 도시의 총 개수와 총 걸리는 시간을 공백으로 구분하여 출력한다."
   ]
  },
  {
   "attachments": {
    "image.png": {
     "image/png": "[encoded data removed]"
    }
   },
   "cell_type": "markdown",
   "id": "9f8f171f",
   "metadata": {},
   "source": [
    "![image.png](attachment:image.png)"
   ]
  },
  {
   "cell_type": "code",
   "execution_count": 65,
   "id": "251c0e91",
   "metadata": {
    "scrolled": true
   },
   "outputs": [
    {
     "name": "stdout",
     "output_type": "stream",
     "text": [
      "3 2 1\n",
      "1 2 4\n",
      "1 3 2\n",
      "2 4\n"
     ]
    }
   ],
   "source": [
    "n, m, c = map(int, input().split())\n",
    "data = []\n",
    "for _ in range(m) :\n",
    "    data.append(list(map(int, input().split())))\n",
    "    \n",
    "cnt1 = 0\n",
    "cnt2 = 0\n",
    "time1 = []\n",
    "time2 = []\n",
    "\n",
    "for i in range(m) :\n",
    "    if data[i][0] == c :\n",
    "            cnt1 += 1\n",
    "            time1.append(data[i][2])\n",
    "\n",
    "    for j in range(m) : \n",
    "        if data[i][1] == data[j][0] :\n",
    "            cnt2 += 1\n",
    "            time2.append(data[i][2])\n",
    "            time_ = time2[-cnt2] + data[j][2]\n",
    "            time2.append(time_)\n",
    "            \n",
    "print(cnt1+cnt2, max(time1+time2))"
   ]
  },
  {
   "cell_type": "code",
   "execution_count": 63,
   "id": "8011efd7",
   "metadata": {},
   "outputs": [
    {
     "name": "stdout",
     "output_type": "stream",
     "text": [
      "5 3 1\n",
      "1 2 4\n",
      "1 3 2\n",
      "2 5 3\n",
      "3 7\n"
     ]
    }
   ],
   "source": [
    "n, m, c = map(int, input().split())\n",
    "data = []\n",
    "for _ in range(m) :\n",
    "    data.append(list(map(int, input().split())))\n",
    "    \n",
    "cnt1 = 0\n",
    "cnt2 = 0\n",
    "time1 = []\n",
    "time2 = []\n",
    "\n",
    "for i in range(m) :\n",
    "    if data[i][0] == c :\n",
    "            cnt1 += 1\n",
    "            time1.append(data[i][2])\n",
    "\n",
    "    for j in range(m) : \n",
    "        if data[i][1] == data[j][0] :\n",
    "            cnt2 += 1\n",
    "            time2.append(data[i][2])\n",
    "            time_ = time2[-cnt2] + data[j][2]\n",
    "            time2.append(time_)\n",
    "            \n",
    "print(cnt1+cnt2, max(time1+time2))"
   ]
  },
  {
   "cell_type": "code",
   "execution_count": 64,
   "id": "bbe97697",
   "metadata": {},
   "outputs": [
    {
     "data": {
      "text/plain": [
       "([4, 2], [4, 7])"
      ]
     },
     "execution_count": 64,
     "metadata": {},
     "output_type": "execute_result"
    }
   ],
   "source": [
    "time1, time2"
   ]
  },
  {
   "cell_type": "code",
   "execution_count": 61,
   "id": "4172bfdd",
   "metadata": {},
   "outputs": [
    {
     "name": "stdout",
     "output_type": "stream",
     "text": [
      "5 4 1\n",
      "1 2 4\n",
      "2 5 3\n",
      "1 3 2\n",
      "5 4 2\n",
      "4 9\n"
     ]
    }
   ],
   "source": [
    "n, m, c = map(int, input().split())\n",
    "data = []\n",
    "for _ in range(m) :\n",
    "    data.append(list(map(int, input().split())))\n",
    "    \n",
    "cnt1 = 0\n",
    "cnt2 = 0\n",
    "time1 = []\n",
    "time2 = []\n",
    "\n",
    "for i in range(m) :\n",
    "    if data[i][0] == c :\n",
    "            cnt1 += 1\n",
    "            time1.append(data[i][2])\n",
    "\n",
    "    for j in range(m) : \n",
    "        if data[i][1] == data[j][0] :\n",
    "            cnt2 += 1\n",
    "            time2.append(data[i][2])\n",
    "            time_ = time2[-cnt2] + data[j][2]\n",
    "            time2.append(time_)\n",
    "            \n",
    "print(cnt1+cnt2, max(time1+time2))"
   ]
  },
  {
   "cell_type": "code",
   "execution_count": 62,
   "id": "de59aa00",
   "metadata": {},
   "outputs": [
    {
     "data": {
      "text/plain": [
       "([4, 2], [4, 7, 3, 9])"
      ]
     },
     "execution_count": 62,
     "metadata": {},
     "output_type": "execute_result"
    }
   ],
   "source": [
    "time, time2"
   ]
  },
  {
   "cell_type": "code",
   "execution_count": null,
   "id": "ba53a788",
   "metadata": {},
   "outputs": [],
   "source": []
  }
 ],
 "metadata": {
  "kernelspec": {
   "display_name": "Python 3 (ipykernel)",
   "language": "python",
   "name": "python3"
  },
  "language_info": {
   "codemirror_mode": {
    "name": "ipython",
    "version": 3
   },
   "file_extension": ".py",
   "mimetype": "text/x-python",
   "name": "python",
   "nbconvert_exporter": "python",
   "pygments_lexer": "ipython3",
   "version": "3.11.4"
  }
 },
 "nbformat": 4,
 "nbformat_minor": 5
}
