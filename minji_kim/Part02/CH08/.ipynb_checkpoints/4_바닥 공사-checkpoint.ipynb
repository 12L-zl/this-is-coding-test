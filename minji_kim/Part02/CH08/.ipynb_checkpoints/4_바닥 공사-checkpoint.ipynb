{
 "cells": [
  {
   "cell_type": "markdown",
   "id": "e928c013",
   "metadata": {},
   "source": [
    "가로의 길이 N, 세로의 길이 2인 직사각형 형태의 얇은 바닥이 있다. 이 얇은 바닥을 1X2의 덮개, 2X1의 덮개, 2X2의 덮개를 이용해 채우고자 한다.\n",
    "\n",
    "이때 바닥을 채우는 모든 경우의 수를 구하는 프로그램을 작성하시오. 예를 들어 2 X 3 크기의 바닥을 채우는 경우의 수는 5가지이다."
   ]
  },
  {
   "cell_type": "markdown",
   "id": "2de760be",
   "metadata": {},
   "source": [
    "입력 조건 )\n",
    "- 첫째 줄에 N이 주어진다. (1 <= N <= 1000)\n",
    "\n",
    "출력 조건 )\n",
    "- 첫째 줄에 2 X N 크기의 바닥을 채우는 방법의 수를 796,796으로 나눈 나머지를 출력한다."
   ]
  },
  {
   "cell_type": "code",
   "execution_count": 1,
   "id": "c0675c1e",
   "metadata": {},
   "outputs": [
    {
     "name": "stdout",
     "output_type": "stream",
     "text": [
      "3\n"
     ]
    }
   ],
   "source": [
    "n = int(input())\n",
    "\n",
    "d = [0] * 1001\n",
    "\n",
    "d[1] = 1\n",
    "d[2] = 3\n",
    "\n",
    "for i in range(3, n+1) :\n",
    "    d[i] = (d[i-1] + 2 * d[i-2]) % 796796"
   ]
  },
  {
   "cell_type": "code",
   "execution_count": 4,
   "id": "e5ac12b9",
   "metadata": {},
   "outputs": [
    {
     "name": "stdout",
     "output_type": "stream",
     "text": [
      "5\n"
     ]
    }
   ],
   "source": [
    "print(d[n])"
   ]
  },
  {
   "cell_type": "code",
   "execution_count": null,
   "id": "3f4c63e3",
   "metadata": {},
   "outputs": [],
   "source": []
  }
 ],
 "metadata": {
  "kernelspec": {
   "display_name": "Python 3 (ipykernel)",
   "language": "python",
   "name": "python3"
  },
  "language_info": {
   "codemirror_mode": {
    "name": "ipython",
    "version": 3
   },
   "file_extension": ".py",
   "mimetype": "text/x-python",
   "name": "python",
   "nbconvert_exporter": "python",
   "pygments_lexer": "ipython3",
   "version": "3.11.4"
  }
 },
 "nbformat": 4,
 "nbformat_minor": 5
}
