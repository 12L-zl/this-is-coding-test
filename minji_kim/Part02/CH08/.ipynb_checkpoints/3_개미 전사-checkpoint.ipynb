{
 "cells": [
  {
   "cell_type": "markdown",
   "id": "cb48ea13",
   "metadata": {},
   "source": [
    "개미 전사가 정찰병에게 들키지 않고 식량창고를 약탈하기 위해서는 최소한 한 칸 이상 떨어진 식량창고를 약탈해야 한다. 예를 들어 식량창고 4개가 다음과 같이 존재한다고 가정하자.\n",
    "\n",
    "{1, 3, 1, 5}\n",
    "\n",
    "이때 개미 전사는 두 번째 식량창고와 네 번째 식량창고를 선택했을 때 최댓값인 총 8개의 식량을 뺏을 수 있다. 개미 전사는 식량 창고가 이렇게 일직선상일 때 최대한 많은 식량을 얻기 원한다.\n",
    "\n",
    "개미 전사를 위해 식량창고 N개에 대한 정보가 주어졌을 때 얻을 수 있는 식량의 최댓값을 구하는 프로그램을 작성하시오."
   ]
  },
  {
   "cell_type": "markdown",
   "id": "b32b82d0",
   "metadata": {},
   "source": [
    "입력 조건 )\n",
    "- 첫째 줄에 식량창고의 개수 N이 주어진다. (3 <= N <= 100)\n",
    "- 둘째 줄에 공백으로 구분되어 각 식량창고에 저장된 식량의 개수 K가 주어진다. (0 <= K <= 1000)\n",
    "\n",
    "출력 조건 )\n",
    "- 첫째 줄에 개미 전사가 얻을 수 있는 식량의 최댓값을 출력하시오."
   ]
  },
  {
   "cell_type": "code",
   "execution_count": 1,
   "id": "071ac357",
   "metadata": {},
   "outputs": [
    {
     "name": "stdout",
     "output_type": "stream",
     "text": [
      "4\n",
      "1 3 1 5\n",
      "8\n"
     ]
    }
   ],
   "source": [
    "n = int(input())\n",
    "data = list(map(int, input().split()))\n",
    "result = [0] * 101\n",
    "\n",
    "result[0] = data[0]\n",
    "result[1] = max(data[0], data[1])\n",
    "\n",
    "for i in range(2, n) :\n",
    "    result[i] = max(result[i-1], result[i-2] + data[i])\n",
    "    \n",
    "print(max(result))"
   ]
  },
  {
   "cell_type": "code",
   "execution_count": 5,
   "id": "f4711b86",
   "metadata": {},
   "outputs": [
    {
     "name": "stdout",
     "output_type": "stream",
     "text": [
      "8\n"
     ]
    }
   ],
   "source": [
    "print(result[n-1])"
   ]
  },
  {
   "cell_type": "code",
   "execution_count": null,
   "id": "dcbc491b",
   "metadata": {},
   "outputs": [],
   "source": []
  }
 ],
 "metadata": {
  "kernelspec": {
   "display_name": "Python 3 (ipykernel)",
   "language": "python",
   "name": "python3"
  },
  "language_info": {
   "codemirror_mode": {
    "name": "ipython",
    "version": 3
   },
   "file_extension": ".py",
   "mimetype": "text/x-python",
   "name": "python",
   "nbconvert_exporter": "python",
   "pygments_lexer": "ipython3",
   "version": "3.11.4"
  }
 },
 "nbformat": 4,
 "nbformat_minor": 5
}
