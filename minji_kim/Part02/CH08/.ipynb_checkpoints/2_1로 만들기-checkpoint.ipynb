{
 "cells": [
  {
   "cell_type": "markdown",
   "id": "9be18711",
   "metadata": {},
   "source": [
    "정수 X가 주어질 때 정수 X에 사용할 수 있는 연산은 다음과 같다.\n",
    "- X가 5로 나누어 떨어지면, 5로 나눈다.\n",
    "- X가 3으로 나누어 떨어지면, 3으로 나눈다.\n",
    "- X가 2로 나누어 떨어지면, 2로 나눈다.\n",
    "- X에서 1을 뺀다."
   ]
  },
  {
   "cell_type": "markdown",
   "id": "e2c1ebe1",
   "metadata": {},
   "source": [
    "정수 X가 주어졌을 때, 연산 4개를 적절히 사용해 1을 만들려고 한다. 연산을 사용하는 횟수의 최솟값을 출력하시오.\n",
    "\n",
    "예시. 정수 26이면 3번의 연산이 최솟값이다.\n",
    "26 - 1 = 25\n",
    "\n",
    "25 / 5 = 5\n",
    "\n",
    "5 / 5 = 1"
   ]
  },
  {
   "cell_type": "markdown",
   "id": "beb67ee6",
   "metadata": {},
   "source": [
    "입력 조건 )\n",
    "- 첫째 줄에 정수 X가 주어진다. (1 <= X <= 30,000)\n",
    "\n",
    "출력 조건 )\n",
    "- 첫째 줄에 연산을 하는 횟수의 최솟값을 출력한다."
   ]
  },
  {
   "cell_type": "code",
   "execution_count": 12,
   "id": "04ac444b",
   "metadata": {},
   "outputs": [
    {
     "name": "stdout",
     "output_type": "stream",
     "text": [
      "29\n",
      "5\n"
     ]
    }
   ],
   "source": [
    "x = int(input())\n",
    "\n",
    "d = [0] * 30001\n",
    "\n",
    "for i in range(2, x + 1) :\n",
    "    d[i] = d[i-1] + 1\n",
    "    \n",
    "    if i % 2 == 0 :\n",
    "        d[i] = min(d[i], d[i//2] + 1)\n",
    "    if i % 3 == 0 :\n",
    "        d[i] = min(d[i], d[i//3] + 1)\n",
    "    if i % 5 == 0 :\n",
    "        d[i] = min(d[i], d[i//5] + 1)\n",
    "        \n",
    "print(d[x])    \n",
    "\n",
    "# 이것은 -1을 한번만 하는 듯 ,,, 그래서 실패"
   ]
  },
  {
   "cell_type": "code",
   "execution_count": 6,
   "id": "e598ccc8",
   "metadata": {},
   "outputs": [],
   "source": [
    "# 수빈씌 방법\n",
    "import math\n",
    "count = 0\n",
    "\n",
    "def sosu(x) :\n",
    "    for i in range(2, int(math.sqrt(x)) + 1) :  # range(2, x+1) 도 가능\n",
    "        if x % i == 0 :\n",
    "            return False\n",
    "        return x\n",
    "\n",
    "def cal(x):\n",
    "    # 전역변수로 count 사용\n",
    "    global count\n",
    "    # 입력받은 숫자 한자리씩 쪼개기\n",
    "    num_list = list(map(int, str(x)))\n",
    "\n",
    "    # x가 1이라면 count 출력\n",
    "    if x == 1:\n",
    "        return count\n",
    "    # x의 1의자리가 1이거나 6이면 1빼주기\n",
    "    elif sosu(x) :\n",
    "        x -= 1\n",
    "        count += 1\n",
    "        return cal(x)\n",
    "    elif x%5 == 0:\n",
    "        x = int(x/5)\n",
    "        count += 1\n",
    "        return cal(x)\n",
    "    elif x%3 == 0:\n",
    "        x = int(x/3)\n",
    "        count += 1\n",
    "        return cal(x)\n",
    "    elif x%2 == 0:\n",
    "        x = int(x/2)\n",
    "        count += 1\n",
    "        return cal(x)"
   ]
  },
  {
   "cell_type": "code",
   "execution_count": 4,
   "id": "1f0a5c83",
   "metadata": {},
   "outputs": [
    {
     "name": "stdout",
     "output_type": "stream",
     "text": [
      "29\n"
     ]
    },
    {
     "data": {
      "text/plain": [
       "6"
      ]
     },
     "execution_count": 4,
     "metadata": {},
     "output_type": "execute_result"
    }
   ],
   "source": [
    "a = int(input())\n",
    "cal(a)"
   ]
  },
  {
   "cell_type": "code",
   "execution_count": 7,
   "id": "95638ff5",
   "metadata": {},
   "outputs": [
    {
     "name": "stdout",
     "output_type": "stream",
     "text": [
      "23\n"
     ]
    },
    {
     "data": {
      "text/plain": [
       "5"
      ]
     },
     "execution_count": 7,
     "metadata": {},
     "output_type": "execute_result"
    }
   ],
   "source": [
    "cal(int(input())) # 다시할때 count=0 재지정해줘야"
   ]
  },
  {
   "cell_type": "code",
   "execution_count": null,
   "id": "98520ac8",
   "metadata": {},
   "outputs": [],
   "source": []
  }
 ],
 "metadata": {
  "kernelspec": {
   "display_name": "Python 3 (ipykernel)",
   "language": "python",
   "name": "python3"
  },
  "language_info": {
   "codemirror_mode": {
    "name": "ipython",
    "version": 3
   },
   "file_extension": ".py",
   "mimetype": "text/x-python",
   "name": "python",
   "nbconvert_exporter": "python",
   "pygments_lexer": "ipython3",
   "version": "3.11.4"
  }
 },
 "nbformat": 4,
 "nbformat_minor": 5
}
