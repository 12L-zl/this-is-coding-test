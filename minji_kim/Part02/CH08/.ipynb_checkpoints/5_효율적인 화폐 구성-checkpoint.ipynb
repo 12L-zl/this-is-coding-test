{
 "cells": [
  {
   "cell_type": "markdown",
   "id": "220fa9c1",
   "metadata": {},
   "source": [
    "N가지 종류의 화폐가 있다. 이 화폐들의 개수를 최소한으로 이용해 그 가치의 합이 M원이 되도록 하려고 한다. 이때 각 화폐는 각 몇 개라도 사용할 수 있으며, 사용한 화폐의 구성은 같지만 순서만 다른 것은 같은 경우로 구분한다. 예를 들어 2원, 3원 단위의 화폐가 있을 때는 15원을 만들기 위해 3원을 5개 사용하는 것이 가장 최소한의 화폐 개수이다."
   ]
  },
  {
   "cell_type": "markdown",
   "id": "9d8a6ade",
   "metadata": {},
   "source": [
    "입력 조건 )\n",
    "- 첫째 줄에 N, M이 주어진다. (1 <= N <= 100, 1 <= M <=10000)\n",
    "- 이후 N개의 줄에는 각 화폐의 가치가 주어진다. 화폐 가치는 10000보다 작거나 같은 자연수이다.\n",
    "\n",
    "출력 조건 )\n",
    "- 첫째 줄에 M원을 만둘기 위한 최소한의 화폐 개수를 출력한다.\n",
    "- 불가능할 때는 -1을 출력한다."
   ]
  },
  {
   "cell_type": "code",
   "execution_count": 14,
   "id": "327406d2",
   "metadata": {},
   "outputs": [
    {
     "name": "stdout",
     "output_type": "stream",
     "text": [
      "2 15\n",
      "2\n",
      "3\n"
     ]
    }
   ],
   "source": [
    "n, m = map(int, input().split())\n",
    "data = []\n",
    "for _ in range(n) :\n",
    "    data.append(int(input()))"
   ]
  },
  {
   "cell_type": "code",
   "execution_count": 15,
   "id": "0450f62e",
   "metadata": {},
   "outputs": [
    {
     "data": {
      "text/plain": [
       "[2, 3]"
      ]
     },
     "execution_count": 15,
     "metadata": {},
     "output_type": "execute_result"
    }
   ],
   "source": [
    "data"
   ]
  },
  {
   "cell_type": "code",
   "execution_count": null,
   "id": "993e4a62",
   "metadata": {},
   "outputs": [],
   "source": []
  },
  {
   "cell_type": "code",
   "execution_count": null,
   "id": "ed3a40ca",
   "metadata": {},
   "outputs": [],
   "source": []
  },
  {
   "cell_type": "code",
   "execution_count": null,
   "id": "768882ca",
   "metadata": {},
   "outputs": [],
   "source": []
  },
  {
   "cell_type": "code",
   "execution_count": null,
   "id": "0bb3d7bb",
   "metadata": {},
   "outputs": [],
   "source": []
  }
 ],
 "metadata": {
  "kernelspec": {
   "display_name": "Python 3 (ipykernel)",
   "language": "python",
   "name": "python3"
  },
  "language_info": {
   "codemirror_mode": {
    "name": "ipython",
    "version": 3
   },
   "file_extension": ".py",
   "mimetype": "text/x-python",
   "name": "python",
   "nbconvert_exporter": "python",
   "pygments_lexer": "ipython3",
   "version": "3.11.4"
  }
 },
 "nbformat": 4,
 "nbformat_minor": 5
}
