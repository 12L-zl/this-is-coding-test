{
 "cells": [
  {
   "cell_type": "markdown",
   "id": "9be18711",
   "metadata": {},
   "source": [
    "정수 X가 주어질 때 정수 X에 사용할 수 있는 연산은 다음과 같다.\n",
    "- X가 5로 나누어 떨어지면, 5로 나눈다.\n",
    "- X가 3으로 나누어 떨어지면, 3으로 나눈다.\n",
    "- X가 2로 나누어 떨어지면, 2로 나눈다.\n",
    "- X에서 1을 뺀다."
   ]
  },
  {
   "cell_type": "markdown",
   "id": "e2c1ebe1",
   "metadata": {},
   "source": [
    "정수 X가 주어졌을 때, 연산 4개를 적절히 사용해 1을 만들려고 한다. 연산을 사용하는 횟수의 최솟값을 출력하시오.\n",
    "\n",
    "예시. 정수 26이면 3번의 연산이 최솟값이다.\n",
    "26 - 1 = 25\n",
    "25 / 5 = 5\n",
    "5 / 5 = 1"
   ]
  },
  {
   "cell_type": "markdown",
   "id": "beb67ee6",
   "metadata": {},
   "source": [
    "입력 조건 )\n",
    "- 첫째 줄에 정수 X가 주어진다. (1 <= X <= 30,000)\n",
    "\n",
    "출력 조건 )\n",
    "- 첫째 줄에 연산을 하는 횟수의 최솟값을 출력한다."
   ]
  },
  {
   "cell_type": "code",
   "execution_count": 1,
   "id": "04ac444b",
   "metadata": {},
   "outputs": [
    {
     "name": "stdout",
     "output_type": "stream",
     "text": [
      "26\n",
      "3\n"
     ]
    }
   ],
   "source": [
    "x = int(input())\n",
    "\n",
    "d = [0] * 30001\n",
    "\n",
    "for i in range(2, x + 1) :\n",
    "    d[i] = d[i-1] + 1\n",
    "    \n",
    "    if i % 2 == 0 :\n",
    "        d[i] = min(d[i], d[i//2] + 1)\n",
    "    if i % 3 == 0 :\n",
    "        d[i] = min(d[i], d[i//3] + 1)\n",
    "    if i % 5 == 0 :\n",
    "        d[i] = min(d[i], d[i//5] + 1)\n",
    "        \n",
    "print(d[x])    "
   ]
  },
  {
   "cell_type": "code",
   "execution_count": null,
   "id": "e598ccc8",
   "metadata": {},
   "outputs": [],
   "source": []
  }
 ],
 "metadata": {
  "kernelspec": {
   "display_name": "Python 3 (ipykernel)",
   "language": "python",
   "name": "python3"
  },
  "language_info": {
   "codemirror_mode": {
    "name": "ipython",
    "version": 3
   },
   "file_extension": ".py",
   "mimetype": "text/x-python",
   "name": "python",
   "nbconvert_exporter": "python",
   "pygments_lexer": "ipython3",
   "version": "3.11.4"
  }
 },
 "nbformat": 4,
 "nbformat_minor": 5
}
