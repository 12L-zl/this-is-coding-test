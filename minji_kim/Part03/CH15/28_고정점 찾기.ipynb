{
 "cells": [
  {
   "cell_type": "markdown",
   "id": "352fea02",
   "metadata": {},
   "source": [
    "고정점이란, 수열의 원소 중에서 그 값이 인덱스와 동일한 원소를 의미한다. 예를 들어 수열 a = {-15, -4, 2, 8, 13}이 있을 때, a[2] = 2이므로, 고정점은 2가 된다.\n",
    "\n",
    "하나의 수열이 N개의 서로 다른 원소를 포함하고 있으며, 모든 원소가 오름차순으로 정렬되어 있다. 이때 이 수열에서 고정점이 된다면, 고정점을 출력하는 프로그램을 작성하시오. 고정점은 최대 1개만 존재하고, 고정점이 없다면 -1을 출력한다."
   ]
  },
  {
   "cell_type": "markdown",
   "id": "4597207f",
   "metadata": {},
   "source": [
    "입력 조건 )\n",
    "- 첫째 줄에 N이 입력된다. (1 <= N <= 1,000,000)\n",
    "- 둘째 줄에 N개의 원소가 정수 형태로 공백으로 구분되어 입력된다.\n",
    "\n",
    "출력 조건 )\n",
    "- 고정점을 출력한다. 고정점이 없다면 -1을 출력한다."
   ]
  },
  {
   "cell_type": "code",
   "execution_count": 7,
   "id": "7b983270",
   "metadata": {},
   "outputs": [
    {
     "name": "stdout",
     "output_type": "stream",
     "text": [
      "5\n",
      "-15 -6 1 3 7\n"
     ]
    },
    {
     "data": {
      "text/plain": [
       "3"
      ]
     },
     "execution_count": 7,
     "metadata": {},
     "output_type": "execute_result"
    }
   ],
   "source": [
    "n = int(input())\n",
    "data = list(map(int, input().split()))\n",
    "\n",
    "def solution(n, data) :\n",
    "    for i in range(n) :\n",
    "        if data[i] == i :\n",
    "            return i\n",
    "    return -1\n",
    "\n",
    "solution(n, data)"
   ]
  },
  {
   "cell_type": "code",
   "execution_count": null,
   "id": "60776754",
   "metadata": {},
   "outputs": [],
   "source": []
  },
  {
   "cell_type": "code",
   "execution_count": 9,
   "id": "51d89159",
   "metadata": {},
   "outputs": [
    {
     "name": "stdout",
     "output_type": "stream",
     "text": [
      "5\n",
      "-15 -6 1 3 7\n"
     ]
    },
    {
     "data": {
      "text/plain": [
       "3"
      ]
     },
     "execution_count": 9,
     "metadata": {},
     "output_type": "execute_result"
    }
   ],
   "source": [
    "n = int(input())\n",
    "data = list(map(int, input().split()))\n",
    "mid = int(n/2)\n",
    "\n",
    "def solution() :\n",
    "    global n, data, mid\n",
    "    \n",
    "    if data[mid] == mid :\n",
    "        return mid\n",
    "    \n",
    "    elif data[mid] > mid :  # -15 2 5 6 7\n",
    "        mid -= 1\n",
    "        return solution()\n",
    "    \n",
    "    elif data[mid] < mid  :\n",
    "        mid += 1\n",
    "        return solution()\n",
    "    \n",
    "    else :\n",
    "        return -1\n",
    "    \n",
    "    \n",
    "solution()"
   ]
  },
  {
   "cell_type": "code",
   "execution_count": null,
   "id": "b7438605",
   "metadata": {},
   "outputs": [],
   "source": []
  }
 ],
 "metadata": {
  "kernelspec": {
   "display_name": "Python 3 (ipykernel)",
   "language": "python",
   "name": "python3"
  },
  "language_info": {
   "codemirror_mode": {
    "name": "ipython",
    "version": 3
   },
   "file_extension": ".py",
   "mimetype": "text/x-python",
   "name": "python",
   "nbconvert_exporter": "python",
   "pygments_lexer": "ipython3",
   "version": "3.11.4"
  }
 },
 "nbformat": 4,
 "nbformat_minor": 5
}
