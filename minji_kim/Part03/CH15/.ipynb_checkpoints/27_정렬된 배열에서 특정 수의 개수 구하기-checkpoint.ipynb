{
 "cells": [
  {
   "cell_type": "markdown",
   "id": "b7a03b85",
   "metadata": {},
   "source": [
    "N개의 원소를 포함하고 있는 수열이 오름차순으로 정렬되어 있다. 이때 이 수열에서 x가 등장하는 횟수를 계산하시오. 예를 들어 수열 {1, 1, 2, 2, 2, 2, 3}이 있을 때 x=2라면, 현재 수열에서 값이 2인 원소가 4개이므로 4를 출력한다."
   ]
  },
  {
   "cell_type": "markdown",
   "id": "0ab23c62",
   "metadata": {},
   "source": [
    "입력 조건 )\n",
    "- 첫째 줄에 N과 x가 정수 형태로 공백으로 구분되어 입력된다. (1 <= N <= 1,000,000)\n",
    "- 둘째 줄에 N개 원소가 정수 형태로 공백으로 구분되어 입력된다.\n",
    "\n",
    "출력 조건 )\n",
    "- 수열의 원소 중에서 값이 x인 원소의 개수를 출력한다. 단, 값이 x인 원소가 하나도 없다면 -1을 출력한다."
   ]
  },
  {
   "cell_type": "code",
   "execution_count": 7,
   "id": "8dec0744",
   "metadata": {},
   "outputs": [
    {
     "name": "stdout",
     "output_type": "stream",
     "text": [
      "7 2\n",
      "1 1 2 2 2 2 3\n",
      "4\n"
     ]
    }
   ],
   "source": [
    "n, x = map(int, input().split())\n",
    "data = list(map(int, input().split()))\n",
    "\n",
    "if x in data :\n",
    "    print(data.count(x))\n",
    "else :\n",
    "    print('-1')"
   ]
  },
  {
   "cell_type": "code",
   "execution_count": 8,
   "id": "12935542",
   "metadata": {},
   "outputs": [
    {
     "name": "stdout",
     "output_type": "stream",
     "text": [
      "7 4\n",
      "1 1 2 2 2 2 3\n",
      "-1\n"
     ]
    }
   ],
   "source": [
    "n, x = map(int, input().split())\n",
    "data = list(map(int, input().split()))\n",
    "\n",
    "if x in data :\n",
    "    print(data.count(x))\n",
    "else :\n",
    "    print('-1')"
   ]
  },
  {
   "cell_type": "code",
   "execution_count": null,
   "id": "bb86d60a",
   "metadata": {},
   "outputs": [],
   "source": []
  }
 ],
 "metadata": {
  "kernelspec": {
   "display_name": "Python 3 (ipykernel)",
   "language": "python",
   "name": "python3"
  },
  "language_info": {
   "codemirror_mode": {
    "name": "ipython",
    "version": 3
   },
   "file_extension": ".py",
   "mimetype": "text/x-python",
   "name": "python",
   "nbconvert_exporter": "python",
   "pygments_lexer": "ipython3",
   "version": "3.11.4"
  }
 },
 "nbformat": 4,
 "nbformat_minor": 5
}
