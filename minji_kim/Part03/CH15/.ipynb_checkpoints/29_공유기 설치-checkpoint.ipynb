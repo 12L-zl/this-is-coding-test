{
 "cells": [
  {
   "cell_type": "markdown",
   "id": "27cee45e",
   "metadata": {},
   "source": [
    "https://www.acmicpc.net/problem/2110"
   ]
  },
  {
   "cell_type": "markdown",
   "id": "93b03b29",
   "metadata": {},
   "source": [
    "집 N개가 수직선 위에 있다. 각각의 집 여러개는 같은 좌표를 가지는 일은 없다. 집에 공유기 C개를 설치하려고 한다. 최대한 많은 곳에서 와이파이 사용하려고 하기에, 한 집에는 공유기를 하나만 설치할 수 있고, 가장 인접한 두 공유기 사이의 거리를 가능한 크게하여 설치하려 한다.\n",
    "\n",
    "C개의 공유기를 N개의 집에 적당히 설치해, 가장 인접한 두 공유기 사이의 거리를 최대로 하는 프로그램을 작성하시오."
   ]
  },
  {
   "cell_type": "markdown",
   "id": "455e6193",
   "metadata": {},
   "source": [
    "입력 조건 )\n",
    "- 첫째 줄에 집의 개수 N(2 <= N <= 200,000)과 공유기 개수 C (2 <= C <= N)가 하나 이상의 빈칸을 사이애 두고 주어진다.\n",
    "- 둘째 줄부터 N개의 줄에는 집의 좌표를 나타내는 x_i (1 <= x_i <= 1,000,000,000)가 한 줄에 하나씩 주어진다.\n",
    "\n",
    "출력 조건 )\n",
    "- 첫째 줄에 가장 인접한 두 공유기 사이의 최대 거리를 출력한다.\n",
    "\n",
    "예시에 대한 힌트 )\n",
    "- 공유기를 1, 4, 8 또는 1, 4, 9에 설치하면 가장 인접한 두 공유기 사이의 거리는 3이고, 이 거리보다 크게 공유기를 3개 설치할 수 없다."
   ]
  },
  {
   "cell_type": "code",
   "execution_count": 1,
   "id": "0de41463",
   "metadata": {},
   "outputs": [
    {
     "name": "stdout",
     "output_type": "stream",
     "text": [
      "5 3\n",
      "1\n",
      "2\n",
      "8\n",
      "4\n",
      "9\n"
     ]
    }
   ],
   "source": [
    "n, c = map(int, input().split())\n",
    "data = []\n",
    "for _ in range(n) :\n",
    "    data.append(int(input()))\n",
    "data.sort()"
   ]
  },
  {
   "cell_type": "code",
   "execution_count": 3,
   "id": "9de8d489",
   "metadata": {},
   "outputs": [
    {
     "name": "stdout",
     "output_type": "stream",
     "text": [
      "3\n"
     ]
    }
   ],
   "source": [
    "start = 1\n",
    "end = data[-1] - data[0]\n",
    "result = 0\n",
    "\n",
    "while start <= end :\n",
    "    mid = (start + end) // 2 # 가장 인접한 공유기 사이 거리\n",
    "    value = data[0]\n",
    "    count = 1\n",
    "    \n",
    "    for i in range(1, n) :\n",
    "        if data[i] >= value + mid :\n",
    "            value = data[i]\n",
    "            count += 1\n",
    "    \n",
    "    if count >= c :\n",
    "        start = mid + 1\n",
    "        result = mid\n",
    "    else :\n",
    "        end = mid - 1\n",
    "        \n",
    "print(result)"
   ]
  }
 ],
 "metadata": {
  "kernelspec": {
   "display_name": "Python 3 (ipykernel)",
   "language": "python",
   "name": "python3"
  },
  "language_info": {
   "codemirror_mode": {
    "name": "ipython",
    "version": 3
   },
   "file_extension": ".py",
   "mimetype": "text/x-python",
   "name": "python",
   "nbconvert_exporter": "python",
   "pygments_lexer": "ipython3",
   "version": "3.11.4"
  }
 },
 "nbformat": 4,
 "nbformat_minor": 5
}
