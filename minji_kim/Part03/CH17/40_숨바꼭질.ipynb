{
 "cells": [
  {
   "cell_type": "markdown",
   "id": "ac441311",
   "metadata": {},
   "source": [
    "숨바꼭질을 하며 술래로부터 잡히지 않도록 숨을 곳을 찾고 있다. 1 ~ N번까지의 헛간 중에서 하나를 골라 숨을 수 있으며, 술래는 항상 1번 헛간에서 출발한다. 전체 맵에는 총 M개의 양방향 통로가 존재하며, 하나의 통로는 서로 다른 두 헛간을 연결한다. 또한 전체 맵은 항상 어떤 헛간에서 다른 헛간으로 도달이 가능한 형태로 주어진다.\n",
    "\n",
    "1번 헛간으로부터 최단 거리가 가장 먼 헛간이 가장 안전하다고 판단한다. 이때 최단 거리의 의미는 지나야 하는 길의 최소 개수를 의미한다. 숨을 헛간의 번호를 출력하는 프로그램을 작성하시오."
   ]
  },
  {
   "cell_type": "markdown",
   "id": "6bf46be4",
   "metadata": {},
   "source": [
    "입력 조건 )\n",
    "- 첫째 줄에는 N, M이 주어지며, 공백으로 구분한다. (2 <= N <= 20000, 1 <= M <= 50000)\n",
    "- 이후 M개의 줄에 걸쳐 서로 연결된 두 헛간 A와 B의 번호가 공백으로 구분되어 주어진다. (1 <= A, B <= N)\n",
    "\n",
    "출력 조건 )\n",
    "- 첫 번째는 숨어야 하는 헛간 번호를(만약 거리가 같은 헛간이 여러 개면 가장 작은 번호를 출력), 두 번째는 그 헛간까지의 거리를, 세 번째는 그 헛간과 같은 거리를 갖는 헛간의 개수를 출력한다."
   ]
  },
  {
   "cell_type": "code",
   "execution_count": 3,
   "id": "934781fc",
   "metadata": {},
   "outputs": [
    {
     "name": "stdout",
     "output_type": "stream",
     "text": [
      "6 7\n",
      "3 6\n",
      "4 3\n",
      "3 2\n",
      "1 3\n",
      "1 2\n",
      "2 4\n",
      "5 2\n"
     ]
    }
   ],
   "source": [
    "n, m = map(int, input().split())\n",
    "data = []\n",
    "for _ in range(m) :\n",
    "    data.append(list(map(int,input().split())))"
   ]
  },
  {
   "cell_type": "code",
   "execution_count": 4,
   "id": "f93a54ce",
   "metadata": {},
   "outputs": [
    {
     "data": {
      "text/plain": [
       "[[3, 6], [4, 3], [3, 2], [1, 3], [1, 2], [2, 4], [5, 2]]"
      ]
     },
     "execution_count": 4,
     "metadata": {},
     "output_type": "execute_result"
    }
   ],
   "source": [
    "data"
   ]
  },
  {
   "cell_type": "code",
   "execution_count": 71,
   "id": "9f15407d",
   "metadata": {},
   "outputs": [],
   "source": [
    "import heapq\n",
    "\n",
    "def solution(result, start) :\n",
    "    # 거리 배열 초기화\n",
    "    distance = [int(1e9)] * len(result)\n",
    "    \n",
    "    # 시작 값 초기화\n",
    "    distance[start] = 0\n",
    "    heap = []\n",
    "    heapq.heappush(heap, [distance[start], start]) # heap리스트 안에 []값 넣음\n",
    "    \n",
    "    # heap 순회\n",
    "    while heap :\n",
    "        dist, now = heapq.heappop(heap) # index 0 을 빼옴\n",
    "        \n",
    "        # 현재 거리보다 이전에 계산된 값이 최단거리인 경우\n",
    "        if dist > distance[now] :\n",
    "            continue\n",
    "        \n",
    "        # 인접 노드 탐색\n",
    "        for i in range(len(result[now])) :\n",
    "            \n",
    "            # 현재 노드 거쳐 인접 노드까지 가는 거리\n",
    "            cost = dist + result[now][i]\n",
    "            \n",
    "            if distance[i] > cost :\n",
    "                distance[i] = cost # 최단경로면 값 갱신\n",
    "                heapq.heappush(heap, [distance[i], i])\n",
    "    \n",
    "    return distance"
   ]
  },
  {
   "cell_type": "code",
   "execution_count": 72,
   "id": "83cc6e67",
   "metadata": {},
   "outputs": [],
   "source": [
    "result = [[int(1e9)] * (n+1) for _ in range(n+1)]\n",
    "for i in range(m) :\n",
    "    result[i][i] = 0\n",
    "\n",
    "    start = data[i][0]\n",
    "    end = data [i][1]\n",
    "    \n",
    "    result[start][end] = 1\n",
    "    result[end][start] = 1"
   ]
  },
  {
   "cell_type": "code",
   "execution_count": 74,
   "id": "acc912b3",
   "metadata": {},
   "outputs": [
    {
     "data": {
      "text/plain": [
       "[[0, 1000000000, 1000000000, 1000000000, 1000000000, 1000000000, 1000000000],\n",
       " [1000000000, 0, 1, 1, 1000000000, 1000000000, 1000000000],\n",
       " [1000000000, 1, 0, 1, 1, 1, 1000000000],\n",
       " [1000000000, 1, 1, 0, 1, 1000000000, 1],\n",
       " [1000000000, 1000000000, 1, 1, 0, 1000000000, 1000000000],\n",
       " [1000000000, 1000000000, 1, 1000000000, 1000000000, 0, 1000000000],\n",
       " [1000000000, 1000000000, 1000000000, 1, 1000000000, 1000000000, 0]]"
      ]
     },
     "execution_count": 74,
     "metadata": {},
     "output_type": "execute_result"
    }
   ],
   "source": [
    "result"
   ]
  },
  {
   "cell_type": "code",
   "execution_count": 78,
   "id": "b3c74975",
   "metadata": {},
   "outputs": [
    {
     "data": {
      "text/plain": [
       "[0, 1, 1, 2, 2, 2]"
      ]
     },
     "execution_count": 78,
     "metadata": {},
     "output_type": "execute_result"
    }
   ],
   "source": [
    "answer = solution(result, 1)[1:]\n",
    "answer"
   ]
  },
  {
   "cell_type": "code",
   "execution_count": 84,
   "id": "a934b709",
   "metadata": {},
   "outputs": [
    {
     "name": "stdout",
     "output_type": "stream",
     "text": [
      "4 2 3\n"
     ]
    }
   ],
   "source": [
    "maxDist = max(answer) # 최대거리\n",
    "num = answer.index(maxDist) + 1 # 헛간번호\n",
    "cnt = answer.count(maxDist) # 같은 최대거리 갖는 헛간 갯수\n",
    "\n",
    "print(f'{num} {maxDist} {cnt}')"
   ]
  },
  {
   "cell_type": "code",
   "execution_count": null,
   "id": "264d65d0",
   "metadata": {},
   "outputs": [],
   "source": []
  }
 ],
 "metadata": {
  "kernelspec": {
   "display_name": "Python 3 (ipykernel)",
   "language": "python",
   "name": "python3"
  },
  "language_info": {
   "codemirror_mode": {
    "name": "ipython",
    "version": 3
   },
   "file_extension": ".py",
   "mimetype": "text/x-python",
   "name": "python",
   "nbconvert_exporter": "python",
   "pygments_lexer": "ipython3",
   "version": "3.11.4"
  }
 },
 "nbformat": 4,
 "nbformat_minor": 5
}
