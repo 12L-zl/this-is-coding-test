{
 "cells": [
  {
   "cell_type": "markdown",
   "id": "8c025ee9",
   "metadata": {},
   "source": [
    "화성 탐사 기계가 존재하는 공간은 N X N 크기의 2차원 공간이며, 각각의 칸을 지나기 위한 비용(에너지 소모량)이 존재한다. 가장 왼쪽 위 칸인 [0][0] 위치에서 가장 오른쪽 아래 칸인 [N-1][N-1] 위치로 이동하는 최소 비용을 출력하는 프로그램을 작성하시오. 화성 탐사 기계는 특정한 위치에서 상하좌우 인접한 곳으로 1칸씩 이동할 수 있다."
   ]
  },
  {
   "cell_type": "markdown",
   "id": "99893651",
   "metadata": {},
   "source": [
    "입력 조건 )\n",
    "- 첫째 줄에 테스트 케이스의 수 (1 <= T <= 10)가 주어진다.\n",
    "- 매 테스트 케이스의 첫째 줄에는 탐사 공간의 크기를 의미하는 정수 N이 주어진다. (2 <= N <= 125) 이어서 N개의 줄에 걸쳐 각 칸의 비용이 주어지며 공백으로 구분한다. (0 <= 각 칸의 비용 <= 9)\n",
    "\n",
    "출력 조건 )\n",
    "- 각 테스트 케이스마다 [0][0]의 위치에서 [N-1][N-1]의 위치로 이동하는 최소 비용을 한 줄에 하나씩 출력한다."
   ]
  },
  {
   "cell_type": "code",
   "execution_count": 55,
   "id": "9f11148d",
   "metadata": {},
   "outputs": [],
   "source": [
    "# 동서남북\n",
    "turn = [[1, 0], [-1, 0], [0, -1], [0, 1]]\n",
    "\n",
    "def solution(x, y, cost, result, data, n) :\n",
    "    for i in turn :\n",
    "        nx, ny = x + i[0], y + i[1]\n",
    "        if nx >= 0 and ny >= 0 and nx < n and ny < n and result[nx][ny] > cost + data[nx][ny] :\n",
    "            result[nx][ny] = cost + data[nx][ny]\n",
    "            solution(nx, ny, result[nx][ny], result, data, n)"
   ]
  },
  {
   "cell_type": "code",
   "execution_count": 56,
   "id": "92a273ed",
   "metadata": {},
   "outputs": [
    {
     "name": "stdout",
     "output_type": "stream",
     "text": [
      "3\n",
      "3\n",
      "5 5 4\n",
      "3 9 1\n",
      "3 2 7\n",
      "20\n",
      "5 \n",
      "3 7 2 0 1\n",
      "2 8 0 9 1\n",
      "1 2 1 8 1\n",
      "9 8 9 2 0\n",
      "3 6 5 1 5\n",
      "19\n",
      "7\n",
      "9 0 5 1 1 5 3\n",
      "4 1 2 1 6 5 3\n",
      "0 7 6 1 6 8 5\n",
      "1 1 7 8 3 2 3\n",
      "9 4 0 7 6 4 1\n",
      "5 8 3 2 4 8 3\n",
      "7 4 8 4 8 3 4\n",
      "36\n"
     ]
    }
   ],
   "source": [
    "t =  int(input())\n",
    "for _ in range(t) :\n",
    "    n = int(input())\n",
    "    data = []\n",
    "    for _ in range(n) :\n",
    "        data.append(list(map(int,input().split())))\n",
    "        \n",
    "    # cost 저장\n",
    "    result = [[int(1e9)] * n for _ in range(n)]\n",
    "    result[0][0] = data[0][0] # [0][0]의 위치의 cost는 가져감\n",
    "    \n",
    "    solution(0, 0, result[0][0], result, data, n)\n",
    "    print(result[n-1][n-1])"
   ]
  },
  {
   "cell_type": "code",
   "execution_count": 57,
   "id": "f2769284",
   "metadata": {},
   "outputs": [
    {
     "data": {
      "text/plain": [
       "[[9, 9, 14, 14, 15, 20, 23],\n",
       " [13, 10, 12, 13, 19, 24, 26],\n",
       " [13, 17, 18, 14, 20, 28, 31],\n",
       " [14, 15, 22, 22, 23, 25, 28],\n",
       " [23, 19, 19, 26, 29, 29, 29],\n",
       " [28, 27, 22, 24, 28, 36, 32],\n",
       " [35, 31, 30, 28, 36, 39, 36]]"
      ]
     },
     "execution_count": 57,
     "metadata": {},
     "output_type": "execute_result"
    }
   ],
   "source": [
    "result"
   ]
  },
  {
   "cell_type": "code",
   "execution_count": null,
   "id": "1db8eb7a",
   "metadata": {},
   "outputs": [],
   "source": []
  }
 ],
 "metadata": {
  "kernelspec": {
   "display_name": "Python 3 (ipykernel)",
   "language": "python",
   "name": "python3"
  },
  "language_info": {
   "codemirror_mode": {
    "name": "ipython",
    "version": 3
   },
   "file_extension": ".py",
   "mimetype": "text/x-python",
   "name": "python",
   "nbconvert_exporter": "python",
   "pygments_lexer": "ipython3",
   "version": "3.11.4"
  }
 },
 "nbformat": 4,
 "nbformat_minor": 5
}
