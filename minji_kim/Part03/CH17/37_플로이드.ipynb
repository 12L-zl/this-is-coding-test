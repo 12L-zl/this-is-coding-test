{
 "cells": [
  {
   "cell_type": "markdown",
   "id": "41baaf84",
   "metadata": {},
   "source": [
    "https://www.acmicpc.net/problem/11404"
   ]
  },
  {
   "cell_type": "markdown",
   "id": "99ac5438",
   "metadata": {},
   "source": [
    "n(1 <= n <= 100)개의 도시가 있고, 한 도시에서 출발하여 다른 도시에 도착하는 m(1 <= m <= 100,000)개의 버스가 있다. 각 버스는 한 번 사용할 때 필요한 비용이 있다. 모든 도시의 쌍 (A, B)에 대해 도시 A에서 B로 가는 데 필요한 비용의 최솟값을 구하는 프로그램을 작성하시오."
   ]
  },
  {
   "cell_type": "markdown",
   "id": "7e3a6c9d",
   "metadata": {},
   "source": [
    "입력 조건 )\n",
    "- 첫째 줄에 도시의 개수 n이 주어진다.\n",
    "- 둘째 줄에는 버스의 개수 m이 주어진다.\n",
    "- 셋째 줄부터 m+2번째 줄까지 다음과 같은 버스의 정보가 주어진다, 먼저 그 버스의 출발 도시의 번호가 주어진다. 버스의 정보는 버스의 시작 도시 a, 도착 도시 b, 한 번 타는 데 필요한 비용 c로 이루어져 있다. 시작 도시와 도착 도시가 같은 경우는 없다. 비용은 100,000보다 작거나 같은 자연수이다.\n",
    "- 시작 도시와 도착 도시를 연결하는 노선은 하나가 아닐 수 있다.\n",
    "\n",
    "출력 조건 )\n",
    "- n개의 줄을 출력해야 한다. i번째 줄에 출력하는 j번째 숫자는 도시 i에서 j로 가는 데 필요한 최소 비용이다. 만약 i에서 j로 갈 수 없는 경우에는 그 자리에 0을 출력한다."
   ]
  },
  {
   "cell_type": "code",
   "execution_count": 1,
   "id": "23e2c823",
   "metadata": {},
   "outputs": [
    {
     "name": "stdout",
     "output_type": "stream",
     "text": [
      "5\n",
      "14\n",
      "1 2 2\n",
      "1 3 3\n",
      "1 4 1\n",
      "1 5 10\n",
      "2 4 2\n",
      "3 4 1\n",
      "3 5 1\n",
      "4 5 3\n",
      "3 5 10\n",
      "3 1 8\n",
      "1 4 2\n",
      "5 1 7\n",
      "3 4 2\n",
      "5 2 4\n"
     ]
    }
   ],
   "source": [
    "n = int(input())\n",
    "m = int(input())\n",
    "data = []\n",
    "for _ in range(m) :\n",
    "    data.append(list(map(int, input().split())))"
   ]
  },
  {
   "cell_type": "code",
   "execution_count": 44,
   "id": "6578d052",
   "metadata": {},
   "outputs": [],
   "source": [
    "result = [[10000] * (n+1) for _ in range(n+1)]\n",
    "\n",
    "for i in range(1, n+1) :\n",
    "    result[i][i] = 0\n",
    "\n",
    "for i in range(m) :\n",
    "    a = data[i][0]\n",
    "    b = data[i][1]\n",
    "    c = data[i][2]\n",
    "    \n",
    "    if c < result[a][b] :\n",
    "        result[a][b] = c\n",
    "\n",
    "\n",
    "for a in range(1, n+1) :\n",
    "    for k in range(1, n+1) :\n",
    "        for b in range(1, n+1) :\n",
    "            result[a][b] = min(result[a][b], result[a][k] + result[k][b])"
   ]
  },
  {
   "cell_type": "code",
   "execution_count": 47,
   "id": "d52804f8",
   "metadata": {},
   "outputs": [
    {
     "data": {
      "text/plain": [
       "[[10000, 10000, 10000, 10000, 10000, 10000],\n",
       " [10000, 0, 2, 3, 1, 4],\n",
       " [10000, 12, 0, 10000, 2, 5],\n",
       " [10000, 8, 5, 0, 1, 1],\n",
       " [10000, 10, 7, 10000, 0, 3],\n",
       " [10000, 7, 4, 10, 6, 0]]"
      ]
     },
     "execution_count": 47,
     "metadata": {},
     "output_type": "execute_result"
    }
   ],
   "source": [
    "result"
   ]
  },
  {
   "cell_type": "code",
   "execution_count": 48,
   "id": "6321722b",
   "metadata": {},
   "outputs": [
    {
     "name": "stdout",
     "output_type": "stream",
     "text": [
      "0 2 3 1 4 \n",
      "12 0 0 2 5 \n",
      "8 5 0 1 1 \n",
      "10 7 0 0 3 \n",
      "7 4 10 6 0 \n"
     ]
    }
   ],
   "source": [
    "for a in range(1, n+1) :\n",
    "    for b in range(1, n+1) :\n",
    "        if result[a][b] == 10000 :\n",
    "            print(0, end=' ')\n",
    "        else :\n",
    "            print(result[a][b], end=' ')\n",
    "    print()"
   ]
  },
  {
   "cell_type": "code",
   "execution_count": null,
   "id": "befd0e27",
   "metadata": {},
   "outputs": [],
   "source": []
  }
 ],
 "metadata": {
  "kernelspec": {
   "display_name": "Python 3 (ipykernel)",
   "language": "python",
   "name": "python3"
  },
  "language_info": {
   "codemirror_mode": {
    "name": "ipython",
    "version": 3
   },
   "file_extension": ".py",
   "mimetype": "text/x-python",
   "name": "python",
   "nbconvert_exporter": "python",
   "pygments_lexer": "ipython3",
   "version": "3.11.4"
  }
 },
 "nbformat": 4,
 "nbformat_minor": 5
}
