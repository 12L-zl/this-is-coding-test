{
 "cells": [
  {
   "cell_type": "markdown",
   "id": "e198d8eb",
   "metadata": {},
   "source": [
    "각 자리가 숫자(0~9)로만 이루어진 문자열 S가 주어졌을 때, 왼쪽부터 오른쪽으로 하나씩 모든 숫자를 확인하며 숫자 사이에 '*' 혹은 '+' 연산자를 넣어 결과적으로 만들어질 수 있는 가장 큰 수를 구하는 프로그램을 작성하세요. 단, '+'보다 '*'를 먼저 계산하는 일반적인 방식과는 달리, 모든 연산은 왼쪽에서부터 순서대로 이루어진다고 가정합니다.\n",
    "\n",
    "예시 )\n",
    "02984가 주어지면, 만들어질수 있는 가장 큰 수는 ((((0 + 2) * 9) * 8) * 4) = 576입니다.\n",
    "\n",
    "또한 만들어질 수 잇는 가장 큰 수는 항상 20억 이하의 정수가 되도록 입력이 주어집니다."
   ]
  },
  {
   "cell_type": "markdown",
   "id": "997ec3c9",
   "metadata": {},
   "source": [
    "입력 조건 )\n",
    "- 첫째 줄에 여러 개의 숫자로 구성된 하나의 문자열 S가 주어집니다. (1 <= S의 길이 <= 20)\n",
    "\n",
    "출력 조건 )\n",
    "- 첫째 줄에 만들어질 수 있는 가장 큰 수를 출력합니다."
   ]
  },
  {
   "cell_type": "code",
   "execution_count": 30,
   "id": "e4592667",
   "metadata": {},
   "outputs": [
    {
     "name": "stdout",
     "output_type": "stream",
     "text": [
      "02984\n",
      "576\n",
      "실행 시간: 0.0 초\n"
     ]
    }
   ],
   "source": [
    "data = input()\n",
    "\n",
    "import time\n",
    "start_time = time.time()\n",
    "\n",
    "result = int(data[0])\n",
    "\n",
    "for i in range(1, len(data)) :\n",
    "    if result == 0 or result == 1 or int(data[i]) == 0 or int(data[i]) == 1 :\n",
    "        result += int(data[i])\n",
    "    else :\n",
    "        result *= int(data[i])\n",
    "\n",
    "end_time = time.time()\n",
    "        \n",
    "print(result)\n",
    "\n",
    "running_time = end_time - start_time\n",
    "print(f\"실행 시간: {running_time} 초\")"
   ]
  },
  {
   "cell_type": "code",
   "execution_count": null,
   "id": "ea36694d",
   "metadata": {},
   "outputs": [],
   "source": []
  }
 ],
 "metadata": {
  "kernelspec": {
   "display_name": "Python 3 (ipykernel)",
   "language": "python",
   "name": "python3"
  },
  "language_info": {
   "codemirror_mode": {
    "name": "ipython",
    "version": 3
   },
   "file_extension": ".py",
   "mimetype": "text/x-python",
   "name": "python",
   "nbconvert_exporter": "python",
   "pygments_lexer": "ipython3",
   "version": "3.11.4"
  }
 },
 "nbformat": 4,
 "nbformat_minor": 5
}
