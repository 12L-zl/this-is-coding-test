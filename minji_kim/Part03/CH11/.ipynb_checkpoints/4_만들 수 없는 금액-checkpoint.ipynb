{
 "cells": [
  {
   "cell_type": "markdown",
   "id": "245d5c1b",
   "metadata": {},
   "source": [
    "N개의 동전을 이용해 만들 수 없는 양의 정수 금액 중 최솟값을 구하는 프로그램을 작성하세요.\n",
    "\n",
    "예시1 )\n",
    "N = 5, 각 동전이 각각 3원, 2원, 1원, 1원, 9원짜리 동전이라고 가정하면, 만들 수 없는 양의 정수 금액 중 최솟값은 8원이다.\n",
    "\n",
    "예시2 )\n",
    "N = 3, 각 동전이 각각 3원, 5원, 7원짜리 동전이라고 가정하면, 만들 수 없는 양의 정수 금액 중 최솟값은 1원이다."
   ]
  },
  {
   "cell_type": "markdown",
   "id": "cf73ee79",
   "metadata": {},
   "source": [
    "입력 조건 )\n",
    "- 첫째 줄에는 동전의 개수를 나타내는 양의 정수 N이 주어진다.(1<= N <= 1,000)\n",
    "- 둘째 줄에는 각 동전의 화폐 단위를 나타내는 N개의 자연수가 주어지며, 각 자연수는 공백으로 구분한다. 이때, 각 화폐 단위는 1,000,000 이하의 자연수이다.\n",
    "\n",
    "출력 조건 )\n",
    "- 첫째 줄에 주어진 동전들로 만들 수 없는 양의 정수 금액 중 최솟값을 출력한다."
   ]
  },
  {
   "cell_type": "code",
   "execution_count": 2,
   "id": "681c5461",
   "metadata": {},
   "outputs": [
    {
     "name": "stdout",
     "output_type": "stream",
     "text": [
      "5\n",
      "3 2 1 1 9\n",
      "8\n",
      "실행 시간 :  0.0009975433349609375\n"
     ]
    }
   ],
   "source": [
    "n = int(input())\n",
    "data = list(map(int, input().split()))\n",
    "\n",
    "import time\n",
    "start = time.time()\n",
    "\n",
    "data.sort()\n",
    "\n",
    "result= 1\n",
    "\n",
    "for i in data :\n",
    "    if result < i :\n",
    "        break\n",
    "    result += i\n",
    "    \n",
    "end = time.time()\n",
    "    \n",
    "print(result)\n",
    "\n",
    "running = end - start\n",
    "print('실행 시간 : ', running)"
   ]
  },
  {
   "cell_type": "code",
   "execution_count": null,
   "id": "fca4147e",
   "metadata": {},
   "outputs": [],
   "source": []
  }
 ],
 "metadata": {
  "kernelspec": {
   "display_name": "Python 3 (ipykernel)",
   "language": "python",
   "name": "python3"
  },
  "language_info": {
   "codemirror_mode": {
    "name": "ipython",
    "version": 3
   },
   "file_extension": ".py",
   "mimetype": "text/x-python",
   "name": "python",
   "nbconvert_exporter": "python",
   "pygments_lexer": "ipython3",
   "version": "3.11.4"
  }
 },
 "nbformat": 4,
 "nbformat_minor": 5
}
