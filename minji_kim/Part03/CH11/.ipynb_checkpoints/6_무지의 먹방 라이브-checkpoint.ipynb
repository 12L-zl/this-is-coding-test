{
 "cells": [
  {
   "cell_type": "markdown",
   "id": "a056750e",
   "metadata": {},
   "source": [
    "https://school.programmers.co.kr/learn/courses/30/lessons/42891?language=python3"
   ]
  },
  {
   "cell_type": "markdown",
   "id": "c0f7e02e",
   "metadata": {},
   "source": [
    "회전판에 먹어야 할 N개의 음식이 있습니다. 각 음식에는 1부터 N까지 번호가 붙어있으며, 각 음식을 섭취하는데 일정 시간이 소요됩니다. 무지는 다음과 같은 방법으로 음식을 섭취합니다.\n",
    "1. 무지는 1번 음식부터 먹기 시작하며, 회전판은 번호가 증가하는 순서대로 음식을 무지 앞으로 가져다 놓습니다.\n",
    "2. 마지막 번호의 음식을 섭취한 후에는 회전판에 의해 다시 1번 음식이 무지 앞으로 옵니다.\n",
    "3. 무지는 음식 하나를 1초 동안 섭취한 후 남은 음식은 그대로 두고, 다음 음식을 섭취합니다. 다음 음식이란, 아직 남은 음식 중 다음으로 섭취해야 할 가장 가까운 번호의 음식을 말합니다.\n",
    "4. 회전판이 다음 음식을 무지 앞으로 가져오는 데 걸리는 시간은 없다고 가정합니다."
   ]
  },
  {
   "cell_type": "markdown",
   "id": "e3eb88ed",
   "metadata": {},
   "source": [
    "무지가 먹방을 시작한 지 K초 후에 네트워크 장애로 인해 방송이 잠시 중단되었습니다. 무지는 네트워크 정상화 후 다시 방송을 이어갈 때, 몇 번 음식부터 섭취해야 하는지를 알고자 합니다. 각 음식을 모두 먹는 데 필요한 시간이 담겨 있는 배열 food_times, 네트워크 장애가 발생한 시간 K초가 매개변수로 주어질 때, 몇 번 음식부터 다시 섭취해야 하는지 return 하도록 solution 함수를 완성하세요."
   ]
  },
  {
   "cell_type": "markdown",
   "id": "6ae0c03d",
   "metadata": {},
   "source": [
    "제한 사항 )\n",
    "- food_times는 각 음식을 모두 먹는 데 필요한 시간이 음식의 번호 순서대로 들어 있는 배열입니다.\n",
    "- k는 방송이 중단된 시간을 나타냅니다.\n",
    "- 만약 더 섭취해야 할 음식이 없다면 -1을 반환하면 됩니다.\n",
    "\n",
    "정확성 테스트 제한 사항 )\n",
    "- food_times 길이는 1이상 2000 이하입니다.\n",
    "- food_times 원소는 1이상 1000 이하의 자연수입니다.\n",
    "- k는 1이상 2,000,000 이하의 자연수입니다.\n",
    "\n",
    "효율성 테스트 제한 사항 )\n",
    "- food_times의 길이는 1이상 200,000 이하입니다.\n",
    "- fodd_times 원소는 1이상 100,000,000 이하의 자연수 입니다.\n",
    "- k는 1이상 2 X 10^13 이하의 자연수입니다."
   ]
  },
  {
   "cell_type": "raw",
   "id": "4aa62523",
   "metadata": {},
   "source": [
    "예시 )\n",
    "food_times : [3, 1, 2], k = 5, result = 1\n",
    "\n",
    "* 0 ~ 1초 동안에 1번 음식을 섭취한다. 남은 시간 : [2, 1, 2]\n",
    "* 1 ~ 2초 동안에 2번 음식 섭취 / 남은 시간 : [2, 0, 2]\n",
    "* 2 ~ 3초 동안에 3번 음식 섭취 / 남은 시간 : [2, 0, 1]\n",
    "* 3 ~ 4초 동안에 1번 음식 섭취 / 남은 시간 : [1, 0, 1]\n",
    "* 4 ~ 5초 동안에 3번 음식 섭취 / 남은 시간 : [1, 0, 0]\n",
    "* 5초에서 네트워크 장애 발생\n",
    "\n",
    "1번 음식을 섭취해야 할 때 중단되었으므로, 장애 복구 후에 1번 음식부터 다시 먹기 시작하면 된다."
   ]
  },
  {
   "cell_type": "code",
   "execution_count": 8,
   "id": "b4fb3f66",
   "metadata": {},
   "outputs": [],
   "source": [
    "def solution(food_times, k):\n",
    "    if sum(food_times) <= k : # 방송 장애 전에 다먹으면(먹을 음식 없으면)\n",
    "        return -1\n",
    "    \n",
    "    nfood = food_times\n",
    "    lst = []\n",
    "    \n",
    "    for _ in range(k) :\n",
    "        for i in range(len(food_times)) :\n",
    "            if food_times[i] > 0 :\n",
    "                nfood[i] = food_times[i] - 1\n",
    "                #print(nfood)\n",
    "                lst.append(nfood)  \n",
    "    #print()\n",
    "    if k < len(nfood) :\n",
    "        for j in range(1, len(food_times)+1) :\n",
    "            if lst[k-1][j] != lst[k][j] :\n",
    "                return lst[k][j]"
   ]
  },
  {
   "cell_type": "code",
   "execution_count": 12,
   "id": "eb5b2165",
   "metadata": {},
   "outputs": [
    {
     "name": "stdout",
     "output_type": "stream",
     "text": [
      "3 1 2\n",
      "5\n",
      "None\n"
     ]
    }
   ],
   "source": [
    "food_times = list(map(int, input().split()))\n",
    "k = int(input())\n",
    "answer = solution(food_times, k)\n",
    "print(answer)"
   ]
  },
  {
   "cell_type": "code",
   "execution_count": 11,
   "id": "f1d043cf",
   "metadata": {},
   "outputs": [
    {
     "name": "stdout",
     "output_type": "stream",
     "text": [
      "None\n"
     ]
    }
   ],
   "source": [
    "food_times = [3, 1, 2]\n",
    "k=5\n",
    "answer = solution(food_times, k)\n",
    "print(answer)"
   ]
  },
  {
   "cell_type": "code",
   "execution_count": 31,
   "id": "db0fea26",
   "metadata": {},
   "outputs": [
    {
     "name": "stdout",
     "output_type": "stream",
     "text": [
      "[2, 1, 2]\n",
      "[2, 0, 2]\n",
      "[2, 0, 1]\n",
      "[1, 0, 1]\n",
      "[1, 0, 0]\n",
      "[0, 0, 0]\n"
     ]
    }
   ],
   "source": [
    "lst=[]\n",
    "k=5\n",
    "food_times = [3, 1, 2]\n",
    "nfood=food_times\n",
    "\n",
    "for _ in range(k) :\n",
    "    for i in range(len(food_times)) :\n",
    "    \n",
    "        if food_times[i] > 0 :\n",
    "            nfood[i] = food_times[i] - 1\n",
    "            print(nfood)\n",
    "            nfood\n",
    "            \n",
    "            "
   ]
  },
  {
   "cell_type": "code",
   "execution_count": 32,
   "id": "b89ed38f",
   "metadata": {},
   "outputs": [
    {
     "data": {
      "text/plain": [
       "[0, 0, 0]"
      ]
     },
     "execution_count": 32,
     "metadata": {},
     "output_type": "execute_result"
    }
   ],
   "source": [
    "nfood"
   ]
  },
  {
   "cell_type": "code",
   "execution_count": null,
   "id": "73202957",
   "metadata": {},
   "outputs": [],
   "source": []
  }
 ],
 "metadata": {
  "kernelspec": {
   "display_name": "Python 3 (ipykernel)",
   "language": "python",
   "name": "python3"
  },
  "language_info": {
   "codemirror_mode": {
    "name": "ipython",
    "version": 3
   },
   "file_extension": ".py",
   "mimetype": "text/x-python",
   "name": "python",
   "nbconvert_exporter": "python",
   "pygments_lexer": "ipython3",
   "version": "3.11.4"
  }
 },
 "nbformat": 4,
 "nbformat_minor": 5
}
