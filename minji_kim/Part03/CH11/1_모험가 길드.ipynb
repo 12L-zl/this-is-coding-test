{
 "cells": [
  {
   "cell_type": "markdown",
   "id": "65c746db",
   "metadata": {},
   "source": [
    "한 마을에 모험가 N명이 있다. 모험가를 대상으로 '공포도'를 측정했는데, '공포도'가 높은 모험가는 쉽게 공포를 느껴 위험 상황에서 제대로 대처할 능력이 떨어진다. 공포도가 X인 모험가는 반드시 X명 이상으로 구성한 모험가 그룹에 참여해야 여행을 떠날 수 있도록 규정되어있다. 최대 몇개의 모험가 그룹을 만들 수 있는가.\n",
    "\n",
    "N명의 모험가에 대한 정보가 주어졌을 때, 여행을 떠날 수 있는 그룹 수의 최댓값을 구하는 프로그램을 작성해라.\n",
    "\n",
    "예시) N = 5, 각 모험가의 공포도 -> 2 3 1 2 2\n",
    "\n",
    "이때, 그룹1에 공포도가 1, 2, 3인 모험가를 한 명씩 넣고, 그룹 2에 공포도가 2인 남은 두명을 넣게 되면, 총 2개의 그룹을 만들 수 있따. 또한 몇 명의 모험가는 마을에 그대로 남아 있어도 되기에 모든 모험가를 특정 그룹에 넣을 필요는 없다."
   ]
  },
  {
   "cell_type": "markdown",
   "id": "c98b87a2",
   "metadata": {},
   "source": [
    "입력 조건 )\n",
    "- 첫째 줄에 모험가의 수 N이 주어진다. (1 <= N <= 100,000)\n",
    "- 둘째 줄에 각 모험가의 공포도 값을 N 이하의 자연수로 주어지며, 각 자연수는 공백으로 구분한다.\n",
    "\n",
    "출력 조건 )\n",
    "- 여행을 떠날 수 있는 그룹 수의 최댓값을 출력한다."
   ]
  },
  {
   "cell_type": "code",
   "execution_count": 4,
   "id": "a17e8aef",
   "metadata": {},
   "outputs": [
    {
     "name": "stdout",
     "output_type": "stream",
     "text": [
      "5\n",
      "2 3 1 2 2\n",
      "2\n"
     ]
    }
   ],
   "source": [
    "n = int(input())\n",
    "\n",
    "pho = list(map(int, input().split()))\n",
    "pho.sort()\n",
    "\n",
    "team = 0\n",
    "person = 0\n",
    "\n",
    "for i in pho :\n",
    "    person += 1\n",
    "    if person >= i : \n",
    "        team += 1\n",
    "        person = 0\n",
    "\n",
    "print(team)"
   ]
  },
  {
   "cell_type": "code",
   "execution_count": null,
   "id": "2807e2c2",
   "metadata": {},
   "outputs": [],
   "source": []
  }
 ],
 "metadata": {
  "kernelspec": {
   "display_name": "Python 3 (ipykernel)",
   "language": "python",
   "name": "python3"
  },
  "language_info": {
   "codemirror_mode": {
    "name": "ipython",
    "version": 3
   },
   "file_extension": ".py",
   "mimetype": "text/x-python",
   "name": "python",
   "nbconvert_exporter": "python",
   "pygments_lexer": "ipython3",
   "version": "3.11.4"
  }
 },
 "nbformat": 4,
 "nbformat_minor": 5
}
