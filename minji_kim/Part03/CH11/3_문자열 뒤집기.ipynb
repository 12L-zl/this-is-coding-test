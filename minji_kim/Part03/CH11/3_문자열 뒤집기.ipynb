{
 "cells": [
  {
   "cell_type": "markdown",
   "id": "4757c031",
   "metadata": {},
   "source": [
    "0과 1로만 이루어진 문자열 S를 가지고 있다. 이 문자열 S에 있는 모든 숫자를 전부 같게 만들려고 한다. 할 수 있는 행동은 S에서 연속된 하나 이상의 숫자를 잡고 모두 뒤집는 것이다. 뒤집는 것은 1을 0으로, 0을 1로 바꾸는 것을 의미한다.\n",
    "\n",
    "예시) S = 0001100\n",
    "1. 전체를 뒤집으면 1110011 이 된다.\n",
    "2. 4번째 문자부터 5번째 문자까지 뒤집으면 1111111이 되어서 두 번 만에 모두 같은 숫자로 만들 수 있다.\n",
    "\n",
    "하지만, 처음부터 4번째 문자부터 5번째 문자까지 문자를 뒤집으면 한 번에 0000000이 되어서 1번 만에 모두 같은 숫자로 만들 수 있다.\n",
    "\n",
    "문자열 S가 주어졌을 때, 해야하는 행동의 최소 횟수를 출력하시오."
   ]
  },
  {
   "cell_type": "markdown",
   "id": "3b643bc0",
   "metadata": {},
   "source": [
    "입력 조건 )\n",
    "- 첫째 줄에 0과 1로만 이루어진 문자열 S가 주어진다. S의 길이는 100만보다 작다.\n",
    "\n",
    "출력 조건 )\n",
    "- 첫째 줄에 해야 하는 행동의 최소 횟수를 출력한다."
   ]
  },
  {
   "cell_type": "code",
   "execution_count": 21,
   "id": "c4ef9535",
   "metadata": {},
   "outputs": [
    {
     "name": "stdout",
     "output_type": "stream",
     "text": [
      "0001100\n",
      "1\n",
      "실행 시간 :  0.0\n"
     ]
    }
   ],
   "source": [
    "data = input()\n",
    "\n",
    "import time\n",
    "start = time.time()\n",
    "\n",
    "count = 0\n",
    "\n",
    "for i in range(len(data)-1) :\n",
    "    if data[0] == '0' :   # 0으로 시작하면, 0으로 끝남 (그러면 갯수 차별)\n",
    "        if data[i+1] != data[i] :\n",
    "            if data[i] == '1' :  # 0으로 시작하면, 1을 바꿔주는 것이 최소횟수\n",
    "                data[i] =='0'\n",
    "                count += 1\n",
    "    else :\n",
    "        if data[i+1] != data[i] :\n",
    "            if data[i] == '0' :  # 1로 시작하면, 0을 1로 바꿔주는 것이 최소횟수\n",
    "                data[i] =='1'\n",
    "                count += 1\n",
    "        \n",
    "end = time.time()\n",
    "\n",
    "print(count)\n",
    "\n",
    "running_time = end - start\n",
    "print('실행 시간 : ', running_time)"
   ]
  },
  {
   "cell_type": "code",
   "execution_count": 15,
   "id": "c32263bf",
   "metadata": {},
   "outputs": [
    {
     "name": "stdout",
     "output_type": "stream",
     "text": [
      "0101010\n",
      "3\n",
      "실행 시간 :  0.0009984970092773438\n"
     ]
    }
   ],
   "source": [
    "data = input()\n",
    "\n",
    "import time\n",
    "start = time.time()\n",
    "\n",
    "count = 0\n",
    "\n",
    "for i in range(len(data)-1) :\n",
    "    if data[0] == '0' :   # 0으로 시작하면, 0으로 끝남 (그러면 갯수 차별)\n",
    "        if data[i+1] != data[i] :\n",
    "            if data[i] == '1' :  # 0으로 시작하면, 1을 바꿔주는 것이 최소횟수\n",
    "                data[i] =='0'\n",
    "                count += 1\n",
    "    else :\n",
    "        if data[i+1] != data[i] :\n",
    "            if data[i] == '0' :  # 1로 시작하면, 0을 1로 바꿔주는 것이 최소횟수\n",
    "                data[i] =='1'\n",
    "                count += 1\n",
    "        \n",
    "end = time.time()\n",
    "\n",
    "print(count)\n",
    "\n",
    "running_time = end - start\n",
    "print('실행 시간 : ', running_time)"
   ]
  },
  {
   "cell_type": "code",
   "execution_count": 14,
   "id": "aaadf592",
   "metadata": {},
   "outputs": [
    {
     "name": "stdout",
     "output_type": "stream",
     "text": [
      "10101001\n",
      "3\n",
      "실행 시간 :  0.0\n"
     ]
    }
   ],
   "source": [
    "data = input()\n",
    "\n",
    "import time\n",
    "start = time.time()\n",
    "\n",
    "count = 0\n",
    "\n",
    "for i in range(len(data)-1) :\n",
    "    if data[0] == '0' :   # 0으로 시작하면, 0으로 끝남 (그러면 갯수 차별)\n",
    "        if data[i+1] != data[i] :\n",
    "            if data[i] == '1' :  # 0으로 시작하면, 1을 바꿔주는 것이 최소횟수\n",
    "                data[i] =='0'\n",
    "                count += 1\n",
    "    else :\n",
    "        if data[i+1] != data[i] :\n",
    "            if data[i] == '0' :  # 1로 시작하면, 0을 1로 바꿔주는 것이 최소횟수\n",
    "                data[i] =='1'\n",
    "                count += 1\n",
    "        \n",
    "end = time.time()\n",
    "\n",
    "print(count)\n",
    "\n",
    "running_time = end - start\n",
    "print('실행 시간 : ', running_time)"
   ]
  },
  {
   "cell_type": "raw",
   "id": "772b7948",
   "metadata": {},
   "source": [
    "10101011\n",
    "\n",
    "i=0\n",
    "00101011\n",
    "i=1\n",
    "0이아님\n",
    "i=2\n",
    "00001011\n",
    "i=3\n",
    "0이아님\n",
    "i=4\n",
    "00000011\n",
    "\n",
    "10101001\n",
    "01101010"
   ]
  }
 ],
 "metadata": {
  "kernelspec": {
   "display_name": "Python 3 (ipykernel)",
   "language": "python",
   "name": "python3"
  },
  "language_info": {
   "codemirror_mode": {
    "name": "ipython",
    "version": 3
   },
   "file_extension": ".py",
   "mimetype": "text/x-python",
   "name": "python",
   "nbconvert_exporter": "python",
   "pygments_lexer": "ipython3",
   "version": "3.11.4"
  }
 },
 "nbformat": 4,
 "nbformat_minor": 5
}
