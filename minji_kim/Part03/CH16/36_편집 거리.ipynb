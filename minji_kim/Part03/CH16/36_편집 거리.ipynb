{
 "cells": [
  {
   "cell_type": "markdown",
   "id": "79e5d396",
   "metadata": {},
   "source": [
    "두 개의 문자열 A와 B가 주어졌을 때, 문자열 A를 편집하여 문자열 B로 만들고자 한다. 문자열 A를 편집할 때는 다음의 세 연산 중에서 한 번에 하나씩 선택하여 이용할 수 있다.\n",
    "\n",
    "1. 삽입(insert) : 특정한 위치에 하나의 문자를 삽입한다.\n",
    "2. 삭제(remove) : 특정한 위치에 있는 하나의 문자를 삭제한다.\n",
    "3. 교체(replace) : 특정한 위치에 있는 하나의 문자를 다른 문자로 교체한다.\n",
    "\n",
    "이때 편집 거리란 문자열 A를 편집하여 문자열 B로 만들기 위해 사용한 연산의 수를 의미한다. 문자열 A와 문자열 B로 만드는 최소 편집 거리를 계산하는 프로그램을 작성하시오. 예를 들어 'sunday'와 'saturday'의 최소 편집 거리는 3이다."
   ]
  },
  {
   "cell_type": "markdown",
   "id": "c417b1e1",
   "metadata": {},
   "source": [
    "입력 조건 )\n",
    "- 두 문자열 A와 B가 한 줄에 하나씩 주어진다.\n",
    "- 각 문자열은 영문 알파벳으로만 구성되어 있으며, 각 문자열의 길이는 1보다 크거나 같고, 5000보다 작거나 같다.\n",
    "\n",
    "출력 조건 )\n",
    "- 최소 편집 거리를 출력한다."
   ]
  },
  {
   "cell_type": "code",
   "execution_count": 1,
   "id": "645c5e2a",
   "metadata": {},
   "outputs": [
    {
     "name": "stdout",
     "output_type": "stream",
     "text": [
      "cat\n",
      "cut\n"
     ]
    }
   ],
   "source": [
    "A = input()\n",
    "B = input()"
   ]
  },
  {
   "cell_type": "code",
   "execution_count": 4,
   "id": "ee868b3d",
   "metadata": {},
   "outputs": [],
   "source": [
    "data = []\n",
    "for i in range(len(A)) :\n",
    "    data.append(A[i])"
   ]
  },
  {
   "cell_type": "code",
   "execution_count": 5,
   "id": "c44afea8",
   "metadata": {},
   "outputs": [
    {
     "data": {
      "text/plain": [
       "['c', 'a', 't']"
      ]
     },
     "execution_count": 5,
     "metadata": {},
     "output_type": "execute_result"
    }
   ],
   "source": [
    "data"
   ]
  },
  {
   "cell_type": "code",
   "execution_count": 6,
   "id": "2304f1a6",
   "metadata": {},
   "outputs": [],
   "source": [
    "n = len(A)\n",
    "m = len(B)\n",
    "\n",
    "dp = [[0] * (m+1) for _ in range(n+1)]\n",
    "\n",
    "for i in range(1, n+1) :\n",
    "    dp[i][0] = i\n",
    "for j in range(1, m+1) :\n",
    "    dp[0][j] = j"
   ]
  },
  {
   "cell_type": "code",
   "execution_count": 7,
   "id": "2ea777be",
   "metadata": {},
   "outputs": [
    {
     "data": {
      "text/plain": [
       "[[0, 1, 2, 3], [1, 0, 0, 0], [2, 0, 0, 0], [3, 0, 0, 0]]"
      ]
     },
     "execution_count": 7,
     "metadata": {},
     "output_type": "execute_result"
    }
   ],
   "source": [
    "dp"
   ]
  },
  {
   "cell_type": "code",
   "execution_count": 8,
   "id": "65c63beb",
   "metadata": {},
   "outputs": [],
   "source": [
    "for i in range(1, n+1) :\n",
    "    for j in range(1, m+1) :\n",
    "        if A[i-1] == B[j-1] :\n",
    "            dp[i][j] = dp[i-1][j-1]\n",
    "            \n",
    "        else :\n",
    "            dp[i][j] = 1 + min(dp[i][j-1], dp[i-1][j], dp[i-1][j-1]) # 삽입(왼쪽), 삭제(위쪽), 교체(왼쪽 위)"
   ]
  },
  {
   "cell_type": "code",
   "execution_count": 10,
   "id": "ccdc0215",
   "metadata": {},
   "outputs": [
    {
     "data": {
      "text/plain": [
       "[[0, 1, 2, 3], [1, 0, 1, 2], [2, 1, 1, 2], [3, 2, 2, 1]]"
      ]
     },
     "execution_count": 10,
     "metadata": {},
     "output_type": "execute_result"
    }
   ],
   "source": [
    "dp"
   ]
  },
  {
   "cell_type": "code",
   "execution_count": 11,
   "id": "42812759",
   "metadata": {},
   "outputs": [
    {
     "name": "stdout",
     "output_type": "stream",
     "text": [
      "1\n"
     ]
    }
   ],
   "source": [
    "print(dp[n][m])"
   ]
  },
  {
   "cell_type": "code",
   "execution_count": null,
   "id": "c3a458f0",
   "metadata": {},
   "outputs": [],
   "source": []
  }
 ],
 "metadata": {
  "kernelspec": {
   "display_name": "Python 3 (ipykernel)",
   "language": "python",
   "name": "python3"
  },
  "language_info": {
   "codemirror_mode": {
    "name": "ipython",
    "version": 3
   },
   "file_extension": ".py",
   "mimetype": "text/x-python",
   "name": "python",
   "nbconvert_exporter": "python",
   "pygments_lexer": "ipython3",
   "version": "3.11.4"
  }
 },
 "nbformat": 4,
 "nbformat_minor": 5
}
