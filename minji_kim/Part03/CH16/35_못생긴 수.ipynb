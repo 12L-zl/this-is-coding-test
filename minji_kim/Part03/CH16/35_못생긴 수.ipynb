{
 "cells": [
  {
   "cell_type": "markdown",
   "id": "43b87723",
   "metadata": {},
   "source": [
    "못생긴 수란 오직 2, 3, 5만을 소인수로 가지는 수를 의미한다. 다시 말해 오직 2, 3, 5를 약수로 가지는 합성수를 의미한다. 1은 못생긴 수라고 가정한다.\n",
    "\n",
    "따라서 못생긴 수들은 {1, 2, 3, 4, 5, 6, 8, 9, 10, 12, 15, ...} 순으로 이어지게 된다. 이때, n번째 못생긴 수를 찾는 프로그램을 작성하시오. 예를 들어 11번째 못생긴 수는 15이다."
   ]
  },
  {
   "cell_type": "markdown",
   "id": "0f013ee8",
   "metadata": {},
   "source": [
    "입력 조건 )\n",
    "- 첫째 줄에 n이 입력된다. (1 <= n <= 1000)\n",
    "\n",
    "출력 조건 )\n",
    "- n번째 못생긴 수를 출력한다."
   ]
  },
  {
   "cell_type": "code",
   "execution_count": 7,
   "id": "a44503db",
   "metadata": {},
   "outputs": [
    {
     "name": "stdout",
     "output_type": "stream",
     "text": [
      "10\n"
     ]
    }
   ],
   "source": [
    "n = int(input())\n",
    "ugly = [1]\n",
    "cnt = 1\n",
    "\n",
    "idx2 = 0\n",
    "idx3 = 0\n",
    "idx5 = 0\n",
    "\n",
    "while cnt != n :\n",
    "    a = ugly[idx2] * 2\n",
    "    b = ugly[idx3] * 3\n",
    "    c = ugly[idx5] * 5\n",
    "    value = min(a, b, c)\n",
    "    \n",
    "    if value == a :\n",
    "        idx2 += 1\n",
    "    elif value == b :\n",
    "        idx3 += 1\n",
    "    else :\n",
    "        idx5 += 1\n",
    "        \n",
    "    if value not in set(ugly) :\n",
    "        ugly.append(value)\n",
    "        cnt += 1"
   ]
  },
  {
   "cell_type": "code",
   "execution_count": 8,
   "id": "74cdce5b",
   "metadata": {},
   "outputs": [
    {
     "data": {
      "text/plain": [
       "12"
      ]
     },
     "execution_count": 8,
     "metadata": {},
     "output_type": "execute_result"
    }
   ],
   "source": [
    "ugly[-1]"
   ]
  },
  {
   "cell_type": "code",
   "execution_count": 9,
   "id": "9e0a7df6",
   "metadata": {},
   "outputs": [
    {
     "data": {
      "text/plain": [
       "[1, 2, 3, 4, 5, 6, 8, 9, 10, 12]"
      ]
     },
     "execution_count": 9,
     "metadata": {},
     "output_type": "execute_result"
    }
   ],
   "source": [
    "ugly"
   ]
  },
  {
   "cell_type": "code",
   "execution_count": null,
   "id": "647147e2",
   "metadata": {},
   "outputs": [],
   "source": []
  }
 ],
 "metadata": {
  "kernelspec": {
   "display_name": "Python 3 (ipykernel)",
   "language": "python",
   "name": "python3"
  },
  "language_info": {
   "codemirror_mode": {
    "name": "ipython",
    "version": 3
   },
   "file_extension": ".py",
   "mimetype": "text/x-python",
   "name": "python",
   "nbconvert_exporter": "python",
   "pygments_lexer": "ipython3",
   "version": "3.11.4"
  }
 },
 "nbformat": 4,
 "nbformat_minor": 5
}
