{
 "cells": [
  {
   "cell_type": "markdown",
   "id": "43b87723",
   "metadata": {},
   "source": [
    "못생긴 수란 오직 2, 3, 5만을 소인수로 가지는 수를 의미한다. 다시 말해 오직 2, 3, 5를 약수로 가지는 합성수를 의미한다. 1은 못생긴 수라고 가정한다.\n",
    "\n",
    "따라서 못생긴 수들은 {1, 2, 3, 4, 5, 6, 8, 9, 10, 12, 15, ...} 순으로 이어지게 된다. 이때, n번째 못생긴 수를 찾는 프로그램을 작성하시오. 예를 들어 11번째 못생긴 수는 15이다."
   ]
  },
  {
   "cell_type": "markdown",
   "id": "0f013ee8",
   "metadata": {},
   "source": [
    "입력 조건 )\n",
    "- 첫째 줄에 n이 입력된다. (1 <= n <= 1000)\n",
    "\n",
    "출력 조건 )\n",
    "- n번째 못생긴 수를 출력한다."
   ]
  },
  {
   "cell_type": "code",
   "execution_count": null,
   "id": "a44503db",
   "metadata": {},
   "outputs": [],
   "source": [
    "n = int(input())\n",
    "def solution(n) :\n",
    "    "
   ]
  },
  {
   "cell_type": "code",
   "execution_count": null,
   "id": "9e0a7df6",
   "metadata": {},
   "outputs": [],
   "source": []
  }
 ],
 "metadata": {
  "kernelspec": {
   "display_name": "Python 3 (ipykernel)",
   "language": "python",
   "name": "python3"
  },
  "language_info": {
   "codemirror_mode": {
    "name": "ipython",
    "version": 3
   },
   "file_extension": ".py",
   "mimetype": "text/x-python",
   "name": "python",
   "nbconvert_exporter": "python",
   "pygments_lexer": "ipython3",
   "version": "3.11.4"
  }
 },
 "nbformat": 4,
 "nbformat_minor": 5
}
