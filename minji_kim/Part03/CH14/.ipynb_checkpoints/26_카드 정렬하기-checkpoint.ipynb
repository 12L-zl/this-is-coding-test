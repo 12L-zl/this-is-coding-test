{
 "cells": [
  {
   "cell_type": "markdown",
   "id": "13595772",
   "metadata": {},
   "source": [
    "https://www.acmicpc.net/problem/1715"
   ]
  },
  {
   "cell_type": "markdown",
   "id": "0b759913",
   "metadata": {},
   "source": [
    "정렬된 두 묶음의 숫자 카드가 있을 때 각 묶음의 카드의 수를 A, B라 하면 보통 두 묶음을 합쳐 하나로 만드는 데에는 A + B번의 비교를 해야 합니다. 이를테면, 20장의 숫자 카드 묶음과 30장의 숫자 카드 묶음을 합치려면 50번의 비교가 필요합니다.\n",
    "\n",
    "매우 많은 숫자 카드 묶음이 책상 위에 놓여 있습니다. 이들을 두 묶음씩 골라 서로 합쳐나간다면, 고르는 순서에 따라서 비교 횟수가 매우 달라집니다. 예를 들어 10장, 20장, 40장의 묶음이 있다면 10장과 20장을 합친 뒤, 합친 30장 묶음과 40장을 합친다면 (10+20) + (30+40) = 100번의 비교가 필요합니다. 그러나 10장과 40장을 합친 뒤, 합친 50장 묶음과 20장을 합친다면 (10+40) + (50+20) = 120번의 비교가 필요하므로 덜 효율적인 방법입니다.\n",
    "\n",
    "N개의 숫자 카드 묶음의 각각의 크기가 주어질 때, 최소한 몇 번의 비교가 필요핝를 구하는 프로그램을 작성하세요."
   ]
  },
  {
   "cell_type": "markdown",
   "id": "b36e713c",
   "metadata": {},
   "source": [
    "입력 조건 )\n",
    "- 첫째 줄에 N이 주어집니다. (1 <= N <= 100,000) 이어서 N개의 줄에 걸쳐 숫자 카드 묶음의 각각의 크기가 주어집니다.\n",
    "\n",
    "출력 조건 )\n",
    "- 첫째 줄에 최소 비교 횟수를 출력합니다.(21억 이하)"
   ]
  },
  {
   "cell_type": "code",
   "execution_count": 18,
   "id": "4aaff98d",
   "metadata": {},
   "outputs": [
    {
     "name": "stdout",
     "output_type": "stream",
     "text": [
      "3\n",
      "10\n",
      "20\n",
      "40\n",
      "100\n"
     ]
    }
   ],
   "source": [
    "n = int(input())\n",
    "data = []\n",
    "for _ in range(n) :\n",
    "    data.append(int(input()))\n",
    "    \n",
    "data.sort()   \n",
    "\n",
    "result = [0]\n",
    "for i in range(n) :\n",
    "    result.append(result[i]+data[i])\n",
    "    \n",
    "print(sum(result) - result[1])"
   ]
  },
  {
   "cell_type": "code",
   "execution_count": 19,
   "id": "b67bffc0",
   "metadata": {},
   "outputs": [
    {
     "data": {
      "text/plain": [
       "[0, 10, 30, 70]"
      ]
     },
     "execution_count": 19,
     "metadata": {},
     "output_type": "execute_result"
    }
   ],
   "source": [
    "result"
   ]
  },
  {
   "cell_type": "code",
   "execution_count": 26,
   "id": "0ababa0c",
   "metadata": {},
   "outputs": [
    {
     "name": "stdout",
     "output_type": "stream",
     "text": [
      "3\n",
      "10\n",
      "20\n",
      "40\n"
     ]
    }
   ],
   "source": [
    "n = int(input())\n",
    "data = []\n",
    "for _ in range(n) :\n",
    "    data.append(int(input()))\n",
    "    \n",
    "data.sort()   \n",
    "\n",
    "result = []\n",
    "for i in range(n-1) :\n",
    "    data[i+1] = data[i] + data[i+1]\n",
    "    result.append(data[i+1])\n",
    "    \n",
    "print(sum(result))"
   ]
  },
  {
   "cell_type": "code",
   "execution_count": 27,
   "id": "c6f727d7",
   "metadata": {},
   "outputs": [
    {
     "data": {
      "text/plain": [
       "[30, 70]"
      ]
     },
     "execution_count": 27,
     "metadata": {},
     "output_type": "execute_result"
    }
   ],
   "source": [
    "result"
   ]
  },
  {
   "cell_type": "code",
   "execution_count": 16,
   "id": "d99beabe",
   "metadata": {},
   "outputs": [
    {
     "data": {
      "text/plain": [
       "[0, 20, 50, 90, 150, 220]"
      ]
     },
     "execution_count": 16,
     "metadata": {},
     "output_type": "execute_result"
    }
   ],
   "source": [
    "result"
   ]
  },
  {
   "cell_type": "code",
   "execution_count": null,
   "id": "54ba584b",
   "metadata": {},
   "outputs": [],
   "source": []
  }
 ],
 "metadata": {
  "kernelspec": {
   "display_name": "Python 3 (ipykernel)",
   "language": "python",
   "name": "python3"
  },
  "language_info": {
   "codemirror_mode": {
    "name": "ipython",
    "version": 3
   },
   "file_extension": ".py",
   "mimetype": "text/x-python",
   "name": "python",
   "nbconvert_exporter": "python",
   "pygments_lexer": "ipython3",
   "version": "3.11.4"
  }
 },
 "nbformat": 4,
 "nbformat_minor": 5
}
