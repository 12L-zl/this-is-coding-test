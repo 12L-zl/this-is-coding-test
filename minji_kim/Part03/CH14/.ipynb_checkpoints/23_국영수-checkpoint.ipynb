{
 "cells": [
  {
   "cell_type": "markdown",
   "id": "ccbf85e2",
   "metadata": {},
   "source": [
    "https://www.acmicpc.net/problem/10825"
   ]
  },
  {
   "cell_type": "markdown",
   "id": "006cc82f",
   "metadata": {},
   "source": [
    "학생 N명의 이름과 국어, 영어, 수학 점수가 주어집니다. 이때, 다음과 같은 조건으로 학생의 성적을 정렬하는 프로그램을 작성하세요.\n",
    "1. 국어 점수가 감소하는 순서로\n",
    "2. 국어 점수가 같으면 영어 점수가 증가하는 순서로\n",
    "3. 국어 점수와 영어 점수가 같으면 수학 점수가 감소하는 순서로\n",
    "4. 모든 점수가 같으면 이름이 사전 순으로 증가하는 순서로 (단, 아스키코드에서 대문자는 소문자보다 작으므로 사전 순으로 앞에 옵니다.)"
   ]
  },
  {
   "cell_type": "markdown",
   "id": "fa5ff332",
   "metadata": {},
   "source": [
    "입력 조건 )\n",
    "- 첫째 줄에 학생 수 N (1 <= N <= 100,000)이 주어집니다.\n",
    "- 둘째 줄부터 한 줄에 하나씩 각 학생의 이름, 국어, 영어, 수학 점수가 공백으로 구분해 주어집니다.\n",
    "- 점수는 1보다 크거나 같고, 100보다 작거나 같은 자연수입니다.\n",
    "- 이름은 알파벳 대소문자로 이루어진 문자열이고, 길이는 10자리를 넘지 않습니다.\n",
    "\n",
    "출력 조건 )\n",
    "- 문제에 나와 있는 정렬 기준으로 정렬한 후, 첫째 줄부터 N개의 줄에 걸쳐 각 학생의 이름을 출력합니다."
   ]
  },
  {
   "cell_type": "code",
   "execution_count": 16,
   "id": "41ee7945",
   "metadata": {},
   "outputs": [
    {
     "data": {
      "text/plain": [
       "['1', '2', '3']"
      ]
     },
     "execution_count": 16,
     "metadata": {},
     "output_type": "execute_result"
    }
   ],
   "source": [
    "# str도 정렬 가능\n",
    "a = ['1','3','2']\n",
    "a.sort()\n",
    "a"
   ]
  },
  {
   "cell_type": "code",
   "execution_count": 35,
   "id": "1df57be9",
   "metadata": {},
   "outputs": [
    {
     "name": "stdout",
     "output_type": "stream",
     "text": [
      "12\n",
      "Junkyu 50 60 100\n",
      "Sangkeun 80 60 50\n",
      "Sunyoung 80 70 100\n",
      "Soong 50 60 90\n",
      "Haebin 50 60 100\n",
      "Kangsoo 60 80 100\n",
      "Donghyuk 80 60 100\n",
      "Sei 70 70 70\n",
      "Wonseob 70 70 90\n",
      "Sanghyun 70 70 80\n",
      "nsj 80 80 80\n",
      "Taewhan 50 60 90\n",
      "Donghyuk\n",
      "Sangkeun\n",
      "Sunyoung\n",
      "nsj\n",
      "Wonseob\n",
      "Sanghyun\n",
      "Sei\n",
      "Kangsoo\n",
      "Haebin\n",
      "Junkyu\n",
      "Soong\n",
      "Taewhan\n"
     ]
    }
   ],
   "source": [
    "n = int(input())\n",
    "data = []\n",
    "for _ in range(n) :\n",
    "    data.append(input().split())\n",
    "    \n",
    "data.sort(key = lambda x : (-int(x[1]), int(x[2]), -int(x[3]), x[0]))\n",
    "\n",
    "for i in data :\n",
    "    print(i[0])"
   ]
  },
  {
   "cell_type": "markdown",
   "id": "95638ddd",
   "metadata": {},
   "source": [
    "밑에 다시해보기"
   ]
  },
  {
   "cell_type": "code",
   "execution_count": 3,
   "id": "efbc7942",
   "metadata": {},
   "outputs": [
    {
     "name": "stdout",
     "output_type": "stream",
     "text": [
      "5\n",
      "a 10 20 30\n",
      "b 30 80 90\n",
      "c 30 50 60\n",
      "d 20 50 40\n",
      "e 50 60 40\n"
     ]
    }
   ],
   "source": [
    "n = int(input())\n",
    "data = []\n",
    "name = []\n",
    "kor = []\n",
    "eng = []\n",
    "math = []\n",
    "for i in range(n) :\n",
    "    data.append(input().split())\n",
    "    name.append(data[i][0])\n",
    "    kor.append(int(data[i][1]))\n",
    "    eng.append(int(data[i][2]))\n",
    "    math.append(int(data[i][3]))\n",
    "    \n",
    "name.sort(reverse=True)\n",
    "kor.sort(reverse=True)\n",
    "eng.sort(reverse=True)\n",
    "math.sort(reverse=True)"
   ]
  },
  {
   "cell_type": "code",
   "execution_count": 13,
   "id": "205fb6f8",
   "metadata": {},
   "outputs": [
    {
     "name": "stdout",
     "output_type": "stream",
     "text": [
      "e\n",
      "b\n",
      "c\n",
      "b\n",
      "c\n",
      "d\n",
      "a\n"
     ]
    }
   ],
   "source": [
    "for i in range(n) :\n",
    "    for j in range(len(kor)) :\n",
    "        if int(data[i][1]) == kor[j] :\n",
    "            if \n",
    "            print(data[j][0])"
   ]
  },
  {
   "cell_type": "code",
   "execution_count": 17,
   "id": "f50d1989",
   "metadata": {},
   "outputs": [
    {
     "data": {
      "text/plain": [
       "[50, 30, 30, 20, 10]"
      ]
     },
     "execution_count": 17,
     "metadata": {},
     "output_type": "execute_result"
    }
   ],
   "source": [
    "kor"
   ]
  },
  {
   "cell_type": "code",
   "execution_count": 2,
   "id": "cdcb216a",
   "metadata": {},
   "outputs": [
    {
     "data": {
      "text/plain": [
       "[['a', '30', '40', '50'], ['b', '20', '30', '40'], ['c', '40', '30', '20']]"
      ]
     },
     "execution_count": 2,
     "metadata": {},
     "output_type": "execute_result"
    }
   ],
   "source": [
    "data"
   ]
  },
  {
   "cell_type": "code",
   "execution_count": 7,
   "id": "5ef4dc39",
   "metadata": {},
   "outputs": [
    {
     "data": {
      "text/plain": [
       "['a', 'b']"
      ]
     },
     "execution_count": 7,
     "metadata": {},
     "output_type": "execute_result"
    }
   ],
   "source": [
    "name"
   ]
  }
 ],
 "metadata": {
  "kernelspec": {
   "display_name": "Python 3 (ipykernel)",
   "language": "python",
   "name": "python3"
  },
  "language_info": {
   "codemirror_mode": {
    "name": "ipython",
    "version": 3
   },
   "file_extension": ".py",
   "mimetype": "text/x-python",
   "name": "python",
   "nbconvert_exporter": "python",
   "pygments_lexer": "ipython3",
   "version": "3.11.4"
  }
 },
 "nbformat": 4,
 "nbformat_minor": 5
}
