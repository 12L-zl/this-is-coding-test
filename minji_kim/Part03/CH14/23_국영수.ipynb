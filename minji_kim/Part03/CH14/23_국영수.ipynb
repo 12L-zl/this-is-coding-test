{
 "cells": [
  {
   "cell_type": "markdown",
   "id": "6a30a3f9",
   "metadata": {},
   "source": [
    "https://www.acmicpc.net/problem/10825"
   ]
  },
  {
   "cell_type": "markdown",
   "id": "ce0745f4",
   "metadata": {},
   "source": [
    "학생 N명의 이름과 국어, 영어, 수학 점수가 주어집니다. 이때, 다음과 같은 조건으로 학생의 성적을 정렬하는 프로그램을 작성하세요.\n",
    "1. 국어 점수가 감소하는 순서로\n",
    "2. 국어 점수가 같으면 영어 점수가 증가하는 순서로\n",
    "3. 국어 점수와 영어 점수가 같으면 수학 점수가 감소하는 순서로\n",
    "4. 모든 점수가 같으면 이름이 사전 순으로 증가하는 순서로 (단, 아스키코드에서 대문자는 소문자보다 작으므로 사전 순으로 앞에 옵니다.)"
   ]
  },
  {
   "cell_type": "markdown",
   "id": "784e2726",
   "metadata": {},
   "source": [
    "입력 조건 )\n",
    "- 첫째 줄에 학생 수 N (1 <= N <= 100,000)이 주어집니다.\n",
    "- 둘째 줄부터 한 줄에 하나씩 각 학생의 이름, 국어, 영어, 수학 점수가 공백으로 구분해 주어집니다.\n",
    "- 점수는 1보다 크거나 같고, 100보다 작거나 같은 자연수입니다.\n",
    "- 이름은 알파벳 대소문자로 이루어진 문자열이고, 길이는 10자리를 넘지 않습니다.\n",
    "\n",
    "출력 조건 )\n",
    "- 문제에 나와 있는 정렬 기준으로 정렬한 후, 첫째 줄부터 N개의 줄에 걸쳐 각 학생의 이름을 출력합니다."
   ]
  },
  {
   "cell_type": "code",
   "execution_count": 6,
   "id": "6dd62975",
   "metadata": {},
   "outputs": [
    {
     "name": "stdout",
     "output_type": "stream",
     "text": [
      "2\n",
      "a 20 30 40\n",
      "b 30 30 40\n"
     ]
    }
   ],
   "source": [
    "n = int(input())\n",
    "data = []\n",
    "name = []\n",
    "kor = []\n",
    "eng = []\n",
    "math = []\n",
    "for i in range(n) :\n",
    "    data.append(input().split())\n",
    "    name.append(data[i][0])\n",
    "    kor.append(int(data[i][1]))\n",
    "    eng.append(int(data[i][2]))\n",
    "    math.append(int(data[i][3]))"
   ]
  },
  {
   "cell_type": "code",
   "execution_count": null,
   "id": "bb923f05",
   "metadata": {},
   "outputs": [],
   "source": [
    "for i in range(n) :\n",
    "    data"
   ]
  },
  {
   "cell_type": "code",
   "execution_count": null,
   "id": "3fea1ecd",
   "metadata": {},
   "outputs": [],
   "source": []
  },
  {
   "cell_type": "code",
   "execution_count": 2,
   "id": "51d2488a",
   "metadata": {},
   "outputs": [
    {
     "data": {
      "text/plain": [
       "[['a', '30', '40', '50'], ['b', '20', '30', '40'], ['c', '40', '30', '20']]"
      ]
     },
     "execution_count": 2,
     "metadata": {},
     "output_type": "execute_result"
    }
   ],
   "source": [
    "data"
   ]
  },
  {
   "cell_type": "code",
   "execution_count": 7,
   "id": "373700a2",
   "metadata": {},
   "outputs": [
    {
     "data": {
      "text/plain": [
       "['a', 'b']"
      ]
     },
     "execution_count": 7,
     "metadata": {},
     "output_type": "execute_result"
    }
   ],
   "source": [
    "name"
   ]
  }
 ],
 "metadata": {
  "kernelspec": {
   "display_name": "Python 3 (ipykernel)",
   "language": "python",
   "name": "python3"
  },
  "language_info": {
   "codemirror_mode": {
    "name": "ipython",
    "version": 3
   },
   "file_extension": ".py",
   "mimetype": "text/x-python",
   "name": "python",
   "nbconvert_exporter": "python",
   "pygments_lexer": "ipython3",
   "version": "3.11.4"
  }
 },
 "nbformat": 4,
 "nbformat_minor": 5
}
