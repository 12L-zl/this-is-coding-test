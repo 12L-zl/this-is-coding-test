{
 "cells": [
  {
   "cell_type": "markdown",
   "id": "7bd15be8",
   "metadata": {},
   "source": [
    "게임에는 뱀이 나와서 기어 다니는데, 사과를 먹으면 뱀 길이가 늘어납니다. 뱀이 이리저리 기어 다니다가 벽 또는 자기 자신의 몸과 부딪히면 게임이 끝납니다.\n",
    "\n",
    "게임은 N X N 정사각 보드 위에서 진행되고, 몇몇 칸에는 사과가 놓여져 있습니다. 보드의 상하좌우 끝에는 벽이 있습니다. 게임을 시작할 때 뱀은 맨 위 맨 좌측에 위치하고 뱀의 길이는 1입니다. 뱀은 처음에 **오른쪽**을 향합니다.\n",
    "\n",
    "뱀은 매 초마다 이동을 하는데 다음과 같은 규칙을 따릅니다.\n",
    "- 먼저 뱀은 몸길이를 늘려 머리를 다음 칸에 위치시킵니다.\n",
    "- 만약 이동한 칸에 사과가 있다면, 그 칸에 있던 사과가 없어지고 꼬리는 움직이지 않습니다.\n",
    "- 만약 이동한 칸에 사과가 없다면, 몸길이를 줄여서 꼬리가 위치한 칸을 비워줍니다. 즉, 몸길이는 변하지 않습니다.\n",
    "\n",
    "사과의 위치와 뱀의 이동 경로가 주어질 때 이 게임이 몇 초에 끝나는지 계산하세요."
   ]
  },
  {
   "cell_type": "markdown",
   "id": "9f812be6",
   "metadata": {},
   "source": [
    "입력 조건 )\n",
    "- 첫째 줄에 보드의 크기 N이 주어집니다. (2 <= N <= 100) 다음 줄에 사과의 개수 K가 주어집니다. (0 <= K <= 100)\n",
    "- 다음 K개의 줄에는 사과의 위치가 주어지는데, 첫 번째 정수는 행, 두 번째 정수는 열 위치를 의미합니다. 사과의 위치는 모두 다르며, 맨 위 맨 좌측 (1행 1열)에는 사과가 없습니다.\n",
    "- 다음 줄에는 뱀의 방향 변환 횟수 L이 주어집니다. (1 <= L <= 100)\n",
    "- 다음 L개의 줄에는 뱀의 방향 변환 정보가 주어지는데, 정수 X와 문자 C로 이루어져 있으며, 게임 시작 시간으로부터 X초가 끝난 뒤에 왼쪽 (C가'L') 또는 오른쪽 (C가 'D')으로 90도 방향을 회전시킨다는 뜻입니다. X는 10,000 이하의 정수이며, 방향 전환 정보는 X가 증가하는 순으로 주어집니다.\n",
    "\n",
    "출력 조건 )\n",
    "- 첫째 줄에 게임이 몇 초에 끝나는지 출력합니다."
   ]
  },
  {
   "cell_type": "code",
   "execution_count": null,
   "id": "64ea5be1",
   "metadata": {},
   "outputs": [],
   "source": [
    "n = int(input()) # 보드 크기\n",
    "k = int(input()) # 사과 개수\n",
    "for _ in range(k) :\n",
    "    loc = list(map(int, input().split())) # 사과 위치\n",
    "l = int(input()) # 뱀의 방향 변환 정보\n",
    "for _ in range(l) :\n",
    "    info = list(input().split()) # 시간 방향\n",
    "\n"
   ]
  },
  {
   "cell_type": "code",
   "execution_count": null,
   "id": "72f337ed",
   "metadata": {},
   "outputs": [],
   "source": []
  }
 ],
 "metadata": {
  "kernelspec": {
   "display_name": "Python 3 (ipykernel)",
   "language": "python",
   "name": "python3"
  },
  "language_info": {
   "codemirror_mode": {
    "name": "ipython",
    "version": 3
   },
   "file_extension": ".py",
   "mimetype": "text/x-python",
   "name": "python",
   "nbconvert_exporter": "python",
   "pygments_lexer": "ipython3",
   "version": "3.11.4"
  }
 },
 "nbformat": 4,
 "nbformat_minor": 5
}
