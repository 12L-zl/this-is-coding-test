{
 "cells": [
  {
   "cell_type": "markdown",
   "id": "4a6fefe8",
   "metadata": {},
   "source": [
    "알파벳 대문자와 숫자(0~9)로만 구성된 문자열이 입력으로 주어집니다. 이때 모든 알파벳을 오름차순으로 정렬하여 이어서 출력한 뒤에, 그 뒤에 모든 숫자를 더한 값을 이어서 출력합니다.\n",
    "\n",
    "예시 )\n",
    "K1KA5CB8 -> ABCKK13"
   ]
  },
  {
   "cell_type": "markdown",
   "id": "c06fc62f",
   "metadata": {},
   "source": [
    "입력 조건 )\n",
    "- 첫째 줄에 하나의 문자열 S가 주어집니다. (1 <= S의 길이 <= 10000)\n",
    "\n",
    "출력 조건 )\n",
    "- 첫째 줄에 문제에서 요구하는 정답을 출력합니다."
   ]
  },
  {
   "cell_type": "code",
   "execution_count": 16,
   "id": "60ce8baf",
   "metadata": {},
   "outputs": [
    {
     "name": "stdout",
     "output_type": "stream",
     "text": [
      "K1KA5CB8\n",
      "ABCKK14\n"
     ]
    }
   ],
   "source": [
    "data = input()\n",
    "\n",
    "str_ = []\n",
    "num_ = 0\n",
    "\n",
    "for i in data :\n",
    "    if i.isalpha() :\n",
    "        str_.append(i)\n",
    "    else :\n",
    "        num_ += int(i)\n",
    "        \n",
    "str_.sort()\n",
    "\n",
    "if num_ != 0 :\n",
    "    str_.append(str(num_))\n",
    "    \n",
    "print(''.join(str_))"
   ]
  },
  {
   "cell_type": "code",
   "execution_count": null,
   "id": "c8bb1e4e",
   "metadata": {},
   "outputs": [],
   "source": []
  }
 ],
 "metadata": {
  "kernelspec": {
   "display_name": "Python 3 (ipykernel)",
   "language": "python",
   "name": "python3"
  },
  "language_info": {
   "codemirror_mode": {
    "name": "ipython",
    "version": 3
   },
   "file_extension": ".py",
   "mimetype": "text/x-python",
   "name": "python",
   "nbconvert_exporter": "python",
   "pygments_lexer": "ipython3",
   "version": "3.11.4"
  }
 },
 "nbformat": 4,
 "nbformat_minor": 5
}
