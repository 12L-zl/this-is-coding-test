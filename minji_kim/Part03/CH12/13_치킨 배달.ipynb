{
 "cells": [
  {
   "cell_type": "markdown",
   "id": "1fe6884b",
   "metadata": {},
   "source": [
    "https://www.acmicpc.net/problem/15686"
   ]
  },
  {
   "cell_type": "markdown",
   "id": "44676389",
   "metadata": {},
   "source": [
    "크기가 N X N인 도시가 있다. 도시는 1 X 1 크기의 칸으로 나누어져 있다. 도시의 각 칸은 빈칸, 치킨집, 집 중 하나이다. 도시의 칸은 (r, c)와 같은 형태로 나타내고, r행 c열 또는 위에서부터 r번째 칸, 왼쪽에서부터 c번째 칸을 의미한다. r과 c는 1부터 시작한다."
   ]
  },
  {
   "cell_type": "markdown",
   "id": "4efa659b",
   "metadata": {},
   "source": []
  },
  {
   "cell_type": "markdown",
   "id": "e5e3ef52",
   "metadata": {},
   "source": []
  },
  {
   "cell_type": "code",
   "execution_count": null,
   "id": "56274a08",
   "metadata": {},
   "outputs": [],
   "source": []
  }
 ],
 "metadata": {
  "kernelspec": {
   "display_name": "Python 3 (ipykernel)",
   "language": "python",
   "name": "python3"
  },
  "language_info": {
   "codemirror_mode": {
    "name": "ipython",
    "version": 3
   },
   "file_extension": ".py",
   "mimetype": "text/x-python",
   "name": "python",
   "nbconvert_exporter": "python",
   "pygments_lexer": "ipython3",
   "version": "3.11.4"
  }
 },
 "nbformat": 4,
 "nbformat_minor": 5
}
