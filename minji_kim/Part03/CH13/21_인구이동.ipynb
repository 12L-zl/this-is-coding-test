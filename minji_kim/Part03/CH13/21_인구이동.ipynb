{
 "cells": [
  {
   "cell_type": "markdown",
   "id": "1dd203e6",
   "metadata": {},
   "source": [
    "https://www.acmicpc.net/problem/16234"
   ]
  },
  {
   "cell_type": "markdown",
   "id": "459a8d5d",
   "metadata": {},
   "source": [
    "N X N 크기의 땅이 있고, 땅은 1 X 1 개의 칸으로 나누어져 있다. 각각의 땅에는 나라가 하나씩 존재하며, r행 c열에 있는 나라에는 A[r][c]명이 살고 있다. 인접한 나라 사이에는 국경선이 존재한다. 모든 나라는 1 X 1 크기이기 때문에, 모든 국경선은 정사각형 형태이다."
   ]
  },
  {
   "cell_type": "markdown",
   "id": "818d257d",
   "metadata": {},
   "source": [
    "인구 이동은 다음과 같이 진행되고, 더 이상 아래 방법에 의해 인구 이동이 없을 때까지 지속된다.\n",
    "- 국경선을 공유하는 두 나라의 인구 차이가 L명 이상, R명 이하라면, 두 나라가 공유하는 국경선을 오늘 하루 동안 연다.\n",
    "- 위의 조건에 의해 열어야 하는 국경선이 모두 열렸다면, 인구 이동을 시작한다,\n",
    "- 국경선이 열려 있어 인접한 칸만을 이용해 이동할 수 있다면, 그 나라를 오늘 하루 동안은 연합이라고 한다.\n",
    "- 연합을 이루고 있는 각 칸의 인구수는 (연합의 인구수)/(연합을 이루고 있는 칸의 개수)가 된다. 편의상 소수점은 버린다.\n",
    "- 연합을 해체하고, 모든 국경선을 닫는다.\n",
    "\n",
    "각 나라의 인구수가 주어졌을 때, 인구 이동이 몇 번 발생하는지 구하는 프로그램을 작성하시오."
   ]
  },
  {
   "cell_type": "markdown",
   "id": "92fd8e57",
   "metadata": {},
   "source": [
    "입력 조건 )\n",
    "- 첫째 줄에 N, L, R이 주어진다. (1 <= N <= 50, 1 <= L <= R <= 100)\n",
    "- 둘째 줄부터 N개의 줄에 각 나라의 인구수가 주어진다. r행 c열에 주어지는 정수는 A[r][c]의 값이다. (0 <= A[r][c] <= 100)\n",
    "- 인구 이동이 발생하는 횟수가 2000번보다 작거나 같은 입력만 주어진다.\n",
    "\n",
    "출력 조건 )\n",
    "- 인구 이동이 몇 번 발생하는지 첫째 줄에 출력한다."
   ]
  },
  {
   "cell_type": "code",
   "execution_count": 27,
   "id": "728c32c8",
   "metadata": {},
   "outputs": [
    {
     "name": "stdout",
     "output_type": "stream",
     "text": [
      "3 5 10\n",
      "10 15 20\n",
      "20 30 25\n",
      "40 22 10\n"
     ]
    }
   ],
   "source": [
    "n, l, r = map(int,input().split())\n",
    "data = []\n",
    "for _ in range(n) :\n",
    "    data.append(list(map(int, input().split())))"
   ]
  },
  {
   "cell_type": "code",
   "execution_count": 28,
   "id": "2e6c4530",
   "metadata": {},
   "outputs": [],
   "source": [
    "from collections import deque\n",
    "\n",
    "dx = [-1, 1, 0, 0]\n",
    "dy = [0, 0, -1, 1]\n",
    "\n",
    "\n",
    "# 특정 위치에서 출발하여 모든 연합 체크한 뒤에 데이터 갱신\n",
    "def process(x, y, idx) :\n",
    "    \n",
    "    # (x, y) 위치와 연결된 연합 정보 담는 리스트\n",
    "    united = []\n",
    "    united.append((x, y))\n",
    "    \n",
    "    q = deque()\n",
    "    q.append((x, y))\n",
    "    union[x][y] = idx  # 현재 연합 번호 할당\n",
    "    summary = data[x][y] # 현재 연합의 전체 인구수\n",
    "    count = 1  # 현재 연합의 국가 수\n",
    "    \n",
    "    while q :\n",
    "        x, y = q.popleft()\n",
    "        \n",
    "        # 옆 나라 (nx, ny)\n",
    "        for i in range(4) :\n",
    "            nx = x + dx[i]\n",
    "            ny = y + dy[i]\n",
    "            \n",
    "            # 바로 옆에 있는 나라 확인\n",
    "            if 0 <= nx < n and 0 <= ny < n and union[nx][ny] == -1 :\n",
    "                # 옆에 있는 나라와 인구 차이\n",
    "                if l <= abs(data[nx][ny] - data[x][y]) <= r :\n",
    "                    q.append((nx, ny))\n",
    "                    # 연합에 추가\n",
    "                    union[nx][ny] = idx\n",
    "                    summary += data[nx][ny]\n",
    "                    count += 1\n",
    "                    united.append((nx, ny))\n",
    "                    \n",
    "    \n",
    "    # 연합 국가끼리 인구 분배\n",
    "    for i, j in united :\n",
    "        data[i][j] = summary // count\n",
    "        \n",
    "    return count"
   ]
  },
  {
   "cell_type": "code",
   "execution_count": 29,
   "id": "792a02c1",
   "metadata": {},
   "outputs": [],
   "source": [
    "date = 0 # 날짜\n",
    "\n",
    "# 더 이상 인구 이동을 할 수 없을 때까지 반복\n",
    "while True :\n",
    "    # 연합 정보 저장\n",
    "    union = [[-1] * n for _ in range(n)]\n",
    "    idx = 0\n",
    "    for i in range(n) :\n",
    "        for j in range(n) :\n",
    "            if union[i][j] == -1 : # 아무런 연합 없을 경우\n",
    "                process(i, j, idx) # 새로운 연합 탐색 후 연합\n",
    "                idx += 1\n",
    "    \n",
    "    # 모든 인구 이동 끝난 경우\n",
    "    if idx == n * n :\n",
    "        break\n",
    "    # 지난 날짜 추가\n",
    "    date += 1"
   ]
  },
  {
   "cell_type": "code",
   "execution_count": 30,
   "id": "943431c2",
   "metadata": {},
   "outputs": [
    {
     "name": "stdout",
     "output_type": "stream",
     "text": [
      "2\n"
     ]
    }
   ],
   "source": [
    "print(date)"
   ]
  },
  {
   "cell_type": "code",
   "execution_count": 23,
   "id": "b65d8c2a",
   "metadata": {},
   "outputs": [
    {
     "data": {
      "text/plain": [
       "[[0, 1], [2, 3]]"
      ]
     },
     "execution_count": 23,
     "metadata": {},
     "output_type": "execute_result"
    }
   ],
   "source": [
    "union"
   ]
  },
  {
   "cell_type": "code",
   "execution_count": 24,
   "id": "de250ee0",
   "metadata": {},
   "outputs": [
    {
     "data": {
      "text/plain": [
       "[[36, 36], [36, 40]]"
      ]
     },
     "execution_count": 24,
     "metadata": {},
     "output_type": "execute_result"
    }
   ],
   "source": [
    "data"
   ]
  },
  {
   "cell_type": "code",
   "execution_count": null,
   "id": "51952f58",
   "metadata": {},
   "outputs": [],
   "source": []
  }
 ],
 "metadata": {
  "kernelspec": {
   "display_name": "Python 3 (ipykernel)",
   "language": "python",
   "name": "python3"
  },
  "language_info": {
   "codemirror_mode": {
    "name": "ipython",
    "version": 3
   },
   "file_extension": ".py",
   "mimetype": "text/x-python",
   "name": "python",
   "nbconvert_exporter": "python",
   "pygments_lexer": "ipython3",
   "version": "3.11.4"
  }
 },
 "nbformat": 4,
 "nbformat_minor": 5
}
