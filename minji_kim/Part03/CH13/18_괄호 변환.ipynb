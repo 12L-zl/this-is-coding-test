{
 "cells": [
  {
   "cell_type": "markdown",
   "id": "259c6d3b",
   "metadata": {},
   "source": [
    "https://school.programmers.co.kr/learn/courses/30/lessons/60058"
   ]
  },
  {
   "cell_type": "markdown",
   "id": "70169420",
   "metadata": {},
   "source": [
    "'('와 ')'로만 이루어진 문자열이 있을 경우, '('의 개수와 ')'의 개수가 같다면 이를 균형잡힌 괄호 문자열이라고 부른다. 그리고 괄호의 짝도 모두 맞을 경우에는 이를 올바른 괄호 문자열이라고 부른다.\n",
    "\n",
    "예를 들어, \"(()))(\"와 같은 문자열은 '균형잡힌 괄호 문자열'이지만 올바른 괄호 문자열은 아니다. 반면에 '(())()'와 같은 문자열은 '균형잡힌 괄호 문자열'이면서 동시에 올바른 괄호 문자열이다."
   ]
  },
  {
   "cell_type": "markdown",
   "id": "53c6f8f5",
   "metadata": {},
   "source": [
    "'('와 ')'로만 이루어진 문자열 w가 '균형잡힌 괄호 문자열'이라면 다음과 같은 과정을 통해 '올바른 괄호 문자열'로 변환할 수 있다.\n",
    "1. 입력이 빈 문자열인 경우, 빈 문자열을 반환한다.\n",
    "2. 문자열 w를 두 '균형잡힌 괄호 문자열' u, v로 분리한다. 단, u는 '균형잡힌 괄호 문자열'로 더 이상 분리할 수 없어야 하며, v는 빈 문자열이 될 수 있다.\n",
    "3. 수행한 결과 문자열을 u에 이어 붙인 후 반환한다.  \n",
    "    3-1. 문자열 u가 '올바른 괄호 문자열'이라면 문자열 v에 대해 1단계부터 다시 수행한다.  \n",
    "4. 문자열 u가 '올바른 괄호 문자열'이 아니라면 아래 과정을 수행한다.  \n",
    "    4-1. 빈 문자열에 첫 번째 문자로 '('를 붙인다.  \n",
    "    4-2. 문자열 v에 대해 1단계부터 재귀적으로 수행한 결과 문자열을 이어 붙인다.  \n",
    "    4-3. ')'를 다시 붙인다.  \n",
    "    4-4. u의 첫 번째와 마지막 문자를 제거하고, 나머지 문자열의 괄호 방향을 뒤집어서 뒤에 붙인다.   \n",
    "    4-5. 생성된 문자열을 반환한다."
   ]
  },
  {
   "cell_type": "markdown",
   "id": "eec48287",
   "metadata": {},
   "source": [
    "균형잡힌 괄호 문자열 p가 매개변수로 주어질 때, 주어진 알고리즘을 수행해 올바른 괄호 문자열로 변환한 결과를 return 하도록 solution 함수를 완성하시오."
   ]
  },
  {
   "cell_type": "markdown",
   "id": "fe25fe2f",
   "metadata": {},
   "source": [
    "매개변수 설명\n",
    "- p는 '('와 ')'로만 이루어진 문자열이며 길이는 2 이상 1000 이하인 짝수이다.\n",
    "- 문자열 p를 이루는 '('와 ')'의 개수는 항상 같다.\n",
    "- 만약 p가 이미 올바른 괄호 문자열이라면 그대로 return 하면 된다."
   ]
  },
  {
   "cell_type": "markdown",
   "id": "94163d13",
   "metadata": {},
   "source": [
    "입력 예시 1   '(()())()'  \n",
    "출력 예시 1   '(()())()'  \n",
    "이미 올바른 괄호 문자열이다\n",
    "\n",
    "<br/>\n",
    "\n",
    "입력 예시 2   ')('  \n",
    "출력 예시 2   '()'  \n",
    "두 문자열 u, v로 분리한다.  \n",
    "u = ')('  \n",
    "v = \"\"  \n",
    "u가 올바른 괄호 문자열이 아니므로 다음과 같이 새로운 문자열을 만든다.\n",
    "- v에 대해 1단계부터 재귀적으로 수행하면 빈 문자열이 반환된다.\n",
    "- u의 앞뒤 문자를 제거하고, 나머지 문자의 괄호 방향을 뒤집으면 \"\"이 된다.\n",
    "- 따라서 생성되는 문자열은 \" (\" + \" \" + \" )\" + \"\"이며, 최종적으로 \"()\"로 변환된다.\n",
    "\n",
    "<br/>\n",
    "\n",
    "입력 예시 3   '()))((()'  \n",
    "출력 예시 3   '()(())()'  \n",
    "두 문자열 u, v로 분리한다.  \n",
    "u = '()'  \n",
    "v = '))((()'  \n",
    "문자열 u가 올바른 괄호 문자열이므로 그대로 두고, v에 대해 재귀적으로 수행한다.  \n",
    "다시 두 문자열 u, v로 분리한다.  \n",
    "u = '))(('  \n",
    "v = '()'  \n",
    "u가 올바른 괄호 문자열이 아니므로 다음과 같이 새로운 문자열을 만든다.\n",
    "- v에 대해 1단계부터 재귀적으로 수행하면 '()'이 반환된다.\n",
    "- u의 앞뒤 문자를 제거하고, 나머지 문자의 괄호 방향을 뒤집으면 ' ()'이 된다.\n",
    "- 따라서 생성되는 문자열은 '(' + '()' + ')' + '()'이며, 최종적으로 '(())()'를 반환한다.\n",
    "- 처음에 그대로 둔 문자열에 반환된 문자열을 이어 붙이면 '()' + '(())()' = '()(())()'가 된다."
   ]
  },
  {
   "cell_type": "code",
   "execution_count": 20,
   "id": "16159157",
   "metadata": {},
   "outputs": [],
   "source": [
    "# 균형잡힌 괄호 문자열 인덱스 반환\n",
    "def balanced_index(p) :\n",
    "    count = 0  # 왼쪽 괄호 개수\n",
    "    for i in range(len(p)) :\n",
    "        if p[i] == '(' :\n",
    "            count += 1\n",
    "        else :  # ) 일 때\n",
    "            count -= 1\n",
    "             \n",
    "        if count == 0 :  # (개수와 ) 개수가 같을 때\n",
    "            return i    # 문자열의 인덱스 반환\n",
    "        \n",
    "        \n",
    "# 올바른 괄호 문자열인지 판단\n",
    "def check_proper(p) :\n",
    "    count = 0  # 왼쪽 괄호의 개수\n",
    "    for i in p :\n",
    "        if i == '(' :\n",
    "            count += 1\n",
    "        else :\n",
    "            # 왼쪽 괄호가 없는 상태에서 오른쪽 괄호가 등장한 경우\n",
    "            if count == 0 :  # 쌍이 맞지 않는 경우에 False 반환\n",
    "                return False\n",
    "            count -= 1\n",
    "    return True  # 쌍이 맞는 경우에 True 반환"
   ]
  },
  {
   "cell_type": "code",
   "execution_count": 21,
   "id": "489453aa",
   "metadata": {},
   "outputs": [],
   "source": [
    "def solution(p) :\n",
    "    # 입력이 빈 문자열인 경우, 빈 문자열 반환\n",
    "    if p == '' :\n",
    "        return ''\n",
    "    \n",
    "    # 문자열을 두 균형잡힌 괄호 문자열 u, v로 분리\n",
    "    balance_idx = balanced_index(p)\n",
    "    \n",
    "    u = p[: balance_idx+1]\n",
    "    v = p[balance_idx+1 :]\n",
    "    \n",
    "    # u가 올바른 괄호 문자열인지 판단\n",
    "    if check_proper(u) == True :\n",
    "        return u + solution(v)\n",
    "    else :\n",
    "        # u의 첫 번째와 마지막 문자를 제거하고, 나머지 문자열의 괄호 방향을 뒤집기\n",
    "        temp = ''\n",
    "        for element in u[1:-1] :\n",
    "            if element == '(' :\n",
    "                temp += ')'\n",
    "            else :\n",
    "                temp += '('\n",
    "        \n",
    "        return '(' + solution(v) + ')' + temp"
   ]
  },
  {
   "cell_type": "code",
   "execution_count": 22,
   "id": "a94a5ea0",
   "metadata": {},
   "outputs": [
    {
     "data": {
      "text/plain": [
       "1"
      ]
     },
     "execution_count": 22,
     "metadata": {},
     "output_type": "execute_result"
    }
   ],
   "source": [
    "balanced_index('()(())')"
   ]
  },
  {
   "cell_type": "code",
   "execution_count": 23,
   "id": "0bf03e11",
   "metadata": {},
   "outputs": [
    {
     "data": {
      "text/plain": [
       "'()'"
      ]
     },
     "execution_count": 23,
     "metadata": {},
     "output_type": "execute_result"
    }
   ],
   "source": [
    "solution(')(')"
   ]
  },
  {
   "cell_type": "code",
   "execution_count": 25,
   "id": "27e62cd3",
   "metadata": {},
   "outputs": [
    {
     "data": {
      "text/plain": [
       "'()(())()'"
      ]
     },
     "execution_count": 25,
     "metadata": {},
     "output_type": "execute_result"
    }
   ],
   "source": [
    "solution('()))((()')"
   ]
  },
  {
   "cell_type": "code",
   "execution_count": null,
   "id": "b546e61d",
   "metadata": {},
   "outputs": [],
   "source": []
  }
 ],
 "metadata": {
  "kernelspec": {
   "display_name": "Python 3 (ipykernel)",
   "language": "python",
   "name": "python3"
  },
  "language_info": {
   "codemirror_mode": {
    "name": "ipython",
    "version": 3
   },
   "file_extension": ".py",
   "mimetype": "text/x-python",
   "name": "python",
   "nbconvert_exporter": "python",
   "pygments_lexer": "ipython3",
   "version": "3.11.4"
  }
 },
 "nbformat": 4,
 "nbformat_minor": 5
}
