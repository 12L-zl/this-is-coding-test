{
 "cells": [
  {
   "cell_type": "markdown",
   "id": "a993c524",
   "metadata": {},
   "source": [
    "https://www.acmicpc.net/problem/18352"
   ]
  },
  {
   "cell_type": "markdown",
   "id": "a26c8a3f",
   "metadata": {},
   "source": [
    "어떤 나라에는 1 ~ N 번까지의 도시와 M개의 단방향 도로가 존재한다. 모든 도로의 거리는 1이다. 이때 특정한 도시 X로부터 출발하여 도달할 수 있는 모든 도시 중에서, 최단 거리가 정확히 K인 모든 도시의 번호를 출력하는 프로그램을 작성하시오. 또한 출발 도시 X에서 출발 도시 X로 가는 최단 거리는 항상 0이라고 가정한다."
   ]
  },
  {
   "attachments": {
    "image.png": {
     "image/png": "[encoded data removed]"
    }
   },
   "cell_type": "markdown",
   "id": "94410f87",
   "metadata": {},
   "source": [
    "EX) N = 4, K = 2, X = 1\n",
    "![image.png](attachment:image.png)\n",
    "\n",
    "1번 도시에서 출발하여 도달할 수 있는 도시 중, 최단 거리가 2인 도시는 4번 뿐이다. 2번과 3번 도시의 경우, 최단 거리가 1이기 때문에 출력하지 않는다."
   ]
  },
  {
   "cell_type": "markdown",
   "id": "ab8e5d74",
   "metadata": {},
   "source": [
    "입력 조건 )\n",
    "- 첫째 줄에 도시의 개수 N, 도로의 개수 M, 거리 정보 K, 출발 도시의 번호 X가 주어진다. (2 <= N <= 300,000, 1 <= M <= 1,000,000, 1 <= K <= 300,000, 1 <= X <= N)\n",
    "- 둘째 줄부터 M개의 줄에 걸쳐 두 개의 자연수 A, B가 주어지며, 각 자연수는 공백으로 구분한다. 이는 A번 도시에서 B번 도시로 이동하는 단방향 도로이다. (1 <= A, B <= N) 단, A, B는 서로 다른 자연수이다.\n",
    "\n",
    "출력 조건 )\n",
    "- X로부터 출발하여 도달할 수 있는 도시 중, 최단 거리가 K인 모든 도시의 번호를 한 줄에 하나씩 오름차순으로 출력한다.\n",
    "- 이때 도달할 수 있는 도시 중에서, 최단 거리가 K인 도시가 하나도 존재하지 않으면 -1을 출력한다."
   ]
  },
  {
   "cell_type": "code",
   "execution_count": 6,
   "id": "aa4b514a",
   "metadata": {},
   "outputs": [
    {
     "name": "stdout",
     "output_type": "stream",
     "text": [
      "4 4 2 1\n",
      "1 2\n",
      "1 3\n",
      "2 3\n",
      "2 4\n"
     ]
    }
   ],
   "source": [
    "n, m, k, x = map(int, input().split())\n",
    "data = [[] for _ in range(n+1)]\n",
    "for _ in range(m) :\n",
    "    a, b = map(int, input().split())\n",
    "    data[a].append(b)"
   ]
  },
  {
   "cell_type": "code",
   "execution_count": 7,
   "id": "27e9957e",
   "metadata": {},
   "outputs": [
    {
     "data": {
      "text/plain": [
       "[[], [2, 3], [3, 4], [], []]"
      ]
     },
     "execution_count": 7,
     "metadata": {},
     "output_type": "execute_result"
    }
   ],
   "source": [
    "data"
   ]
  },
  {
   "cell_type": "code",
   "execution_count": 10,
   "id": "681caf4e",
   "metadata": {},
   "outputs": [],
   "source": [
    "from collections import deque\n",
    "\n",
    "# 거리 저장\n",
    "graph = [-1] * (n+1)\n",
    "graph[x] = 0 # 출발 도시까지의 거리는 0으로 설정\n",
    "\n",
    "\n",
    "def dfs(x) :\n",
    "    q = deque()\n",
    "    q.append(x) # q = 1\n",
    "    \n",
    "    while q :\n",
    "        now = q.popleft() # 1\n",
    "        \n",
    "        for i in data[now] : # i -> 2, 3\n",
    "            \n",
    "            if graph[i] == -1 :  # 아직 방문하지 않은 도시라면\n",
    "                # 최단거리 업데이트\n",
    "                # 방문한 도시는 무조건 최단 거리이므로, 방문하지 않은 도시에 대해서만 업데이트\n",
    "                graph[i] = graph[now] + 1 \n",
    "                # graph[2] = graph[1] + 1 = 0\n",
    "                # graph[3] = graph[1] + 1 = 1\n",
    "                \n",
    "                \n",
    "                # 큐에 이웃 도시 추가\n",
    "                q.append(i)\n",
    "                    \n",
    "    \n",
    "    # 최단 거리 리스트에서 거리가 k인 도시를 오름차순 출력\n",
    "    # 숫자가 작은 도시부터 탐색하므로, 추가적인 정렬은 필요 없음\n",
    "    find = False\n",
    "    for i in range(1, len(graph)) :\n",
    "        if graph[i] == k :\n",
    "            print(i)\n",
    "            find = True\n",
    "            \n",
    "    # 최단 거리 없다면 -1 출력\n",
    "    if find == False :\n",
    "        print (-1)"
   ]
  },
  {
   "cell_type": "code",
   "execution_count": 11,
   "id": "2c7b071c",
   "metadata": {},
   "outputs": [
    {
     "name": "stdout",
     "output_type": "stream",
     "text": [
      "4\n"
     ]
    }
   ],
   "source": [
    "dfs(x)"
   ]
  },
  {
   "cell_type": "code",
   "execution_count": 12,
   "id": "c36c6495",
   "metadata": {},
   "outputs": [
    {
     "data": {
      "text/plain": [
       "[-1, 0, 1, 1, 2]"
      ]
     },
     "execution_count": 12,
     "metadata": {},
     "output_type": "execute_result"
    }
   ],
   "source": [
    "graph"
   ]
  },
  {
   "cell_type": "code",
   "execution_count": null,
   "id": "fcd6fcff",
   "metadata": {},
   "outputs": [],
   "source": []
  }
 ],
 "metadata": {
  "kernelspec": {
   "display_name": "Python 3 (ipykernel)",
   "language": "python",
   "name": "python3"
  },
  "language_info": {
   "codemirror_mode": {
    "name": "ipython",
    "version": 3
   },
   "file_extension": ".py",
   "mimetype": "text/x-python",
   "name": "python",
   "nbconvert_exporter": "python",
   "pygments_lexer": "ipython3",
   "version": "3.11.4"
  }
 },
 "nbformat": 4,
 "nbformat_minor": 5
}
