{
 "cells": [
  {
   "cell_type": "markdown",
   "id": "1f7c3181",
   "metadata": {},
   "source": [
    "https://www.acmicpc.net/problem/3665"
   ]
  },
  {
   "cell_type": "markdown",
   "id": "135cfdf2",
   "metadata": {},
   "source": [
    "팀은 1번부터 n번까지 번호가 매겨져 있다. 올해 인터넷 예선 본부에서는 최종 순위를 발표하지 않기로 했다. 그 대신에 작년에 비해 상대적으로 순위가 바뀐 팀의 목록만 발표하려고 한다. 예를 들어, 작년에 팀 13이 팀 6보다 순위가 높았는데, 올해 팀 6이 팀 13보다 순위가 높다면, (6,13)을 발표할 것이다.\n",
    "\n",
    "이 정보만을 가지고 올해 최종 순위를 만들어보려고 하는데, 작년 순위와 상대적인 순위가 바뀐 모든 팀의 목록이 주어졌을 때, 올해 순위를 만드는 프로그램을 작성하시오. 하지만, 본부에서 발표한 정보를 가지고 확실한 올해 순위를 만들 수 없는 경우가 있을 수도 있고, 일관성이 없는 잘못된 정보일 수도 있다. 이 두 경우도 모두 찾아내야 한다."
   ]
  },
  {
   "cell_type": "markdown",
   "id": "7c43920d",
   "metadata": {},
   "source": [
    "입력 조건 )\n",
    "- 첫째 줄에는 테스트 케이스의 개수가 주어진다. 테스트 케이스는 100개를 넘지 않는다. 각 테스트 케이스는 다음과 같다.\n",
    "    * 팀의 수 n을 포함하는 한 줄 (2 <= n <= 500)\n",
    "    * n개의 정수 t_i를 포함하고 있는 한 줄. (1 <= t_i <= n) t_i는 작년에 i등을 한 팀의 번호이다. 1등이 가장 성적이 높은 팀이다. 모든 t_i는 서로 다르다.\n",
    "    * 상대적인 등수가 바뀐 쌍의 수 m (0 <= m <= 25000)\n",
    "    * 두 정수 a_i와 b_i를 포함하고 있는 m 줄. (1 <= a_i < b_i <= n) 상대적인 등수가 바뀐 두 팀이 주어진다. 같은 쌍이 여러 번 발표되는 경우는 없다.\n",
    "\n",
    "출력 조건 )\n",
    "- 각 테스트 케이스에 대해 다음을 출력한다.\n",
    "    * n개의 정수를 한 줄에 출력한다. 출력하는 숫자는 올해 순위이며, 1등팀부터 순서대로 출력한다. 만약, 확실한 순위를 찾을 수 없다면 '?'를 출력한다. 데이터에 일관성이 없어 순위를 정할 수 없는 경우에는 'IMPOSSIBLE'을 출력한다."
   ]
  },
  {
   "cell_type": "code",
   "execution_count": 8,
   "id": "a2281d1f",
   "metadata": {},
   "outputs": [
    {
     "name": "stdout",
     "output_type": "stream",
     "text": [
      "3\n",
      "5\n",
      "5 4 3 2 1\n",
      "2 \n",
      "2 4\n",
      "3 4\n",
      "5 3 2 4 1 \n",
      "3\n",
      "2 3 1\n",
      "0\n",
      "2 3 1 \n",
      "4\n",
      "1 2 3 4\n",
      "3\n",
      "1 2\n",
      "3 4\n",
      "2 3\n",
      "IMPOSSIBLE\n"
     ]
    }
   ],
   "source": [
    "from collections import deque\n",
    "\n",
    "t = int(input())\n",
    "for _ in range(t) :\n",
    "    n = int(input()) # 팀의 수\n",
    "    rank = list(map(int, input().split())) # 작년 등수 (인덱스+1는 팀 번호)\n",
    "    m = int(input()) # 작년과 다른 등수를 가진 팀의 수\n",
    "    \n",
    "    indegree = [0] * (n+1) # 진입차수 초기화\n",
    "    graph = [[False] * (n+1) for _ in range(n+1)] # 연결된 간선 정보\n",
    "    for i in range(n) :\n",
    "        for j in range(i + 1, n) :\n",
    "            graph[rank[i]][rank[j]] = True\n",
    "            indegree[rank[j]] += 1\n",
    "    \n",
    "    for _ in range(m) :\n",
    "        a, b = map(int, input().split())\n",
    "        # 간선 방향 뒤집기\n",
    "        if graph[a][b] :\n",
    "            graph[a][b] = False\n",
    "            graph[b][a] = True\n",
    "            indegree[a] += 1\n",
    "            indegree[b] -= 1\n",
    "        else :\n",
    "            graph[a][b] = True\n",
    "            graph[b][a] = False\n",
    "            indegree[a] -= 1\n",
    "            indegree[b] += 1\n",
    "    \n",
    "    result = []\n",
    "    q = deque()\n",
    "    for i in range(1, n+1) :\n",
    "        if indegree[i] == 0 :\n",
    "            q.append(i)\n",
    "    \n",
    "    certain = True # 위상 정렬 결과가 오직 하나인지\n",
    "    cycle = False # 그래프 내 사이클이 존재하는지\n",
    "    \n",
    "    # 정확히 노드의 개수만큼 반복\n",
    "    for i in range(n) :\n",
    "        # 큐가 비어있다면 사이클 발생\n",
    "        if len(q) == 0 :\n",
    "            cycle = True\n",
    "            break\n",
    "        # 큐의 원소가 2개 이상이라면 가능한 정렬 결과가 여러 개\n",
    "        if len(q) >= 2 :\n",
    "            certain = False\n",
    "            break\n",
    "        \n",
    "        now = q.popleft()\n",
    "        result.append(now)\n",
    "        # 해당 원소와 연결된 노드들의 진입차수에서 1 빼기\n",
    "        for j in range(1, n+1) :\n",
    "            if graph[now][j] :\n",
    "                indegree[j] -= 1\n",
    "                # 새롭게 진입차수가 0이 되는 노드를 큐에 삽입\n",
    "                if indegree[j] == 0 :\n",
    "                    q.append(j)\n",
    "                    \n",
    "    # 사이클 발생하는 경우(일관성 없는 경우)\n",
    "    if cycle :\n",
    "        print('IMPOSSIBLE')\n",
    "    # 위상 정렬 결과 여러 개인 경우\n",
    "    elif not certain :\n",
    "        print('?')\n",
    "    # 위상 정렬 수행한 결과\n",
    "    else :\n",
    "        for i in result :\n",
    "            print(i, end=' ')\n",
    "        print()"
   ]
  },
  {
   "cell_type": "code",
   "execution_count": 12,
   "id": "30fb28a9",
   "metadata": {},
   "outputs": [],
   "source": [
    "n=5\n",
    "rank =[5,4,3,2,1]\n",
    "indegree = [0] * (n+1) # 진입차수 초기화\n",
    "graph = [[False] * (n+1) for _ in range(n+1)] # 연결된 간선 정보\n",
    "for i in range(n) :\n",
    "    for j in range(i + 1, n) :\n",
    "        graph[rank[i]][rank[j]] = True\n",
    "        indegree[rank[j]] += 1"
   ]
  },
  {
   "cell_type": "code",
   "execution_count": 13,
   "id": "883624a2",
   "metadata": {},
   "outputs": [
    {
     "data": {
      "text/plain": [
       "[0, 4, 3, 2, 1, 0]"
      ]
     },
     "execution_count": 13,
     "metadata": {},
     "output_type": "execute_result"
    }
   ],
   "source": [
    "indegree"
   ]
  },
  {
   "cell_type": "code",
   "execution_count": 14,
   "id": "c067823c",
   "metadata": {},
   "outputs": [
    {
     "data": {
      "text/plain": [
       "[[False, False, False, False, False, False],\n",
       " [False, False, False, False, False, False],\n",
       " [False, True, False, False, False, False],\n",
       " [False, True, True, False, False, False],\n",
       " [False, True, True, True, False, False],\n",
       " [False, True, True, True, True, False]]"
      ]
     },
     "execution_count": 14,
     "metadata": {},
     "output_type": "execute_result"
    }
   ],
   "source": [
    "graph"
   ]
  },
  {
   "cell_type": "code",
   "execution_count": 15,
   "id": "19f6d3e0",
   "metadata": {},
   "outputs": [
    {
     "name": "stdout",
     "output_type": "stream",
     "text": [
      "0 1\n",
      "0 2\n",
      "0 3\n",
      "0 4\n",
      "1 2\n",
      "1 3\n",
      "1 4\n",
      "2 3\n",
      "2 4\n",
      "3 4\n"
     ]
    }
   ],
   "source": [
    "for i in range(n) :\n",
    "    for j in range(i+1, n) :\n",
    "        print(i, j)"
   ]
  },
  {
   "cell_type": "code",
   "execution_count": 16,
   "id": "a1101d41",
   "metadata": {},
   "outputs": [
    {
     "name": "stdout",
     "output_type": "stream",
     "text": [
      "2 4\n",
      "3 4\n"
     ]
    }
   ],
   "source": [
    "m = 2\n",
    "for _ in range(m) :\n",
    "        a, b = map(int, input().split())\n",
    "        # 간선 방향 뒤집기\n",
    "        if graph[a][b] :\n",
    "            graph[a][b] = False\n",
    "            graph[b][a] = True\n",
    "            indegree[a] += 1\n",
    "            indegree[b] -= 1\n",
    "        else :\n",
    "            graph[a][b] = True\n",
    "            graph[b][a] = False\n",
    "            indegree[a] -= 1\n",
    "            indegree[b] += 1"
   ]
  },
  {
   "cell_type": "code",
   "execution_count": 18,
   "id": "61915591",
   "metadata": {},
   "outputs": [
    {
     "data": {
      "text/plain": [
       "([[False, False, False, False, False, False],\n",
       "  [False, False, False, False, False, False],\n",
       "  [False, True, False, False, True, False],\n",
       "  [False, True, True, False, True, False],\n",
       "  [False, True, False, False, False, False],\n",
       "  [False, True, True, True, True, False]],\n",
       " [0, 4, 2, 1, 3, 0])"
      ]
     },
     "execution_count": 18,
     "metadata": {},
     "output_type": "execute_result"
    }
   ],
   "source": [
    "graph, indegree"
   ]
  },
  {
   "cell_type": "code",
   "execution_count": 19,
   "id": "97dcd764",
   "metadata": {},
   "outputs": [],
   "source": [
    "result = []\n",
    "q = deque()\n",
    "for i in range(1, n+1) :\n",
    "    if indegree[i] == 0 :\n",
    "        q.append(i)\n",
    "\n",
    "certain = True # 위상 정렬 결과가 오직 하나인지\n",
    "cycle = False # 그래프 내 사이클이 존재하는지\n",
    "\n",
    "# 정확히 노드의 개수만큼 반복\n",
    "for i in range(n) :\n",
    "    # 큐가 비어있다면 사이클 발생\n",
    "    if len(q) == 0 :\n",
    "        cycle = True\n",
    "        break\n",
    "    # 큐의 원소가 2개 이상이라면 가능한 정렬 결과가 여러 개\n",
    "    if len(q) >= 2 :\n",
    "        certain = False\n",
    "        break\n",
    "\n",
    "    now = q.popleft()\n",
    "    result.append(now)\n",
    "    # 해당 원소와 연결된 노드들의 진입차수에서 1 빼기\n",
    "    for j in range(1, n+1) :\n",
    "        if graph[now][j] :\n",
    "            indegree[j] -= 1\n",
    "            # 새롭게 진입차수가 0이 되는 노드를 큐에 삽입\n",
    "            if indegree[j] == 0 :\n",
    "                q.append(j)"
   ]
  },
  {
   "cell_type": "code",
   "execution_count": 20,
   "id": "0fe6ff22",
   "metadata": {},
   "outputs": [
    {
     "data": {
      "text/plain": [
       "[5, 3, 2, 4, 1]"
      ]
     },
     "execution_count": 20,
     "metadata": {},
     "output_type": "execute_result"
    }
   ],
   "source": [
    "result"
   ]
  },
  {
   "cell_type": "code",
   "execution_count": null,
   "id": "6fb77129",
   "metadata": {},
   "outputs": [],
   "source": []
  }
 ],
 "metadata": {
  "kernelspec": {
   "display_name": "Python 3 (ipykernel)",
   "language": "python",
   "name": "python3"
  },
  "language_info": {
   "codemirror_mode": {
    "name": "ipython",
    "version": 3
   },
   "file_extension": ".py",
   "mimetype": "text/x-python",
   "name": "python",
   "nbconvert_exporter": "python",
   "pygments_lexer": "ipython3",
   "version": "3.11.4"
  }
 },
 "nbformat": 4,
 "nbformat_minor": 5
}
