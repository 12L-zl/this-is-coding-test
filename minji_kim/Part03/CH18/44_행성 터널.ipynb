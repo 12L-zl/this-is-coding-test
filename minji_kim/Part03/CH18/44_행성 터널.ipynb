{
 "cells": [
  {
   "cell_type": "markdown",
   "id": "03febbac",
   "metadata": {},
   "source": [
    "왕국은 N개의 행성으로 이루어져 있다. 이 행성을 효율적으로 지배하기 위해 행성을 연결하는 터널을 만들려고 한다. 행성은 3차원 좌표 위의 한 점으로 생각하면 된다. 두 행성 A(x_A, y_A, z_A)와 B(x_B, y_B, z_B)를 터널로 연결할 때 드는 비용은 min(|x_A - x_B|, |y_A - y_B|, |z_A - z_B|)이다.\n",
    "\n",
    "터널을 총 N-1개 건설하여 모든 행성이 서로 연결되게 하려고 한다. 이때, 모든 행성을 터널로 연결하는데 필요한 최소 비용을 구하는 프로그램을 작성하시오."
   ]
  },
  {
   "cell_type": "markdown",
   "id": "4e4075aa",
   "metadata": {},
   "source": [
    "입력 조건 )\n",
    "- 첫째 줄에 행성의 개수 N이 주어진다. (1 <= N <= 100,000)\n",
    "- 다음 N개 줄에는 각 행성의 x, y, z 좌표가 주어진다.\n",
    "- 모든 좌표 값은 -10^9보다 크거나 같고, 10^9보다 작거나 같은 정수이다.\n",
    "- 한 위치에 행성이 두 개 이상 있는 경우는 없다.\n",
    "\n",
    "출력 조건 )\n",
    "- 첫째 줄에 모든 행성을 터널로 연결하는데 필요한 최소 비용을 출력한다."
   ]
  },
  {
   "cell_type": "code",
   "execution_count": 12,
   "id": "9a16156d",
   "metadata": {},
   "outputs": [
    {
     "name": "stdout",
     "output_type": "stream",
     "text": [
      "5\n",
      "11 -15 -15\n",
      "14 -5 -15\n",
      "-1 -1 -5\n",
      "10 -4 -1\n",
      "19 -4 19\n"
     ]
    }
   ],
   "source": [
    "n = int(input())\n",
    "data = []\n",
    "for _ in range(n) :\n",
    "    data.append(list(map(int, input().split())))"
   ]
  },
  {
   "cell_type": "code",
   "execution_count": 11,
   "id": "9141cbca",
   "metadata": {},
   "outputs": [],
   "source": [
    "def find_parent(parent, x) :\n",
    "    if parent[x] != x :\n",
    "        parent[x] = find_parent(parent, parent[x])\n",
    "    return parent[x]\n",
    "\n",
    "def union_parent(parent, a, b) :\n",
    "    a = find_parent(parent, a)\n",
    "    b = find_parent(parent, b)\n",
    "    if a < b :\n",
    "        parent[b] = a\n",
    "    else :\n",
    "        parent[a] = b\n",
    "        \n",
    "parent = [0] * (n+1)\n",
    "for i in range(1, n+1) :\n",
    "    parent[i] = i"
   ]
  },
  {
   "cell_type": "code",
   "execution_count": 8,
   "id": "32326614",
   "metadata": {},
   "outputs": [
    {
     "name": "stdout",
     "output_type": "stream",
     "text": [
      "4\n"
     ]
    }
   ],
   "source": [
    "# 좌표, 행성번호\n",
    "x = []\n",
    "y = []\n",
    "z = []\n",
    "for i in range(n) :\n",
    "    x.append((data[i][0], i+1))\n",
    "    y.append((data[i][1], i+1))\n",
    "    z.append((data[i][2], i+1))\n",
    "# 좌표대로 정렬\n",
    "x.sort()\n",
    "y.sort()\n",
    "z.sort()\n",
    "\n",
    "# 비용, 행성 A, 행성 B\n",
    "edges = []\n",
    "for i in range(n-1) :\n",
    "    edges.append((x[i+1][0] - x[i][0], x[i][1], x[i+1][1]))\n",
    "    edges.append((y[i+1][0] - y[i][0], y[i][1], y[i+1][1]))\n",
    "    edges.append((z[i+1][0] - z[i][0], z[i][1], z[i+1][1]))\n",
    "edges.sort() # 비용순으로 정렬\n",
    "\n",
    "result = 0\n",
    "for edge in edges :\n",
    "    cost, a, b = edge\n",
    "    \n",
    "    if find_parent(parent, a) != find_parent(parent, b) :\n",
    "        union_parent(parent, a, b)\n",
    "        result += cost\n",
    "        \n",
    "print(result)"
   ]
  },
  {
   "cell_type": "code",
   "execution_count": 9,
   "id": "529473c8",
   "metadata": {},
   "outputs": [
    {
     "data": {
      "text/plain": [
       "[(-1, 3), (10, 4), (11, 1), (14, 2), (19, 5)]"
      ]
     },
     "execution_count": 9,
     "metadata": {},
     "output_type": "execute_result"
    }
   ],
   "source": [
    "x"
   ]
  },
  {
   "cell_type": "code",
   "execution_count": 10,
   "id": "8057a0bc",
   "metadata": {},
   "outputs": [
    {
     "data": {
      "text/plain": [
       "[(0, 1, 2),\n",
       " (0, 4, 5),\n",
       " (1, 2, 4),\n",
       " (1, 4, 1),\n",
       " (3, 1, 2),\n",
       " (3, 5, 3),\n",
       " (4, 3, 4),\n",
       " (5, 2, 5),\n",
       " (10, 1, 2),\n",
       " (10, 2, 3),\n",
       " (11, 3, 4),\n",
       " (20, 4, 5)]"
      ]
     },
     "execution_count": 10,
     "metadata": {},
     "output_type": "execute_result"
    }
   ],
   "source": [
    "edges"
   ]
  },
  {
   "cell_type": "code",
   "execution_count": 13,
   "id": "dc59ccc9",
   "metadata": {},
   "outputs": [
    {
     "data": {
      "text/plain": [
       "[[11, -15, -15], [14, -5, -15], [-1, -1, -5], [10, -4, -1], [19, -4, 19]]"
      ]
     },
     "execution_count": 13,
     "metadata": {},
     "output_type": "execute_result"
    }
   ],
   "source": [
    "data"
   ]
  },
  {
   "cell_type": "code",
   "execution_count": null,
   "id": "47486a4f",
   "metadata": {},
   "outputs": [],
   "source": []
  }
 ],
 "metadata": {
  "kernelspec": {
   "display_name": "Python 3 (ipykernel)",
   "language": "python",
   "name": "python3"
  },
  "language_info": {
   "codemirror_mode": {
    "name": "ipython",
    "version": 3
   },
   "file_extension": ".py",
   "mimetype": "text/x-python",
   "name": "python",
   "nbconvert_exporter": "python",
   "pygments_lexer": "ipython3",
   "version": "3.11.4"
  }
 },
 "nbformat": 4,
 "nbformat_minor": 5
}
