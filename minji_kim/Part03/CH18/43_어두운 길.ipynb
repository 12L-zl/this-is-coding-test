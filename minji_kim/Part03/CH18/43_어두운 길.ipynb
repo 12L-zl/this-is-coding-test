{
 "cells": [
  {
   "cell_type": "markdown",
   "id": "7c6732c7",
   "metadata": {},
   "source": [
    "한 마을은 N개의 집과 M개의 도로로 구성되어 있다. 각 집은 0번부터 N-1번까지의 번호로 구분된다. 모든 도로에는 가로등이 구비되어 있는데, 특정한 도로의 가로등을 하루 동안 켜기 위한 비용은 해당 도로의 길이와 동일하다. 예를 들어 2번 집과 3번 집 사이를 연결하는 길이가 7인 도로가 있다고 가정할 때, 하루 동안 이 가로등을 켜기 위한 비용은 7이 된다.\n",
    "\n",
    "정부에서는 일부 가로등을 비활성화하되, 마을에 있는 임의의 두 집에 대하여 가로등이 켜진 도로만으로도 오갈 수 있도록 만들고자 한다. 결과적으로 일부 가로등을 비활성화하여 최대한 많은 금액을 절약하고자 한다. 마을의 집과 도로 정보가 주어졌을 때, 일부 가로등을 비활성화하여 절약할 수 있는 최대 금액을 출력하는 프로그램을 작성하시오."
   ]
  },
  {
   "cell_type": "markdown",
   "id": "9eeca074",
   "metadata": {},
   "source": [
    "입력 조건 )\n",
    "- 첫째 줄에 집의 수 N (1 <= N <= 200,000)과 도로의 수 M (N-1 <= M <= 200,000)이 주어진다.\n",
    "- 다음 M개의 줄에 걸쳐 각 도로에 대한 정보 X, Y, Z가 주어지며, 공백으로 구분한다. (0 <= X, Y < N) 이는 X번 집과 Y번 집 사이에 양방향 도로가 있으며, 그 길이가 Z라는 의미이다. 단, X와 Y가 동일한 경우는 없으며 마을을 구성하는 모든 도로의 길이 합은 2^31보다 작다.\n",
    "\n",
    "출력 조건 )\n",
    "- 첫째 줄에 일부 가로등을 비활성화하여 절약할 수 있는 최대 금액을 출력한다."
   ]
  },
  {
   "cell_type": "code",
   "execution_count": 2,
   "id": "33e3d780",
   "metadata": {},
   "outputs": [
    {
     "name": "stdout",
     "output_type": "stream",
     "text": [
      "7 11\n",
      "0 1 7\n",
      "0 3 5\n",
      "1 2 8\n",
      "1 3 9\n",
      "1 4 7\n",
      "2 4 5\n",
      "3 4 15\n",
      "3 5 6\n",
      "4 5 8\n",
      "4 6 9\n",
      "5 6 11\n"
     ]
    }
   ],
   "source": [
    "n, m = map(int, input().split())\n",
    "data = []\n",
    "for _ in range(m) :\n",
    "    data.append(list(map(int, input().split())))"
   ]
  },
  {
   "cell_type": "code",
   "execution_count": 8,
   "id": "b4d04a5c",
   "metadata": {},
   "outputs": [],
   "source": [
    "def find_parent(parent, x) :\n",
    "    if parent[x] != x :\n",
    "        parent[x] = find_parent(parent, parent[x])\n",
    "    return parent[x]\n",
    "\n",
    "def union_parent(parent, a, b) :\n",
    "    a = find_parent(parent, a)\n",
    "    b = find_parent(parent, b)\n",
    "    \n",
    "    if a < b :\n",
    "        parent[b] = a\n",
    "    else :\n",
    "        parent[a] = b\n",
    "        \n",
    "parent = [0] * (n+1)\n",
    "for i in range(n) :\n",
    "    parent[i+1] = i  # [0, 0, 1, 2, 3, 4, 5, 6]\n"
   ]
  },
  {
   "cell_type": "code",
   "execution_count": 9,
   "id": "b941df9b",
   "metadata": {},
   "outputs": [
    {
     "data": {
      "text/plain": [
       "[0, 0, 1, 2, 3, 4, 5, 6]"
      ]
     },
     "execution_count": 9,
     "metadata": {},
     "output_type": "execute_result"
    }
   ],
   "source": [
    "parent"
   ]
  },
  {
   "cell_type": "code",
   "execution_count": null,
   "id": "f8727a8b",
   "metadata": {},
   "outputs": [],
   "source": []
  }
 ],
 "metadata": {
  "kernelspec": {
   "display_name": "Python 3 (ipykernel)",
   "language": "python",
   "name": "python3"
  },
  "language_info": {
   "codemirror_mode": {
    "name": "ipython",
    "version": 3
   },
   "file_extension": ".py",
   "mimetype": "text/x-python",
   "name": "python",
   "nbconvert_exporter": "python",
   "pygments_lexer": "ipython3",
   "version": "3.11.4"
  }
 },
 "nbformat": 4,
 "nbformat_minor": 5
}
