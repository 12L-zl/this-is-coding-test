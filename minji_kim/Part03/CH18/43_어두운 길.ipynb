{
 "cells": [
  {
   "cell_type": "markdown",
   "id": "7c6732c7",
   "metadata": {},
   "source": [
    "한 마을은 N개의 집과 M"
   ]
  }
 ],
 "metadata": {
  "kernelspec": {
   "display_name": "Python 3 (ipykernel)",
   "language": "python",
   "name": "python3"
  },
  "language_info": {
   "codemirror_mode": {
    "name": "ipython",
    "version": 3
   },
   "file_extension": ".py",
   "mimetype": "text/x-python",
   "name": "python",
   "nbconvert_exporter": "python",
   "pygments_lexer": "ipython3",
   "version": "3.11.4"
  }
 },
 "nbformat": 4,
 "nbformat_minor": 5
}
