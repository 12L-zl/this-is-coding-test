{
 "cells": [
  {
   "cell_type": "markdown",
   "id": "6f51b030",
   "metadata": {},
   "source": [
    "공항에는 G개의 탑승구가 있으며, 각각의 탑승구는 1번부터 G번까지의 번호로 구분된다. 공항에는 P개의 비행기가 차례대로 도착할 예정이며, i번째 비행기를 1번부터 g_i번째 (1 <= g_i <= G) 탑승구 중 하나에 영구적으로 도킹해야 한다. 이때, 다른 비행기가 도킹하지 않은 탑승구에만 도킹할 수 있다.\n",
    "\n",
    "또한 P개의 비행기를 순서대로 도킹하다가 만약에 어떠한 탑승구에도 도킹할 수 없는 비행기가 나오는 경우, 그 시점에서 공항의 운행을 중지한다. 공항의 관리자는 최대한 많은 비행기를 공항에 도킹하고자 한다. 비행기를 최대 몇 대 도킹할 수 있는지를 출력하는 프로그램을 작성하시오."
   ]
  },
  {
   "cell_type": "markdown",
   "id": "5fed961a",
   "metadata": {},
   "source": [
    "입력 조건 )\n",
    "- 첫째 줄에는 탑승구의 수 G (1 <= G <= 100,000)가 주어진다.\n",
    "- 둘째 줄에는 비행기의 수 P (1 <= P <= 100,000)가 주어진다.\n",
    "- 다음 P개의 줄에는 각 비행기가 도킹할 수 있는 탑승구의 정보 g_i(1 <= g_i <= G)가 주어진다. 이는 i번째 비행기가 1번부터 g_i번째 탑승구 중 하나에 도킹할 수 있다는 의미이다.\n",
    "\n",
    "출력 조건 )\n",
    "- 첫째 줄에 도킹할 수 있는 비행기의 최대 개수를 출력한다."
   ]
  },
  {
   "cell_type": "markdown",
   "id": "d577cf38",
   "metadata": {},
   "source": [
    "첫 번째 예시에서는 2번 비행기 혹은 3번 비행기를 1번 탑승구에 도킹하고, 1번 비행기는 2, 3, 4번 탑승구 중 하나에 도킹할 때 최댓값을 가진다.\n",
    "\n",
    "두 번째 예시에서는 1번 비행기와 2번 비행기를 각각 1번 탑승구와 2번 탑승구에 도킹한 뒤에, 3번 비행기는 3번 탑승구에 도킹할 수 있다. 하지만 4번 비행기는 어떤 탑승구에도 도킹할 수 없기에 이 시점에서 공항의 운행이 중지된다."
   ]
  },
  {
   "cell_type": "code",
   "execution_count": 4,
   "id": "c7557bf9",
   "metadata": {},
   "outputs": [
    {
     "name": "stdout",
     "output_type": "stream",
     "text": [
      "4\n",
      "3\n",
      "4\n",
      "1\n",
      "1\n"
     ]
    }
   ],
   "source": [
    "# 첫 번째 예시\n",
    "G = int(input())\n",
    "P = int(input())\n",
    "g = []\n",
    "for _ in range(P) :\n",
    "    g.append(int(input()))"
   ]
  },
  {
   "cell_type": "code",
   "execution_count": 27,
   "id": "561c3117",
   "metadata": {},
   "outputs": [
    {
     "name": "stdout",
     "output_type": "stream",
     "text": [
      "2\n"
     ]
    }
   ],
   "source": [
    "def find_parent(parent, x) :\n",
    "    if parent[x] != x :\n",
    "        parent[x] = find_parent(parent, parent[x])\n",
    "    return parent[x]\n",
    "\n",
    "def union_parent(parent, a, b) :\n",
    "    a = find_parent(parent, a)\n",
    "    b = find_parent(parent, b)\n",
    "    if a < b :\n",
    "        parent[b] = a\n",
    "    else :\n",
    "        parent[a] = b\n",
    "        \n",
    "parent = [0] * (G+1)\n",
    "for i in range(1, G+1) :\n",
    "    parent[i] = i\n",
    "    \n",
    "result = 0\n",
    "for i in range(P) :\n",
    "    x  = g[i]\n",
    "    data = find_parent(parent, x)\n",
    "    if data == 0 :  # 현재 루트가 0이라면, 종료\n",
    "        break\n",
    "    else :\n",
    "        union_parent(parent, data, data-1) # 그렇지 않다면 바로 왼쪽의 집합과 합치기\n",
    "        result += 1\n",
    "        \n",
    "print(result)"
   ]
  },
  {
   "cell_type": "code",
   "execution_count": 28,
   "id": "32f46ba1",
   "metadata": {},
   "outputs": [
    {
     "data": {
      "text/plain": [
       "[0, 0, 2, 3, 3]"
      ]
     },
     "execution_count": 28,
     "metadata": {},
     "output_type": "execute_result"
    }
   ],
   "source": [
    "parent"
   ]
  },
  {
   "cell_type": "code",
   "execution_count": 29,
   "id": "e5724838",
   "metadata": {},
   "outputs": [
    {
     "name": "stdout",
     "output_type": "stream",
     "text": [
      "4\n",
      "6\n",
      "2\n",
      "2\n",
      "3\n",
      "3\n",
      "4\n",
      "4\n",
      "3\n"
     ]
    }
   ],
   "source": [
    "# 두 번째 예시\n",
    "G = int(input())\n",
    "P = int(input())\n",
    "g = []\n",
    "for _ in range(P) :\n",
    "    g.append(int(input()))\n",
    "    \n",
    "parent = [0] * (G+1)\n",
    "for i in range(1, G+1) :\n",
    "    parent[i] = i\n",
    "    \n",
    "result = 0\n",
    "for i in range(P) :\n",
    "    x  = g[i]\n",
    "    data = find_parent(parent, x)\n",
    "    if data == 0 :  # 현재 루트가 0이라면, 종료\n",
    "        break\n",
    "    else :\n",
    "        union_parent(parent, data, data-1) # 그렇지 않다면 바로 왼쪽의 집합과 합치기\n",
    "        result += 1\n",
    "        \n",
    "print(result)"
   ]
  },
  {
   "cell_type": "code",
   "execution_count": 30,
   "id": "d1f5b249",
   "metadata": {},
   "outputs": [
    {
     "data": {
      "text/plain": [
       "[0, 0, 0, 0, 4]"
      ]
     },
     "execution_count": 30,
     "metadata": {},
     "output_type": "execute_result"
    }
   ],
   "source": [
    "parent"
   ]
  },
  {
   "cell_type": "code",
   "execution_count": null,
   "id": "0d9664f8",
   "metadata": {},
   "outputs": [],
   "source": []
  }
 ],
 "metadata": {
  "kernelspec": {
   "display_name": "Python 3 (ipykernel)",
   "language": "python",
   "name": "python3"
  },
  "language_info": {
   "codemirror_mode": {
    "name": "ipython",
    "version": 3
   },
   "file_extension": ".py",
   "mimetype": "text/x-python",
   "name": "python",
   "nbconvert_exporter": "python",
   "pygments_lexer": "ipython3",
   "version": "3.11.4"
  }
 },
 "nbformat": 4,
 "nbformat_minor": 5
}
