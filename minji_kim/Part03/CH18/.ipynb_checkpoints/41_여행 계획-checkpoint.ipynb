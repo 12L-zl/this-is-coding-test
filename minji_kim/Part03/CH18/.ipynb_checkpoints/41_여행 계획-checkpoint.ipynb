{
 "cells": [
  {
   "cell_type": "markdown",
   "id": "bbb6ac4d",
   "metadata": {},
   "source": [
    "N개의 여행지가 있으며, 각 여행지는 1 ~ N번까지의 번호로 구분된다. 또한 임의의 두 여행지 사이에는 두 여행지를 연결하는 도로가 존재할 수 있다. 이때, 여행지가 도로로 연결되어 있다면 양방향으로 이동이 가능하다. 하나의 여행 계획을 세운 뒤에 이 여행 계획이 가능한지의 여부를 판단하고자 한다. 예를 들어, N = 5이고, 다음과 같이 도로의 정보가 주어졌다고 가정하자.\n",
    "* 1번 여행지 - 2번 여행지\n",
    "* 1번 여행지 - 4번 여행지\n",
    "* 1번 여행지 - 5번 여행지\n",
    "* 2번 여행지 - 3번 여행지\n",
    "* 2번 여행지 - 4번 여행지\n",
    "\n",
    "만약 여행 계획이 2번 -> 3번 -> 4번 -> 3번이라고 하자. 이 경우 2번 -> 3번 -> 2번 -> 4번 -> 2번 -> 3번의 순서로 여행지를 방문하면, 여행 계획을 따를 수 있다.\n",
    "\n",
    "여행지의 개수와 여행지 간의 연결 정보가 주어졌을 때, 여행 계획이 가능한지의 여부를 판별하는 프로그램을 작성하시오."
   ]
  },
  {
   "cell_type": "markdown",
   "id": "754253d2",
   "metadata": {},
   "source": [
    "입력 조건 )\n",
    "- 첫째 줄에 여행지의 수 N과 여행 계획에 속한 도시의 수 M이 주어진다. (1 <= N, M <= 500)\n",
    "- 다음 N개의 줄에 걸쳐 N X N 행렬을 통해 임의의 두 여행지가 서로 연결되어 있는지의 여부가 주어진다. 그 값이 1이라면 서로 연결되었다는 의미이며, 0이라면 서로 연결되어 있지 않다는 의미이다.\n",
    "- 마지말 줄에 여행 계획에 포함된 여행지의 번호들이 주어지며 공백으로 구분한다.\n",
    "\n",
    "출력 조건 )\n",
    "- 첫째 줄에 여행 계획이 가능하다면 YES를, 불가능하다면 NO를 출력한다."
   ]
  },
  {
   "cell_type": "code",
   "execution_count": 1,
   "id": "44f60e39",
   "metadata": {},
   "outputs": [
    {
     "name": "stdout",
     "output_type": "stream",
     "text": [
      "5 4\n",
      "0 1 0 1 1\n",
      "1 0 1 1 0\n",
      "0 1 0 0 0\n",
      "1 1 0 0 0\n",
      "1 0 0 0 0\n",
      "2 3 4 3\n"
     ]
    }
   ],
   "source": [
    "n, m = map(int, input().split())\n",
    "data = []\n",
    "for _ in range(n) :\n",
    "    data.append(list(map(int, input().split())))\n",
    "plan = list(map(int, input().split()))"
   ]
  },
  {
   "cell_type": "code",
   "execution_count": 2,
   "id": "604953b7",
   "metadata": {},
   "outputs": [
    {
     "name": "stdout",
     "output_type": "stream",
     "text": [
      "YES\n"
     ]
    }
   ],
   "source": [
    "# 특정 원소가 속한 집합 찾기\n",
    "def find_parent(parent, x) :\n",
    "    if parent[x] != x :\n",
    "        parent[x] = find_parent(parent, parent[x])\n",
    "    return parent[x]\n",
    "\n",
    "# 두 원소가 속한 집합 합치기\n",
    "def union_parent(parent, a, b) :\n",
    "    a = find_parent(parent, a)\n",
    "    b = find_parent(parent, b)\n",
    "    \n",
    "    if a < b :\n",
    "        parent[b] = a\n",
    "    else :\n",
    "        parent[a] = b\n",
    "        \n",
    "        \n",
    "parent = [0] * (n+1)\n",
    "\n",
    "for i in range(1, n+1) : \n",
    "    parent[i] = i\n",
    "    \n",
    "for i in range(n) :\n",
    "    for j in range(n) :\n",
    "        if data[i][j] == 1 :\n",
    "            union_parent(parent, i + 1, j + 1)\n",
    "            \n",
    "result = True\n",
    "\n",
    "# 여행 계획에 속하는 모든 노드의 루트가 동일한지 확인\n",
    "# 모든 노드가 같은 집합에 속하기만 하면 가능함\n",
    "for i in range(m-1) :\n",
    "    if find_parent(parent, plan[i]) != find_parent(parent, plan[i+1]) :\n",
    "        result = False # 서로소이면 False\n",
    "        \n",
    "if result : \n",
    "    print('YES')\n",
    "else :\n",
    "    print('NO')"
   ]
  },
  {
   "cell_type": "code",
   "execution_count": null,
   "id": "65478712",
   "metadata": {},
   "outputs": [],
   "source": []
  }
 ],
 "metadata": {
  "kernelspec": {
   "display_name": "Python 3 (ipykernel)",
   "language": "python",
   "name": "python3"
  },
  "language_info": {
   "codemirror_mode": {
    "name": "ipython",
    "version": 3
   },
   "file_extension": ".py",
   "mimetype": "text/x-python",
   "name": "python",
   "nbconvert_exporter": "python",
   "pygments_lexer": "ipython3",
   "version": "3.11.4"
  }
 },
 "nbformat": 4,
 "nbformat_minor": 5
}
