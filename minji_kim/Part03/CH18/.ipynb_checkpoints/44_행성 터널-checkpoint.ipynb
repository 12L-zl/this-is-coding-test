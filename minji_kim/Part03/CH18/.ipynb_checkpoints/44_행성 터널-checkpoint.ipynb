{
 "cells": [
  {
   "cell_type": "markdown",
   "id": "03febbac",
   "metadata": {},
   "source": [
    "왕국은 N개의 행성으로 이루어져 있다. 이 행성을 효율적으로 지배하기 위해 행성을 연결하는 터널을 만들려고 한다. 행성은 3차원 좌표 위의 한 점으로 생각하면 된다. 두 행성 A(x_A, y_A, z_A)와 B(x_B, y_B, z_B)를 터널로 연결할 때 드는 비용은 min(|x_A - x_B|, |y_A - y_B|, |z_A - z_B|)이다.\n",
    "\n",
    "터널을 총 N-1개 건설하여 모든 행성이 서로 연결되게 하려고 한다. 이때, 모든 행성을 터널로 연결하는데 필요한 최소 비용을 구하는 프로그램을 작성하시오."
   ]
  },
  {
   "cell_type": "markdown",
   "id": "4e4075aa",
   "metadata": {},
   "source": [
    "입력 조건 )\n",
    "- 첫째 줄에 행성의 개수 N이 주어진다. (1 <= N <= 100,000)\n",
    "- 다음 N개 줄에는 각 행성의 x, y, z 좌표가 주어진다.\n",
    "- 모든 좌표 값은 -10^9보다 크거나 같고, 10^9보다 작거나 같은 정수이다.\n",
    "- 한 위치에 행성이 두 개 이상 있는 경우는 없다.\n",
    "\n",
    "출력 조건 )\n",
    "- 첫째 줄에 모든 행성을 터널로 연결하는데 필요한 최소 비용을 출력한다."
   ]
  },
  {
   "cell_type": "code",
   "execution_count": null,
   "id": "9a16156d",
   "metadata": {},
   "outputs": [],
   "source": []
  }
 ],
 "metadata": {
  "kernelspec": {
   "display_name": "Python 3 (ipykernel)",
   "language": "python",
   "name": "python3"
  },
  "language_info": {
   "codemirror_mode": {
    "name": "ipython",
    "version": 3
   },
   "file_extension": ".py",
   "mimetype": "text/x-python",
   "name": "python",
   "nbconvert_exporter": "python",
   "pygments_lexer": "ipython3",
   "version": "3.11.4"
  }
 },
 "nbformat": 4,
 "nbformat_minor": 5
}
