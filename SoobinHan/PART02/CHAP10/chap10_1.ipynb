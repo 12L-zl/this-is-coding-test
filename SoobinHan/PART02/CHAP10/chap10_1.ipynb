{
 "cells": [
  {
   "cell_type": "markdown",
   "id": "4fdae947-31ac-4621-a67c-847f192a4393",
   "metadata": {},
   "source": [
    "### 팀 결성"
   ]
  },
  {
   "cell_type": "markdown",
   "id": "614baa60",
   "metadata": {},
   "source": [
    "+ 0번부터 N번까지의 번호 부여 \n",
    "+ 처음엔 다 다른팀이라서 N+1개의 팀 존재\n",
    "+ 팀 합치기 : 두 팀 합치는 연산\n",
    "+ 같은 팀 여부 확인 : 특정한 두 학생이 같은 팀에 속하는지 확인\n",
    "\n",
    "**입력 조건**  \n",
    "+ 첫째 줄에 N, M이 주어짐 (1<=N,M<=100,000)\n",
    "+ 다음 M개의 줄에는 각각 연산이 주어짐\n",
    "+ 팀 합치기 연산은 0 a b 형태로 주어짐 (a번 학생과 b번 학생 팀 합치기)\n",
    "+ 같은 팀 여부 확인 연산은 1 a b 형태로 주어짐 (a번 학생과 b번 학생이 같은 팀에 속해있는지 확인)\n",
    "+ a,b는 N 이하의 정수\n",
    "\n",
    "**출력 조건**  \n",
    "+ 같은 팀 여부 확인 연산에 대하여 한 줄에 하나씩 YES 혹은 NO로 결과를 출력\n",
    "\n",
    "**입력 예시**  \n",
    "7 8  \n",
    "0 1 3  \n",
    "1 1 7  \n",
    "0 7 6  \n",
    "1 7 1  \n",
    "0 3 7  \n",
    "0 4 2  \n",
    "0 1 1  \n",
    "1 1 1  \n",
    "\n",
    "**출력 예시**  \n",
    "NO  \n",
    "NO  \n",
    "YES  "
   ]
  },
  {
   "cell_type": "code",
   "execution_count": 54,
   "id": "d62aac27-8596-4ff2-810a-4dfaf7900ee9",
   "metadata": {},
   "outputs": [
    {
     "name": "stdin",
     "output_type": "stream",
     "text": [
      " 7 8\n",
      " 0 1 3\n",
      " 1 1 7\n",
      " 0 7 6\n",
      " 1 7 1\n",
      " 0 3 7\n",
      " 0 4 2\n",
      " 0 1 1\n",
      " 1 1 1\n"
     ]
    },
    {
     "name": "stdout",
     "output_type": "stream",
     "text": [
      "NO\n",
      "NO\n",
      "YES\n"
     ]
    }
   ],
   "source": [
    "n, m = map(int, input().split())\n",
    "\n",
    "# 연산 입력 받기\n",
    "cal = []\n",
    "for _ in range(m):\n",
    "    cal.append(list(map(int, input().split())))\n",
    "# [[0, 1, 3], [1, 1, 7], [0, 7, 6], [1, 7, 1], [0, 3, 7], [0, 4, 2], [0, 1, 1], [1, 1, 1]] \n",
    "\n",
    "# 각자 각 팀에 들어가있기\n",
    "team = []\n",
    "for i in range(n+2):\n",
    "    a = [i]\n",
    "    team.append(a)\n",
    "# 예시 [[0], [1], [2], [3], [4], [5], [6], [7], [8]]\n",
    "\n",
    "# 연산 수행\n",
    "answer = []\n",
    "for i in range(len(cal)):\n",
    "    if cal[i][0] == 0:\n",
    "        s = len(team)\n",
    "        for j in range(s):\n",
    "            if cal[i][1] == team[j]:               # 첫번째 숫자랑 같은 숫자 찾아서\n",
    "                team[j].append(cal[i][2])          # 두번째 숫자랑 같은 팀 만들어주기\n",
    "                team.pop(cal[i][2])                # 팀 결성한 애 없애기\n",
    "                s -= 1                          # s -=1 안해주면 s(b의 길이)가 pop해줬기 때문에 길이가 변해서 range 오류남\n",
    "    elif cal[i][0] == 1:\n",
    "        for k in range(len(team)):\n",
    "            if cal[i][1] in team[k]:               # 첫번째 숫자 찾아서\n",
    "                if cal[i][2] in team[k]:           # 두번째 숫자랑 같이 있으면 \n",
    "                    answer.append('YES')        # 예스 출력\n",
    "                else:                           # 아니면\n",
    "                    answer.append('NO')         # 노 출력\n",
    "\n",
    "# 정답 출력\n",
    "for ans in answer:\n",
    "    print(ans)"
   ]
  },
  {
   "cell_type": "code",
   "execution_count": 2,
   "id": "dd3d4ca3-90be-48eb-a8b0-d5489dc1cfc2",
   "metadata": {},
   "outputs": [
    {
     "name": "stdout",
     "output_type": "stream",
     "text": [
      "7 5\n",
      "0 1 2\n",
      "0 3 4\n",
      "0 1 4\n",
      "1 2 3\n",
      "1 1 4\n",
      "NO\n",
      "NO\n"
     ]
    },
    {
     "data": {
      "text/plain": [
       "'\\n 7 5\\n 0 1 2\\n 0 3 4\\n 0 1 4\\n 1 2 3\\n 1 1 4\\n'"
      ]
     },
     "execution_count": 2,
     "metadata": {},
     "output_type": "execute_result"
    }
   ],
   "source": [
    "n, m = map(int, input().split())\n",
    "\n",
    "# 연산 입력 받기\n",
    "cal = []\n",
    "for _ in range(m):\n",
    "    cal.append(list(map(int, input().split())))\n",
    "# [[0, 1, 3], [1, 1, 7], [0, 7, 6], [1, 7, 1], [0, 3, 7], [0, 4, 2], [0, 1, 1], [1, 1, 1]] \n",
    "\n",
    "# 각자 각 팀에 들어가있기\n",
    "team = []\n",
    "for i in range(n+2):\n",
    "    a = [i]\n",
    "    team.append(a)\n",
    "# 예시 [[0], [1], [2], [3], [4], [5], [6], [7], [8]]\n",
    "\n",
    "# 연산 수행\n",
    "answer = []\n",
    "for i in range(len(cal)):\n",
    "    if cal[i][0] == 0:\n",
    "        s = len(team)\n",
    "        for j in range(s):\n",
    "            if cal[i][1] == team[j]:               # 첫번째 숫자랑 같은 숫자 찾아서\n",
    "                team[j].append(cal[i][2])          # 두번째 숫자랑 같은 팀 만들어주기\n",
    "                team.pop(cal[i][2])                # 팀 결성한 애 없애기\n",
    "                s -= 1                          # s -=1 안해주면 s(b의 길이)가 pop해줬기 때문에 길이가 변해서 range 오류남\n",
    "    elif cal[i][0] == 1:\n",
    "        for k in range(len(team)):\n",
    "            if cal[i][1] in team[k]:               # 첫번째 숫자 찾아서\n",
    "                if cal[i][2] in team[k]:           # 두번째 숫자랑 같이 있으면 \n",
    "                    answer.append('YES')        # 예스 출력\n",
    "                else:                           # 아니면\n",
    "                    answer.append('NO')         # 노 출력\n",
    "\n",
    "# 정답 출력\n",
    "for ans in answer:\n",
    "    print(ans)\n",
    "'''\n",
    " 7 5\n",
    " 0 1 2\n",
    " 0 3 4\n",
    " 0 1 4\n",
    " 1 2 3\n",
    " 1 1 4\n",
    "'''"
   ]
  },
  {
   "cell_type": "code",
   "execution_count": null,
   "id": "8f0a1a2f",
   "metadata": {},
   "outputs": [],
   "source": []
  }
 ],
 "metadata": {
  "kernelspec": {
   "display_name": "Python 3 (ipykernel)",
   "language": "python",
   "name": "python3"
  },
  "language_info": {
   "codemirror_mode": {
    "name": "ipython",
    "version": 3
   },
   "file_extension": ".py",
   "mimetype": "text/x-python",
   "name": "python",
   "nbconvert_exporter": "python",
   "pygments_lexer": "ipython3",
   "version": "3.11.5"
  }
 },
 "nbformat": 4,
 "nbformat_minor": 5
}
