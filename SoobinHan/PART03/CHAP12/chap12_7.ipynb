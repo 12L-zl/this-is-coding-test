{
 "cells": [
  {
   "cell_type": "markdown",
   "id": "ea5086b0",
   "metadata": {},
   "source": [
    "### 치킨 배달"
   ]
  },
  {
   "cell_type": "markdown",
   "id": "ed30afa7",
   "metadata": {},
   "source": [
    "[백준 링크 ](https://www.acmicpc.net/problem/15686)[]"
   ]
  },
  {
   "cell_type": "markdown",
   "id": "7c8a6d28",
   "metadata": {},
   "source": [
    "+ 크기가 nxn인 도시이고 1x1 크기의 칸으로 나누어져 있음\n",
    "+ 도시의 각 칸은 빈칸, 치킨집, 집 중 하나 \n",
    "+ 도시의 칸은 (r,c) 형태로 나타내고, r행 c열 또는 위에서부터 r번째칸, 왼쪽에서부터 c번째 칸을 의미(r과 c는 1부터 시작)\n",
    "<br>\n",
    "\n",
    "+ '치킨 거리' 라는 말을 주로 사용함 (집과 가장 가까운 치킨집 사이의 거리)\n",
    "+ 치킨 거리는 집을 기준으로 정해지며, 각각의 집은 치킨 거리를 가지고 있음\n",
    "+ 도시의 치킨 거리는 모든 집의 치킨 거리의 합\n",
    "+ 임의의 두 칸 (r1, c1)과 (r2, c2) 사이의 거리는 |r1-r2| + |c1-c2|로 구함\n",
    "\n",
    "<table border=\"1\">\n",
    "  <tr>\n",
    "    <td>0</td>\n",
    "    <td>2</td>\n",
    "    <td>0</td>\n",
    "    <td>1</td>\n",
    "    <td>0</td>\n",
    "  </tr>\n",
    "  <tr>\n",
    "    <td>1</td>\n",
    "    <td>0</td>\n",
    "    <td>1</td>\n",
    "    <td>0</td>\n",
    "    <td>0</td>\n",
    "  </tr>\n",
    "  <tr>\n",
    "    <td>0</td>\n",
    "    <td>0</td>\n",
    "    <td>0</td>\n",
    "    <td>0</td>\n",
    "    <td>0</td>\n",
    "  </tr>\n",
    "  <tr>\n",
    "    <td>0</td>\n",
    "    <td>0</td>\n",
    "    <td>0</td>\n",
    "    <td>1</td>\n",
    "    <td>1</td>\n",
    "  </tr>\n",
    "  <tr>\n",
    "    <td>0</td>\n",
    "    <td>0</td>\n",
    "    <td>0</td>\n",
    "    <td>1</td>\n",
    "    <td>2</td>\n",
    "  </tr>\n",
    "</table>\n",
    "\n",
    "+ 다음과 같은 지도를 갖는 도시에서 0은 빈칸, 1은 집, 2는 치킨집\n",
    "+ (2,1)에 있는 집과 (1,2)에 있는 치킨집과의 거리는 |2-1| + |1-2| = 2,  \n",
    "  (5,5)에 있는 치킨집과의 거리는 |2-5| + |1-5| = 7  \n",
    "  따라서 (2,1)에 있는 집의 치킨 거리는 2임\n",
    "+ (5,4)에 있는 집과 (1,2)에 있는 치킨집과의 거리는 |5-1| + |4-2| = 6,  \n",
    "  (5,5)에 있는 치킨집과의 거리는 |5-5| + |4-5| = 1  \n",
    "  따라서 (5,4)에 있는 집의 치킨 거리는 1임\n",
    "<br>\n",
    "\n",
    "+ 치킨집 본사는 수익을 증가시키기 위해 일부 치킨집을 폐업시키려고 함\n",
    "+ 가장 수익을 많이 낼 수 있는 치킨집의 개수는 최대 M개\n",
    "+ 도시에 있는 치킨집 중에서 최대 M개를 고르고, 나머지 치킨집은 모두 폐업시켜야 함\n",
    "+ 어떻게 골라야 도시의 치킨 거리가 가장 작게 될지 구하는 프로그램 작성하기\n",
    "\n",
    "**입력 조건**  \n",
    "+ 첫째 줄에 N(2 <= N <= 50)과 M(1 <= M <= 13)이 주어짐\n",
    "+ 둘째 줄부터 N개의 줄에는 도시의 정보가 주어짐\n",
    "+ 도시의 정보는 0,1,2로 이루어져 있고, 0은 빈칸, 1은 집, 2는 치킨집을 의미함\n",
    "+ 집의 개수는 2N개를 넘지 않으며, 적어도 1개는 존재함\n",
    "+ 치킨집의 개수는 M보다 크거나 같고, 13보다 작거나 같음\n",
    "\n",
    "**출력 조건**  \n",
    "+ 첫째 줄에 폐업시키지 않을 치킨집을 최대 M개를 골랐을때, 도시의 치킨거리의 최솟값을 출력하기\n",
    "\n",
    "**입력 예시1**  \n",
    "5 3  \n",
    "0 0 1 0 0  \n",
    "0 0 2 0 1  \n",
    "0 1 2 0 0  \n",
    "0 0 1 0 0  \n",
    "0 0 0 0 2  \n",
    "\n",
    "**출력 예시1**  \n",
    "5  \n",
    "\n",
    "**입력 예시2**  \n",
    "5 2  \n",
    "0 2 0 1 0  \n",
    "1 0 1 0 0  \n",
    "0 0 0 0 0  \n",
    "2 0 0 1 1  \n",
    "2 2 0 1 2  \n",
    "\n",
    "**출력 예시2**  \n",
    "10  \n",
    "\n",
    "**입력 예시3**  \n",
    "5 1  \n",
    "1 2 0 0 0  \n",
    "1 2 0 0 0  \n",
    "1 2 0 0 0  \n",
    "1 2 0 0 0  \n",
    "1 2 0 0 0  \n",
    "\n",
    "**출력 예시3**  \n",
    "11  \n",
    "\n",
    "**입력 예시4**  \n",
    "5 1  \n",
    "1 2 0 2 1  \n",
    "1 2 0 2 1  \n",
    "1 2 0 2 1  \n",
    "1 2 0 2 1  \n",
    "1 2 0 2 1  \n",
    "\n",
    "**출력 예시4**  \n",
    "32"
   ]
  },
  {
   "cell_type": "code",
   "execution_count": 26,
   "id": "722303e1",
   "metadata": {},
   "outputs": [
    {
     "name": "stdout",
     "output_type": "stream",
     "text": [
      "5 3\n",
      "0 0 1 0 0\n",
      "0 0 2 0 1\n",
      "0 1 2 0 0\n",
      "0 0 1 0 0\n",
      "0 0 0 0 2\n"
     ]
    },
    {
     "data": {
      "text/plain": [
       "[[0, 0, 1, 0, 0],\n",
       " [0, 0, 2, 0, 1],\n",
       " [0, 1, 2, 0, 0],\n",
       " [0, 0, 1, 0, 0],\n",
       " [0, 0, 0, 0, 2]]"
      ]
     },
     "execution_count": 26,
     "metadata": {},
     "output_type": "execute_result"
    }
   ],
   "source": [
    "n, m = map(int, input().split())\n",
    "\n",
    "city_info = []\n",
    "for _ in range(n):\n",
    "    c = list(map(int, input().split()))\n",
    "    city_info.append(c)\n",
    "city_info"
   ]
  },
  {
   "cell_type": "code",
   "execution_count": 28,
   "id": "a8ade51d",
   "metadata": {},
   "outputs": [
    {
     "data": {
      "text/plain": [
       "[[1, 3], [2, 5], [3, 2], [4, 3]]"
      ]
     },
     "execution_count": 28,
     "metadata": {},
     "output_type": "execute_result"
    }
   ],
   "source": [
    "home = []\n",
    "chicken = []\n",
    "for i in range(n):\n",
    "    for j in range(n):\n",
    "        if city_info[i][j] == 1:\n",
    "            home.append([i+1,j+1])\n",
    "        elif city_info[i][j] == 2:\n",
    "            chicken.append([i+1,j+1])\n",
    "home"
   ]
  },
  {
   "cell_type": "code",
   "execution_count": 29,
   "id": "9d9267c9",
   "metadata": {},
   "outputs": [
    {
     "data": {
      "text/plain": [
       "[[2, 3], [3, 3], [5, 5]]"
      ]
     },
     "execution_count": 29,
     "metadata": {},
     "output_type": "execute_result"
    }
   ],
   "source": [
    "chicken"
   ]
  },
  {
   "cell_type": "code",
   "execution_count": 37,
   "id": "a17b2cbc",
   "metadata": {},
   "outputs": [
    {
     "data": {
      "text/plain": [
       "[[[2, 3], [3, 3], [5, 5]]]"
      ]
     },
     "execution_count": 37,
     "metadata": {},
     "output_type": "execute_result"
    }
   ],
   "source": [
    "import itertools\n",
    "nCr = itertools.combinations(chicken, m)\n",
    "combination = []\n",
    "for c in nCr:\n",
    "    combination.append(list(c))\n",
    "\n",
    "combination"
   ]
  },
  {
   "cell_type": "code",
   "execution_count": 49,
   "id": "c4e6012c",
   "metadata": {},
   "outputs": [
    {
     "data": {
      "text/plain": [
       "5"
      ]
     },
     "execution_count": 49,
     "metadata": {},
     "output_type": "execute_result"
    }
   ],
   "source": [
    "distance = []\n",
    "for i in range(len(combination)):\n",
    "    for j in range(len(home)):\n",
    "        x1 = home[j][0]\n",
    "        y1 = home[j][1]\n",
    "        dis = []\n",
    "        for k in range(len(combination[i])):\n",
    "            x2 = combination[i][k][0]\n",
    "            y2 = combination[i][k][1]\n",
    "            d = abs(x1-x2) + abs(y1-y2)\n",
    "            dis.append(d)\n",
    "        distance.append(dis)\n",
    "#distance # [[1, 2, 6], [2, 3, 3], [2, 1, 5], [2, 1, 3]]\n",
    "\n",
    "result = 0\n",
    "for i in range(len(distance)):\n",
    "    result += min(distance[i])\n",
    "result"
   ]
  },
  {
   "cell_type": "code",
   "execution_count": 50,
   "id": "984b7999",
   "metadata": {},
   "outputs": [
    {
     "name": "stdout",
     "output_type": "stream",
     "text": [
      "5 3\n",
      "0 0 1 0 0\n",
      "0 0 2 0 1\n",
      "0 1 2 0 0\n",
      "0 0 1 0 0\n",
      "0 0 0 0 2\n"
     ]
    },
    {
     "data": {
      "text/plain": [
       "5"
      ]
     },
     "execution_count": 50,
     "metadata": {},
     "output_type": "execute_result"
    }
   ],
   "source": [
    "n, m = map(int, input().split())\n",
    "\n",
    "city_info = []\n",
    "for _ in range(n):\n",
    "    c = list(map(int, input().split()))\n",
    "    city_info.append(c)\n",
    "    \n",
    "home = []\n",
    "chicken = []\n",
    "for i in range(n):\n",
    "    for j in range(n):\n",
    "        if city_info[i][j] == 1:\n",
    "            home.append([i+1,j+1])\n",
    "        elif city_info[i][j] == 2:\n",
    "            chicken.append([i+1,j+1])\n",
    "            \n",
    "import itertools\n",
    "nCr = itertools.combinations(chicken, m)\n",
    "combination = []\n",
    "for c in nCr:\n",
    "    combination.append(list(c))\n",
    "\n",
    "distance = []\n",
    "for i in range(len(combination)):\n",
    "    for j in range(len(home)):\n",
    "        x1 = home[j][0]\n",
    "        y1 = home[j][1]\n",
    "        dis = []\n",
    "        for k in range(len(combination[i])):\n",
    "            x2 = combination[i][k][0]\n",
    "            y2 = combination[i][k][1]\n",
    "            d = abs(x1-x2) + abs(y1-y2)\n",
    "            dis.append(d)\n",
    "        distance.append(dis)\n",
    "#distance # [[1, 2, 6], [2, 3, 3], [2, 1, 5], [2, 1, 3]]\n",
    "\n",
    "result = 0\n",
    "for i in range(len(distance)):\n",
    "    result += min(distance[i])\n",
    "result"
   ]
  },
  {
   "cell_type": "code",
   "execution_count": null,
   "id": "6f466c24",
   "metadata": {},
   "outputs": [],
   "source": [
    "# 예시 2번"
   ]
  },
  {
   "cell_type": "code",
   "execution_count": 52,
   "id": "f4a36a11",
   "metadata": {},
   "outputs": [
    {
     "name": "stdout",
     "output_type": "stream",
     "text": [
      "5 2\n",
      "0 2 0 1 0\n",
      "1 0 1 0 0\n",
      "0 0 0 0 0\n",
      "2 0 0 1 1\n",
      "2 2 0 1 2\n"
     ]
    }
   ],
   "source": [
    "n, m = map(int, input().split())\n",
    "\n",
    "city_info = []\n",
    "for _ in range(n):\n",
    "    c = list(map(int, input().split()))\n",
    "    city_info.append(c)\n",
    "    \n",
    "home = []\n",
    "chicken = []\n",
    "for i in range(n):\n",
    "    for j in range(n):\n",
    "        if city_info[i][j] == 1:\n",
    "            home.append([i+1,j+1])\n",
    "        elif city_info[i][j] == 2:\n",
    "            chicken.append([i+1,j+1])\n",
    "            \n"
   ]
  },
  {
   "cell_type": "code",
   "execution_count": 53,
   "id": "b4249583",
   "metadata": {},
   "outputs": [
    {
     "data": {
      "text/plain": [
       "[[[1, 2], [4, 1]],\n",
       " [[1, 2], [5, 1]],\n",
       " [[1, 2], [5, 2]],\n",
       " [[1, 2], [5, 5]],\n",
       " [[4, 1], [5, 1]],\n",
       " [[4, 1], [5, 2]],\n",
       " [[4, 1], [5, 5]],\n",
       " [[5, 1], [5, 2]],\n",
       " [[5, 1], [5, 5]],\n",
       " [[5, 2], [5, 5]]]"
      ]
     },
     "execution_count": 53,
     "metadata": {},
     "output_type": "execute_result"
    }
   ],
   "source": [
    "import itertools\n",
    "nCr = itertools.combinations(chicken, m)\n",
    "combination = []\n",
    "for c in nCr:\n",
    "    combination.append(list(c))\n",
    "combination"
   ]
  },
  {
   "cell_type": "code",
   "execution_count": 62,
   "id": "31047360",
   "metadata": {},
   "outputs": [
    {
     "data": {
      "text/plain": [
       "10"
      ]
     },
     "execution_count": 62,
     "metadata": {},
     "output_type": "execute_result"
    }
   ],
   "source": [
    "distance = []\n",
    "for i in range(len(combination)):\n",
    "    dist = []\n",
    "    for j in range(len(home)):\n",
    "        x1 = home[j][0]\n",
    "        y1 = home[j][1]\n",
    "        dis = []\n",
    "        for k in range(len(combination[i])):\n",
    "            x2 = combination[i][k][0]\n",
    "            y2 = combination[i][k][1]\n",
    "            d = abs(x1-x2) + abs(y1-y2)\n",
    "            dis.append(d)\n",
    "        dist.append(dis)\n",
    "    distance.append(dist)\n",
    "#distance \n",
    "'''\n",
    "[[[2, 6], [2, 2], [2, 4], [5, 3], [6, 4], [6, 4]],\n",
    " [[2, 7], [2, 3], [2, 5], [5, 4], [6, 5], [6, 3]],\n",
    " [[2, 6], [2, 4], [2, 4], [5, 3], [6, 4], [6, 2]],\n",
    " [[2, 5], [2, 7], [2, 5], [5, 2], [6, 1], [6, 1]],\n",
    " [[6, 7], [2, 3], [4, 5], [3, 4], [4, 5], [4, 3]],\n",
    " [[6, 6], [2, 4], [4, 4], [3, 3], [4, 4], [4, 2]],\n",
    " [[6, 5], [2, 7], [4, 5], [3, 2], [4, 1], [4, 1]],\n",
    " [[7, 6], [3, 4], [5, 4], [4, 3], [5, 4], [3, 2]],\n",
    " [[7, 5], [3, 7], [5, 5], [4, 2], [5, 1], [3, 1]],\n",
    " [[6, 5], [4, 7], [4, 5], [3, 2], [4, 1], [2, 1]]]\n",
    "'''\n",
    "\n",
    "min_values = []\n",
    "for i in range(len(distance[0])):\n",
    "    # 각 세로 줄에서 최솟값을 찾아서 리스트에 저장\n",
    "    min_value = min(distance[j][i] for j in range(len(distance)))\n",
    "    min_values.append(min_value)\n",
    "\n",
    "#print(min_values) [[2, 5], [2, 2], [2, 4], [3, 2], [4, 1], [2, 1]]\n",
    "\n",
    "result = 0\n",
    "for i in range(len(min_values)):\n",
    "    result += min(min_values[i])\n",
    "result"
   ]
  },
  {
   "cell_type": "code",
   "execution_count": 64,
   "id": "54a13d2a",
   "metadata": {},
   "outputs": [
    {
     "name": "stdout",
     "output_type": "stream",
     "text": [
      "5 2\n",
      "0 2 0 1 0\n",
      "1 0 1 0 0\n",
      "0 0 0 0 0\n",
      "2 0 0 1 1\n",
      "2 2 0 1 2\n"
     ]
    },
    {
     "data": {
      "text/plain": [
       "10"
      ]
     },
     "execution_count": 64,
     "metadata": {},
     "output_type": "execute_result"
    }
   ],
   "source": [
    "n, m = map(int, input().split())\n",
    "\n",
    "city_info = []\n",
    "for _ in range(n):\n",
    "    c = list(map(int, input().split()))\n",
    "    city_info.append(c)\n",
    "    \n",
    "home = []\n",
    "chicken = []\n",
    "for i in range(n):\n",
    "    for j in range(n):\n",
    "        if city_info[i][j] == 1:\n",
    "            home.append([i+1,j+1])\n",
    "        elif city_info[i][j] == 2:\n",
    "            chicken.append([i+1,j+1])\n",
    "            \n",
    "import itertools\n",
    "nCr = itertools.combinations(chicken, m)\n",
    "combination = []\n",
    "for c in nCr:\n",
    "    combination.append(list(c))\n",
    "\n",
    "distance = []\n",
    "for i in range(len(combination)):\n",
    "    dist = []\n",
    "    for j in range(len(home)):\n",
    "        x1 = home[j][0]\n",
    "        y1 = home[j][1]\n",
    "        dis = []\n",
    "        for k in range(len(combination[i])):\n",
    "            x2 = combination[i][k][0]\n",
    "            y2 = combination[i][k][1]\n",
    "            d = abs(x1-x2) + abs(y1-y2)\n",
    "            dis.append(d)\n",
    "        dist.append(dis)\n",
    "    distance.append(dist)\n",
    "\n",
    "min_values = []\n",
    "for i in range(len(distance[0])):\n",
    "    # 각 세로 줄에서 최솟값을 찾아서 리스트에 저장\n",
    "    min_value = min(distance[j][i] for j in range(len(distance)))\n",
    "    min_values.append(min_value)\n",
    "\n",
    "#print(min_values) [[2, 5], [2, 2], [2, 4], [3, 2], [4, 1], [2, 1]]\n",
    "\n",
    "result = 0\n",
    "for i in range(len(min_values)):\n",
    "    result += min(min_values[i])\n",
    "result"
   ]
  },
  {
   "cell_type": "code",
   "execution_count": 100,
   "id": "66876b68",
   "metadata": {},
   "outputs": [
    {
     "name": "stdout",
     "output_type": "stream",
     "text": [
      "5 2\n",
      "0 2 0 1 0\n",
      "1 0 1 0 0\n",
      "0 0 0 0 0\n",
      "2 0 0 1 1\n",
      "2 2 0 1 2\n"
     ]
    },
    {
     "data": {
      "text/plain": [
       "'\\n[[[2, 6], [2, 2], [2, 4], [5, 3], [6, 4], [6, 4]],\\n [[2, 7], [2, 3], [2, 5], [5, 4], [6, 5], [6, 3]],\\n [[2, 6], [2, 4], [2, 4], [5, 3], [6, 4], [6, 2]],\\n [[2, 5], [2, 7], [2, 5], [5, 2], [6, 1], [6, 1]],\\n [[6, 7], [2, 3], [4, 5], [3, 4], [4, 5], [4, 3]],\\n [[6, 6], [2, 4], [4, 4], [3, 3], [4, 4], [4, 2]],\\n [[6, 5], [2, 7], [4, 5], [3, 2], [4, 1], [4, 1]],\\n [[7, 6], [3, 4], [5, 4], [4, 3], [5, 4], [3, 2]],\\n [[7, 5], [3, 7], [5, 5], [4, 2], [5, 1], [3, 1]],\\n [[6, 5], [4, 7], [4, 5], [3, 2], [4, 1], [2, 1]]]\\n'"
      ]
     },
     "execution_count": 100,
     "metadata": {},
     "output_type": "execute_result"
    }
   ],
   "source": [
    "#예시2번\n",
    "n, m = map(int, input().split())\n",
    "\n",
    "city_info = []\n",
    "for _ in range(n):\n",
    "    c = list(map(int, input().split()))\n",
    "    city_info.append(c)\n",
    "    \n",
    "home = []\n",
    "chicken = []\n",
    "for i in range(n):\n",
    "    for j in range(n):\n",
    "        if city_info[i][j] == 1:\n",
    "            home.append([i+1,j+1])\n",
    "        elif city_info[i][j] == 2:\n",
    "            chicken.append([i+1,j+1])\n",
    "            \n",
    "import itertools\n",
    "nCr = itertools.combinations(chicken, m)\n",
    "combination = []\n",
    "for c in nCr:\n",
    "    combination.append(list(c))\n",
    "\n",
    "distance = []\n",
    "for i in range(len(combination)):\n",
    "    dist = []\n",
    "    for j in range(len(home)):\n",
    "        x1 = home[j][0]\n",
    "        y1 = home[j][1]\n",
    "        dis = []\n",
    "        for k in range(len(combination[i])):\n",
    "            x2 = combination[i][k][0]\n",
    "            y2 = combination[i][k][1]\n",
    "            d = abs(x1-x2) + abs(y1-y2)\n",
    "            dis.append(d)\n",
    "        dist.append(dis)\n",
    "    distance.append(dist)\n",
    "#distance \n",
    "'''\n",
    "[[[2, 6], [2, 2], [2, 4], [5, 3], [6, 4], [6, 4]],\n",
    " [[2, 7], [2, 3], [2, 5], [5, 4], [6, 5], [6, 3]],\n",
    " [[2, 6], [2, 4], [2, 4], [5, 3], [6, 4], [6, 2]],\n",
    " [[2, 5], [2, 7], [2, 5], [5, 2], [6, 1], [6, 1]],\n",
    " [[6, 7], [2, 3], [4, 5], [3, 4], [4, 5], [4, 3]],\n",
    " [[6, 6], [2, 4], [4, 4], [3, 3], [4, 4], [4, 2]],\n",
    " [[6, 5], [2, 7], [4, 5], [3, 2], [4, 1], [4, 1]],\n",
    " [[7, 6], [3, 4], [5, 4], [4, 3], [5, 4], [3, 2]],\n",
    " [[7, 5], [3, 7], [5, 5], [4, 2], [5, 1], [3, 1]],\n",
    " [[6, 5], [4, 7], [4, 5], [3, 2], [4, 1], [2, 1]]]\n",
    "'''\n"
   ]
  },
  {
   "cell_type": "code",
   "execution_count": 110,
   "id": "fe9cb123",
   "metadata": {},
   "outputs": [
    {
     "data": {
      "text/plain": [
       "10"
      ]
     },
     "execution_count": 110,
     "metadata": {},
     "output_type": "execute_result"
    }
   ],
   "source": [
    "\n",
    "import numpy as np\n",
    "\n",
    "min_v = []\n",
    "for i in range(len(distance)):\n",
    "    min_values = 0\n",
    "    for j in distance[i]:\n",
    "        #print(j)\n",
    "        a = min(j)\n",
    "        min_values += a\n",
    "    min_v.append(min_values)\n",
    "#min_v # [4, 5, 6, 7, 5, 6, 9, 5, 4, 3]\n",
    "\n",
    "result = min(min_v)\n",
    "result\n",
    "# min_value = min(min_values)\n",
    "\n",
    "# # 최솟값의 인덱스 찾기\n",
    "# min_index = min_values.index(min_value)\n",
    "# min_index # 9\n",
    "\n",
    "# #[[6, 5], [4, 7], [4, 5], [3, 2], [4, 1], [2, 1]]]\n",
    "# result = 0\n",
    "# for i in range(len(distance[min_index])):\n",
    "#     result += min(distance[min_index][i])\n",
    "#     print(result)\n",
    "#     # 5+4+4+2+1+1 = 17\n",
    "\n",
    "# min_values = []\n",
    "# for i in range(len(distance[0])):\n",
    "#     # 각 세로 줄에서 최솟값을 찾아서 리스트에 저장\n",
    "#     min_value = min(distance[j][i] for j in range(len(distance)))\n",
    "#     min_values.append(min_value)\n",
    "\n",
    "# #print(min_values) [[2, 5], [2, 2], [2, 4], [3, 2], [4, 1], [2, 1]]\n",
    "\n",
    "# result = 0\n",
    "# for i in range(len(min_values)):\n",
    "#     result += min(min_values[i])\n",
    "# result"
   ]
  },
  {
   "cell_type": "code",
   "execution_count": 68,
   "id": "245b7c80",
   "metadata": {},
   "outputs": [
    {
     "name": "stdout",
     "output_type": "stream",
     "text": [
      "5 1\n",
      "1 2 0 0 0\n",
      "1 2 0 0 0\n",
      "1 2 0 0 0\n",
      "1 2 0 0 0\n",
      "1 2 0 0 0\n"
     ]
    },
    {
     "data": {
      "text/plain": [
       "[[[1], [2], [3], [4], [5]],\n",
       " [[2], [1], [2], [3], [4]],\n",
       " [[3], [2], [1], [2], [3]],\n",
       " [[4], [3], [2], [1], [2]],\n",
       " [[5], [4], [3], [2], [1]]]"
      ]
     },
     "execution_count": 68,
     "metadata": {},
     "output_type": "execute_result"
    }
   ],
   "source": [
    "# 예시3번\n",
    "n, m = map(int, input().split())\n",
    "\n",
    "city_info = []\n",
    "for _ in range(n):\n",
    "    c = list(map(int, input().split()))\n",
    "    city_info.append(c)\n",
    "    \n",
    "home = []\n",
    "chicken = []\n",
    "for i in range(n):\n",
    "    for j in range(n):\n",
    "        if city_info[i][j] == 1:\n",
    "            home.append([i+1,j+1])\n",
    "        elif city_info[i][j] == 2:\n",
    "            chicken.append([i+1,j+1])\n",
    "            \n",
    "import itertools\n",
    "nCr = itertools.combinations(chicken, m)\n",
    "combination = []\n",
    "for c in nCr:\n",
    "    combination.append(list(c))\n",
    "#combination # [[[1, 2]], [[2, 2]], [[3, 2]], [[4, 2]], [[5, 2]]]\n",
    "\n",
    "distance = []\n",
    "for i in range(len(combination)):\n",
    "    dist = []\n",
    "    for j in range(len(home)):\n",
    "        x1 = home[j][0]\n",
    "        y1 = home[j][1]\n",
    "        dis = []\n",
    "        for k in range(len(combination[i])):\n",
    "            x2 = combination[i][k][0]\n",
    "            y2 = combination[i][k][1]\n",
    "            d = abs(x1-x2) + abs(y1-y2)\n",
    "            dis.append(d)\n",
    "        dist.append(dis)\n",
    "    distance.append(dist)\n",
    "distance\n",
    "# min_values = []\n",
    "# for i in range(len(distance[0])):\n",
    "#     # 각 세로 줄에서 최솟값을 찾아서 리스트에 저장\n",
    "#     min_value = min(distance[j][i] for j in range(len(distance)))\n",
    "#     min_values.append(min_value)\n",
    "\n",
    "# #print(min_values) [[2, 5], [2, 2], [2, 4], [3, 2], [4, 1], [2, 1]]\n",
    "\n",
    "# result = 0\n",
    "# for i in range(len(min_values)):\n",
    "#     result += min(min_values[i])\n",
    "# result"
   ]
  },
  {
   "cell_type": "code",
   "execution_count": 66,
   "id": "ff0d9bab",
   "metadata": {},
   "outputs": [
    {
     "name": "stdout",
     "output_type": "stream",
     "text": [
      "5 1\n",
      "1 2 0 2 1\n",
      "1 2 0 2 1\n",
      "1 2 0 2 1\n",
      "1 2 0 2 1\n",
      "1 2 0 2 1\n"
     ]
    },
    {
     "data": {
      "text/plain": [
       "10"
      ]
     },
     "execution_count": 66,
     "metadata": {},
     "output_type": "execute_result"
    }
   ],
   "source": [
    "# 예시4번\n",
    "n, m = map(int, input().split())\n",
    "\n",
    "city_info = []\n",
    "for _ in range(n):\n",
    "    c = list(map(int, input().split()))\n",
    "    city_info.append(c)\n",
    "    \n",
    "home = []\n",
    "chicken = []\n",
    "for i in range(n):\n",
    "    for j in range(n):\n",
    "        if city_info[i][j] == 1:\n",
    "            home.append([i+1,j+1])\n",
    "        elif city_info[i][j] == 2:\n",
    "            chicken.append([i+1,j+1])\n",
    "            \n",
    "import itertools\n",
    "nCr = itertools.combinations(chicken, m)\n",
    "combination = []\n",
    "for c in nCr:\n",
    "    combination.append(list(c))\n",
    "\n",
    "distance = []\n",
    "for i in range(len(combination)):\n",
    "    dist = []\n",
    "    for j in range(len(home)):\n",
    "        x1 = home[j][0]\n",
    "        y1 = home[j][1]\n",
    "        dis = []\n",
    "        for k in range(len(combination[i])):\n",
    "            x2 = combination[i][k][0]\n",
    "            y2 = combination[i][k][1]\n",
    "            d = abs(x1-x2) + abs(y1-y2)\n",
    "            dis.append(d)\n",
    "        dist.append(dis)\n",
    "    distance.append(dist)\n",
    "\n",
    "min_values = []\n",
    "for i in range(len(distance[0])):\n",
    "    # 각 세로 줄에서 최솟값을 찾아서 리스트에 저장\n",
    "    min_value = min(distance[j][i] for j in range(len(distance)))\n",
    "    min_values.append(min_value)\n",
    "\n",
    "#print(min_values) \n",
    "\n",
    "result = 0\n",
    "for i in range(len(min_values)):\n",
    "    result += min(min_values[i])\n",
    "result"
   ]
  },
  {
   "cell_type": "code",
   "execution_count": 111,
   "id": "8560a7dc",
   "metadata": {},
   "outputs": [
    {
     "name": "stdout",
     "output_type": "stream",
     "text": [
      "5 3\n",
      "0 0 1 0 0\n",
      "0 0 2 0 1\n",
      "0 1 2 0 0\n",
      "0 0 1 0 0\n",
      "0 0 0 0 2\n"
     ]
    },
    {
     "data": {
      "text/plain": [
       "5"
      ]
     },
     "execution_count": 111,
     "metadata": {},
     "output_type": "execute_result"
    }
   ],
   "source": [
    "n, m = map(int, input().split())\n",
    "\n",
    "city_info = []\n",
    "for _ in range(n):\n",
    "    c = list(map(int, input().split()))\n",
    "    city_info.append(c)\n",
    "    \n",
    "home = []\n",
    "chicken = []\n",
    "for i in range(n):\n",
    "    for j in range(n):\n",
    "        if city_info[i][j] == 1:\n",
    "            home.append([i+1,j+1])\n",
    "        elif city_info[i][j] == 2:\n",
    "            chicken.append([i+1,j+1])\n",
    "            \n",
    "import itertools\n",
    "nCr = itertools.combinations(chicken, m)\n",
    "combination = []\n",
    "for c in nCr:\n",
    "    combination.append(list(c))\n",
    "\n",
    "distance = []\n",
    "for i in range(len(combination)):\n",
    "    dist = []\n",
    "    for j in range(len(home)):\n",
    "        x1 = home[j][0]\n",
    "        y1 = home[j][1]\n",
    "        dis = []\n",
    "        for k in range(len(combination[i])):\n",
    "            x2 = combination[i][k][0]\n",
    "            y2 = combination[i][k][1]\n",
    "            d = abs(x1-x2) + abs(y1-y2)\n",
    "            dis.append(d)\n",
    "        dist.append(dis)\n",
    "    distance.append(dist)\n",
    "\n",
    "min_v = []\n",
    "for i in range(len(distance)):\n",
    "    min_values = 0\n",
    "    for j in distance[i]:\n",
    "        #print(j)\n",
    "        a = min(j)\n",
    "        min_values += a\n",
    "    min_v.append(min_values)\n",
    "#min_v # [4, 5, 6, 7, 5, 6, 9, 5, 4, 3]\n",
    "\n",
    "result = min(min_v)\n",
    "result"
   ]
  },
  {
   "cell_type": "code",
   "execution_count": 112,
   "id": "5f25f667",
   "metadata": {},
   "outputs": [
    {
     "name": "stdout",
     "output_type": "stream",
     "text": [
      "5 2\n",
      "0 2 0 1 0\n",
      "1 0 1 0 0\n",
      "0 0 0 0 0\n",
      "2 0 0 1 1\n",
      "2 2 0 1 2\n"
     ]
    },
    {
     "data": {
      "text/plain": [
       "10"
      ]
     },
     "execution_count": 112,
     "metadata": {},
     "output_type": "execute_result"
    }
   ],
   "source": [
    "n, m = map(int, input().split())\n",
    "\n",
    "city_info = []\n",
    "for _ in range(n):\n",
    "    c = list(map(int, input().split()))\n",
    "    city_info.append(c)\n",
    "    \n",
    "home = []\n",
    "chicken = []\n",
    "for i in range(n):\n",
    "    for j in range(n):\n",
    "        if city_info[i][j] == 1:\n",
    "            home.append([i+1,j+1])\n",
    "        elif city_info[i][j] == 2:\n",
    "            chicken.append([i+1,j+1])\n",
    "            \n",
    "import itertools\n",
    "nCr = itertools.combinations(chicken, m)\n",
    "combination = []\n",
    "for c in nCr:\n",
    "    combination.append(list(c))\n",
    "\n",
    "distance = []\n",
    "for i in range(len(combination)):\n",
    "    dist = []\n",
    "    for j in range(len(home)):\n",
    "        x1 = home[j][0]\n",
    "        y1 = home[j][1]\n",
    "        dis = []\n",
    "        for k in range(len(combination[i])):\n",
    "            x2 = combination[i][k][0]\n",
    "            y2 = combination[i][k][1]\n",
    "            d = abs(x1-x2) + abs(y1-y2)\n",
    "            dis.append(d)\n",
    "        dist.append(dis)\n",
    "    distance.append(dist)\n",
    "\n",
    "min_v = []\n",
    "for i in range(len(distance)):\n",
    "    min_values = 0\n",
    "    for j in distance[i]:\n",
    "        #print(j)\n",
    "        a = min(j)\n",
    "        min_values += a\n",
    "    min_v.append(min_values)\n",
    "#min_v # [4, 5, 6, 7, 5, 6, 9, 5, 4, 3]\n",
    "\n",
    "result = min(min_v)\n",
    "result"
   ]
  },
  {
   "cell_type": "code",
   "execution_count": 113,
   "id": "60c63d10",
   "metadata": {},
   "outputs": [
    {
     "name": "stdout",
     "output_type": "stream",
     "text": [
      "5 1\n",
      "1 2 0 0 0\n",
      "1 2 0 0 0\n",
      "1 2 0 0 0\n",
      "1 2 0 0 0\n",
      "1 2 0 0 0\n"
     ]
    },
    {
     "data": {
      "text/plain": [
       "11"
      ]
     },
     "execution_count": 113,
     "metadata": {},
     "output_type": "execute_result"
    }
   ],
   "source": [
    "n, m = map(int, input().split())\n",
    "\n",
    "city_info = []\n",
    "for _ in range(n):\n",
    "    c = list(map(int, input().split()))\n",
    "    city_info.append(c)\n",
    "    \n",
    "home = []\n",
    "chicken = []\n",
    "for i in range(n):\n",
    "    for j in range(n):\n",
    "        if city_info[i][j] == 1:\n",
    "            home.append([i+1,j+1])\n",
    "        elif city_info[i][j] == 2:\n",
    "            chicken.append([i+1,j+1])\n",
    "            \n",
    "import itertools\n",
    "nCr = itertools.combinations(chicken, m)\n",
    "combination = []\n",
    "for c in nCr:\n",
    "    combination.append(list(c))\n",
    "\n",
    "distance = []\n",
    "for i in range(len(combination)):\n",
    "    dist = []\n",
    "    for j in range(len(home)):\n",
    "        x1 = home[j][0]\n",
    "        y1 = home[j][1]\n",
    "        dis = []\n",
    "        for k in range(len(combination[i])):\n",
    "            x2 = combination[i][k][0]\n",
    "            y2 = combination[i][k][1]\n",
    "            d = abs(x1-x2) + abs(y1-y2)\n",
    "            dis.append(d)\n",
    "        dist.append(dis)\n",
    "    distance.append(dist)\n",
    "\n",
    "min_v = []\n",
    "for i in range(len(distance)):\n",
    "    min_values = 0\n",
    "    for j in distance[i]:\n",
    "        #print(j)\n",
    "        a = min(j)\n",
    "        min_values += a\n",
    "    min_v.append(min_values)\n",
    "#min_v # [4, 5, 6, 7, 5, 6, 9, 5, 4, 3]\n",
    "\n",
    "result = min(min_v)\n",
    "result"
   ]
  },
  {
   "cell_type": "code",
   "execution_count": 114,
   "id": "b68d45ed",
   "metadata": {},
   "outputs": [
    {
     "name": "stdout",
     "output_type": "stream",
     "text": [
      "5 1\n",
      "1 2 0 2 1\n",
      "1 2 0 2 1\n",
      "1 2 0 2 1\n",
      "1 2 0 2 1\n",
      "1 2 0 2 1\n"
     ]
    },
    {
     "data": {
      "text/plain": [
       "32"
      ]
     },
     "execution_count": 114,
     "metadata": {},
     "output_type": "execute_result"
    }
   ],
   "source": [
    "n, m = map(int, input().split())\n",
    "\n",
    "city_info = []\n",
    "for _ in range(n):\n",
    "    c = list(map(int, input().split()))\n",
    "    city_info.append(c)\n",
    "    \n",
    "home = []\n",
    "chicken = []\n",
    "for i in range(n):\n",
    "    for j in range(n):\n",
    "        if city_info[i][j] == 1:\n",
    "            home.append([i+1,j+1])\n",
    "        elif city_info[i][j] == 2:\n",
    "            chicken.append([i+1,j+1])\n",
    "            \n",
    "import itertools\n",
    "nCr = itertools.combinations(chicken, m)\n",
    "combination = []\n",
    "for c in nCr:\n",
    "    combination.append(list(c))\n",
    "\n",
    "distance = []\n",
    "for i in range(len(combination)):\n",
    "    dist = []\n",
    "    for j in range(len(home)):\n",
    "        x1 = home[j][0]\n",
    "        y1 = home[j][1]\n",
    "        dis = []\n",
    "        for k in range(len(combination[i])):\n",
    "            x2 = combination[i][k][0]\n",
    "            y2 = combination[i][k][1]\n",
    "            d = abs(x1-x2) + abs(y1-y2)\n",
    "            dis.append(d)\n",
    "        dist.append(dis)\n",
    "    distance.append(dist)\n",
    "\n",
    "min_v = []\n",
    "for i in range(len(distance)):\n",
    "    min_values = 0\n",
    "    for j in distance[i]:\n",
    "        #print(j)\n",
    "        a = min(j)\n",
    "        min_values += a\n",
    "    min_v.append(min_values)\n",
    "#min_v # [4, 5, 6, 7, 5, 6, 9, 5, 4, 3]\n",
    "\n",
    "result = min(min_v)\n",
    "result"
   ]
  },
  {
   "cell_type": "code",
   "execution_count": null,
   "id": "53c49b58",
   "metadata": {},
   "outputs": [],
   "source": [
    "input:\n",
    "4 1\n",
    "2 0 1 0\n",
    "0 1 0 0\n",
    "1 0 0 0\n",
    "2 0 0 0\n",
    "output:\n",
    "9\n",
    "ans:\n",
    "6"
   ]
  },
  {
   "cell_type": "code",
   "execution_count": 116,
   "id": "de25da94",
   "metadata": {},
   "outputs": [
    {
     "name": "stdout",
     "output_type": "stream",
     "text": [
      "4 1\n",
      "2 0 1 0\n",
      "0 1 0 0\n",
      "1 0 0 0\n",
      "2 0 0 0\n"
     ]
    },
    {
     "data": {
      "text/plain": [
       "6"
      ]
     },
     "execution_count": 116,
     "metadata": {},
     "output_type": "execute_result"
    }
   ],
   "source": [
    "n, m = map(int, input().split())\n",
    "\n",
    "city_info = []\n",
    "for _ in range(n):\n",
    "    c = list(map(int, input().split()))\n",
    "    city_info.append(c)\n",
    "    \n",
    "home = []\n",
    "chicken = []\n",
    "for i in range(n):\n",
    "    for j in range(n):\n",
    "        if city_info[i][j] == 1:\n",
    "            home.append([i+1,j+1])\n",
    "        elif city_info[i][j] == 2:\n",
    "            chicken.append([i+1,j+1])\n",
    "            \n",
    "import itertools\n",
    "nCr = itertools.combinations(chicken, m)\n",
    "combination = []\n",
    "for c in nCr:\n",
    "    combination.append(list(c))\n",
    "\n",
    "distance = []\n",
    "for i in range(len(combination)):\n",
    "    dist = []\n",
    "    for j in range(len(home)):\n",
    "        x1 = home[j][0]\n",
    "        y1 = home[j][1]\n",
    "        dis = []\n",
    "        for k in range(len(combination[i])):\n",
    "            x2 = combination[i][k][0]\n",
    "            y2 = combination[i][k][1]\n",
    "            d = abs(x1-x2) + abs(y1-y2)\n",
    "            dis.append(d)\n",
    "        dist.append(dis)\n",
    "    distance.append(dist)\n",
    "\n",
    "min_v = []\n",
    "for i in range(len(distance)):\n",
    "    min_values = 0\n",
    "    for j in distance[i]:\n",
    "        #print(j)\n",
    "        a = min(j)\n",
    "        min_values += a\n",
    "    min_v.append(min_values)\n",
    "#min_v # [4, 5, 6, 7, 5, 6, 9, 5, 4, 3]\n",
    "\n",
    "result = min(min_v)\n",
    "result\n"
   ]
  }
 ],
 "metadata": {
  "kernelspec": {
   "display_name": "Python 3 (ipykernel)",
   "language": "python",
   "name": "python3"
  },
  "language_info": {
   "codemirror_mode": {
    "name": "ipython",
    "version": 3
   },
   "file_extension": ".py",
   "mimetype": "text/x-python",
   "name": "python",
   "nbconvert_exporter": "python",
   "pygments_lexer": "ipython3",
   "version": "3.11.5"
  }
 },
 "nbformat": 4,
 "nbformat_minor": 5
}
