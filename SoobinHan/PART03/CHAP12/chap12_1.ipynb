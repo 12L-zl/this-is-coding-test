{
 "cells": [
  {
   "cell_type": "markdown",
   "id": "97a501c9-bb33-474d-b771-204d09e7cce2",
   "metadata": {},
   "source": [
    "### 럭키 스트레이트"
   ]
  },
  {
   "cell_type": "markdown",
   "id": "89823e51",
   "metadata": {},
   "source": [
    "[백준 링크](https://www.acmicpc.net/problem/18406) [통과 완료]"
   ]
  },
  {
   "cell_type": "markdown",
   "id": "1dea64fa-79ee-4d9b-86a6-a37f3a104f9c",
   "metadata": {},
   "source": [
    "+ 현재 캐릭터의 점수를 N이라고 가정\n",
    "+ 자릿수를 기준으로 점수 N을 반으로 나누어 각 자릿수의 합을 더한 값이 동일한 상황일 때 사용 가능\n",
    "\n",
    "**예시**  \n",
    "현재 점수 : 123,402  \n",
    "왼쪽 부분 : 1+2+3\n",
    "오른쪽 부분 : 4+0+2\n",
    "-> 럭키스트레이트 사용 가능\n",
    "\n",
    "**입력 조건**          \n",
    "+ 첫째 줄에 점수 N이 정수로 주어짐 (10<=N<=99,999,999)\n",
    "+ 단, 점수 N의 자릿수는 항상 짝수 형태로만 주어짐(홀수 자릿수는 입력으로 들어오지않음) \n",
    "\n",
    "**출력 조건**   \n",
    "+ 첫째 줄에 럭키 스트레이트를 사용할 수 있다면 \"LUCKY\"를, 사용할 수 없다면 \"READY\" 출력  \n",
    "\n",
    "**입출력 예시 1**  \n",
    "123402 / LUCKY  \n",
    "\n",
    "**입출력 예시2**  \n",
    "7755 / READY"
   ]
  },
  {
   "cell_type": "code",
   "execution_count": 1,
   "id": "08ad2e95-c4b2-4693-877e-b92467cbdebf",
   "metadata": {},
   "outputs": [
    {
     "name": "stdout",
     "output_type": "stream",
     "text": [
      "123402\n",
      "LUCKY\n"
     ]
    }
   ],
   "source": [
    "n = list(input())\n",
    "\n",
    "# 몇자리씩 쪼갤지\n",
    "half = len(n) // 2\n",
    "\n",
    "# 각 자릿수 양쪽에 더하기\n",
    "left = 0\n",
    "right = 0\n",
    "for i in range(half):\n",
    "    left += int(n[i])\n",
    "    right += int(n[half+i])\n",
    "\n",
    "# 만약 같다면 럭키 출력, 그렇지 않다면 레디 출력\n",
    "if left == right:\n",
    "    print('LUCKY')\n",
    "else:\n",
    "    print('READY')"
   ]
  },
  {
   "cell_type": "code",
   "execution_count": 2,
   "id": "d249cca9-2fe9-4cb3-816a-43ad0914c91e",
   "metadata": {},
   "outputs": [
    {
     "name": "stdout",
     "output_type": "stream",
     "text": [
      "7755\n",
      "READY\n"
     ]
    }
   ],
   "source": [
    "n = list(input()) \n",
    "\n",
    "# 몇자리씩 쪼갤지\n",
    "half = len(n) // 2\n",
    "\n",
    "# 각 자릿수 양쪽에 더하기\n",
    "left = 0\n",
    "right = 0\n",
    "for i in range(half):\n",
    "    left += int(n[i])\n",
    "    right += int(n[half+i])\n",
    "\n",
    "# 만약 같다면 럭키 출력, 그렇지 않다면 레디 출력\n",
    "if left == right:\n",
    "    print('LUCKY')\n",
    "else:\n",
    "    print('READY')"
   ]
  },
  {
   "cell_type": "code",
   "execution_count": 3,
   "id": "b86c76b7-3871-4345-87e1-67e6e7e41f4c",
   "metadata": {},
   "outputs": [
    {
     "name": "stdout",
     "output_type": "stream",
     "text": [
      "123402\n",
      "LUCKY\n"
     ]
    }
   ],
   "source": [
    "# 조건 만족하게\n",
    "import math\n",
    "\n",
    "n = int(input())\n",
    "\n",
    "# 입력 조건 맞지 않으면 맞을때까지 다시 입력 받기\n",
    "while True:\n",
    "    if ((int(math.log10(n)) + 1)%2 == 1) | ((10>n) & (n>99999999)):\n",
    "        n = int(input())\n",
    "    else:\n",
    "        break\n",
    "       \n",
    "a = []\n",
    "for i in range(int(math.log10(n)) + 1):\n",
    "    a.append(n%10)\n",
    "    n = n // 10\n",
    "        \n",
    "# 몇자리씩 쪼갤지\n",
    "half = len(a) // 2\n",
    "\n",
    "left = 0\n",
    "right = 0\n",
    "for i in range(half):\n",
    "    left += int(a[i])\n",
    "    right += int(a[half+i])\n",
    "\n",
    "if left == right:\n",
    "    print('LUCKY')\n",
    "else:\n",
    "    print('READY')"
   ]
  },
  {
   "attachments": {
    "image.png": {
     "image/png": "[encoded data removed]"
    }
   },
   "cell_type": "markdown",
   "id": "fcfb0628",
   "metadata": {},
   "source": [
    "![image.png](attachment:image.png)"
   ]
  }
 ],
 "metadata": {
  "kernelspec": {
   "display_name": "Python 3 (ipykernel)",
   "language": "python",
   "name": "python3"
  },
  "language_info": {
   "codemirror_mode": {
    "name": "ipython",
    "version": 3
   },
   "file_extension": ".py",
   "mimetype": "text/x-python",
   "name": "python",
   "nbconvert_exporter": "python",
   "pygments_lexer": "ipython3",
   "version": "3.11.5"
  }
 },
 "nbformat": 4,
 "nbformat_minor": 5
}
