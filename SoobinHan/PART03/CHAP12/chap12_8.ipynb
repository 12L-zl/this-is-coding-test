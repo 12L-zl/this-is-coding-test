{
 "cells": [
  {
   "cell_type": "markdown",
   "id": "9391751b",
   "metadata": {},
   "source": [
    "### 외벽 점검"
   ]
  },
  {
   "cell_type": "markdown",
   "id": "27ab6b6c",
   "metadata": {},
   "source": [
    "[프로그래머스 링크 ](https://www.programmers.co.kr/learn/courses/30/lessons/60062)[]"
   ]
  },
  {
   "cell_type": "markdown",
   "id": "7ab1558b",
   "metadata": {},
   "source": [
    "+ 레스토랑의 구조는 완전히 동그란 모양이고 외벽의 총 둘레는 n미터\n",
    "+ 외벽의 몇몇 지점은 추위가 심할 경우 손상될 수도 있는 취약한 지점들이 있음\n",
    "+ 따라서 내부 공사 도중에도 외벽의 취약 지점들이 손상되지 않았는지, 주기적으로 친구들을 보내서 점검을 하기로 함\n",
    "+ 다만 빠른 공사 진행을 위해 점검 시간을 1시간으로 제한\n",
    "<br>\n",
    "\n",
    "+ 친구들이 1시간동안 이동할 수 있는 거리는 제각각이기 때문에, 최소한의 친구들을 투입해 취약 지점을 점검하고  \n",
    "  나머지 친구들은 내부 공사를 돕도록 함\n",
    "+ 편의상 레스토랑의 정북 방향 지점을 0으로 나타내며, 취약 지점의 위치는 정북 방향 지점으로부터 시계 방향으로 떨어진 거리는 나타냄\n",
    "+ 친구들은 출발지점부터 시계, 혹은 반시계 방향으로 외벽을 따라서만 이동\n",
    "<br>\n",
    "\n",
    "+ 외벽의 길이 n, 취약 지점의 위치가 담긴 배열 weak, 각 친구가 1시간 동안 이동할 수 있는 거리가 담긴 배열 dist가 매개변수로 주어질 때,   \n",
    "  취약 지점을 점검하기 위해 보내야 하는 친구 수의 최솟값을 return 하도록 solution 함수 완성하기"
   ]
  },
  {
   "cell_type": "markdown",
   "id": "f537b879",
   "metadata": {},
   "source": [
    "**제한 조건**  \n",
    "+ n은 1 이상 200 이하의 자연수\n",
    "+ weak의 길이는 1 이상 15 이하\n",
    "  + 서로 다른 두 취약점의 위치가 같은 경우는 주어지지 않음\n",
    "  + 취약 지점의 위치는 오름차순으로 정렬되어 주어짐\n",
    "  + weak의 원소는 0 이상 n-1 이하인 정수\n",
    "+ dist의 길이는 1 이상 8 이하\n",
    "  + dist의 원소는 1 이상 100 이하의 자연수\n",
    "<br>\n",
    "\n",
    "+ 친구들을 모두 투입해도 취약 지점을 전부 점검할 수 없다면 -1 return 하기"
   ]
  },
  {
   "cell_type": "markdown",
   "id": "2dbee93f",
   "metadata": {},
   "source": [
    "**입출력 예시**  \n",
    "<table>\n",
    "  <tr>\n",
    "    <td style=\"text-align: left;\">n</td>\n",
    "    <td style=\"text-align: left;\">weak</td>\n",
    "    <td style=\"text-align: left;\">dist</td>\n",
    "    <td style=\"text-align: left;\">Result</td>\n",
    "  </tr>\n",
    "  <tr>\n",
    "    <td style=\"text-align: left;\">12</td>\n",
    "    <td style=\"text-align: left;\">[1,5,6,10]</td>\n",
    "    <td style=\"text-align: left;\">[1,2,3,4]</td>\n",
    "    <td style=\"text-align: left;\">2</td>\n",
    "  </tr>\n",
    "  <tr>\n",
    "    <td style=\"text-align: left;\">12</td>\n",
    "    <td style=\"text-align: left;\">[1,3,4,9,10]</td>\n",
    "    <td style=\"text-align: left;\">[3,5,7]</td>\n",
    "    <td style=\"text-align: left;\">1</td>\n",
    "  </tr>\n",
    "</table>"
   ]
  },
  {
   "cell_type": "code",
   "execution_count": 50,
   "id": "598aee50",
   "metadata": {},
   "outputs": [],
   "source": [
    "import itertools\n",
    "\n",
    "def solution(n, weak, dist):\n",
    "    weak_length = len(weak)\n",
    "    for i in range(weak_length):\n",
    "        weak.append(weak[i] + n)\n",
    "    answer = len(dist) + 1 # 친구 최솟값을 친구 명수 +1로 초기화\n",
    "    \n",
    "    # 친구들의 순열을 미리 계산\n",
    "    friends_perms = list(itertools.permutations(dist))\n",
    "\n",
    "    # 0부터 원래 weak 리스트의 길이 - 1까지의 위치를 각각 시작점으로 설정\n",
    "    for start in range(weak_length):\n",
    "        for friends in friends_perms:\n",
    "            count = 1\n",
    "            possible_position = weak[start] + friends[count-1]\n",
    "            for index in range(start, start + weak_length):\n",
    "                # 점검 가능한 위치를 벗어나는 경우\n",
    "                if possible_position < weak[index]:\n",
    "                    count += 1\n",
    "                    if count > len(dist):\n",
    "                        break\n",
    "                    possible_position = weak[index] + friends[count - 1]\n",
    "            answer = min(answer, count)\n",
    "            \n",
    "    if answer > len(dist):\n",
    "        return -1\n",
    "    return answer"
   ]
  },
  {
   "cell_type": "code",
   "execution_count": 51,
   "id": "624114a4",
   "metadata": {},
   "outputs": [
    {
     "data": {
      "text/plain": [
       "2"
      ]
     },
     "execution_count": 51,
     "metadata": {},
     "output_type": "execute_result"
    }
   ],
   "source": [
    "solution(12,[1,5,6,10],[1,2,3,4])"
   ]
  },
  {
   "cell_type": "code",
   "execution_count": 52,
   "id": "bca0cba3",
   "metadata": {},
   "outputs": [
    {
     "data": {
      "text/plain": [
       "1"
      ]
     },
     "execution_count": 52,
     "metadata": {},
     "output_type": "execute_result"
    }
   ],
   "source": [
    "solution(12,[1,3,4,9,10],[3,5,7])"
   ]
  }
 ],
 "metadata": {
  "kernelspec": {
   "display_name": "Python 3 (ipykernel)",
   "language": "python",
   "name": "python3"
  },
  "language_info": {
   "codemirror_mode": {
    "name": "ipython",
    "version": 3
   },
   "file_extension": ".py",
   "mimetype": "text/x-python",
   "name": "python",
   "nbconvert_exporter": "python",
   "pygments_lexer": "ipython3",
   "version": "3.11.5"
  }
 },
 "nbformat": 4,
 "nbformat_minor": 5
}
