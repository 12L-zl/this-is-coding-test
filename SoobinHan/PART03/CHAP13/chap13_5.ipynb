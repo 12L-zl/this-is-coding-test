{
 "cells": [
  {
   "cell_type": "markdown",
   "id": "f37694eb",
   "metadata": {},
   "source": [
    "### 연산자 끼워 넣기"
   ]
  },
  {
   "cell_type": "markdown",
   "id": "8d80f2af",
   "metadata": {},
   "source": [
    "[백준 링크](https://www.acmicpc.net/problem/14888) []"
   ]
  },
  {
   "cell_type": "markdown",
   "id": "68b94fd6",
   "metadata": {},
   "source": [
    "+ N개의 수로 이루어진 수열 A1, A2, ... , AN이 주어짐\n",
    "+ 수와 수 사이에 끼워 넣을 수 있는 N-1개의 연산자가 주어짐(+, -, *, /)\n",
    "+ 수와 수 사이에 연산자를 하나씩 넣어서 수식을 만들 수 있는데, 이 때 주어진 수의 순서를 바꾸면 안됨"
   ]
  },
  {
   "cell_type": "markdown",
   "id": "351ba1ab",
   "metadata": {},
   "source": [
    "**예시**  \n",
    "6개의 수로 이루어진 수열 1,2,3,4,5,6  \n",
    "주어진 연산자 덧셈 2개, 뺄셈 1개, 곱셈 1개, 나눗셈 1개인 경우  \n",
    "총 60가지의 식을 만들 수 있음  \n",
    "ex) 1 + 2 + 3 + 4 - 5 * 6, 1 / 2 + 3 + 4 - 5 * 6, 1 + 2 / 3 * 4 - 5 + 6, 1 / 2 * 3 - 4 + 5 + 6  \n",
    "\n",
    "+ 식의 계산은 연산자 우선순위를 무시하고 앞에서부터 진행해야 함\n",
    "+ 또, 나눗셈은 정수 나눗셈으로만 몫을 취함\n",
    "+ 음수를 양수로 나눌 때는 C++14의 기준을 따름  \n",
    "  즉, 양수로 바꾼 뒤 몫을 취하고 그 몫을 음수로 바꾼 것과 같음\n",
    "  \n",
    "1 + 2 + 3 + 4 - 5 * 6 = 1  \n",
    "1 / 2 + 3 + 4 - 5 * 6 = 12  \n",
    "1 + 2 / 3 * 4 - 5 + 6 = 5  \n",
    "1 / 2 * 3 - 4 + 5 + 6 = 7  "
   ]
  },
  {
   "cell_type": "markdown",
   "id": "8c6035a5",
   "metadata": {},
   "source": [
    "+ N개의 수와 N-1개의 연산자가 주어졌을 때, 만들 수 있는 식의 결과가 최대인 것과 최소인 것을 구하는 프로그램 작성하기"
   ]
  },
  {
   "cell_type": "markdown",
   "id": "da5d4b36",
   "metadata": {},
   "source": [
    "**입력 조건**  \n",
    "+ 첫째 줄에 수의 개수 N(2 <= N <= 11)이 주어짐\n",
    "+ 둘째 줄에는 A1, A2, ..., AN이 주어짐 (1 <= Ai <= 100)\n",
    "+ 셋째 줄에는 합이 N-1인 4개의 정수가 주어지는데,  \n",
    "  차례대로 덧셈의 개수, 뺄셈의 개수, 곱셈의 개수, 나눗셈의 개수임\n",
    "\n",
    "**출력 조건**  \n",
    "+ 첫째 줄에 만들 수 있는 식의 결과의 최댓값 출력\n",
    "+ 둘째 줄에는 최솟값 출력\n",
    "+ 최댓값과 최솟값이 항상 -10억보다 크거나 같고, 10억보다 작거나 같은 결과가 나오는 입력만 주어짐\n",
    "+ 또한 앞에서부터 계산했을 때, 중간에 계산되는 식의 결과도 항상 -10억보다 크거나 같고, 10억보다 작거나 같음\n",
    "\n",
    "**입력 예시 1**  \n",
    "2  \n",
    "5 6  \n",
    "0 0 1 0  \n",
    "\n",
    "**출력 예시 1**  \n",
    "30  \n",
    "30  \n",
    "\n",
    "**입력 예시 2**  \n",
    "3  \n",
    "3 4 5  \n",
    "1 0 1 0  \n",
    "\n",
    "**출력 예시 2**  \n",
    "35  \n",
    "17  \n",
    "\n",
    "**입력 예시 3**  \n",
    "6  \n",
    "1 2 3 4 5 6  \n",
    "2 1 1 1  \n",
    "\n",
    "**출력 예시 3**  \n",
    "54  \n",
    "-24  "
   ]
  },
  {
   "cell_type": "code",
   "execution_count": 1,
   "id": "1b03b547",
   "metadata": {},
   "outputs": [
    {
     "name": "stdout",
     "output_type": "stream",
     "text": [
      "2\n",
      "5 6\n",
      "0 0 1 0\n",
      "30\n",
      "30\n"
     ]
    }
   ],
   "source": [
    "n = int(input())\n",
    "data = list(map(int, input().split()))\n",
    "add, sub, mul, div = map(int, input().split())\n",
    "\n",
    "min_value = 1e9\n",
    "max_value = -1e9\n",
    "\n",
    "def dfs(i, now):\n",
    "    global min_value, max_value, add, sub, mul, div\n",
    "    # 모든 연산자를 다 사용한 경우, 최솟값과 최댓값 업데이트\n",
    "    if i == n:\n",
    "        min_value = min(min_value, now)\n",
    "        max_value = max(max_value, now)\n",
    "    else:\n",
    "        # 각 연산자에 대하여 재귀적으로 수행\n",
    "        if add > 0:\n",
    "            add -= 1\n",
    "            dfs(i+1, now + data[i])\n",
    "            add += 1\n",
    "        if sub > 0:\n",
    "            sub -= 1\n",
    "            dfs(i+1, now - data[i])\n",
    "            sub += 1\n",
    "        if mul > 0:\n",
    "            mul -= 1\n",
    "            dfs(i+1, now * data[i])\n",
    "            mul += 1\n",
    "        if div > 0:\n",
    "            div -= 1\n",
    "            dfs(i+1, int(now / data[i])) # 나머지 제거하고 몫만\n",
    "            div += 1\n",
    "\n",
    "dfs(1, data[0]) # 현재까지 수행된 연산자의 개수\n",
    "\n",
    "print(max_value)\n",
    "print(min_value)"
   ]
  },
  {
   "cell_type": "code",
   "execution_count": 2,
   "id": "087625af",
   "metadata": {},
   "outputs": [
    {
     "name": "stdout",
     "output_type": "stream",
     "text": [
      "3\n",
      "3 4 5\n",
      "1 0 1 0\n",
      "35\n",
      "17\n"
     ]
    }
   ],
   "source": [
    "n = int(input())\n",
    "data = list(map(int, input().split()))\n",
    "add, sub, mul, div = map(int, input().split())\n",
    "\n",
    "min_value = 1e9\n",
    "max_value = -1e9\n",
    "\n",
    "def dfs(i, now):\n",
    "    global min_value, max_value, add, sub, mul, div\n",
    "    # 모든 연산자를 다 사용한 경우, 최솟값과 최댓값 업데이트\n",
    "    if i == n:\n",
    "        min_value = min(min_value, now)\n",
    "        max_value = max(max_value, now)\n",
    "    else:\n",
    "        # 각 연산자에 대하여 재귀적으로 수행\n",
    "        if add > 0:\n",
    "            add -= 1\n",
    "            dfs(i+1, now + data[i])\n",
    "            add += 1\n",
    "        if sub > 0:\n",
    "            sub -= 1\n",
    "            dfs(i+1, now - data[i])\n",
    "            sub += 1\n",
    "        if mul > 0:\n",
    "            mul -= 1\n",
    "            dfs(i+1, now * data[i])\n",
    "            mul += 1\n",
    "        if div > 0:\n",
    "            div -= 1\n",
    "            dfs(i+1, int(now / data[i])) # 나머지 제거하고 몫만\n",
    "            div += 1\n",
    "\n",
    "dfs(1, data[0])\n",
    "\n",
    "print(max_value)\n",
    "print(min_value)"
   ]
  },
  {
   "cell_type": "code",
   "execution_count": 3,
   "id": "2fbf7738",
   "metadata": {},
   "outputs": [
    {
     "name": "stdout",
     "output_type": "stream",
     "text": [
      "6\n",
      "1 2 3 4 5 6\n",
      "2 1 1 1\n",
      "54\n",
      "-24\n"
     ]
    }
   ],
   "source": [
    "n = int(input())\n",
    "data = list(map(int, input().split()))\n",
    "add, sub, mul, div = map(int, input().split())\n",
    "\n",
    "min_value = 1e9\n",
    "max_value = -1e9\n",
    "\n",
    "def dfs(i, now):\n",
    "    global min_value, max_value, add, sub, mul, div\n",
    "    # 모든 연산자를 다 사용한 경우, 최솟값과 최댓값 업데이트\n",
    "    if i == n:\n",
    "        min_value = min(min_value, now)\n",
    "        max_value = max(max_value, now)\n",
    "    else:\n",
    "        # 각 연산자에 대하여 재귀적으로 수행\n",
    "        if add > 0:\n",
    "            add -= 1\n",
    "            dfs(i+1, now + data[i])\n",
    "            add += 1 # 다음 연산자로 넘어가기 위해서 다시 +1 해줌\n",
    "        if sub > 0:\n",
    "            sub -= 1\n",
    "            dfs(i+1, now - data[i])\n",
    "            sub += 1\n",
    "        if mul > 0:\n",
    "            mul -= 1\n",
    "            dfs(i+1, now * data[i])\n",
    "            mul += 1\n",
    "        if div > 0:\n",
    "            div -= 1\n",
    "            dfs(i+1, int(now / data[i])) # 나머지 제거하고 몫만\n",
    "            div += 1\n",
    "\n",
    "dfs(1, data[0])\n",
    "\n",
    "print(max_value)\n",
    "print(min_value)"
   ]
  }
 ],
 "metadata": {
  "kernelspec": {
   "display_name": "Python 3 (ipykernel)",
   "language": "python",
   "name": "python3"
  },
  "language_info": {
   "codemirror_mode": {
    "name": "ipython",
    "version": 3
   },
   "file_extension": ".py",
   "mimetype": "text/x-python",
   "name": "python",
   "nbconvert_exporter": "python",
   "pygments_lexer": "ipython3",
   "version": "3.11.5"
  }
 },
 "nbformat": 4,
 "nbformat_minor": 5
}
