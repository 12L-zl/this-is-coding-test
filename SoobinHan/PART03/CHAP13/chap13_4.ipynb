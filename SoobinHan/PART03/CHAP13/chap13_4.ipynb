{
 "cells": [
  {
   "cell_type": "markdown",
   "id": "7bcc3d93",
   "metadata": {},
   "source": [
    "### 괄호 변환"
   ]
  },
  {
   "cell_type": "markdown",
   "id": "e1242234",
   "metadata": {},
   "source": [
    "[프로그래머스 링크](https://programmers.co.kr/learn/courses/30/lessons/60058) []"
   ]
  },
  {
   "cell_type": "markdown",
   "id": "f491597b",
   "metadata": {},
   "source": [
    "**균형잡힌 괄호 문자열** : '('의 개수와 ')'의 개수가 같은 경우  \n",
    "**올바른 괄호 문자열** : '('와 ')'의 괄호의 짝이 모두 맞는 경우  \n",
    "<br>\n",
    "\n",
    "**예시**  \n",
    "\"(()))(\" : 균형잡힌 괄호 문자열 O, 올바른 괄호 문자열 X   \n",
    "\"(())()\" : 균형잡힌 괄호 문자열 O, 올바른 괄호 문자열 O  "
   ]
  },
  {
   "cell_type": "markdown",
   "id": "156be925",
   "metadata": {},
   "source": [
    "'('와 ')'로만 이루어진 문자열 w가 균형잡힌 괄호 문자열이라면 다음과 같은 과정을 통해 올바른 괄호 문자열로 변환 가능  \n",
    "1. 입력이 빈 문자열인 경우, 빈 문자열 반환   \n",
    "2. 문자열 w를 두 \"균형잡힌 괄호 문자열\" u, v로 분리  \n",
    "   단, u는 \"균형잡힌 괄호 문자열\"로 더 이상 분리할 수 없어야 하며, v는 빈 문자열이 될 수 있음  \n",
    "3. 수행한 결과 문자열을 u에 이어 붙인 후 반환  \n",
    "   3-1. 문자열 u가 \"올바른 괄호 문자열\"이라면 문자열 v에 대해 1단계부터 다시 수행  \n",
    "4. 문자열 u가 \"올바른 괄호 문자열\"이 아니라면 아래 과정을 수행  \n",
    "   4-1. 빈 문자열에 첫번째 문자로 '('를 붙임  \n",
    "   4-2. 문자열 v에 대해 1단계부터 재귀적으로 수행한 결과 문자열을 이어 붙임  \n",
    "   4-3. ')'를 다시 붙임  \n",
    "   4-4. u의 첫번째와 마지막 문자를 제거하고, 나머지 문자열의 괄호 방향을 뒤집어서 뒤에 붙임  \n",
    "   4-5. 생성된 문자열을 반환\n",
    "<br>\n",
    "\n",
    "+ \"균형잡힌 괄호 문자열\" p가 매개변수로 주어질 때, 주어진 알고리즘을 수행해  \n",
    "  \"올바른 괄호 문자열\"로 변환한 결과를 return하도록 solution 함수 완성하기"
   ]
  },
  {
   "cell_type": "markdown",
   "id": "20e79b2e",
   "metadata": {},
   "source": [
    "**매개변수 설명**  \n",
    "+ p는 '('와 ')'로만 이루어진 문자열이며 길이는 2 이상 1,000 이하인 짝수\n",
    "+ 문자열 p를 이루는 '('와 ')'의 개수는 항상 같음\n",
    "+ 만약 p가 이미 올바른 괄호 문자열이라면 그대로 return 하면 됨"
   ]
  },
  {
   "cell_type": "markdown",
   "id": "3577c45c",
   "metadata": {},
   "source": [
    "**입출력 예시 1**  \n",
    "\"(()())()\"   /   \"(()())()\"  \n",
    "\n",
    "**입출력 예시 2**  \n",
    "\")(\"   /   \"()\"  \n",
    "\n",
    "**입출력 예시 3**  \n",
    "\"()))((()\"   /   \"()(())()\"  "
   ]
  },
  {
   "cell_type": "markdown",
   "id": "5cdbc291",
   "metadata": {},
   "source": [
    "**입출력 예시에 대한 설명**  \n",
    "\n",
    "**입출력 예시 2**  \n",
    "두 문자열 u, v로 분리  \n",
    "+ u = \")(\"\n",
    "+ v = \"\"\n",
    "\n",
    "u가 올바른 괄호 문자열이 아니므로 다음과 같이 새로운 문자열을 만듦\n",
    "- v에 대해 1단계부터 재귀적으로 수행하면 빈 문자열이 반환\n",
    "- u의 앞뒤 문자를 제거하고, 나머지 문자의 괄호 방향을 뒤집으면 \"\"이 됨\n",
    "- 따라서 생성되는 문자열은 \" (\" + \" \" + \" )\" + \"\"이며, 최종적으로 \"()\"로 변환\n",
    "\n",
    "**입출력 예시 3**  \n",
    "두 문자열 u, v로 분리\n",
    "+ u = \"))((\"\n",
    "+ v = \"()\"\n",
    "\n",
    "u가 올바른 괄호 문자열이 아니므로 다음과 같이 새로운 문자열을 만듦\n",
    "- v에 대해 1단계부터 재귀적으로 수행하면 \"()\"이 반환\n",
    "- u의 앞뒤 문자를 제거하고, 나머지 문자의 괄호 방향을 뒤집으면 \" ()\"이 됨\n",
    "- 따라서 생성되는 문자열은 \"(\" + \"()\" + \")\" + \"()\"이며, 최종적으로 \"(())()\"를 반환\n",
    "- 처음에 그대로 둔 문자열에 반환된 문자열을 이어 붙이면 \"()\" + \"(())()\" = \"()(())()\"가 됨\n"
   ]
  },
  {
   "cell_type": "code",
   "execution_count": null,
   "id": "822e9973",
   "metadata": {},
   "outputs": [],
   "source": [
    "def balanced_index(p):\n",
    "    count = 0  # 왼쪽 괄호의 개수를 세기 위한 변수\n",
    "    for i in range(len(p)):  # 문자열 p를 for문돌리기\n",
    "        if p[i] == '(':  # 왼쪽 괄호일 경우\n",
    "            count += 1  # count를 증가시킴\n",
    "        else:  # 오른쪽 괄호일 경우\n",
    "            count -= 1  # count를 감소시킴\n",
    "        if count == 0:  # 균형잡힌 괄호 문자열인 경우\n",
    "            return i  # 현재 인덱스 반환 ->  (\")(\") 에서는 1 반환\n",
    "\n",
    "# 올바른 괄호 문자열인지 판단\n",
    "def check_proper(p):\n",
    "    count = 0  # 왼쪽 괄호의 개수를 세기 위한 변수\n",
    "    for i in p:  # 문자열 p를 for문돌리기\n",
    "        if i == '(':  # 왼쪽 괄호일 경우\n",
    "            count += 1  # count를 증가시킴\n",
    "        else:  # 오른쪽 괄호일 경우\n",
    "            if count == 0:  # 왼쪽 괄호가 없는데 오른쪽 괄호가 나오면 쌍이 맞지 않음\n",
    "                return False  # False 반환 -> 시작이 오른쪽괄호이므로 count=0이고 False 반환\n",
    "            count -= 1  # count를 감소시킴\n",
    "    return True  # 균형잡힌 괄호 문자열이면 True 반환 \n",
    "\n",
    "def solution(p):\n",
    "    answer = ''  # 결과 문자열\n",
    "    if p == '':  # 주어진 문자열이 빈 문자열인 경우\n",
    "        return answer  # 빈 문자열 반환\n",
    "    index = balanced_index(p)  # 균형잡힌 괄호 문자열의 인덱스를 구함\n",
    "    u = p[:index + 1]  # 균형잡힌 괄호 문자열 u -> ')('\n",
    "    v = p[index + 1:]  # 나머지 부분 v -> ''\n",
    "    \n",
    "    # 올바른 괄호 문자열인 경우\n",
    "    if check_proper(u): \n",
    "        answer = u + solution(v)  # v에 대해 재귀적으로 함수를 호출한 결과를 u에 붙여 반환\n",
    "    \n",
    "    # 올바른 괄호 문자열이 아닌 경우 -> ')('의 경우 else문 실행\n",
    "    else:\n",
    "        answer = '('  # '(' 추가 \n",
    "        answer += solution(v)  # v에 대해 재귀적으로 함수를 호출한 결과를 추가\n",
    "        answer += ')'  # ')' 추가\n",
    "        u = list(u[1:-1])  # 균형잡힌 괄호 문자열 u의 첫번째와 마지막 문자 제거  -> [] (빈리스트)\n",
    "        for i in range(len(u)):  # u의 모든 문자에 대해 반복\n",
    "            if u[i] == '(':  # 왼쪽 괄호일 경우\n",
    "                u[i] = ')'  # 오른쪽 괄호로 변경\n",
    "            else:  # 오른쪽 괄호일 경우\n",
    "                u[i] = '('  # 왼쪽 괄호로 변경\n",
    "        answer += \"\".join(u)  # 변경된 u를 문자열로 변환하여 answer에 추가\n",
    "    return answer  # 결과 반환"
   ]
  },
  {
   "cell_type": "code",
   "execution_count": 9,
   "id": "e8f14d03",
   "metadata": {},
   "outputs": [
    {
     "data": {
      "text/plain": [
       "''"
      ]
     },
     "execution_count": 9,
     "metadata": {},
     "output_type": "execute_result"
    }
   ],
   "source": [
    "u = ')('\n",
    "answer = ''\n",
    "u = list(u[1:-1])\n",
    "for i in range(len(u)):  # u의 모든 문자에 대해 반복\n",
    "    if u[i] == '(':  # 왼쪽 괄호일 경우\n",
    "        u[i] = ')'  # 오른쪽 괄호로 변경\n",
    "    else:  # 오른쪽 괄호일 경우\n",
    "        u[i] = '('  # 왼쪽 괄호로 변경\n",
    "answer += \"\".join(u)  # 변경된 u를 문자열로 변환하여 answer에 추가\n",
    "answer"
   ]
  },
  {
   "cell_type": "code",
   "execution_count": null,
   "id": "e68e1441",
   "metadata": {},
   "outputs": [],
   "source": []
  },
  {
   "cell_type": "code",
   "execution_count": null,
   "id": "1c01ae28",
   "metadata": {},
   "outputs": [],
   "source": []
  },
  {
   "cell_type": "code",
   "execution_count": 11,
   "id": "02cc3355",
   "metadata": {},
   "outputs": [],
   "source": [
    "def balanced_index(p):\n",
    "    count = 0  # 왼쪽 괄호의 개수를 세기 위한 변수\n",
    "    for i in range(len(p)):  # 문자열 p를 for문돌리기\n",
    "        if p[i] == '(':  # 왼쪽 괄호일 경우\n",
    "            count += 1  # count를 증가시킴\n",
    "        else:  # 오른쪽 괄호일 경우\n",
    "            count -= 1  # count를 감소시킴\n",
    "        if count == 0:  # 균형잡힌 괄호 문자열인 경우\n",
    "            return i  # 현재 인덱스 반환 ->  ('()))((()') 에서는 1 반환"
   ]
  },
  {
   "cell_type": "code",
   "execution_count": null,
   "id": "3ecb1904",
   "metadata": {},
   "outputs": [],
   "source": [
    "# 올바른 괄호 문자열인지 판단\n",
    "def check_proper(p):\n",
    "    count = 0  # 왼쪽 괄호의 개수를 세기 위한 변수\n",
    "    for i in p:  # 문자열 p를 for문돌리기\n",
    "        if i == '(':  # 왼쪽 괄호일 경우\n",
    "            count += 1  # count를 증가시킴\n",
    "        else:  # 오른쪽 괄호일 경우\n",
    "            if count == 0:  # 왼쪽 괄호가 없는데 오른쪽 괄호가 나오면 쌍이 맞지 않음\n",
    "                return False  # False 반환 -> 0, 1번 문자말고 2번 문자에서 올바르지 않으므로 False 반환\n",
    "            count -= 1  # count를 감소시킴\n",
    "    return True  # 균형잡힌 괄호 문자열이면 True 반환 "
   ]
  },
  {
   "cell_type": "code",
   "execution_count": null,
   "id": "5db33acf",
   "metadata": {},
   "outputs": [],
   "source": [
    "def solution(p):\n",
    "    answer = ''  # 결과 문자열\n",
    "    if p == '':  # 주어진 문자열이 빈 문자열인 경우\n",
    "        return answer  # 빈 문자열 반환\n",
    "    index = balanced_index(p)  # 균형잡힌 괄호 문자열의 인덱스를 구함\n",
    "    u = p[:index + 1]  # 균형잡힌 괄호 문자열 u -> ')('\n",
    "    v = p[index + 1:]  # 나머지 부분 v -> ''\n",
    "    \n",
    "    # 올바른 괄호 문자열인 경우\n",
    "    if check_proper(u): \n",
    "        answer = u + solution(v)  # v에 대해 재귀적으로 함수를 호출한 결과를 u에 붙여 반환\n",
    "    \n",
    "    # 올바른 괄호 문자열이 아닌 경우 -> ')('의 경우 else문 실행\n",
    "    else:\n",
    "        answer = '('  # '(' 추가 \n",
    "        answer += solution(v)  # v에 대해 재귀적으로 함수를 호출한 결과를 추가\n",
    "        answer += ')'  # ')' 추가 \n",
    "        u = list(u[1:-1])  # 균형잡힌 괄호 문자열 u의 첫번째와 마지막 문자 제거  -> [] (빈리스트)\n",
    "        for i in range(len(u)):  # u의 모든 문자에 대해 반복\n",
    "            if u[i] == '(':  # 왼쪽 괄호일 경우\n",
    "                u[i] = ')'  # 오른쪽 괄호로 변경\n",
    "            else:  # 오른쪽 괄호일 경우\n",
    "                u[i] = '('  # 왼쪽 괄호로 변경\n",
    "        answer += \"\".join(u)  # 변경된 u를 문자열로 변환하여 answer에 추가\n",
    "    return answer  # 결과 반환"
   ]
  },
  {
   "cell_type": "code",
   "execution_count": 15,
   "id": "4d766d63",
   "metadata": {},
   "outputs": [],
   "source": [
    "p = '()))((()'\n",
    "index = 1  # 균형잡힌 괄호 문자열의 인덱스를 구함\n",
    "u = p[:index + 1]  # 균형잡힌 괄호 문자열 u -> '()' # u = p[:3]\n",
    "v = p[index + 1:]  # 나머지 부분 v -> '))((()' # v = p[2:]"
   ]
  },
  {
   "cell_type": "code",
   "execution_count": 16,
   "id": "b4168c7a",
   "metadata": {},
   "outputs": [
    {
     "data": {
      "text/plain": [
       "''"
      ]
     },
     "execution_count": 16,
     "metadata": {},
     "output_type": "execute_result"
    }
   ],
   "source": [
    "u[1:-1]"
   ]
  }
 ],
 "metadata": {
  "kernelspec": {
   "display_name": "Python 3 (ipykernel)",
   "language": "python",
   "name": "python3"
  },
  "language_info": {
   "codemirror_mode": {
    "name": "ipython",
    "version": 3
   },
   "file_extension": ".py",
   "mimetype": "text/x-python",
   "name": "python",
   "nbconvert_exporter": "python",
   "pygments_lexer": "ipython3",
   "version": "3.11.5"
  }
 },
 "nbformat": 4,
 "nbformat_minor": 5
}
