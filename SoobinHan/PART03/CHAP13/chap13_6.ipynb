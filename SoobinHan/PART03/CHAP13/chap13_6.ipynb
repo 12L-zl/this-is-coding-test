{
 "cells": [
  {
   "cell_type": "markdown",
   "id": "f50d02d2",
   "metadata": {},
   "source": [
    "### 감시 피하기"
   ]
  },
  {
   "cell_type": "markdown",
   "id": "f90bed03",
   "metadata": {},
   "source": [
    "+ NxN 크기의복도가 있고, 1x1 크기의 칸으로 나누어지며 특정한 위치에는 선생님, 학생, 장애물이 있음\n",
    "+ 현재 학생 몇명이 수업시간에 몰래 복도에 나왔는데, 복도에 나온 학생들이 선생님의 감시에 들키지 않는 것이 목표\n",
    "+ 각 선생님은 자신의 위치에서 상하좌우 4가지 방향으로 감시를 진행\n",
    "+ 단, 복도에 장애물이 있으면 선생님은 장애물 뒤편에 숨어있는 학생을 볼 수 없음\n",
    "+ 또한 아무리 멀리 있더라도 장애물로 막히기 전까지 4가지 방향으로 학생을 모두 볼 수 있음\n",
    "<br>\n",
    "\n",
    "+ 위칫값을 나타낼 때는 (행,열)의 형태로 표현\n",
    "+ 각 칸은 선생님은 T, 학생은 S, 장애물은 O로 표시"
   ]
  },
  {
   "attachments": {
    "image.png": {
     "image/png": "[encoded data removed]"
    }
   },
   "cell_type": "markdown",
   "id": "5527f547",
   "metadata": {},
   "source": [
    "![image.png](attachment:image.png)"
   ]
  },
  {
   "cell_type": "markdown",
   "id": "1db59925",
   "metadata": {},
   "source": [
    "+ 복도가 3x3 크기일때 (3,1)에는 선생님이 존재\n",
    "+ (1,1),(2,1),(3,3)의 위치에는 학생이 존재\n",
    "+ (1,2),(2,2),(3,2)의 위치에는 장애물이 존재 \n",
    "<br>\n",
    "\n",
    "+ (3,3)의 위치에 존재하는 학생은 장애물 뒤편에 숨어 있기 때문에 감시를 피할 수 있지만,  \n",
    "  (1,1)과 (2,1)의 위치에 존재하는 학생은 선생님에게 들킴  \n",
    "<br>\n",
    "\n",
    "+ 학생들은 복도의 빈칸 중에서 장애물을 설치할 위치를 골라, 정확히 3개의 장애물을 설치해야 함\n",
    "+ 그리고 장애물을 3개 설치해서 선생님의 감시로부터 모든 학생이 피할 수 있는지 계산해야 함\n",
    "<br>\n",
    "\n",
    "+ NxN 크기의 복도에서 학생과 선생님의 위치 정보가 주어졌을 때,   \n",
    "  장애물을 정확히 3개 설치하여 모든 학생이 선생님의 감시를 피할 수 있는지 출력하는 프로그램 작성하기"
   ]
  },
  {
   "cell_type": "markdown",
   "id": "f8c308ad",
   "metadata": {},
   "source": [
    "**예시**  \n",
    "+ N=5일 때 장애물을 다음처럼 설정하면 선생님의 감시로부터 모든 학생이 피할 수 있음"
   ]
  },
  {
   "attachments": {
    "image-2.png": {
     "image/png": "[encoded data removed]"
    }
   },
   "cell_type": "markdown",
   "id": "03eccf24",
   "metadata": {},
   "source": [
    "![image-2.png](attachment:image-2.png)"
   ]
  },
  {
   "cell_type": "markdown",
   "id": "7dc3b012",
   "metadata": {},
   "source": [
    "**입력 조건**  \n",
    "+ 첫째 줄에 자연수 N이 주어짐 (3 <= N <= 6)\n",
    "+ 둘째 줄에 N개의 줄에 걸쳐서 복도의 정보가 주어짐  \n",
    "  각 행에서는 N개의 원소가 주어지며, 공백으로 구분  \n",
    "  해당 위치에 학생이 있다면 S, 선생님이 있다면 T, 아무것도 존재하지 않는다면 X가 주어짐  \n",
    "  단, 항상 빈칸의 개수는 3개 이상으로 주어짐\n",
    "\n",
    "**출력 조건**  \n",
    "+ 첫째 줄에 정확히 3개의 장애물을 설치하여 모든 학생들을 감시로부터 피하도록 할 수 있는지의 여부를 출력\n",
    "+ 모든 학생들을 감시로부터 피하도록 할 수 있다면 'YES', 그렇지 않다면 'NO'를 출력\n",
    "\n",
    "**입력 예시 1**  \n",
    "5  \n",
    "X S X X T  \n",
    "T X S X X  \n",
    "X X X X X  \n",
    "X T X X X  \n",
    "X X T X X  \n",
    "\n",
    "**출력 예시 1**  \n",
    "YES  \n",
    "\n",
    "**입력 예시 2**  \n",
    "4  \n",
    "S S S T  \n",
    "X X X X  \n",
    "X X X X   \n",
    "T T T X  \n",
    "\n",
    "**출력 예시 2**   \n",
    "NO  "
   ]
  },
  {
   "cell_type": "code",
   "execution_count": 9,
   "id": "2a017e63",
   "metadata": {},
   "outputs": [
    {
     "name": "stdout",
     "output_type": "stream",
     "text": [
      "4\n",
      "S S S T\n",
      "X X X X\n",
      "X X X X\n",
      "T T T X\n"
     ]
    }
   ],
   "source": [
    "from itertools import combinations\n",
    "\n",
    "n = int(input()) # 복도 크기\n",
    "board = [] # 복도 정보\n",
    "teachers = [] # 선생님 위치 정보\n",
    "spaces = [] # 빈 공간 위치 정보\n",
    "\n",
    "for i in range(n):\n",
    "    board.append(list(input().split()))\n",
    "    for j in range(n):\n",
    "        if board[i][j] == 'T': # 선생님 위치 저장\n",
    "            teachers.append((i,j))\n",
    "        if board[i][j] == 'X': # 빈공간 위치 저장\n",
    "            spaces.append((i,j))"
   ]
  },
  {
   "cell_type": "code",
   "execution_count": 16,
   "id": "28a1bbcb",
   "metadata": {},
   "outputs": [
    {
     "data": {
      "text/plain": [
       "[(0, 3), (3, 0), (3, 1), (3, 2)]"
      ]
     },
     "execution_count": 16,
     "metadata": {},
     "output_type": "execute_result"
    }
   ],
   "source": [
    "teachers"
   ]
  },
  {
   "cell_type": "code",
   "execution_count": 12,
   "id": "f17c8c37",
   "metadata": {},
   "outputs": [
    {
     "data": {
      "text/plain": [
       "[(1, 0), (1, 1), (1, 2), (1, 3), (2, 0), (2, 1), (2, 2), (2, 3), (3, 3)]"
      ]
     },
     "execution_count": 12,
     "metadata": {},
     "output_type": "execute_result"
    }
   ],
   "source": [
    "spaces"
   ]
  },
  {
   "cell_type": "code",
   "execution_count": 17,
   "id": "01fb04d0",
   "metadata": {},
   "outputs": [],
   "source": [
    "def watch(x, y, direction):\n",
    "    # 왼쪽방향으로 감시\n",
    "    if direction == 0:\n",
    "        while y >= 0:\n",
    "            if board[x][y] == 'S': # 학생이 있는 경우\n",
    "                return True\n",
    "            if board[x][y] == 'O' : # 장애물이 있는 경우\n",
    "                return False\n",
    "            y -= 1 # 왼쪽으로 한 칸 이동\n",
    "    # 오른쪽방향으로 감시\n",
    "    if direction == 1:\n",
    "        while y < n:\n",
    "            if board[x][y] == 'S': # 학생이 있는 경우\n",
    "                return True\n",
    "            if board[x][y] == 'O' : # 장애물이 있는 경우\n",
    "                return False\n",
    "            y += 1 # 오른쪽으로 한 칸 이동\n",
    "    # 위쪽 방향으로 감시\n",
    "    if direction == 2:\n",
    "        while x >= 0:\n",
    "            if board[x][y] == 'S': # 학생이 있는 경우\n",
    "                return True\n",
    "            if board[x][y] == 'O' : # 장애물이 있는 경우\n",
    "                return False\n",
    "            x -= 1   \n",
    "    # 아래 방향으로 감시\n",
    "    if direction == 3:\n",
    "        while x < n:\n",
    "            if board[x][y] == 'S': # 학생이 있는 경우\n",
    "                return True\n",
    "            if board[x][y] == 'O' : # 장애물이 있는 경우\n",
    "                return False\n",
    "            x += 1   \n",
    "    return False"
   ]
  },
  {
   "cell_type": "code",
   "execution_count": 18,
   "id": "3776c3fb",
   "metadata": {},
   "outputs": [],
   "source": [
    "def process():\n",
    "    for x, y in teachers: # 모든 선생님 위치 확인\n",
    "        for i in range(4): # 네방향 다 확인해서\n",
    "            if watch(x, y, i): # 학생 감지할 수 있는지 확인\n",
    "                return True # 감지되면 True 반환\n",
    "    return False"
   ]
  },
  {
   "cell_type": "code",
   "execution_count": 19,
   "id": "b935509f",
   "metadata": {},
   "outputs": [
    {
     "name": "stdout",
     "output_type": "stream",
     "text": [
      "NO\n"
     ]
    }
   ],
   "source": [
    "find = False # 학생이 한명도 감지되지 않을 수 있는가? (기본값 False)\n",
    "\n",
    "for data in combinations(spaces, 3): # 3개 뽑는 모든 조합에서\n",
    "    for x, y in data: # 장애물 설치해보기\n",
    "        board[x][y] = 'O'\n",
    "    if not process(): # 학생이 한명도 감지되지 않으면\n",
    "        find = True # find값 바꿔주기\n",
    "        break\n",
    "    for x, y in data: # 학생이 감지되었다면\n",
    "        board[x][y] = 'X' # 설치된 장애물 다시 없애고 빈공간으로 만들기\n",
    "\n",
    "if find:\n",
    "    print('YES')\n",
    "else:\n",
    "    print('NO')"
   ]
  },
  {
   "cell_type": "code",
   "execution_count": null,
   "id": "1698ce1c",
   "metadata": {},
   "outputs": [],
   "source": []
  },
  {
   "cell_type": "code",
   "execution_count": null,
   "id": "e81201a4",
   "metadata": {},
   "outputs": [],
   "source": []
  },
  {
   "cell_type": "code",
   "execution_count": null,
   "id": "93c100fd",
   "metadata": {},
   "outputs": [],
   "source": []
  },
  {
   "cell_type": "code",
   "execution_count": 20,
   "id": "0ebc9708",
   "metadata": {},
   "outputs": [
    {
     "name": "stdout",
     "output_type": "stream",
     "text": [
      "5\n",
      "X S X X T\n",
      "T X S X X \n",
      "X X X X X\n",
      "X T X X X \n",
      "X X T X X\n"
     ]
    }
   ],
   "source": [
    "from itertools import combinations\n",
    "\n",
    "n = int(input()) # 복도 크기\n",
    "board = [] # 복도 정보\n",
    "teachers = [] # 선생님 위치 정보\n",
    "spaces = [] # 빈 공간 위치 정보\n",
    "\n",
    "for i in range(n):\n",
    "    board.append(list(input().split()))\n",
    "    for j in range(n):\n",
    "        if board[i][j] == 'T': # 선생님 위치 저장\n",
    "            teachers.append((i,j))\n",
    "        if board[i][j] == 'X': # 빈공간 위치 저장\n",
    "            spaces.append((i,j))"
   ]
  },
  {
   "cell_type": "code",
   "execution_count": 21,
   "id": "a2a928d0",
   "metadata": {},
   "outputs": [
    {
     "name": "stdout",
     "output_type": "stream",
     "text": [
      "YES\n"
     ]
    }
   ],
   "source": [
    "def watch(x, y, direction):\n",
    "    # 왼쪽방향으로 감시\n",
    "    if direction == 0:\n",
    "        while y >= 0:\n",
    "            if board[x][y] == 'S': # 학생이 있는 경우\n",
    "                return True\n",
    "            if board[x][y] == 'O' : # 장애물이 있는 경우\n",
    "                return False\n",
    "            y -= 1 # 끝까지 돌면서 이동해야해서\n",
    "    # 오른쪽방향으로 감시\n",
    "    if direction == 1:\n",
    "        while y < n:\n",
    "            if board[x][y] == 'S': # 학생이 있는 경우\n",
    "                return True\n",
    "            if board[x][y] == 'O' : # 장애물이 있는 경우\n",
    "                return False\n",
    "            y += 1        \n",
    "    # 위쪽 방향으로 감시\n",
    "    if direction == 2:\n",
    "        while x >= 0:\n",
    "            if board[x][y] == 'S': # 학생이 있는 경우\n",
    "                return True\n",
    "            if board[x][y] == 'O' : # 장애물이 있는 경우\n",
    "                return False\n",
    "            x -= 1   \n",
    "    # 아래 방향으로 감시\n",
    "    if direction == 3:\n",
    "        while x < n:\n",
    "            if board[x][y] == 'S': # 학생이 있는 경우\n",
    "                return True\n",
    "            if board[x][y] == 'O' : # 장애물이 있는 경우\n",
    "                return False\n",
    "            x += 1   \n",
    "    return False\n",
    "\n",
    "def process():\n",
    "    for x, y in teachers: # 모든 선생님 위치 확인\n",
    "        for i in range(4): # 네방향 다 확인해서\n",
    "            if watch(x, y, i): # 학생 감지할 수 있는지 확인\n",
    "                return True\n",
    "    return False\n",
    "\n",
    "find = False # 학생이 한명도 감지되지 않을 수 있는가? (기본값 False)\n",
    "\n",
    "for data in combinations(spaces, 3): # 3개 뽑는 모든 조합에서\n",
    "    for x, y in data: # 장애물 설치해보기\n",
    "        board[x][y] = 'O'\n",
    "    if not process(): # 학생이 한명도 감지되지 않으면\n",
    "        find = True # find값 바꿔주기\n",
    "        break\n",
    "    for x, y in data: # 설치된 장애물 다시 없애기\n",
    "        board[x][y] = 'X'\n",
    "\n",
    "if find:\n",
    "    print('YES')\n",
    "else:\n",
    "    print('NO')"
   ]
  }
 ],
 "metadata": {
  "kernelspec": {
   "display_name": "Python 3 (ipykernel)",
   "language": "python",
   "name": "python3"
  },
  "language_info": {
   "codemirror_mode": {
    "name": "ipython",
    "version": 3
   },
   "file_extension": ".py",
   "mimetype": "text/x-python",
   "name": "python",
   "nbconvert_exporter": "python",
   "pygments_lexer": "ipython3",
   "version": "3.11.5"
  }
 },
 "nbformat": 4,
 "nbformat_minor": 5
}
