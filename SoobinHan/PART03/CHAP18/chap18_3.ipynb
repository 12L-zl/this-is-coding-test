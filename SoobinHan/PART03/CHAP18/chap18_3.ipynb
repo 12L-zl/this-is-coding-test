{
 "cells": [
  {
   "cell_type": "markdown",
   "id": "e5837ed4",
   "metadata": {},
   "source": [
    "### 어두운 길"
   ]
  },
  {
   "cell_type": "markdown",
   "id": "72e6b3e5",
   "metadata": {},
   "source": [
    "+ 한 마을은 N개의 집과 M개의 도로로 구성되어 있음\n",
    "+ 각 집은 0번부터 N-1번까지의 번호로 구분됨\n",
    "+ 모든 도로에는 가로등이 구비되어 있는데, 특정한 도로의 가로등을 하루 동안 켜기 위한 비용은 해당 도로의 길이와 동일\n",
    "<br>\n",
    "\n",
    "+ 2번 집과 3번 집 사이를 연결하는 길이가 7인 도로가 있음\n",
    "+ 하루 동안 이 가로등을 켜기 위한 비용은 7\n",
    "<br>\n",
    "\n",
    "+ 정부에서는 일부 가로등을 비활성화하되, 마을에 있는 임의의 두 집에 대하여 가로등이 켜진 도로만으로도 오갈 수 있도록 만들고자 함  \n",
    "+ 결과적으로 일부 가로등을 비활성화하여 최대한 많은 금액을 절약하고자 함  \n",
    "<br>\n",
    "\n",
    "+ 마을의 집과 도로 정보가 주어졌을 때, 일부 가로등을 비활성화하여 절약할 수 있는 최대 금액 출력하는 프로그램 작성하기\n",
    "\n",
    "**입력 조건**  \n",
    "+ 첫째 줄에 집의 수 N(1 <= N <= 200,000)과 도로의 수 M (N-1 <= M <= 200,000)이 주어짐\n",
    "+ 다음 M개의 줄에 걸쳐서 각 도로에 대한 정보 X, Y, Z가 주어지며, 공백으로 구분 (0 <= X, Y <= N)\n",
    "+ 이는 X번 집과 Y번 집 사이에 양방향 도로가 있으며, 그 길이가 Z라는 의미\n",
    "+ 단, X와 Y가 동일한 경우는 없으며 마을을 구성하는 모든 도로의 길이 합은 2^31보다 작음\n",
    "\n",
    "**출력 조건**  \n",
    "+ 첫째 줄에 일부 가로등을 비활성화하여 절약할 수 있는 최대 금액 출력\n",
    "\n",
    "**입력 예시**  \n",
    "7 11  \n",
    "0 1 7  \n",
    "0 3 5  \n",
    "1 2 8  \n",
    "1 3 9  \n",
    "1 4 7  \n",
    "2 4 5  \n",
    "3 4 15  \n",
    "3 5 6  \n",
    "4 5 8  \n",
    "4 6 9  \n",
    "5 6 11  \n",
    "\n",
    "**출력 예시**  \n",
    "51"
   ]
  },
  {
   "cell_type": "code",
   "execution_count": 1,
   "id": "41e3e9d3",
   "metadata": {},
   "outputs": [
    {
     "name": "stdout",
     "output_type": "stream",
     "text": [
      "7 11\n",
      "0 1 7\n",
      "0 3 5\n",
      "1 2 8\n",
      "1 3 9\n",
      "1 4 7\n",
      "2 4 5\n",
      "3 4 15\n",
      "3 5 6\n",
      "4 5 8\n",
      "4 6 9\n",
      "5 6 11\n",
      "51\n"
     ]
    }
   ],
   "source": [
    "# 특정 원소가 속한 집합 찾기\n",
    "def find_parent(parent, x):\n",
    "    if parent[x] != x:\n",
    "        parent[x] = find_parent(parent, parent[x])\n",
    "    return parent[x]\n",
    "\n",
    "# 두 원소가 속한 집합 합치기\n",
    "def union_parent(parent, a, b):\n",
    "    a = find_parent(parent, a)\n",
    "    b = find_parent(parent, b)\n",
    "    if a < b:\n",
    "        parent[b] = a\n",
    "    else:\n",
    "        parent[a] = b\n",
    "\n",
    "n, m = map(int, input().split())\n",
    "parent = [0] * (n+1) # 부모 테이블 초기화 하고\n",
    "\n",
    "for i in range(1, n+1):\n",
    "    parent[i] = i # 부모를 자기자신으로 초기화\n",
    "\n",
    "edges = []\n",
    "result = 0\n",
    "\n",
    "for _ in range(m):\n",
    "    x, y, z = map(int, input().split())\n",
    "    edges.append((z, x, y)) # 비용이 제일 먼저 오게 정렬(도시분할처럼)\n",
    "    \n",
    "edges.sort() # 비용 오름차순으로 정렬\n",
    "total = 0\n",
    "\n",
    "for edge in edges:\n",
    "    cost, a, b = edge\n",
    "    total += cost\n",
    "    if find_parent(parent, a) != find_parent(parent, b): # 서로소집합에 해당하면 집합에 포함시켜줌\n",
    "        union_parent(parent, a, b)\n",
    "        result += cost\n",
    "\n",
    "print(total - result)"
   ]
  },
  {
   "cell_type": "code",
   "execution_count": null,
   "id": "6a9dc934",
   "metadata": {},
   "outputs": [],
   "source": []
  }
 ],
 "metadata": {
  "kernelspec": {
   "display_name": "Python 3 (ipykernel)",
   "language": "python",
   "name": "python3"
  },
  "language_info": {
   "codemirror_mode": {
    "name": "ipython",
    "version": 3
   },
   "file_extension": ".py",
   "mimetype": "text/x-python",
   "name": "python",
   "nbconvert_exporter": "python",
   "pygments_lexer": "ipython3",
   "version": "3.11.5"
  }
 },
 "nbformat": 4,
 "nbformat_minor": 5
}
