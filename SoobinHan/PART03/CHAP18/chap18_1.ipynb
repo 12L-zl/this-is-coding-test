{
 "cells": [
  {
   "cell_type": "markdown",
   "id": "8696db3f",
   "metadata": {},
   "source": [
    "### 여행 계획"
   ]
  },
  {
   "cell_type": "markdown",
   "id": "a63076ae",
   "metadata": {},
   "source": [
    "+ N개의 여행지가 있으며, 각 여행지는 1~N까지의 번호로 구분됨\n",
    "+ 임의의 두 여행지 사이에는 두 여행지를 연결하는 도로가 존재할 수 있음\n",
    "+ 여행지가 도로로 연결되어 있다면 양방향으로 이동이 가능하다는 의미\n",
    "+ 하나의 여행 계획을 세운 뒤 이 여행 계획이 가능한지의 여부를 판단하고자 함\n",
    "<br>\n",
    "\n",
    "**예시**  \n",
    "+ N=5일때, 도로의 정보 1-2 / 1-4 / 1-5 / 2-3 / 2-4  \n",
    "+ 여행 계획이 2 -> 3 -> 4 -> 3 이고,  \n",
    "+ 이 경우 2 -> 3 -> 2 -> 4 -> 2 -> 3 순서로 여행지를 방문하면, 여행 계획을 따를 수 있음\n",
    "\n",
    "<br>\n",
    "+ 여행지의 개수와 여행지 간의 연결 정보가 주어졌을 때, 여행 계획이 가능한지의 여부를 판별하는 프로그램 작성하기\n",
    "\n",
    "**입력 조건**  \n",
    "+ 첫째 줄에 여행지의 수 N과 여행 계획에 속한 도시의 수 M이 주어짐(1 <= N, M <= 500)\n",
    "+ 다음 N개의 줄에 걸쳐 NxN 행렬을 통해 임의의 두 여행지가 서로 연결되어 있는지의 여부가 주어짐  \n",
    "  (1이라면 서로 연결 O, 0이라면 서로 연결 X)\n",
    "+ 마지막 줄에 여행 계획에 포함된 여행지의 번호들이 주어지며 공백으로 구분함\n",
    "\n",
    "**출력 조건**  \n",
    "+ 첫째 줄에 여행 계획이 가능하다면 YES를, 불가능하다면 NO를 출력\n",
    "\n",
    "**입력 예시**  \n",
    "5 4  \n",
    "0 1 0 1 1   \n",
    "1 0 1 1 0  \n",
    "0 1 0 0 0  \n",
    "1 1 0 0 0  \n",
    "2 3 4 3  \n",
    "\n",
    "**출력 예시**  \n",
    "YES"
   ]
  },
  {
   "cell_type": "code",
   "execution_count": 2,
   "id": "354530f1",
   "metadata": {},
   "outputs": [
    {
     "name": "stdout",
     "output_type": "stream",
     "text": [
      "5 4\n",
      "0 1 0 1 1\n",
      "1 0 1 1 0\n",
      "0 1 0 0 0\n",
      "1 1 0 0 0\n",
      "1 0 0 0 0\n",
      "2 3 4 3\n",
      "YES\n"
     ]
    }
   ],
   "source": [
    "def find_parent(parent, x):\n",
    "    # 루트 노드가 아니라면, 루트 노드를 찾을 때까지 재귀적으로 호출\n",
    "    if parent[x] != x:\n",
    "        parent[x] = find_parent(parent, parent[x])\n",
    "    return parent[x]\n",
    "\n",
    "# 두 원소가 속한 집합을 찾기\n",
    "def union_parent(parent, a, b):\n",
    "    a = find_parent(parent, a)\n",
    "    b = find_parent(parent, b)\n",
    "    if a<b:\n",
    "        parent[b] = a\n",
    "    else:\n",
    "        parent[a] = b\n",
    "\n",
    "# 여행지의 개수와 여행 계획에 속한 여행지의 개수 입력받기\n",
    "n, m = map(int, input().split())\n",
    "parent = [0] * (n+1) # 부모 테이블 초기화\n",
    "\n",
    "# 부모 테이블 상에서, 부모를 자기 자신으로 초기화\n",
    "for i in range(1, n+1):\n",
    "    parent[i] = i\n",
    "\n",
    "# union 연산을 각각 수행\n",
    "for i in range(n):\n",
    "    data = list(map(int, input().split()))\n",
    "    for j in range(n):\n",
    "        if data[j] == 1: # 연결된 경우 union 연산 수행\n",
    "            union_parent(parent, i+1, j+1)\n",
    "# 여행 계획 입력받기\n",
    "plan = list(map(int, input().split()))\n",
    "\n",
    "result = True\n",
    "\n",
    "# 여행 계획에 속하는 모든 노드의 루트가 동일한지 확인\n",
    "for i in range(m-1):\n",
    "    if find_parent(parent, plan[i]) != find_parent(parent, plan[i+1]):\n",
    "        result = False\n",
    "        \n",
    "# 여행 계획에 속하는 모든 노드가 서로 연결되어 있는지(루트가 동일한지) 확인\n",
    "if result:\n",
    "    print(\"YES\")\n",
    "else:\n",
    "    print(\"NO\")"
   ]
  }
 ],
 "metadata": {
  "kernelspec": {
   "display_name": "Python 3 (ipykernel)",
   "language": "python",
   "name": "python3"
  },
  "language_info": {
   "codemirror_mode": {
    "name": "ipython",
    "version": 3
   },
   "file_extension": ".py",
   "mimetype": "text/x-python",
   "name": "python",
   "nbconvert_exporter": "python",
   "pygments_lexer": "ipython3",
   "version": "3.11.5"
  }
 },
 "nbformat": 4,
 "nbformat_minor": 5
}
