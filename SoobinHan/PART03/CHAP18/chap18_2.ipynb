{
 "cells": [
  {
   "cell_type": "markdown",
   "id": "4bd03993",
   "metadata": {},
   "source": [
    "### 탑승구"
   ]
  },
  {
   "cell_type": "markdown",
   "id": "64b0625e",
   "metadata": {},
   "source": [
    "+ 공항에 G개의 탑승구가 있고, 각각의 탑승구는 1번부터 G번까지의 번호로 구분됨\n",
    "+ 공항에는 P개의 비행기가 차례대로 도착할 예정이며, i번째 비행기를 1번부터 g_i번째(1 <= g_i <= G) 탑승구 중 하나에 영구적으로 도킹해야 함\n",
    "+ 이때, 다른 비행기가 도킹하지 않은 탑승구에만 도킹 가능\n",
    "+ 또한 P개의 비행기를 순서대로 도킹하다가 만약에 어떠한 탑승구에도 도킹할 수 없는 비행기가 나오는 경우, 그 시점에서 공항 운행 중지\n",
    "+ 공항의 관리자는 최대한 많은 비행기를 공항에 도킹하고자 함\n",
    "+ 비행기를 최대 몇 대 도킹할 수 있는지를 출력하는 프로그램 작성하기\n",
    "\n",
    "**입력 조건**  \n",
    "+ 첫째 줄에는 탑승구의 수 G(1 <= G <= 100,000)가 주어짐\n",
    "+ 첫째 줄에는 비행기의 수 P(1 <= P <= 100,000)가 주어짐\n",
    "+ 다음 P개의 줄에는 각 비행기가 도킹할 수 있는 탑승구의 정보 g_i(1 <= g_i <= G)가 주어짐  \n",
    "  이는 i번째 비행기가 1번부터 g_i번째 (1 <= g_i <= G) 탑승구 중 하나에 도킹할 수 있다는 의미\n",
    "  \n",
    "**출력 조건**  \n",
    "+ 첫째 줄에 도킹할 수 있는 비행기의 최대 개수 출력\n",
    "\n",
    "**입력 예시 1**  \n",
    "4  \n",
    "3  \n",
    "4  \n",
    "1  \n",
    "1  \n",
    "\n",
    "**출력 예시 1**  \n",
    "2  \n",
    "\n",
    "**입력 예시 2**  \n",
    "4  \n",
    "6  \n",
    "2  \n",
    "2   \n",
    "3  \n",
    "3  \n",
    "4  \n",
    "4  \n",
    "\n",
    "**출력 예시 2**  \n",
    "3  \n",
    "\n",
    "**입출력 예시에 대한 설명**  \n",
    "첫번째 예시에서는 2번 비행기 혹은 3번 비행기를 1번 탑승구에 도킹하고,  \n",
    "1번 비행기는 2,3,4번 탑승구 중 하나에 도킹할 때 최댓값을 가짐  \n",
    "<br>\n",
    "두번째 예시에서는 1번 비행기와 2번 비행기를 각각 1번 탑승구와 2번 탐승구에 도킹한 뒤에, 3번 비행기는 3번 탑승구에 도킹 가능  \n",
    "하지만 4번 비행기는 어떤 탑승구에도 도킹할 수 없기 때문에, 이 시점에서 공항의 운행이 중지됨"
   ]
  },
  {
   "cell_type": "code",
   "execution_count": 5,
   "id": "ff26fc53",
   "metadata": {},
   "outputs": [
    {
     "name": "stdout",
     "output_type": "stream",
     "text": [
      "4\n",
      "3\n",
      "4\n",
      "1\n",
      "1\n",
      "2\n"
     ]
    }
   ],
   "source": [
    "# 특정 원소가 속한 집합 찾기\n",
    "def find_parent(parent, x):\n",
    "    if parent[x] != x:\n",
    "        parent[x] = find_parent(parent, parent[x])\n",
    "    return parent[x]\n",
    "\n",
    "# 두 원소가 속한 집합 합치기\n",
    "def union_parent(parent, a, b):\n",
    "    a = find_parent(parent, a)\n",
    "    b = find_parent(parent, b)\n",
    "    if a < b:\n",
    "        parent[b] = a\n",
    "    else:\n",
    "        parent[a] = b\n",
    "\n",
    "g = int(input()) # 탑승구 개수\n",
    "p = int(input()) # 비행기 개수\n",
    "\n",
    "parent = [0] * (g+1) \n",
    "for i in range(1, g+1):\n",
    "    parent[i] = i \n",
    "    \n",
    "result = 0\n",
    "for _ in range(p):\n",
    "    data = find_parent(parent, int(input())) # 현재 비행기의 탑승구의 루트 확인\n",
    "    if data == 0: # 현재 루트가 0이라면 종료\n",
    "        break\n",
    "    else:\n",
    "        union_parent(parent, data, data-1)\n",
    "        result += 1\n",
    "\n",
    "print(result)"
   ]
  },
  {
   "cell_type": "code",
   "execution_count": 6,
   "id": "993fc4b7",
   "metadata": {},
   "outputs": [
    {
     "name": "stdout",
     "output_type": "stream",
     "text": [
      "4\n",
      "6\n",
      "2\n",
      "2\n",
      "3\n",
      "3\n",
      "3\n"
     ]
    }
   ],
   "source": [
    "# 특정 원소가 속한 집합 찾기\n",
    "def find_parent(parent, x):\n",
    "    if parent[x] != x:\n",
    "        parent[x] = find_parent(parent, parent[x])\n",
    "    return parent[x]\n",
    "\n",
    "# 두 원소가 속한 집합 합치기\n",
    "def union_parent(parent, a, b):\n",
    "    a = find_parent(parent, a)\n",
    "    b = find_parent(parent, b)\n",
    "    if a < b:\n",
    "        parent[b] = a\n",
    "    else:\n",
    "        parent[a] = b\n",
    "\n",
    "g = int(input()) # 탑승구 개수\n",
    "p = int(input()) # 비행기 개수\n",
    "\n",
    "parent = [0] * (g+1) \n",
    "for i in range(1, g+1):\n",
    "    parent[i] = i \n",
    "    \n",
    "result = 0\n",
    "for _ in range(p):\n",
    "    data = find_parent(parent, int(input())) # 현재 비행기의 탑승구의 루트 확인\n",
    "    if data == 0: # 현재 루트가 0이라면 종료\n",
    "        break\n",
    "    else:\n",
    "        union_parent(parent, data, data-1)\n",
    "        result += 1\n",
    "\n",
    "print(result)"
   ]
  },
  {
   "cell_type": "code",
   "execution_count": null,
   "id": "afda4cb0",
   "metadata": {},
   "outputs": [],
   "source": [
    "으엥? 왜 입력을 하다말어"
   ]
  }
 ],
 "metadata": {
  "kernelspec": {
   "display_name": "Python 3 (ipykernel)",
   "language": "python",
   "name": "python3"
  },
  "language_info": {
   "codemirror_mode": {
    "name": "ipython",
    "version": 3
   },
   "file_extension": ".py",
   "mimetype": "text/x-python",
   "name": "python",
   "nbconvert_exporter": "python",
   "pygments_lexer": "ipython3",
   "version": "3.11.5"
  }
 },
 "nbformat": 4,
 "nbformat_minor": 5
}
