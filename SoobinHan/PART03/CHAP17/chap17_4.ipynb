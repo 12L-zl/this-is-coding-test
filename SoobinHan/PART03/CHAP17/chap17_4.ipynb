{
 "cells": [
  {
   "cell_type": "markdown",
   "id": "ae26e813",
   "metadata": {},
   "source": [
    "### 숨바꼭질"
   ]
  },
  {
   "cell_type": "markdown",
   "id": "c1dcb810",
   "metadata": {},
   "source": [
    "+ 1~N까지의 헛간 중에서 하나를 골라 숨을 수 있으며, 술래는 항상 1번에서 출발\n",
    "+ 전체 맵에는 총 M개의 양방향 통로가 존재하며, 하나의 통로는 서로 다른 두 헛간을 연결\n",
    "+ 전체 맵은 항상 어떤 헛간에서 다른 어떤 헛간으로 도달이 가능한 형태로 주어짐\n",
    "\n",
    "+ 1번 헛간으로부터 최단 거리가 가장 먼 헛간이 가장 안전하다고 판단하고 있음\n",
    "+ 최단 거리의 의미는 지나야 하는 길의 최소 개수 의미\n",
    "+ 숨을 헛간의 번호를 출력하는 프로그램 작성하기\n",
    "\n",
    "**입력 조건**  \n",
    "+ 첫째 줄에는 N과 M이 주어지며, 공백으로 구분 (2 <= N <= 20,000), (1 <= < <= 50,000)\n",
    "+ 이후 M개의 줄에 걸쳐서 서로 연결된 두 헛간 A와 B의 번호가 공백으로 구분되어 주어짐 (1 <= A, B <= N)\n",
    "\n",
    "**출력 조건**  \n",
    "+ 첫 번째는 숨어야 하는 헛간 번호를(만약 거리가 같은 헛간이 여러개면 가장 작은 헛간 번호를 출력),\n",
    "+ 두 번째는 그 헛간까지의 거리를,\n",
    "+ 세 번째는 그 헛간과 같은 거리를 갖는 헛간의 개수를 출력하기\n",
    "\n",
    "**입력 예시**  \n",
    "6 7  \n",
    "3 6  \n",
    "4 3  \n",
    "3 2  \n",
    "1 3  \n",
    "1 2  \n",
    "2 4  \n",
    "5 2  \n",
    "\n",
    "**출력 예시**  \n",
    "4 2 3"
   ]
  },
  {
   "cell_type": "code",
   "execution_count": 2,
   "id": "ae625593",
   "metadata": {},
   "outputs": [
    {
     "name": "stdout",
     "output_type": "stream",
     "text": [
      "6 7\n",
      "3 6\n",
      "4 3\n",
      "3 2\n",
      "1 3\n",
      "1 2\n",
      "2 4\n",
      "5 2\n"
     ]
    }
   ],
   "source": [
    "n, m = map(int, input().split())\n",
    "barn = []\n",
    "for i in range(m):\n",
    "    a, b = list(map(int, input().split()))\n",
    "    barn.append([a,b])"
   ]
  },
  {
   "cell_type": "code",
   "execution_count": 3,
   "id": "08de0f33",
   "metadata": {},
   "outputs": [
    {
     "data": {
      "text/plain": [
       "[[2, 5],\n",
       " [3, 2],\n",
       " [2, 1],\n",
       " [0, 2],\n",
       " [0, 1],\n",
       " [1, 3],\n",
       " [4, 1],\n",
       " [5, 2],\n",
       " [2, 3],\n",
       " [1, 2],\n",
       " [2, 0],\n",
       " [1, 0],\n",
       " [3, 1],\n",
       " [1, 4]]"
      ]
     },
     "execution_count": 3,
     "metadata": {},
     "output_type": "execute_result"
    }
   ],
   "source": [
    "barn\n",
    "barn += [list(reversed(sublist)) for sublist in barn]\n",
    "barn = [[x-1, y-1] for x, y in barn]\n",
    "barn"
   ]
  },
  {
   "cell_type": "code",
   "execution_count": 18,
   "id": "60b1a8ed",
   "metadata": {},
   "outputs": [
    {
     "data": {
      "text/plain": [
       "[[], [], [], [], [], []]"
      ]
     },
     "execution_count": 18,
     "metadata": {},
     "output_type": "execute_result"
    }
   ],
   "source": [
    "answer = []\n",
    "answer.extend([[]] * 6)\n",
    "answer"
   ]
  },
  {
   "cell_type": "code",
   "execution_count": 19,
   "id": "65ce74b5",
   "metadata": {},
   "outputs": [
    {
     "data": {
      "text/plain": [
       "[0, [], [], [], [], []]"
      ]
     },
     "execution_count": 19,
     "metadata": {},
     "output_type": "execute_result"
    }
   ],
   "source": [
    "answer[0] = 0\n",
    "answer"
   ]
  },
  {
   "cell_type": "code",
   "execution_count": 20,
   "id": "4a59b3c6",
   "metadata": {},
   "outputs": [
    {
     "data": {
      "text/plain": [
       "[0, 1, 1, [], [], []]"
      ]
     },
     "execution_count": 20,
     "metadata": {},
     "output_type": "execute_result"
    }
   ],
   "source": [
    "one = [] # 한방에 갈수있는애들 저장\n",
    "for i in range(len(barn)):\n",
    "    if barn[i][0] == 0:\n",
    "        answer[barn[i][1]] = 1\n",
    "        one.append(barn[i][1])\n",
    "answer"
   ]
  },
  {
   "cell_type": "code",
   "execution_count": 21,
   "id": "c4b878c2",
   "metadata": {},
   "outputs": [
    {
     "data": {
      "text/plain": [
       "[2, 1]"
      ]
     },
     "execution_count": 21,
     "metadata": {},
     "output_type": "execute_result"
    }
   ],
   "source": [
    "one"
   ]
  },
  {
   "cell_type": "code",
   "execution_count": 22,
   "id": "130029ad",
   "metadata": {},
   "outputs": [
    {
     "data": {
      "text/plain": [
       "[3, 4, 5]"
      ]
     },
     "execution_count": 22,
     "metadata": {},
     "output_type": "execute_result"
    }
   ],
   "source": [
    "a = [] # 한방에 못가는애들 저장\n",
    "for i in range(len(answer)):\n",
    "    if answer[i] == []:\n",
    "        a.append(i)\n",
    "a"
   ]
  },
  {
   "cell_type": "code",
   "execution_count": 23,
   "id": "027523c2",
   "metadata": {},
   "outputs": [
    {
     "data": {
      "text/plain": [
       "[0, 1, 1, 1, 1, 1]"
      ]
     },
     "execution_count": 23,
     "metadata": {},
     "output_type": "execute_result"
    }
   ],
   "source": [
    "for i in range(len(a)):\n",
    "    answer[a[i]] = 1\n",
    "answer"
   ]
  },
  {
   "cell_type": "code",
   "execution_count": null,
   "id": "51340896",
   "metadata": {},
   "outputs": [],
   "source": [
    "[[2, 5],\n",
    " [3, 2],\n",
    " [2, 1],\n",
    " [0, 2],\n",
    " [0, 1],\n",
    " [1, 3],\n",
    " [4, 1],\n",
    " [5, 2],\n",
    " [2, 3],\n",
    " [1, 2],\n",
    " [2, 0],\n",
    " [1, 0],\n",
    " [3, 1],\n",
    " [1, 4]]"
   ]
  },
  {
   "cell_type": "code",
   "execution_count": 17,
   "id": "e9531039",
   "metadata": {},
   "outputs": [
    {
     "data": {
      "text/plain": [
       "[0, 1, 1, 1, 1, 2]"
      ]
     },
     "execution_count": 17,
     "metadata": {},
     "output_type": "execute_result"
    }
   ],
   "source": [
    "while True:\n",
    "    save = []\n",
    "    for i in range(len(barn)):\n",
    "        if i == 0: # one 써야해서.. 따로 구분함\n",
    "            for j in range(len(one)):\n",
    "                if (barn[i][0] == one[j]): # 시작점과 한번에 도착한점이 같다면\n",
    "                    if barn[i][1] not in one: # 그리고 한번에 도착한점과 도착점이 같지 않다면\n",
    "                        if answer[barn[i][1]] >= i-1: # 그리고.. 도착점이 for문 한번돌릴때 1 이상씩 올라가지않게하기\n",
    "                            answer[barn[i][1]] += 1\n",
    "                            save.append(answer[barn[i][1]]) # 저장점에 도착점 추가\n",
    "        else:\n",
    "            for k in range(len(save)):\n",
    "                if (barn[i][0] == save[j]):\n",
    "                    if barn[i][1] not in save:\n",
    "                        if answer[barn[i][1]] >= i-1:\n",
    "                            answer[barn[i][1]] += 1\n",
    "                            save.append(answer[barn[i][1]])\n",
    "answer\n"
   ]
  },
  {
   "cell_type": "code",
   "execution_count": null,
   "id": "51270270",
   "metadata": {},
   "outputs": [],
   "source": []
  }
 ],
 "metadata": {
  "kernelspec": {
   "display_name": "Python 3 (ipykernel)",
   "language": "python",
   "name": "python3"
  },
  "language_info": {
   "codemirror_mode": {
    "name": "ipython",
    "version": 3
   },
   "file_extension": ".py",
   "mimetype": "text/x-python",
   "name": "python",
   "nbconvert_exporter": "python",
   "pygments_lexer": "ipython3",
   "version": "3.11.5"
  }
 },
 "nbformat": 4,
 "nbformat_minor": 5
}
