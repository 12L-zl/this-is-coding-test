{
 "cells": [
  {
   "cell_type": "code",
   "execution_count": 3,
   "id": "26564368",
   "metadata": {},
   "outputs": [
    {
     "ename": "ValueError",
     "evalue": "not enough values to unpack (expected 2, got 0)",
     "output_type": "error",
     "traceback": [
      "\u001b[1;31m---------------------------------------------------------------------------\u001b[0m",
      "\u001b[1;31mValueError\u001b[0m                                Traceback (most recent call last)",
      "Cell \u001b[1;32mIn[3], line 1\u001b[0m\n\u001b[1;32m----> 1\u001b[0m N, M \u001b[38;5;241m=\u001b[39m \u001b[38;5;28mmap\u001b[39m(\u001b[38;5;28mint\u001b[39m, \u001b[38;5;28minput\u001b[39m()\u001b[38;5;241m.\u001b[39mstrip()\u001b[38;5;241m.\u001b[39msplit())\n\u001b[0;32m      2\u001b[0m X, Y, D \u001b[38;5;241m=\u001b[39m \u001b[38;5;28mmap\u001b[39m(\u001b[38;5;28mint\u001b[39m, \u001b[38;5;28minput\u001b[39m()\u001b[38;5;241m.\u001b[39mstrip()\u001b[38;5;241m.\u001b[39msplit())\n\u001b[0;32m      3\u001b[0m L \u001b[38;5;241m=\u001b[39m [\u001b[38;5;28mlist\u001b[39m(\u001b[38;5;28mmap\u001b[39m(\u001b[38;5;28mint\u001b[39m, \u001b[38;5;28minput\u001b[39m()\u001b[38;5;241m.\u001b[39mstrip()\u001b[38;5;241m.\u001b[39msplit())) \u001b[38;5;28;01mfor\u001b[39;00m _ \u001b[38;5;129;01min\u001b[39;00m \u001b[38;5;28mrange\u001b[39m(N)]\n",
      "\u001b[1;31mValueError\u001b[0m: not enough values to unpack (expected 2, got 0)"
     ]
    }
   ],
   "source": [
    "N, M = map(int, input().strip().split())\n",
    "X, Y, D = map(int, input().strip().split())\n",
    "L = [list(map(int, input().strip().split())) for _ in range(N)]\n",
    "\n",
    "\n",
    "dx = [-1, 0, 1, 0]  # 북, 동, 남, 서에 해당하는 순서대로 방향을 전환할 수 있도록 만들어 줌\n",
    "dy = [0, 1, 0, -1]\n",
    "rs = 0\n",
    "\n",
    "def game(x, y, d):\n",
    "    global rs\n",
    "    rs += 1  # 이동 횟수 추가\n",
    "    L[x][y] = 2  # 방문 했으니 값을 2로 변경하여 구분해 줌\n",
    "    count = 0\n",
    "\n",
    "    while count < 4:  # 방향 전환 총 4번까지 count 이용해 4번 변경 확인\n",
    "        if d == 3:\n",
    "            d = 0\n",
    "        else:\n",
    "            d += 1\n",
    "        count += 1\n",
    "\n",
    "        nx = x + dx[d]\n",
    "        ny = y + dy[d]\n",
    "\n",
    "        if 0 <= nx < N and 0 <= ny < M and L[nx][ny] == 0:  # 범위에서 벗어나지 않고 육지에 도달한 경우 이동\n",
    "            game(nx, ny, d)\n",
    "            break\n",
    "\n",
    "    nx = x + dx[d-2]  # 근처 4칸에 방문하지 않은 육지가 없을 경우 뒤로 이동\n",
    "    ny = y + dy[d-2]\n",
    "\n",
    "    if 0 > nx or nx >= N or 0 > ny or ny >= M or L[nx][ny] == 1:  # 뒤로 이동 했는데 만약 바다에 도착 했다면, 종료\n",
    "        return\n",
    "\n",
    "game(X, Y, D)\n",
    "\n",
    "print(rs)\n"
   ]
  },
  {
   "cell_type": "code",
   "execution_count": null,
   "id": "da7b1ee3",
   "metadata": {},
   "outputs": [],
   "source": []
  }
 ],
 "metadata": {
  "kernelspec": {
   "display_name": "study",
   "language": "python",
   "name": "study"
  },
  "language_info": {
   "codemirror_mode": {
    "name": "ipython",
    "version": 3
   },
   "file_extension": ".py",
   "mimetype": "text/x-python",
   "name": "python",
   "nbconvert_exporter": "python",
   "pygments_lexer": "ipython3",
   "version": "3.10.13"
  }
 },
 "nbformat": 4,
 "nbformat_minor": 5
}
