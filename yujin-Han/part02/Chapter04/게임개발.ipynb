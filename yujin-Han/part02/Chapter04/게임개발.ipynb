{
 "cells": [
  {
   "cell_type": "markdown",
   "id": "1ec086d2",
   "metadata": {},
   "source": [
    "# 게임 개발 "
   ]
  },
  {
   "cell_type": "code",
   "execution_count": null,
   "id": "854c106c",
   "metadata": {},
   "outputs": [],
   "source": [
    "# n,m 구분하여 입력받기 (= 전체 판)\n",
    "n,m = map(int, input.split())\n",
    "\n",
    "# n행 m열 모두 초기화 \n",
    "d= [[0]*m for _in range(n)] # 여기서 for _in의 _가 사용되는경우는 변수를 사용하지 않고자 할 때 사용\n",
    "\n",
    "# 현재 위치 입력받기 \n",
    "x,y = map(int, input.split())\n",
    "d[x][y]=1 # 현재 좌표 방문 처리 \n",
    "\n",
    "# 전체 맵 정보 입력받기 \n",
    "array = [] \n",
    "for i in range(n):\n",
    "    array.append(list(map(int, input.split()))) # 바다 or 육지 선택 \n",
    "\n",
    "# 북 동  남 서 방향 정의 \n"
   ]
  }
 ],
 "metadata": {
  "kernelspec": {
   "display_name": "Python 3 (ipykernel)",
   "language": "python",
   "name": "python3"
  },
  "language_info": {
   "codemirror_mode": {
    "name": "ipython",
    "version": 3
   },
   "file_extension": ".py",
   "mimetype": "text/x-python",
   "name": "python",
   "nbconvert_exporter": "python",
   "pygments_lexer": "ipython3",
   "version": "3.9.13"
  }
 },
 "nbformat": 4,
 "nbformat_minor": 5
}
