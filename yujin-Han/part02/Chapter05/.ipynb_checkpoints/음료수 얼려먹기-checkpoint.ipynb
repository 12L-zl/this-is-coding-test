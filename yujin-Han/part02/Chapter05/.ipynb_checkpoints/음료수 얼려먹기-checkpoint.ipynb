{
 "cells": [
  {
   "cell_type": "markdown",
   "id": "92de0e39",
   "metadata": {},
   "source": [
    "# 1.자료구조 개념 \n",
    "탐색 : 많음 양의 데이터 중에서 원하느 데이터를 찾는 과정 <br>\n",
    "삽입 (push) : 데이터 삽입<br>\n",
    "삭제 (pop): 데이터 삭제 <br>\n",
    "\n",
    "<br>\n",
    "스택: 선입후출(FILO), 후입선출 (LIFO)\n",
    "<br>\n",
    "큐 : 선입선출(FIFO)\n",
    "<br>\n",
    "재귀함수 : 자기자신을 호출 <br>\n",
    "- 종료조건 : 재귀함수가 언제 끝나는지 종료조건 명시 <br><br>\n",
    "\n",
    "\n",
    "|   |**DFS**  |**BFS**  |   \n",
    "|-----------|---------|--------------------|\n",
    "|  **동작원리**    |  **스택**           |**큐**            |   \n",
    "|  **구현방법** |**재귀함수**   |**큐 자료구조 이용**   |\n",
    "\n",
    "\n",
    "\n",
    "\n",
    " \n",
    "# 2.DFS\n",
    "깊이 우선 탐색 : 그래프에서 깊은 부분을 우선적으로 탐색하는 알고리즘 <br>\n",
    "-노드와 간선으로 표현 <br>\n",
    "-두 노드가 간선으로 연결되어 있다 = 두 노드가 인접하다 \n",
    "-인접하지 않는 노드=> 무한의 비용 \n",
    "- 인접행렬 : 2차원 배열로 그래프의 연결 관계를 표현하는 방식\n",
    "- 인접 리스트 : 리스트로 그해프의 연결 관계를  표현하는 방식 \n",
    "### DFS동작과정\n",
    "##### 1.탐색 시작 노드를 스택에 삽입하고 방문 처리 한다.\n",
    "##### 2. 스택의 최상단 모드에 방문하기 않은 인접 노드가 있으면 그 인접 노드를 스택에 넣고 방문 처리를 한다.<br> <br>방문하지 않은 인접노드가 없으면 스택에 최상단 노드를 꺼낸다 \n",
    "##### 3. 2번의 과정을 더 이상 수행할 수 없을 때 까지 반복한다.\n",
    "\n",
    "# 3.BFS\n",
    "너비 우선 탐색 : **가까운 노드**부터 탐색하는 알고리즘 \n",
    "### BFS동작과정\n",
    "##### 1. 탐색 시작 노드를 큐에 삽입하고 방문처리 한다.\n",
    "##### 2. 큐에서 노드를 꺼내 해당 노드의 인접 노드 중에서 방문하지 않은 노드를 모두 큐에서 삽입하고 방문처리 한다 .\n",
    "##### 3. 2 번의 과정을 더이상 수행할 수 없을 때까지 반복<br> \n",
    "\n"
   ]
  },
  {
   "cell_type": "markdown",
   "id": "7fe0271a",
   "metadata": {},
   "source": [
    "# 음료수 얼려먹기"
   ]
  },
  {
   "cell_type": "code",
   "execution_count": 3,
   "id": "2a8d3cd5",
   "metadata": {},
   "outputs": [
    {
     "name": "stdout",
     "output_type": "stream",
     "text": [
      "4 5 \n",
      "00110\n",
      "00011\n",
      "11111\n",
      "00000\n",
      "3\n"
     ]
    }
   ],
   "source": [
    "# N, M을 공백을 기준으로 구분하여 입력 받기\n",
    "n, m = map(int, input().split())\n",
    "\n",
    "# 2차원 리스트의 맵 정보 입력 받기\n",
    "graph = []\n",
    "for i in range(n):\n",
    "    graph.append(list(map(int, input())))\n",
    "\n",
    "# DFS로 특정한 노드를 방문한 뒤에 연결된 모든 노드들도 방문\n",
    "def dfs(x, y):\n",
    "    # 주어진 범위를 벗어나는 경우에는 즉시 종료\n",
    "    if x <= -1 or x >= n or y <= -1 or y >= m:\n",
    "        return False\n",
    "    # 현재 노드를 아직 방문하지 않았다면\n",
    "    if graph[x][y] == 0:\n",
    "        # 해당 노드 방문 처리\n",
    "        graph[x][y] = 1\n",
    "        # 상, 하, 좌, 우의 위치들도 모두 재귀적으로 호출\n",
    "        dfs(x - 1, y) #좌 \n",
    "        dfs(x, y - 1)#하\n",
    "        dfs(x + 1, y)#우\n",
    "        dfs(x, y + 1)#상\n",
    "        return True\n",
    "    return False\n",
    "\n",
    "# 모든 노드(위치)에 대하여 음료수 채우기\n",
    "result = 0\n",
    "for i in range(n): #2차원리스트 반복문 \n",
    "    for j in range(m):\n",
    "        # 현재 위치에서 DFS 수행\n",
    "        if dfs(i, j) == True:\n",
    "            result += 1\n",
    "\n",
    "print(result) # 정답 출력"
   ]
  },
  {
   "cell_type": "code",
   "execution_count": null,
   "id": "89749394",
   "metadata": {},
   "outputs": [],
   "source": []
  }
 ],
 "metadata": {
  "kernelspec": {
   "display_name": "Python 3 (ipykernel)",
   "language": "python",
   "name": "python3"
  },
  "language_info": {
   "codemirror_mode": {
    "name": "ipython",
    "version": 3
   },
   "file_extension": ".py",
   "mimetype": "text/x-python",
   "name": "python",
   "nbconvert_exporter": "python",
   "pygments_lexer": "ipython3",
   "version": "3.10.13"
  }
 },
 "nbformat": 4,
 "nbformat_minor": 5
}
